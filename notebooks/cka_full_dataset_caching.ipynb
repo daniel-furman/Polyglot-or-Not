{
 "cells": [
  {
   "cell_type": "code",
   "execution_count": 60,
   "metadata": {},
   "outputs": [],
   "source": [
    "import json\n",
    "import numpy as np\n",
    "import pandas as pd"
   ]
  },
  {
   "cell_type": "markdown",
   "metadata": {},
   "source": [
    "## Cache calinet probing data"
   ]
  },
  {
   "cell_type": "code",
   "execution_count": 61,
   "metadata": {},
   "outputs": [],
   "source": [
    "with open('../data/calinet_probing_data_original/probing_data_trex_500each.json', 'r') as f:\n",
    "    data_calinet = json.load(f)\n",
    "    starter_df = pd.DataFrame(list(data_calinet['data']))"
   ]
  },
  {
   "cell_type": "code",
   "execution_count": 62,
   "metadata": {},
   "outputs": [
    {
     "data": {
      "text/html": [
       "<div>\n",
       "<style scoped>\n",
       "    .dataframe tbody tr th:only-of-type {\n",
       "        vertical-align: middle;\n",
       "    }\n",
       "\n",
       "    .dataframe tbody tr th {\n",
       "        vertical-align: top;\n",
       "    }\n",
       "\n",
       "    .dataframe thead th {\n",
       "        text-align: right;\n",
       "    }\n",
       "</style>\n",
       "<table border=\"1\" class=\"dataframe\">\n",
       "  <thead>\n",
       "    <tr style=\"text-align: right;\">\n",
       "      <th></th>\n",
       "      <th>fact_id</th>\n",
       "      <th>relation</th>\n",
       "      <th>triplet</th>\n",
       "      <th>sentences</th>\n",
       "    </tr>\n",
       "  </thead>\n",
       "  <tbody>\n",
       "    <tr>\n",
       "      <th>0</th>\n",
       "      <td>1</td>\n",
       "      <td>P47</td>\n",
       "      <td>{'sub_label': 'Norfolk', 'obj_label': 'Suffolk'}</td>\n",
       "      <td>[[Norfolk shares border with &lt;extra_id_0&gt;., &lt;e...</td>\n",
       "    </tr>\n",
       "    <tr>\n",
       "      <th>1</th>\n",
       "      <td>2</td>\n",
       "      <td>P47</td>\n",
       "      <td>{'sub_label': 'Jordan', 'obj_label': 'Israel'}</td>\n",
       "      <td>[[&lt;extra_id_0&gt; shares border with Israel., &lt;ex...</td>\n",
       "    </tr>\n",
       "    <tr>\n",
       "      <th>2</th>\n",
       "      <td>3</td>\n",
       "      <td>P47</td>\n",
       "      <td>{'sub_label': 'Kenya', 'obj_label': 'Ethiopia'}</td>\n",
       "      <td>[[Kenya shares border with &lt;extra_id_0&gt;., &lt;ext...</td>\n",
       "    </tr>\n",
       "    <tr>\n",
       "      <th>3</th>\n",
       "      <td>4</td>\n",
       "      <td>P47</td>\n",
       "      <td>{'sub_label': 'Egypt', 'obj_label': 'Israel'}</td>\n",
       "      <td>[[&lt;extra_id_0&gt; shares border with Israel., &lt;ex...</td>\n",
       "    </tr>\n",
       "    <tr>\n",
       "      <th>4</th>\n",
       "      <td>5</td>\n",
       "      <td>P47</td>\n",
       "      <td>{'sub_label': 'Tanzania', 'obj_label': 'Uganda'}</td>\n",
       "      <td>[[Tanzania shares border with &lt;extra_id_0&gt;., &lt;...</td>\n",
       "    </tr>\n",
       "  </tbody>\n",
       "</table>\n",
       "</div>"
      ],
      "text/plain": [
       "   fact_id relation                                           triplet  \\\n",
       "0        1      P47  {'sub_label': 'Norfolk', 'obj_label': 'Suffolk'}   \n",
       "1        2      P47    {'sub_label': 'Jordan', 'obj_label': 'Israel'}   \n",
       "2        3      P47   {'sub_label': 'Kenya', 'obj_label': 'Ethiopia'}   \n",
       "3        4      P47     {'sub_label': 'Egypt', 'obj_label': 'Israel'}   \n",
       "4        5      P47  {'sub_label': 'Tanzania', 'obj_label': 'Uganda'}   \n",
       "\n",
       "                                           sentences  \n",
       "0  [[Norfolk shares border with <extra_id_0>., <e...  \n",
       "1  [[<extra_id_0> shares border with Israel., <ex...  \n",
       "2  [[Kenya shares border with <extra_id_0>., <ext...  \n",
       "3  [[<extra_id_0> shares border with Israel., <ex...  \n",
       "4  [[Tanzania shares border with <extra_id_0>., <...  "
      ]
     },
     "execution_count": 62,
     "metadata": {},
     "output_type": "execute_result"
    }
   ],
   "source": [
    "# starter df\n",
    "starter_df.head()"
   ]
  },
  {
   "cell_type": "code",
   "execution_count": 63,
   "metadata": {},
   "outputs": [
    {
     "data": {
      "text/plain": [
       "['Norfolk shares border with <extra_id_0>.',\n",
       " '<extra_id_0> Suffolk <extra_id_1>',\n",
       " '<extra_id_0> Upper Macungie Township <extra_id_1>']"
      ]
     },
     "execution_count": 63,
     "metadata": {},
     "output_type": "execute_result"
    }
   ],
   "source": [
    "# all of these have to do with fact id 1\n",
    "# the sentences are formed in this format...\n",
    "# the start of a factual sentence, involving the subject\n",
    "# and then two possibilities: one true and one false?\n",
    "# storing these, then, we should do something like\n",
    "# sentence stem | correct | incorrect\n",
    "# and we can strip out the <extra_id_x> parts\n",
    "# to keep it model agnostic\n",
    "starter_df['sentences'][0][0]"
   ]
  },
  {
   "cell_type": "code",
   "execution_count": 64,
   "metadata": {},
   "outputs": [],
   "source": [
    "# create containers to hold our clean data\n",
    "sentence_stems = []\n",
    "correct = []\n",
    "incorrect = []\n",
    "fact_ids = []\n",
    "relations = []\n",
    "subjects = []\n",
    "objects = []"
   ]
  },
  {
   "cell_type": "code",
   "execution_count": 65,
   "metadata": {},
   "outputs": [],
   "source": [
    "for index, row in starter_df.iterrows():\n",
    "    sentence_list = row['sentences']\n",
    "    for entry in sentence_list:\n",
    "        \n",
    "        # minor cleanup \n",
    "        cleaned_stem = entry[0].replace(\"<extra_id_0>\", \"[BLANK]\").strip()\n",
    "        cleaned_correct = entry[1].replace(\"<extra_id_0>\", \"\").replace(\"<extra_id_1>\", \"\").strip()\n",
    "        cleaned_incorrect = entry[2].replace(\"<extra_id_0>\", \"\").replace(\"<extra_id_1>\", \"\").strip()\n",
    "        \n",
    "        # grab sub<->obj\n",
    "        subjects_and_objects = pd.json_normalize(row['triplet'])\n",
    "        subjects.append(subjects_and_objects.sub_label.values[0])\n",
    "        objects.append(subjects_and_objects.obj_label.values[0])\n",
    "        \n",
    "        # commit \n",
    "        sentence_stems.append(cleaned_stem)\n",
    "        correct.append(cleaned_correct)\n",
    "        incorrect.append(cleaned_incorrect)\n",
    "        fact_ids.append(row['fact_id'])\n",
    "        relations.append(row['relation'])"
   ]
  },
  {
   "cell_type": "code",
   "execution_count": 66,
   "metadata": {},
   "outputs": [],
   "source": [
    "# sanity check\n",
    "assert(len(sentence_stems) ==\n",
    "       len(correct) ==\n",
    "       len(incorrect) ==\n",
    "       len(fact_ids) ==\n",
    "       len(relations) ==\n",
    "      len(subjects) ==\n",
    "      len(objects))"
   ]
  },
  {
   "cell_type": "code",
   "execution_count": 67,
   "metadata": {},
   "outputs": [],
   "source": [
    "# merge into big df\n",
    "trex_df = pd.DataFrame({'fact_id': fact_ids,\n",
    "                        'relation': relations, 'subject': subjects,\n",
    "                        'object': objects, 'stem': sentence_stems, 'true': correct,\n",
    "                        'false': incorrect})"
   ]
  },
  {
   "cell_type": "code",
   "execution_count": 68,
   "metadata": {},
   "outputs": [
    {
     "data": {
      "text/html": [
       "<div>\n",
       "<style scoped>\n",
       "    .dataframe tbody tr th:only-of-type {\n",
       "        vertical-align: middle;\n",
       "    }\n",
       "\n",
       "    .dataframe tbody tr th {\n",
       "        vertical-align: top;\n",
       "    }\n",
       "\n",
       "    .dataframe thead th {\n",
       "        text-align: right;\n",
       "    }\n",
       "</style>\n",
       "<table border=\"1\" class=\"dataframe\">\n",
       "  <thead>\n",
       "    <tr style=\"text-align: right;\">\n",
       "      <th></th>\n",
       "      <th>fact_id</th>\n",
       "      <th>relation</th>\n",
       "      <th>subject</th>\n",
       "      <th>object</th>\n",
       "      <th>stem</th>\n",
       "      <th>true</th>\n",
       "      <th>false</th>\n",
       "    </tr>\n",
       "  </thead>\n",
       "  <tbody>\n",
       "    <tr>\n",
       "      <th>0</th>\n",
       "      <td>1</td>\n",
       "      <td>P47</td>\n",
       "      <td>Norfolk</td>\n",
       "      <td>Suffolk</td>\n",
       "      <td>Norfolk shares border with [BLANK].</td>\n",
       "      <td>Suffolk</td>\n",
       "      <td>Upper Macungie Township</td>\n",
       "    </tr>\n",
       "    <tr>\n",
       "      <th>1</th>\n",
       "      <td>1</td>\n",
       "      <td>P47</td>\n",
       "      <td>Norfolk</td>\n",
       "      <td>Suffolk</td>\n",
       "      <td>Norfolk borders with [BLANK].</td>\n",
       "      <td>Suffolk</td>\n",
       "      <td>Vadena</td>\n",
       "    </tr>\n",
       "    <tr>\n",
       "      <th>2</th>\n",
       "      <td>1</td>\n",
       "      <td>P47</td>\n",
       "      <td>Norfolk</td>\n",
       "      <td>Suffolk</td>\n",
       "      <td>[BLANK] shares the border with Suffolk.</td>\n",
       "      <td>Norfolk</td>\n",
       "      <td>Northern Cape province</td>\n",
       "    </tr>\n",
       "    <tr>\n",
       "      <th>3</th>\n",
       "      <td>1</td>\n",
       "      <td>P47</td>\n",
       "      <td>Norfolk</td>\n",
       "      <td>Suffolk</td>\n",
       "      <td>[BLANK] shares its border with Suffolk.</td>\n",
       "      <td>Norfolk</td>\n",
       "      <td>Sunamganj District</td>\n",
       "    </tr>\n",
       "    <tr>\n",
       "      <th>4</th>\n",
       "      <td>1</td>\n",
       "      <td>P47</td>\n",
       "      <td>Norfolk</td>\n",
       "      <td>Suffolk</td>\n",
       "      <td>Norfolk shares a common border with [BLANK].</td>\n",
       "      <td>Suffolk</td>\n",
       "      <td>Anabar</td>\n",
       "    </tr>\n",
       "  </tbody>\n",
       "</table>\n",
       "</div>"
      ],
      "text/plain": [
       "   fact_id relation  subject   object  \\\n",
       "0        1      P47  Norfolk  Suffolk   \n",
       "1        1      P47  Norfolk  Suffolk   \n",
       "2        1      P47  Norfolk  Suffolk   \n",
       "3        1      P47  Norfolk  Suffolk   \n",
       "4        1      P47  Norfolk  Suffolk   \n",
       "\n",
       "                                           stem     true  \\\n",
       "0           Norfolk shares border with [BLANK].  Suffolk   \n",
       "1                 Norfolk borders with [BLANK].  Suffolk   \n",
       "2       [BLANK] shares the border with Suffolk.  Norfolk   \n",
       "3       [BLANK] shares its border with Suffolk.  Norfolk   \n",
       "4  Norfolk shares a common border with [BLANK].  Suffolk   \n",
       "\n",
       "                     false  \n",
       "0  Upper Macungie Township  \n",
       "1                   Vadena  \n",
       "2   Northern Cape province  \n",
       "3       Sunamganj District  \n",
       "4                   Anabar  "
      ]
     },
     "execution_count": 68,
     "metadata": {},
     "output_type": "execute_result"
    }
   ],
   "source": [
    "# full df\n",
    "trex_df.head()"
   ]
  },
  {
   "cell_type": "code",
   "execution_count": 69,
   "metadata": {},
   "outputs": [
    {
     "data": {
      "text/html": [
       "<div>\n",
       "<style scoped>\n",
       "    .dataframe tbody tr th:only-of-type {\n",
       "        vertical-align: middle;\n",
       "    }\n",
       "\n",
       "    .dataframe tbody tr th {\n",
       "        vertical-align: top;\n",
       "    }\n",
       "\n",
       "    .dataframe thead th {\n",
       "        text-align: right;\n",
       "    }\n",
       "</style>\n",
       "<table border=\"1\" class=\"dataframe\">\n",
       "  <thead>\n",
       "    <tr style=\"text-align: right;\">\n",
       "      <th></th>\n",
       "      <th>fact_id</th>\n",
       "      <th>relation</th>\n",
       "      <th>subject</th>\n",
       "      <th>object</th>\n",
       "      <th>stem</th>\n",
       "      <th>true</th>\n",
       "      <th>false</th>\n",
       "    </tr>\n",
       "  </thead>\n",
       "  <tbody>\n",
       "    <tr>\n",
       "      <th>142995</th>\n",
       "      <td>13000</td>\n",
       "      <td>P264</td>\n",
       "      <td>X&amp;Y</td>\n",
       "      <td>Parlophone</td>\n",
       "      <td>[BLANK] label : Parlophone.</td>\n",
       "      <td>X&amp;Y</td>\n",
       "      <td>Junior Hanson</td>\n",
       "    </tr>\n",
       "    <tr>\n",
       "      <th>142996</th>\n",
       "      <td>13000</td>\n",
       "      <td>P264</td>\n",
       "      <td>X&amp;Y</td>\n",
       "      <td>Parlophone</td>\n",
       "      <td>[BLANK], released by Parlophone.</td>\n",
       "      <td>X&amp;Y</td>\n",
       "      <td>Doo-Wops &amp; Hooligans</td>\n",
       "    </tr>\n",
       "    <tr>\n",
       "      <th>142997</th>\n",
       "      <td>13000</td>\n",
       "      <td>P264</td>\n",
       "      <td>X&amp;Y</td>\n",
       "      <td>Parlophone</td>\n",
       "      <td>Parlophone recording artist [BLANK].</td>\n",
       "      <td>X&amp;Y</td>\n",
       "      <td>Atlas Genius</td>\n",
       "    </tr>\n",
       "    <tr>\n",
       "      <th>142998</th>\n",
       "      <td>13000</td>\n",
       "      <td>P264</td>\n",
       "      <td>X&amp;Y</td>\n",
       "      <td>Parlophone</td>\n",
       "      <td>Parlophone artists such as [BLANK].</td>\n",
       "      <td>X&amp;Y</td>\n",
       "      <td>untitled 2008 album</td>\n",
       "    </tr>\n",
       "    <tr>\n",
       "      <th>142999</th>\n",
       "      <td>13000</td>\n",
       "      <td>P264</td>\n",
       "      <td>X&amp;Y</td>\n",
       "      <td>Parlophone</td>\n",
       "      <td>[BLANK] artists including X&amp;Y.</td>\n",
       "      <td>Parlophone</td>\n",
       "      <td>ATCO</td>\n",
       "    </tr>\n",
       "  </tbody>\n",
       "</table>\n",
       "</div>"
      ],
      "text/plain": [
       "        fact_id relation subject      object  \\\n",
       "142995    13000     P264     X&Y  Parlophone   \n",
       "142996    13000     P264     X&Y  Parlophone   \n",
       "142997    13000     P264     X&Y  Parlophone   \n",
       "142998    13000     P264     X&Y  Parlophone   \n",
       "142999    13000     P264     X&Y  Parlophone   \n",
       "\n",
       "                                        stem        true                 false  \n",
       "142995           [BLANK] label : Parlophone.         X&Y         Junior Hanson  \n",
       "142996      [BLANK], released by Parlophone.         X&Y  Doo-Wops & Hooligans  \n",
       "142997  Parlophone recording artist [BLANK].         X&Y          Atlas Genius  \n",
       "142998   Parlophone artists such as [BLANK].         X&Y   untitled 2008 album  \n",
       "142999        [BLANK] artists including X&Y.  Parlophone                  ATCO  "
      ]
     },
     "execution_count": 69,
     "metadata": {},
     "output_type": "execute_result"
    }
   ],
   "source": [
    "trex_df.tail()"
   ]
  },
  {
   "cell_type": "code",
   "execution_count": 70,
   "metadata": {},
   "outputs": [
    {
     "data": {
      "text/plain": [
       "(143000, 7)"
      ]
     },
     "execution_count": 70,
     "metadata": {},
     "output_type": "execute_result"
    }
   ],
   "source": [
    "trex_df.shape"
   ]
  },
  {
   "cell_type": "code",
   "execution_count": 71,
   "metadata": {},
   "outputs": [],
   "source": [
    "# write out initial df\n",
    "trex_df.to_json('../data/calinet_probing_data_original/calinet_trex_full_data.json', orient='records', lines=True)"
   ]
  },
  {
   "cell_type": "code",
   "execution_count": 72,
   "metadata": {},
   "outputs": [],
   "source": [
    "# put false inputs into a list\n",
    "# with open('../data/calinet_probing_data_original/calinet_trex_full_data.json', 'r') as f:\n",
    "    # data_calinet = json.load(f)"
   ]
  },
  {
   "cell_type": "code",
   "execution_count": 73,
   "metadata": {},
   "outputs": [
    {
     "name": "stdout",
     "output_type": "stream",
     "text": [
      "50451\n"
     ]
    }
   ],
   "source": [
    "# how many stems end in [BLANK]? -> 50451, or about 1/3.\n",
    "c = 0\n",
    "for stem in trex_df['stem']:\n",
    "    if stem.endswith(\"[BLANK].\"):\n",
    "        c+=1\n",
    "print(c)"
   ]
  },
  {
   "cell_type": "code",
   "execution_count": 74,
   "metadata": {},
   "outputs": [],
   "source": [
    "def check_for_causal_compatibility(stem):\n",
    "    return stem.endswith(\"[BLANK].\")"
   ]
  },
  {
   "cell_type": "code",
   "execution_count": 75,
   "metadata": {},
   "outputs": [],
   "source": [
    "def trim_stem(stem):\n",
    "    if stem.endswith(\"[BLANK].\"):\n",
    "        return stem[0: len(stem)-9]"
   ]
  },
  {
   "cell_type": "code",
   "execution_count": 76,
   "metadata": {},
   "outputs": [],
   "source": [
    "trex_causal_df = trex_df[trex_df.apply(lambda x: check_for_causal_compatibility(x.stem), axis=1)]"
   ]
  },
  {
   "cell_type": "code",
   "execution_count": 77,
   "metadata": {},
   "outputs": [],
   "source": [
    "trex_causal_df = trex_causal_df.copy()"
   ]
  },
  {
   "cell_type": "code",
   "execution_count": 78,
   "metadata": {},
   "outputs": [],
   "source": [
    "trimmed_stems = trex_causal_df.apply(lambda x: trim_stem(x.stem), axis=1)"
   ]
  },
  {
   "cell_type": "code",
   "execution_count": 79,
   "metadata": {},
   "outputs": [],
   "source": [
    "trex_causal_df['stem'] = list(trimmed_stems)"
   ]
  },
  {
   "cell_type": "code",
   "execution_count": 80,
   "metadata": {},
   "outputs": [
    {
     "data": {
      "text/plain": [
       "11960"
      ]
     },
     "execution_count": 80,
     "metadata": {},
     "output_type": "execute_result"
    }
   ],
   "source": [
    "# only about 20% of the calinet data is 'unique' knowledge, since they used paraphrases to calibrate\n",
    "len(trex_causal_df['fact_id'].unique())"
   ]
  },
  {
   "cell_type": "code",
   "execution_count": 81,
   "metadata": {},
   "outputs": [],
   "source": [
    "# before sampling, attach arbitrary counter ID, to then track who gets removed\n",
    "trex_causal_df['calibra_id'] = range(50451)"
   ]
  },
  {
   "cell_type": "code",
   "execution_count": 82,
   "metadata": {},
   "outputs": [],
   "source": [
    "trex_causal_subset = trex_causal_df.groupby('fact_id').apply(lambda x: x.sample(1, random_state=42)).reset_index(drop=True)"
   ]
  },
  {
   "cell_type": "code",
   "execution_count": 83,
   "metadata": {},
   "outputs": [],
   "source": [
    "assert(trex_causal_subset.shape[0] == len(trex_causal_df['fact_id'].unique()))\n"
   ]
  },
  {
   "cell_type": "code",
   "execution_count": 84,
   "metadata": {},
   "outputs": [
    {
     "data": {
      "text/html": [
       "<div>\n",
       "<style scoped>\n",
       "    .dataframe tbody tr th:only-of-type {\n",
       "        vertical-align: middle;\n",
       "    }\n",
       "\n",
       "    .dataframe tbody tr th {\n",
       "        vertical-align: top;\n",
       "    }\n",
       "\n",
       "    .dataframe thead th {\n",
       "        text-align: right;\n",
       "    }\n",
       "</style>\n",
       "<table border=\"1\" class=\"dataframe\">\n",
       "  <thead>\n",
       "    <tr style=\"text-align: right;\">\n",
       "      <th></th>\n",
       "      <th>fact_id</th>\n",
       "      <th>relation</th>\n",
       "      <th>subject</th>\n",
       "      <th>object</th>\n",
       "      <th>stem</th>\n",
       "      <th>true</th>\n",
       "      <th>false</th>\n",
       "      <th>calibra_id</th>\n",
       "    </tr>\n",
       "  </thead>\n",
       "  <tbody>\n",
       "    <tr>\n",
       "      <th>0</th>\n",
       "      <td>1</td>\n",
       "      <td>P47</td>\n",
       "      <td>Norfolk</td>\n",
       "      <td>Suffolk</td>\n",
       "      <td>Norfolk borders with</td>\n",
       "      <td>Suffolk</td>\n",
       "      <td>Vadena</td>\n",
       "      <td>1</td>\n",
       "    </tr>\n",
       "    <tr>\n",
       "      <th>1</th>\n",
       "      <td>2</td>\n",
       "      <td>P47</td>\n",
       "      <td>Jordan</td>\n",
       "      <td>Israel</td>\n",
       "      <td>Jordan shares a common border with</td>\n",
       "      <td>Israel</td>\n",
       "      <td>Simbach</td>\n",
       "      <td>6</td>\n",
       "    </tr>\n",
       "    <tr>\n",
       "      <th>2</th>\n",
       "      <td>3</td>\n",
       "      <td>P47</td>\n",
       "      <td>Kenya</td>\n",
       "      <td>Ethiopia</td>\n",
       "      <td>Kenya shares border with</td>\n",
       "      <td>Ethiopia</td>\n",
       "      <td>Yixing</td>\n",
       "      <td>7</td>\n",
       "    </tr>\n",
       "    <tr>\n",
       "      <th>3</th>\n",
       "      <td>4</td>\n",
       "      <td>P47</td>\n",
       "      <td>Egypt</td>\n",
       "      <td>Israel</td>\n",
       "      <td>Egypt shares its border with</td>\n",
       "      <td>Israel</td>\n",
       "      <td>Montréal, Quebec</td>\n",
       "      <td>14</td>\n",
       "    </tr>\n",
       "    <tr>\n",
       "      <th>4</th>\n",
       "      <td>5</td>\n",
       "      <td>P47</td>\n",
       "      <td>Tanzania</td>\n",
       "      <td>Uganda</td>\n",
       "      <td>Tanzania borders with</td>\n",
       "      <td>Uganda</td>\n",
       "      <td>La Pampa</td>\n",
       "      <td>19</td>\n",
       "    </tr>\n",
       "  </tbody>\n",
       "</table>\n",
       "</div>"
      ],
      "text/plain": [
       "   fact_id relation   subject    object                                stem  \\\n",
       "0        1      P47   Norfolk   Suffolk                Norfolk borders with   \n",
       "1        2      P47    Jordan    Israel  Jordan shares a common border with   \n",
       "2        3      P47     Kenya  Ethiopia            Kenya shares border with   \n",
       "3        4      P47     Egypt    Israel        Egypt shares its border with   \n",
       "4        5      P47  Tanzania    Uganda               Tanzania borders with   \n",
       "\n",
       "       true             false  calibra_id  \n",
       "0   Suffolk            Vadena           1  \n",
       "1    Israel           Simbach           6  \n",
       "2  Ethiopia            Yixing           7  \n",
       "3    Israel  Montréal, Quebec          14  \n",
       "4    Uganda          La Pampa          19  "
      ]
     },
     "execution_count": 84,
     "metadata": {},
     "output_type": "execute_result"
    }
   ],
   "source": [
    "trex_causal_subset.head()\n"
   ]
  },
  {
   "cell_type": "code",
   "execution_count": 85,
   "metadata": {},
   "outputs": [
    {
     "data": {
      "text/html": [
       "<div>\n",
       "<style scoped>\n",
       "    .dataframe tbody tr th:only-of-type {\n",
       "        vertical-align: middle;\n",
       "    }\n",
       "\n",
       "    .dataframe tbody tr th {\n",
       "        vertical-align: top;\n",
       "    }\n",
       "\n",
       "    .dataframe thead th {\n",
       "        text-align: right;\n",
       "    }\n",
       "</style>\n",
       "<table border=\"1\" class=\"dataframe\">\n",
       "  <thead>\n",
       "    <tr style=\"text-align: right;\">\n",
       "      <th></th>\n",
       "      <th>fact_id</th>\n",
       "      <th>relation</th>\n",
       "      <th>subject</th>\n",
       "      <th>object</th>\n",
       "      <th>stem</th>\n",
       "      <th>true</th>\n",
       "      <th>false</th>\n",
       "      <th>calibra_id</th>\n",
       "    </tr>\n",
       "  </thead>\n",
       "  <tbody>\n",
       "    <tr>\n",
       "      <th>11955</th>\n",
       "      <td>12996</td>\n",
       "      <td>P264</td>\n",
       "      <td>Cody Wise</td>\n",
       "      <td>Interscope Records</td>\n",
       "      <td>The music label that is representing Cody Wise is</td>\n",
       "      <td>Interscope Records</td>\n",
       "      <td>Heads Up International</td>\n",
       "      <td>50411</td>\n",
       "    </tr>\n",
       "    <tr>\n",
       "      <th>11956</th>\n",
       "      <td>12997</td>\n",
       "      <td>P264</td>\n",
       "      <td>Amy Ray</td>\n",
       "      <td>Daemon Records</td>\n",
       "      <td>Daemon Records artists such as</td>\n",
       "      <td>Amy Ray</td>\n",
       "      <td>Hello Rockview</td>\n",
       "      <td>50426</td>\n",
       "    </tr>\n",
       "    <tr>\n",
       "      <th>11957</th>\n",
       "      <td>12998</td>\n",
       "      <td>P264</td>\n",
       "      <td>Martin Sorrondeguy</td>\n",
       "      <td>Lengua Armada Discos</td>\n",
       "      <td>Martin Sorrondeguy, which is represented by</td>\n",
       "      <td>Lengua Armada Discos</td>\n",
       "      <td>Modern Day Escape</td>\n",
       "      <td>50428</td>\n",
       "    </tr>\n",
       "    <tr>\n",
       "      <th>11958</th>\n",
       "      <td>12999</td>\n",
       "      <td>P264</td>\n",
       "      <td>Madlib</td>\n",
       "      <td>Stones Throw</td>\n",
       "      <td>Stones Throw artists such as</td>\n",
       "      <td>Madlib</td>\n",
       "      <td>Bix Beiderbecke</td>\n",
       "      <td>50441</td>\n",
       "    </tr>\n",
       "    <tr>\n",
       "      <th>11959</th>\n",
       "      <td>13000</td>\n",
       "      <td>P264</td>\n",
       "      <td>X&amp;Y</td>\n",
       "      <td>Parlophone</td>\n",
       "      <td>X&amp;Y's label is</td>\n",
       "      <td>Parlophone</td>\n",
       "      <td>Re-Constriction Records</td>\n",
       "      <td>50444</td>\n",
       "    </tr>\n",
       "  </tbody>\n",
       "</table>\n",
       "</div>"
      ],
      "text/plain": [
       "       fact_id relation             subject                object  \\\n",
       "11955    12996     P264           Cody Wise    Interscope Records   \n",
       "11956    12997     P264             Amy Ray        Daemon Records   \n",
       "11957    12998     P264  Martin Sorrondeguy  Lengua Armada Discos   \n",
       "11958    12999     P264              Madlib          Stones Throw   \n",
       "11959    13000     P264                 X&Y            Parlophone   \n",
       "\n",
       "                                                    stem  \\\n",
       "11955  The music label that is representing Cody Wise is   \n",
       "11956                     Daemon Records artists such as   \n",
       "11957        Martin Sorrondeguy, which is represented by   \n",
       "11958                       Stones Throw artists such as   \n",
       "11959                                     X&Y's label is   \n",
       "\n",
       "                       true                    false  calibra_id  \n",
       "11955    Interscope Records   Heads Up International       50411  \n",
       "11956               Amy Ray           Hello Rockview       50426  \n",
       "11957  Lengua Armada Discos        Modern Day Escape       50428  \n",
       "11958                Madlib          Bix Beiderbecke       50441  \n",
       "11959            Parlophone  Re-Constriction Records       50444  "
      ]
     },
     "execution_count": 85,
     "metadata": {},
     "output_type": "execute_result"
    }
   ],
   "source": [
    "trex_causal_subset.tail()\n"
   ]
  },
  {
   "cell_type": "code",
   "execution_count": 86,
   "metadata": {},
   "outputs": [],
   "source": [
    "removed_ids = {}\n",
    "removed_counterfacts = {}\n",
    "for c_id in trex_causal_df['calibra_id']:\n",
    "    if c_id not in trex_causal_subset['calibra_id'].values:\n",
    "        fact_id = trex_causal_df[trex_causal_df['calibra_id'] == c_id]['fact_id'].values[0]\n",
    "        counterfact = trex_causal_df[trex_causal_df['calibra_id'] == c_id]['false'].values[0]\n",
    "        removed_ids[str(c_id)] = int(fact_id)\n",
    "        if str(fact_id) in removed_counterfacts:\n",
    "            removed_counterfacts[str(fact_id)].append(counterfact)\n",
    "        else:\n",
    "            removed_counterfacts[str(fact_id)] = [counterfact]\n",
    "\n",
    "# did we remove as many rows as eq to the difference between the full calinet dataset row number and the unique count?\n",
    "assert(len(removed_ids) == trex_causal_df.shape[0] - len(trex_causal_df['fact_id'].unique()))"
   ]
  },
  {
   "cell_type": "code",
   "execution_count": 87,
   "metadata": {},
   "outputs": [
    {
     "name": "stdout",
     "output_type": "stream",
     "text": [
      "1 ['Upper Macungie Township', 'Anabar', 'Riau', 'Bologna']\n",
      "2 ['Mpumalanga']\n",
      "3 ['James City County, Virginia', 'Portneuf', 'Rockingham County, Virginia', 'Giridih', 'Canazei']\n",
      "4 ['Sestriere', 'Nitra District', 'Acerra', 'Le Havre']\n",
      "5 ['Ukrainians', 'First Czechoslovak Republic', 'Ziburu']\n",
      "6 ['Oliver, British Columbia', 'Kapurthala', 'ASEAN']\n",
      "7 ['Vinnytsia Oblast', 'Laveno-Mombello', 'Orbassano', 'Arnhem', 'Santa Cristina Gela']\n",
      "8 ['North America', 'Mogilev Region', 'New Zealand/Aotearoa', 'Phasi Charoen']\n",
      "9 ['Castile La Mancha', 'Chikballapur district', 'Brewster County']\n",
      "10 ['Chaumont-Gistoux', 'Magadan Oblast']\n",
      "11 ['Bulakan', 'East Flanders', 'Arenys de Munt']\n",
      "12 ['First Czechoslovak Republic', 'South West Africa', 'Churchill, Manitoba']\n",
      "13 ['Oak Park', 'Rabun County', 'Rio de Janeiro (RJ)', 'Lower Hutt']\n",
      "14 ['Liberty Village', 'Civitacampomarano', 'Sorano']\n",
      "15 ['Western region', 'Sheridan Hollow']\n"
     ]
    }
   ],
   "source": [
    "# these are essentially the extra false things we can test against\n",
    "# that are still worth keeping\n",
    "c = 0\n",
    "for k, v in removed_counterfacts.items():\n",
    "    print(k, v)\n",
    "    c+=1\n",
    "    if c == 15:\n",
    "        break"
   ]
  },
  {
   "cell_type": "code",
   "execution_count": 88,
   "metadata": {},
   "outputs": [],
   "source": [
    "# drop extraneous calibra_id column \n",
    "trex_causal_subset.drop(['calibra_id'], axis=1, inplace=True)\n"
   ]
  },
  {
   "cell_type": "code",
   "execution_count": 89,
   "metadata": {},
   "outputs": [
    {
     "data": {
      "text/plain": [
       "(11960, 7)"
      ]
     },
     "execution_count": 89,
     "metadata": {},
     "output_type": "execute_result"
    }
   ],
   "source": [
    "# there are some fact_id's that only have 1 row\n",
    "# since we did pull stuff out based on our left to right requirement\n",
    "trex_causal_subset.shape"
   ]
  },
  {
   "cell_type": "code",
   "execution_count": 90,
   "metadata": {},
   "outputs": [
    {
     "data": {
      "text/plain": [
       "10563"
      ]
     },
     "execution_count": 90,
     "metadata": {},
     "output_type": "execute_result"
    }
   ],
   "source": [
    "len(removed_counterfacts)"
   ]
  },
  {
   "cell_type": "code",
   "execution_count": 91,
   "metadata": {},
   "outputs": [
    {
     "name": "stdout",
     "output_type": "stream",
     "text": [
      "10563\n"
     ]
    }
   ],
   "source": [
    "full_falses = {}\n",
    "for k, v in removed_counterfacts.items():\n",
    "    subset_false = trex_causal_subset[trex_causal_subset['fact_id'] == int(k)].false.values[0]\n",
    "    full_falses[k] = v\n",
    "    full_falses[k].append(subset_false)\n",
    "\n",
    "print(len(full_falses))"
   ]
  },
  {
   "cell_type": "code",
   "execution_count": 92,
   "metadata": {},
   "outputs": [
    {
     "name": "stdout",
     "output_type": "stream",
     "text": [
      "1 ['Upper Macungie Township', 'Anabar', 'Riau', 'Bologna', 'Vadena']\n"
     ]
    }
   ],
   "source": [
    "for k, v in full_falses.items():\n",
    "    print(k,v)\n",
    "    break"
   ]
  },
  {
   "cell_type": "code",
   "execution_count": 93,
   "metadata": {},
   "outputs": [],
   "source": [
    "def replace_false_column(fact_id, false_val, full_false_dict=full_falses):\n",
    "    if str(fact_id) in full_false_dict:\n",
    "        return full_false_dict[str(fact_id)]\n",
    "    else:\n",
    "        return [false_val]"
   ]
  },
  {
   "cell_type": "code",
   "execution_count": 94,
   "metadata": {},
   "outputs": [],
   "source": [
    "replaced_falses = list(trex_causal_subset.apply(lambda x: replace_false_column(x.fact_id, x.false), axis=1))\n"
   ]
  },
  {
   "cell_type": "code",
   "execution_count": 95,
   "metadata": {},
   "outputs": [
    {
     "data": {
      "text/plain": [
       "11960"
      ]
     },
     "execution_count": 95,
     "metadata": {},
     "output_type": "execute_result"
    }
   ],
   "source": [
    "len(replaced_falses)\n"
   ]
  },
  {
   "cell_type": "code",
   "execution_count": 96,
   "metadata": {},
   "outputs": [
    {
     "data": {
      "text/plain": [
       "[['Upper Macungie Township', 'Anabar', 'Riau', 'Bologna', 'Vadena'],\n",
       " ['Mpumalanga', 'Simbach'],\n",
       " ['James City County, Virginia',\n",
       "  'Portneuf',\n",
       "  'Rockingham County, Virginia',\n",
       "  'Giridih',\n",
       "  'Canazei',\n",
       "  'Yixing'],\n",
       " ['Sestriere', 'Nitra District', 'Acerra', 'Le Havre', 'Montréal, Quebec'],\n",
       " ['Ukrainians', 'First Czechoslovak Republic', 'Ziburu', 'La Pampa'],\n",
       " ['Oliver, British Columbia', 'Kapurthala', 'ASEAN', 'Kodanad']]"
      ]
     },
     "execution_count": 96,
     "metadata": {},
     "output_type": "execute_result"
    }
   ],
   "source": [
    "replaced_falses[:6]\n"
   ]
  },
  {
   "cell_type": "code",
   "execution_count": 97,
   "metadata": {},
   "outputs": [],
   "source": [
    "trex_causal_subset['false'] = replaced_falses\n"
   ]
  },
  {
   "cell_type": "code",
   "execution_count": 98,
   "metadata": {},
   "outputs": [
    {
     "data": {
      "text/html": [
       "<div>\n",
       "<style scoped>\n",
       "    .dataframe tbody tr th:only-of-type {\n",
       "        vertical-align: middle;\n",
       "    }\n",
       "\n",
       "    .dataframe tbody tr th {\n",
       "        vertical-align: top;\n",
       "    }\n",
       "\n",
       "    .dataframe thead th {\n",
       "        text-align: right;\n",
       "    }\n",
       "</style>\n",
       "<table border=\"1\" class=\"dataframe\">\n",
       "  <thead>\n",
       "    <tr style=\"text-align: right;\">\n",
       "      <th></th>\n",
       "      <th>fact_id</th>\n",
       "      <th>relation</th>\n",
       "      <th>subject</th>\n",
       "      <th>object</th>\n",
       "      <th>stem</th>\n",
       "      <th>true</th>\n",
       "      <th>false</th>\n",
       "    </tr>\n",
       "  </thead>\n",
       "  <tbody>\n",
       "    <tr>\n",
       "      <th>0</th>\n",
       "      <td>1</td>\n",
       "      <td>P47</td>\n",
       "      <td>Norfolk</td>\n",
       "      <td>Suffolk</td>\n",
       "      <td>Norfolk borders with</td>\n",
       "      <td>Suffolk</td>\n",
       "      <td>[Upper Macungie Township, Anabar, Riau, Bologn...</td>\n",
       "    </tr>\n",
       "    <tr>\n",
       "      <th>1</th>\n",
       "      <td>2</td>\n",
       "      <td>P47</td>\n",
       "      <td>Jordan</td>\n",
       "      <td>Israel</td>\n",
       "      <td>Jordan shares a common border with</td>\n",
       "      <td>Israel</td>\n",
       "      <td>[Mpumalanga, Simbach]</td>\n",
       "    </tr>\n",
       "    <tr>\n",
       "      <th>2</th>\n",
       "      <td>3</td>\n",
       "      <td>P47</td>\n",
       "      <td>Kenya</td>\n",
       "      <td>Ethiopia</td>\n",
       "      <td>Kenya shares border with</td>\n",
       "      <td>Ethiopia</td>\n",
       "      <td>[James City County, Virginia, Portneuf, Rockin...</td>\n",
       "    </tr>\n",
       "    <tr>\n",
       "      <th>3</th>\n",
       "      <td>4</td>\n",
       "      <td>P47</td>\n",
       "      <td>Egypt</td>\n",
       "      <td>Israel</td>\n",
       "      <td>Egypt shares its border with</td>\n",
       "      <td>Israel</td>\n",
       "      <td>[Sestriere, Nitra District, Acerra, Le Havre, ...</td>\n",
       "    </tr>\n",
       "    <tr>\n",
       "      <th>4</th>\n",
       "      <td>5</td>\n",
       "      <td>P47</td>\n",
       "      <td>Tanzania</td>\n",
       "      <td>Uganda</td>\n",
       "      <td>Tanzania borders with</td>\n",
       "      <td>Uganda</td>\n",
       "      <td>[Ukrainians, First Czechoslovak Republic, Zibu...</td>\n",
       "    </tr>\n",
       "  </tbody>\n",
       "</table>\n",
       "</div>"
      ],
      "text/plain": [
       "   fact_id relation   subject    object                                stem  \\\n",
       "0        1      P47   Norfolk   Suffolk                Norfolk borders with   \n",
       "1        2      P47    Jordan    Israel  Jordan shares a common border with   \n",
       "2        3      P47     Kenya  Ethiopia            Kenya shares border with   \n",
       "3        4      P47     Egypt    Israel        Egypt shares its border with   \n",
       "4        5      P47  Tanzania    Uganda               Tanzania borders with   \n",
       "\n",
       "       true                                              false  \n",
       "0   Suffolk  [Upper Macungie Township, Anabar, Riau, Bologn...  \n",
       "1    Israel                              [Mpumalanga, Simbach]  \n",
       "2  Ethiopia  [James City County, Virginia, Portneuf, Rockin...  \n",
       "3    Israel  [Sestriere, Nitra District, Acerra, Le Havre, ...  \n",
       "4    Uganda  [Ukrainians, First Czechoslovak Republic, Zibu...  "
      ]
     },
     "execution_count": 98,
     "metadata": {},
     "output_type": "execute_result"
    }
   ],
   "source": [
    "trex_causal_subset.head()"
   ]
  },
  {
   "cell_type": "code",
   "execution_count": 99,
   "metadata": {},
   "outputs": [
    {
     "data": {
      "text/html": [
       "<div>\n",
       "<style scoped>\n",
       "    .dataframe tbody tr th:only-of-type {\n",
       "        vertical-align: middle;\n",
       "    }\n",
       "\n",
       "    .dataframe tbody tr th {\n",
       "        vertical-align: top;\n",
       "    }\n",
       "\n",
       "    .dataframe thead th {\n",
       "        text-align: right;\n",
       "    }\n",
       "</style>\n",
       "<table border=\"1\" class=\"dataframe\">\n",
       "  <thead>\n",
       "    <tr style=\"text-align: right;\">\n",
       "      <th></th>\n",
       "      <th>fact_id</th>\n",
       "      <th>relation</th>\n",
       "      <th>subject</th>\n",
       "      <th>object</th>\n",
       "      <th>stem</th>\n",
       "      <th>true</th>\n",
       "      <th>false</th>\n",
       "    </tr>\n",
       "  </thead>\n",
       "  <tbody>\n",
       "    <tr>\n",
       "      <th>11955</th>\n",
       "      <td>12996</td>\n",
       "      <td>P264</td>\n",
       "      <td>Cody Wise</td>\n",
       "      <td>Interscope Records</td>\n",
       "      <td>The music label that is representing Cody Wise is</td>\n",
       "      <td>Interscope Records</td>\n",
       "      <td>[Holy Records, Heads Up International, Disney,...</td>\n",
       "    </tr>\n",
       "    <tr>\n",
       "      <th>11956</th>\n",
       "      <td>12997</td>\n",
       "      <td>P264</td>\n",
       "      <td>Amy Ray</td>\n",
       "      <td>Daemon Records</td>\n",
       "      <td>Daemon Records artists such as</td>\n",
       "      <td>Amy Ray</td>\n",
       "      <td>[So So Def Recordings, Universal Music Japan, ...</td>\n",
       "    </tr>\n",
       "    <tr>\n",
       "      <th>11957</th>\n",
       "      <td>12998</td>\n",
       "      <td>P264</td>\n",
       "      <td>Martin Sorrondeguy</td>\n",
       "      <td>Lengua Armada Discos</td>\n",
       "      <td>Martin Sorrondeguy, which is represented by</td>\n",
       "      <td>Lengua Armada Discos</td>\n",
       "      <td>[Frontiers Records, Barnaby Records, Aggro Ber...</td>\n",
       "    </tr>\n",
       "    <tr>\n",
       "      <th>11958</th>\n",
       "      <td>12999</td>\n",
       "      <td>P264</td>\n",
       "      <td>Madlib</td>\n",
       "      <td>Stones Throw</td>\n",
       "      <td>Stones Throw artists such as</td>\n",
       "      <td>Madlib</td>\n",
       "      <td>[Green Linnet Records, Mute records, Vee Jay R...</td>\n",
       "    </tr>\n",
       "    <tr>\n",
       "      <th>11959</th>\n",
       "      <td>13000</td>\n",
       "      <td>P264</td>\n",
       "      <td>X&amp;Y</td>\n",
       "      <td>Parlophone</td>\n",
       "      <td>X&amp;Y's label is</td>\n",
       "      <td>Parlophone</td>\n",
       "      <td>[Angular Recording Corporation, SPV GmbH, Abac...</td>\n",
       "    </tr>\n",
       "  </tbody>\n",
       "</table>\n",
       "</div>"
      ],
      "text/plain": [
       "       fact_id relation             subject                object  \\\n",
       "11955    12996     P264           Cody Wise    Interscope Records   \n",
       "11956    12997     P264             Amy Ray        Daemon Records   \n",
       "11957    12998     P264  Martin Sorrondeguy  Lengua Armada Discos   \n",
       "11958    12999     P264              Madlib          Stones Throw   \n",
       "11959    13000     P264                 X&Y            Parlophone   \n",
       "\n",
       "                                                    stem  \\\n",
       "11955  The music label that is representing Cody Wise is   \n",
       "11956                     Daemon Records artists such as   \n",
       "11957        Martin Sorrondeguy, which is represented by   \n",
       "11958                       Stones Throw artists such as   \n",
       "11959                                     X&Y's label is   \n",
       "\n",
       "                       true                                              false  \n",
       "11955    Interscope Records  [Holy Records, Heads Up International, Disney,...  \n",
       "11956               Amy Ray  [So So Def Recordings, Universal Music Japan, ...  \n",
       "11957  Lengua Armada Discos  [Frontiers Records, Barnaby Records, Aggro Ber...  \n",
       "11958                Madlib  [Green Linnet Records, Mute records, Vee Jay R...  \n",
       "11959            Parlophone  [Angular Recording Corporation, SPV GmbH, Abac...  "
      ]
     },
     "execution_count": 99,
     "metadata": {},
     "output_type": "execute_result"
    }
   ],
   "source": [
    "trex_causal_subset.tail()"
   ]
  },
  {
   "cell_type": "code",
   "execution_count": 100,
   "metadata": {},
   "outputs": [],
   "source": [
    "output_dict = {}\n",
    "trex_list = trex_causal_subset.to_dict('records')\n",
    "for i, entry in enumerate(trex_list):\n",
    "    output_dict[i] = trex_list[i]"
   ]
  },
  {
   "cell_type": "code",
   "execution_count": 101,
   "metadata": {},
   "outputs": [],
   "source": [
    "num_pairs = 0\n",
    "for x, y in output_dict.items():\n",
    "    output_dict[x] = y \n",
    "    output_dict[x]['false'] = list(set(y['false']))\n",
    "    \n",
    "    num_pairs += len(output_dict[x]['false'])"
   ]
  },
  {
   "cell_type": "code",
   "execution_count": 102,
   "metadata": {},
   "outputs": [
    {
     "data": {
      "text/plain": [
       "50386"
      ]
     },
     "execution_count": 102,
     "metadata": {},
     "output_type": "execute_result"
    }
   ],
   "source": [
    "num_pairs"
   ]
  },
  {
   "cell_type": "code",
   "execution_count": 103,
   "metadata": {},
   "outputs": [],
   "source": [
    "# write out cleaned/formatted df\n",
    "with open(\n",
    "    f\"../data/calinet_input_information.json\", \"w\"\n",
    ") as outfile:\n",
    "    json.dump(output_dict, outfile)"
   ]
  },
  {
   "cell_type": "code",
   "execution_count": 104,
   "metadata": {},
   "outputs": [
    {
     "data": {
      "text/plain": [
       "P495     4172\n",
       "P138     3729\n",
       "P264     3533\n",
       "P1376    3509\n",
       "P101     3279\n",
       "P740     3246\n",
       "P36      3215\n",
       "P449     2794\n",
       "P47      2265\n",
       "P20      2046\n",
       "P19      1760\n",
       "P159     1729\n",
       "P27      1717\n",
       "P530     1506\n",
       "P106     1497\n",
       "P407     1492\n",
       "P364     1457\n",
       "P176     1277\n",
       "P39      1268\n",
       "P37      1000\n",
       "P937      995\n",
       "P178      995\n",
       "P136      967\n",
       "P463      758\n",
       "P413      245\n",
       "Name: relation, dtype: int64"
      ]
     },
     "execution_count": 104,
     "metadata": {},
     "output_type": "execute_result"
    }
   ],
   "source": [
    "# out of curiosity, which relation templates persist in the cleaned, 'causal friendly' set...\n",
    "trex_causal_df['relation'].value_counts()"
   ]
  },
  {
   "cell_type": "markdown",
   "metadata": {},
   "source": [
    "## Cache ROME counterfact data"
   ]
  },
  {
   "cell_type": "code",
   "execution_count": 105,
   "metadata": {},
   "outputs": [],
   "source": [
    "with open('../data/rome_counterfact_original/counterfact.json', 'r') as f:\n",
    "    data_rome = json.load(f)"
   ]
  },
  {
   "cell_type": "code",
   "execution_count": 106,
   "metadata": {},
   "outputs": [
    {
     "data": {
      "text/plain": [
       "21919"
      ]
     },
     "execution_count": 106,
     "metadata": {},
     "output_type": "execute_result"
    }
   ],
   "source": [
    "len(data_rome)"
   ]
  },
  {
   "cell_type": "code",
   "execution_count": 107,
   "metadata": {},
   "outputs": [],
   "source": [
    "data_rome_input_information = {}\n",
    "\n",
    "for i in range(len(data_rome)):\n",
    "    stem = data_rome[i]['requested_rewrite']['prompt'].replace('{}', data_rome[i]['requested_rewrite']['subject'])\n",
    "    \n",
    "    data_rome_input_information[str(i)] = {\n",
    "        \"stem\": stem,\n",
    "        \"true\": data_rome[i]['requested_rewrite']['target_true']['str'],\n",
    "        \"false\": [data_rome[i]['requested_rewrite']['target_new']['str']],\n",
    "        \"case_id\":  data_rome[i]['case_id']\n",
    "    }"
   ]
  },
  {
   "cell_type": "code",
   "execution_count": 108,
   "metadata": {},
   "outputs": [],
   "source": [
    "#data_rome_input_information"
   ]
  },
  {
   "cell_type": "code",
   "execution_count": 109,
   "metadata": {},
   "outputs": [],
   "source": [
    "with open(\n",
    "    f\"../data/rome_counterfact_input_information.json\", \"w\"\n",
    ") as outfile:\n",
    "    json.dump(data_rome_input_information, outfile)"
   ]
  },
  {
   "cell_type": "markdown",
   "metadata": {},
   "source": [
    "## Combine the two datasets"
   ]
  },
  {
   "cell_type": "code",
   "execution_count": 126,
   "metadata": {},
   "outputs": [],
   "source": [
    "with open('../data/calinet_input_information.json', 'r') as f:\n",
    "    data_calinet = json.load(f)\n",
    "\n",
    "with open('../data/rome_counterfact_input_information.json', 'r') as f:\n",
    "    data_rome= json.load(f)\n"
   ]
  },
  {
   "cell_type": "code",
   "execution_count": 127,
   "metadata": {},
   "outputs": [],
   "source": [
    "#data_calinet\n",
    "#data_rome\n",
    "\n",
    "mixed_itr = 0\n",
    "mixed_df = {}\n",
    "\n",
    "for x, y in data_calinet.items():\n",
    "    y['dataset_original'] = 'calinet_input_information'\n",
    "    mixed_df[str(mixed_itr)] = y\n",
    "\n",
    "    mixed_itr+=1\n",
    "\n",
    "for x, y in data_rome.items():\n",
    "    y['dataset_original'] = 'rome_counterfact_input_information'\n",
    "    mixed_df[str(mixed_itr)] = y\n",
    "    mixed_itr+=1\n"
   ]
  },
  {
   "cell_type": "code",
   "execution_count": 128,
   "metadata": {},
   "outputs": [
    {
     "name": "stdout",
     "output_type": "stream",
     "text": [
      "The number of items in mixed_df is 33879\n"
     ]
    }
   ],
   "source": [
    "itrs = 0\n",
    "for x, y in mixed_df.items():\n",
    "    itrs += 1\n",
    "\n",
    "print(f'The number of items in mixed_df is {itrs}')"
   ]
  },
  {
   "cell_type": "code",
   "execution_count": 129,
   "metadata": {},
   "outputs": [
    {
     "name": "stdout",
     "output_type": "stream",
     "text": [
      "The number of [stem + fact + counterfact] trios in mixed_df is 72305\n",
      "The number of duplicated [stem + fact + counterfact] trios in mixed_df is 2\n"
     ]
    }
   ],
   "source": [
    "# check for duplicate stem, fact, counterfact pairs across the dataset:\n",
    "\n",
    "pairs_list = []\n",
    "for x, y in mixed_df.items():\n",
    "    for itr in range(len(y['false'])):\n",
    "        pairs = [y['stem'] + ' ' + y['true'] + ' ' + y['false'][itr]]\n",
    "        pairs_list.append(pairs)\n",
    "\n",
    "print(f'The number of [stem + fact + counterfact] trios in mixed_df is {len(pairs_list)}')\n",
    "# num duplicates \n",
    "num_dup = len(pairs_list) - len(np.unique(np.array(pairs_list)))\n",
    "print(f'The number of duplicated [stem + fact + counterfact] trios in mixed_df is {num_dup}')\n"
   ]
  },
  {
   "cell_type": "code",
   "execution_count": 130,
   "metadata": {},
   "outputs": [
    {
     "name": "stdout",
     "output_type": "stream",
     "text": [
      "10107 1 ['Brazil ties diplomatic relations with Venezuela VEN']\n",
      "25020 2 ['The original language of Paul Clifford was English Tamil']\n"
     ]
    }
   ],
   "source": [
    "# remove the 2 duplicates\n",
    "\n",
    "pairs_list = []\n",
    "dup_itr = 1\n",
    "for x, y in mixed_df.items():\n",
    "    for itr in range(len(y['false'])):\n",
    "        pairs = [y['stem'] + ' ' + y['true'] + ' ' + y['false'][itr]]\n",
    "        if pairs in pairs_list:\n",
    "            print(x, dup_itr, pairs)\n",
    "            dup_itr+=1\n",
    "        pairs_list.append(pairs)\n"
   ]
  },
  {
   "cell_type": "code",
   "execution_count": 131,
   "metadata": {},
   "outputs": [],
   "source": [
    "# hard code remove the above\n",
    "mixed_df['10107']['false'] = ['Bulgaria']\n",
    "mixed_df['10107']\n",
    "del mixed_df['25020']\n"
   ]
  },
  {
   "cell_type": "code",
   "execution_count": 132,
   "metadata": {},
   "outputs": [
    {
     "name": "stdout",
     "output_type": "stream",
     "text": [
      "The number of [stem + fact + counterfact] trios in mixed_df is 72303\n",
      "The number of duplicated [stem + fact + counterfact] trios in mixed_df is 0\n"
     ]
    }
   ],
   "source": [
    "# check for duplicates again\n",
    "\n",
    "pairs_list = []\n",
    "for x, y in mixed_df.items():\n",
    "    for itr in range(len(y['false'])):\n",
    "        pairs = [y['stem'] + ' ' + y['true'] + ' ' + y['false'][itr]]\n",
    "        pairs_list.append(pairs)\n",
    "\n",
    "print(f'The number of [stem + fact + counterfact] trios in mixed_df is {len(pairs_list)}')\n",
    "# num duplicates \n",
    "num_dup = len(pairs_list) - len(np.unique(np.array(pairs_list)))\n",
    "print(f'The number of duplicated [stem + fact + counterfact] trios in mixed_df is {num_dup}')"
   ]
  },
  {
   "cell_type": "code",
   "execution_count": 133,
   "metadata": {},
   "outputs": [],
   "source": [
    "\n",
    "with open(\n",
    "    f\"../data/calibragpt_full_input_information.json\", \"w\"\n",
    ") as outfile:\n",
    "    json.dump(mixed_df, outfile)"
   ]
  },
  {
   "cell_type": "code",
   "execution_count": null,
   "metadata": {},
   "outputs": [],
   "source": []
  }
 ],
 "metadata": {
  "interpreter": {
   "hash": "301faebbd5cea7fd4466786a19f1bea9d8baf657aaca95ef39840c46b8697603"
  },
  "kernelspec": {
   "display_name": "Python 3.8.8 64-bit ('base': conda)",
   "name": "python3"
  },
  "language_info": {
   "codemirror_mode": {
    "name": "ipython",
    "version": 3
   },
   "file_extension": ".py",
   "mimetype": "text/x-python",
   "name": "python",
   "nbconvert_exporter": "python",
   "pygments_lexer": "ipython3",
   "version": "3.8.8"
  }
 },
 "nbformat": 4,
 "nbformat_minor": 2
}
