{
 "cells": [
  {
   "cell_type": "code",
   "execution_count": 1,
   "metadata": {},
   "outputs": [],
   "source": [
    "import json\n",
    "import numpy as np\n",
    "import pandas as pd"
   ]
  },
  {
   "cell_type": "markdown",
   "metadata": {},
   "source": [
    "## Cache calinet probing data"
   ]
  },
  {
   "cell_type": "code",
   "execution_count": 2,
   "metadata": {},
   "outputs": [],
   "source": [
    "with open('../data/calinet_probing_data_original/probing_data_trex_500each.json', 'r') as f:\n",
    "    data_calinet = json.load(f)\n",
    "    starter_df = pd.DataFrame(list(data_calinet['data']))"
   ]
  },
  {
   "cell_type": "code",
   "execution_count": 3,
   "metadata": {},
   "outputs": [
    {
     "data": {
      "text/html": [
       "<div>\n",
       "<style scoped>\n",
       "    .dataframe tbody tr th:only-of-type {\n",
       "        vertical-align: middle;\n",
       "    }\n",
       "\n",
       "    .dataframe tbody tr th {\n",
       "        vertical-align: top;\n",
       "    }\n",
       "\n",
       "    .dataframe thead th {\n",
       "        text-align: right;\n",
       "    }\n",
       "</style>\n",
       "<table border=\"1\" class=\"dataframe\">\n",
       "  <thead>\n",
       "    <tr style=\"text-align: right;\">\n",
       "      <th></th>\n",
       "      <th>fact_id</th>\n",
       "      <th>relation</th>\n",
       "      <th>triplet</th>\n",
       "      <th>sentences</th>\n",
       "    </tr>\n",
       "  </thead>\n",
       "  <tbody>\n",
       "    <tr>\n",
       "      <th>0</th>\n",
       "      <td>1</td>\n",
       "      <td>P47</td>\n",
       "      <td>{'sub_label': 'Norfolk', 'obj_label': 'Suffolk'}</td>\n",
       "      <td>[[Norfolk shares border with &lt;extra_id_0&gt;., &lt;e...</td>\n",
       "    </tr>\n",
       "    <tr>\n",
       "      <th>1</th>\n",
       "      <td>2</td>\n",
       "      <td>P47</td>\n",
       "      <td>{'sub_label': 'Jordan', 'obj_label': 'Israel'}</td>\n",
       "      <td>[[&lt;extra_id_0&gt; shares border with Israel., &lt;ex...</td>\n",
       "    </tr>\n",
       "    <tr>\n",
       "      <th>2</th>\n",
       "      <td>3</td>\n",
       "      <td>P47</td>\n",
       "      <td>{'sub_label': 'Kenya', 'obj_label': 'Ethiopia'}</td>\n",
       "      <td>[[Kenya shares border with &lt;extra_id_0&gt;., &lt;ext...</td>\n",
       "    </tr>\n",
       "    <tr>\n",
       "      <th>3</th>\n",
       "      <td>4</td>\n",
       "      <td>P47</td>\n",
       "      <td>{'sub_label': 'Egypt', 'obj_label': 'Israel'}</td>\n",
       "      <td>[[&lt;extra_id_0&gt; shares border with Israel., &lt;ex...</td>\n",
       "    </tr>\n",
       "    <tr>\n",
       "      <th>4</th>\n",
       "      <td>5</td>\n",
       "      <td>P47</td>\n",
       "      <td>{'sub_label': 'Tanzania', 'obj_label': 'Uganda'}</td>\n",
       "      <td>[[Tanzania shares border with &lt;extra_id_0&gt;., &lt;...</td>\n",
       "    </tr>\n",
       "  </tbody>\n",
       "</table>\n",
       "</div>"
      ],
      "text/plain": [
       "   fact_id relation                                           triplet  \\\n",
       "0        1      P47  {'sub_label': 'Norfolk', 'obj_label': 'Suffolk'}   \n",
       "1        2      P47    {'sub_label': 'Jordan', 'obj_label': 'Israel'}   \n",
       "2        3      P47   {'sub_label': 'Kenya', 'obj_label': 'Ethiopia'}   \n",
       "3        4      P47     {'sub_label': 'Egypt', 'obj_label': 'Israel'}   \n",
       "4        5      P47  {'sub_label': 'Tanzania', 'obj_label': 'Uganda'}   \n",
       "\n",
       "                                           sentences  \n",
       "0  [[Norfolk shares border with <extra_id_0>., <e...  \n",
       "1  [[<extra_id_0> shares border with Israel., <ex...  \n",
       "2  [[Kenya shares border with <extra_id_0>., <ext...  \n",
       "3  [[<extra_id_0> shares border with Israel., <ex...  \n",
       "4  [[Tanzania shares border with <extra_id_0>., <...  "
      ]
     },
     "execution_count": 3,
     "metadata": {},
     "output_type": "execute_result"
    }
   ],
   "source": [
    "# starter df\n",
    "starter_df.head()"
   ]
  },
  {
   "cell_type": "code",
   "execution_count": 4,
   "metadata": {},
   "outputs": [
    {
     "data": {
      "text/plain": [
       "['Norfolk shares border with <extra_id_0>.',\n",
       " '<extra_id_0> Suffolk <extra_id_1>',\n",
       " '<extra_id_0> Upper Macungie Township <extra_id_1>']"
      ]
     },
     "execution_count": 4,
     "metadata": {},
     "output_type": "execute_result"
    }
   ],
   "source": [
    "# all of these have to do with fact id 1\n",
    "# the sentences are formed in this format...\n",
    "# the start of a factual sentence, involving the subject\n",
    "# and then two possibilities: one true and one false?\n",
    "# storing these, then, we should do something like\n",
    "# sentence stem | correct | incorrect\n",
    "# and we can strip out the <extra_id_x> parts\n",
    "# to keep it model agnostic\n",
    "starter_df['sentences'][0][0]"
   ]
  },
  {
   "cell_type": "code",
   "execution_count": 5,
   "metadata": {},
   "outputs": [],
   "source": [
    "# create containers to hold our clean data\n",
    "sentence_stems = []\n",
    "correct = []\n",
    "incorrect = []\n",
    "fact_ids = []\n",
    "relations = []\n",
    "subjects = []\n",
    "objects = []"
   ]
  },
  {
   "cell_type": "code",
   "execution_count": 6,
   "metadata": {},
   "outputs": [],
   "source": [
    "for index, row in starter_df.iterrows():\n",
    "    sentence_list = row['sentences']\n",
    "    for entry in sentence_list:\n",
    "        \n",
    "        # minor cleanup \n",
    "        cleaned_stem = entry[0].replace(\"<extra_id_0>\", \"[BLANK]\").strip()\n",
    "        cleaned_correct = entry[1].replace(\"<extra_id_0>\", \"\").replace(\"<extra_id_1>\", \"\").strip()\n",
    "        cleaned_incorrect = entry[2].replace(\"<extra_id_0>\", \"\").replace(\"<extra_id_1>\", \"\").strip()\n",
    "        \n",
    "        # grab sub<->obj\n",
    "        subjects_and_objects = pd.json_normalize(row['triplet'])\n",
    "        subjects.append(subjects_and_objects.sub_label.values[0])\n",
    "        objects.append(subjects_and_objects.obj_label.values[0])\n",
    "        \n",
    "        # commit \n",
    "        sentence_stems.append(cleaned_stem)\n",
    "        correct.append(cleaned_correct)\n",
    "        incorrect.append(cleaned_incorrect)\n",
    "        fact_ids.append(row['fact_id'])\n",
    "        relations.append(row['relation'])"
   ]
  },
  {
   "cell_type": "code",
   "execution_count": 7,
   "metadata": {},
   "outputs": [],
   "source": [
    "# sanity check\n",
    "assert(len(sentence_stems) ==\n",
    "       len(correct) ==\n",
    "       len(incorrect) ==\n",
    "       len(fact_ids) ==\n",
    "       len(relations) ==\n",
    "      len(subjects) ==\n",
    "      len(objects))"
   ]
  },
  {
   "cell_type": "code",
   "execution_count": 8,
   "metadata": {},
   "outputs": [],
   "source": [
    "# merge into big df\n",
    "trex_df = pd.DataFrame({'fact_id': fact_ids,\n",
    "                        'relation': relations, 'subject': subjects,\n",
    "                        'object': objects, 'stem': sentence_stems, 'true': correct,\n",
    "                        'false': incorrect})"
   ]
  },
  {
   "cell_type": "code",
   "execution_count": 9,
   "metadata": {},
   "outputs": [
    {
     "data": {
      "text/html": [
       "<div>\n",
       "<style scoped>\n",
       "    .dataframe tbody tr th:only-of-type {\n",
       "        vertical-align: middle;\n",
       "    }\n",
       "\n",
       "    .dataframe tbody tr th {\n",
       "        vertical-align: top;\n",
       "    }\n",
       "\n",
       "    .dataframe thead th {\n",
       "        text-align: right;\n",
       "    }\n",
       "</style>\n",
       "<table border=\"1\" class=\"dataframe\">\n",
       "  <thead>\n",
       "    <tr style=\"text-align: right;\">\n",
       "      <th></th>\n",
       "      <th>fact_id</th>\n",
       "      <th>relation</th>\n",
       "      <th>subject</th>\n",
       "      <th>object</th>\n",
       "      <th>stem</th>\n",
       "      <th>true</th>\n",
       "      <th>false</th>\n",
       "    </tr>\n",
       "  </thead>\n",
       "  <tbody>\n",
       "    <tr>\n",
       "      <th>0</th>\n",
       "      <td>1</td>\n",
       "      <td>P47</td>\n",
       "      <td>Norfolk</td>\n",
       "      <td>Suffolk</td>\n",
       "      <td>Norfolk shares border with [BLANK].</td>\n",
       "      <td>Suffolk</td>\n",
       "      <td>Upper Macungie Township</td>\n",
       "    </tr>\n",
       "    <tr>\n",
       "      <th>1</th>\n",
       "      <td>1</td>\n",
       "      <td>P47</td>\n",
       "      <td>Norfolk</td>\n",
       "      <td>Suffolk</td>\n",
       "      <td>Norfolk borders with [BLANK].</td>\n",
       "      <td>Suffolk</td>\n",
       "      <td>Vadena</td>\n",
       "    </tr>\n",
       "    <tr>\n",
       "      <th>2</th>\n",
       "      <td>1</td>\n",
       "      <td>P47</td>\n",
       "      <td>Norfolk</td>\n",
       "      <td>Suffolk</td>\n",
       "      <td>[BLANK] shares the border with Suffolk.</td>\n",
       "      <td>Norfolk</td>\n",
       "      <td>Northern Cape province</td>\n",
       "    </tr>\n",
       "    <tr>\n",
       "      <th>3</th>\n",
       "      <td>1</td>\n",
       "      <td>P47</td>\n",
       "      <td>Norfolk</td>\n",
       "      <td>Suffolk</td>\n",
       "      <td>[BLANK] shares its border with Suffolk.</td>\n",
       "      <td>Norfolk</td>\n",
       "      <td>Sunamganj District</td>\n",
       "    </tr>\n",
       "    <tr>\n",
       "      <th>4</th>\n",
       "      <td>1</td>\n",
       "      <td>P47</td>\n",
       "      <td>Norfolk</td>\n",
       "      <td>Suffolk</td>\n",
       "      <td>Norfolk shares a common border with [BLANK].</td>\n",
       "      <td>Suffolk</td>\n",
       "      <td>Anabar</td>\n",
       "    </tr>\n",
       "  </tbody>\n",
       "</table>\n",
       "</div>"
      ],
      "text/plain": [
       "   fact_id relation  subject   object  \\\n",
       "0        1      P47  Norfolk  Suffolk   \n",
       "1        1      P47  Norfolk  Suffolk   \n",
       "2        1      P47  Norfolk  Suffolk   \n",
       "3        1      P47  Norfolk  Suffolk   \n",
       "4        1      P47  Norfolk  Suffolk   \n",
       "\n",
       "                                           stem     true  \\\n",
       "0           Norfolk shares border with [BLANK].  Suffolk   \n",
       "1                 Norfolk borders with [BLANK].  Suffolk   \n",
       "2       [BLANK] shares the border with Suffolk.  Norfolk   \n",
       "3       [BLANK] shares its border with Suffolk.  Norfolk   \n",
       "4  Norfolk shares a common border with [BLANK].  Suffolk   \n",
       "\n",
       "                     false  \n",
       "0  Upper Macungie Township  \n",
       "1                   Vadena  \n",
       "2   Northern Cape province  \n",
       "3       Sunamganj District  \n",
       "4                   Anabar  "
      ]
     },
     "execution_count": 9,
     "metadata": {},
     "output_type": "execute_result"
    }
   ],
   "source": [
    "# full df\n",
    "trex_df.head()"
   ]
  },
  {
   "cell_type": "code",
   "execution_count": 10,
   "metadata": {},
   "outputs": [
    {
     "data": {
      "text/html": [
       "<div>\n",
       "<style scoped>\n",
       "    .dataframe tbody tr th:only-of-type {\n",
       "        vertical-align: middle;\n",
       "    }\n",
       "\n",
       "    .dataframe tbody tr th {\n",
       "        vertical-align: top;\n",
       "    }\n",
       "\n",
       "    .dataframe thead th {\n",
       "        text-align: right;\n",
       "    }\n",
       "</style>\n",
       "<table border=\"1\" class=\"dataframe\">\n",
       "  <thead>\n",
       "    <tr style=\"text-align: right;\">\n",
       "      <th></th>\n",
       "      <th>fact_id</th>\n",
       "      <th>relation</th>\n",
       "      <th>subject</th>\n",
       "      <th>object</th>\n",
       "      <th>stem</th>\n",
       "      <th>true</th>\n",
       "      <th>false</th>\n",
       "    </tr>\n",
       "  </thead>\n",
       "  <tbody>\n",
       "    <tr>\n",
       "      <th>142995</th>\n",
       "      <td>13000</td>\n",
       "      <td>P264</td>\n",
       "      <td>X&amp;Y</td>\n",
       "      <td>Parlophone</td>\n",
       "      <td>[BLANK] label : Parlophone.</td>\n",
       "      <td>X&amp;Y</td>\n",
       "      <td>Junior Hanson</td>\n",
       "    </tr>\n",
       "    <tr>\n",
       "      <th>142996</th>\n",
       "      <td>13000</td>\n",
       "      <td>P264</td>\n",
       "      <td>X&amp;Y</td>\n",
       "      <td>Parlophone</td>\n",
       "      <td>[BLANK], released by Parlophone.</td>\n",
       "      <td>X&amp;Y</td>\n",
       "      <td>Doo-Wops &amp; Hooligans</td>\n",
       "    </tr>\n",
       "    <tr>\n",
       "      <th>142997</th>\n",
       "      <td>13000</td>\n",
       "      <td>P264</td>\n",
       "      <td>X&amp;Y</td>\n",
       "      <td>Parlophone</td>\n",
       "      <td>Parlophone recording artist [BLANK].</td>\n",
       "      <td>X&amp;Y</td>\n",
       "      <td>Atlas Genius</td>\n",
       "    </tr>\n",
       "    <tr>\n",
       "      <th>142998</th>\n",
       "      <td>13000</td>\n",
       "      <td>P264</td>\n",
       "      <td>X&amp;Y</td>\n",
       "      <td>Parlophone</td>\n",
       "      <td>Parlophone artists such as [BLANK].</td>\n",
       "      <td>X&amp;Y</td>\n",
       "      <td>untitled 2008 album</td>\n",
       "    </tr>\n",
       "    <tr>\n",
       "      <th>142999</th>\n",
       "      <td>13000</td>\n",
       "      <td>P264</td>\n",
       "      <td>X&amp;Y</td>\n",
       "      <td>Parlophone</td>\n",
       "      <td>[BLANK] artists including X&amp;Y.</td>\n",
       "      <td>Parlophone</td>\n",
       "      <td>ATCO</td>\n",
       "    </tr>\n",
       "  </tbody>\n",
       "</table>\n",
       "</div>"
      ],
      "text/plain": [
       "        fact_id relation subject      object  \\\n",
       "142995    13000     P264     X&Y  Parlophone   \n",
       "142996    13000     P264     X&Y  Parlophone   \n",
       "142997    13000     P264     X&Y  Parlophone   \n",
       "142998    13000     P264     X&Y  Parlophone   \n",
       "142999    13000     P264     X&Y  Parlophone   \n",
       "\n",
       "                                        stem        true                 false  \n",
       "142995           [BLANK] label : Parlophone.         X&Y         Junior Hanson  \n",
       "142996      [BLANK], released by Parlophone.         X&Y  Doo-Wops & Hooligans  \n",
       "142997  Parlophone recording artist [BLANK].         X&Y          Atlas Genius  \n",
       "142998   Parlophone artists such as [BLANK].         X&Y   untitled 2008 album  \n",
       "142999        [BLANK] artists including X&Y.  Parlophone                  ATCO  "
      ]
     },
     "execution_count": 10,
     "metadata": {},
     "output_type": "execute_result"
    }
   ],
   "source": [
    "trex_df.tail()"
   ]
  },
  {
   "cell_type": "code",
   "execution_count": 11,
   "metadata": {},
   "outputs": [
    {
     "data": {
      "text/plain": [
       "(143000, 7)"
      ]
     },
     "execution_count": 11,
     "metadata": {},
     "output_type": "execute_result"
    }
   ],
   "source": [
    "trex_df.shape"
   ]
  },
  {
   "cell_type": "code",
   "execution_count": 12,
   "metadata": {},
   "outputs": [],
   "source": [
    "# write out initial df\n",
    "trex_df.to_json('../data/calinet_probing_data_original/calinet_trex_full_data.json', orient='records', lines=True)"
   ]
  },
  {
   "cell_type": "code",
   "execution_count": 13,
   "metadata": {},
   "outputs": [],
   "source": [
    "# put false inputs into a list\n",
    "# with open('../data/calinet_probing_data_original/calinet_trex_full_data.json', 'r') as f:\n",
    "    # data_calinet = json.load(f)"
   ]
  },
  {
   "cell_type": "code",
   "execution_count": 14,
   "metadata": {},
   "outputs": [
    {
     "name": "stdout",
     "output_type": "stream",
     "text": [
      "50451\n"
     ]
    }
   ],
   "source": [
    "# how many stems end in [BLANK]? -> 50451, or about 1/3.\n",
    "c = 0\n",
    "for stem in trex_df['stem']:\n",
    "    if stem.endswith(\"[BLANK].\"):\n",
    "        c+=1\n",
    "print(c)"
   ]
  },
  {
   "cell_type": "code",
   "execution_count": 15,
   "metadata": {},
   "outputs": [],
   "source": [
    "def check_for_causal_compatibility(stem):\n",
    "    return stem.endswith(\"[BLANK].\")"
   ]
  },
  {
   "cell_type": "code",
   "execution_count": 16,
   "metadata": {},
   "outputs": [],
   "source": [
    "def trim_stem(stem):\n",
    "    if stem.endswith(\"[BLANK].\"):\n",
    "        return stem[0: len(stem)-9]"
   ]
  },
  {
   "cell_type": "code",
   "execution_count": 17,
   "metadata": {},
   "outputs": [],
   "source": [
    "trex_causal_df = trex_df[trex_df.apply(lambda x: check_for_causal_compatibility(x.stem), axis=1)]"
   ]
  },
  {
   "cell_type": "code",
   "execution_count": 18,
   "metadata": {},
   "outputs": [],
   "source": [
    "trex_causal_df = trex_causal_df.copy()"
   ]
  },
  {
   "cell_type": "code",
   "execution_count": 19,
   "metadata": {},
   "outputs": [],
   "source": [
    "trimmed_stems = trex_causal_df.apply(lambda x: trim_stem(x.stem), axis=1)"
   ]
  },
  {
   "cell_type": "code",
   "execution_count": 20,
   "metadata": {},
   "outputs": [],
   "source": [
    "trex_causal_df['stem'] = list(trimmed_stems)"
   ]
  },
  {
   "cell_type": "code",
   "execution_count": 21,
   "metadata": {},
   "outputs": [
    {
     "data": {
      "text/plain": [
       "11960"
      ]
     },
     "execution_count": 21,
     "metadata": {},
     "output_type": "execute_result"
    }
   ],
   "source": [
    "# only about 20% of the calinet data is 'unique' knowledge, since they used paraphrases to calibrate\n",
    "len(trex_causal_df['fact_id'].unique())"
   ]
  },
  {
   "cell_type": "code",
   "execution_count": 22,
   "metadata": {},
   "outputs": [],
   "source": [
    "# before sampling, attach arbitrary counter ID, to then track who gets removed\n",
    "trex_causal_df['calibra_id'] = range(50451)"
   ]
  },
  {
   "cell_type": "code",
   "execution_count": 23,
   "metadata": {},
   "outputs": [],
   "source": [
    "trex_causal_subset = trex_causal_df.groupby('fact_id').apply(lambda x: x.sample(1, random_state=42)).reset_index(drop=True)"
   ]
  },
  {
   "cell_type": "code",
   "execution_count": 24,
   "metadata": {},
   "outputs": [],
   "source": [
    "assert(trex_causal_subset.shape[0] == len(trex_causal_df['fact_id'].unique()))"
   ]
  },
  {
   "cell_type": "code",
   "execution_count": 25,
   "metadata": {},
   "outputs": [
    {
     "data": {
      "text/html": [
       "<div>\n",
       "<style scoped>\n",
       "    .dataframe tbody tr th:only-of-type {\n",
       "        vertical-align: middle;\n",
       "    }\n",
       "\n",
       "    .dataframe tbody tr th {\n",
       "        vertical-align: top;\n",
       "    }\n",
       "\n",
       "    .dataframe thead th {\n",
       "        text-align: right;\n",
       "    }\n",
       "</style>\n",
       "<table border=\"1\" class=\"dataframe\">\n",
       "  <thead>\n",
       "    <tr style=\"text-align: right;\">\n",
       "      <th></th>\n",
       "      <th>fact_id</th>\n",
       "      <th>relation</th>\n",
       "      <th>subject</th>\n",
       "      <th>object</th>\n",
       "      <th>stem</th>\n",
       "      <th>true</th>\n",
       "      <th>false</th>\n",
       "      <th>calibra_id</th>\n",
       "    </tr>\n",
       "  </thead>\n",
       "  <tbody>\n",
       "    <tr>\n",
       "      <th>0</th>\n",
       "      <td>1</td>\n",
       "      <td>P47</td>\n",
       "      <td>Norfolk</td>\n",
       "      <td>Suffolk</td>\n",
       "      <td>Norfolk borders with</td>\n",
       "      <td>Suffolk</td>\n",
       "      <td>Vadena</td>\n",
       "      <td>1</td>\n",
       "    </tr>\n",
       "    <tr>\n",
       "      <th>1</th>\n",
       "      <td>2</td>\n",
       "      <td>P47</td>\n",
       "      <td>Jordan</td>\n",
       "      <td>Israel</td>\n",
       "      <td>Jordan shares a common border with</td>\n",
       "      <td>Israel</td>\n",
       "      <td>Simbach</td>\n",
       "      <td>6</td>\n",
       "    </tr>\n",
       "    <tr>\n",
       "      <th>2</th>\n",
       "      <td>3</td>\n",
       "      <td>P47</td>\n",
       "      <td>Kenya</td>\n",
       "      <td>Ethiopia</td>\n",
       "      <td>Kenya shares border with</td>\n",
       "      <td>Ethiopia</td>\n",
       "      <td>Yixing</td>\n",
       "      <td>7</td>\n",
       "    </tr>\n",
       "    <tr>\n",
       "      <th>3</th>\n",
       "      <td>4</td>\n",
       "      <td>P47</td>\n",
       "      <td>Egypt</td>\n",
       "      <td>Israel</td>\n",
       "      <td>Egypt shares its border with</td>\n",
       "      <td>Israel</td>\n",
       "      <td>Montréal, Quebec</td>\n",
       "      <td>14</td>\n",
       "    </tr>\n",
       "    <tr>\n",
       "      <th>4</th>\n",
       "      <td>5</td>\n",
       "      <td>P47</td>\n",
       "      <td>Tanzania</td>\n",
       "      <td>Uganda</td>\n",
       "      <td>Tanzania borders with</td>\n",
       "      <td>Uganda</td>\n",
       "      <td>La Pampa</td>\n",
       "      <td>19</td>\n",
       "    </tr>\n",
       "  </tbody>\n",
       "</table>\n",
       "</div>"
      ],
      "text/plain": [
       "   fact_id relation   subject    object                                stem  \\\n",
       "0        1      P47   Norfolk   Suffolk                Norfolk borders with   \n",
       "1        2      P47    Jordan    Israel  Jordan shares a common border with   \n",
       "2        3      P47     Kenya  Ethiopia            Kenya shares border with   \n",
       "3        4      P47     Egypt    Israel        Egypt shares its border with   \n",
       "4        5      P47  Tanzania    Uganda               Tanzania borders with   \n",
       "\n",
       "       true             false  calibra_id  \n",
       "0   Suffolk            Vadena           1  \n",
       "1    Israel           Simbach           6  \n",
       "2  Ethiopia            Yixing           7  \n",
       "3    Israel  Montréal, Quebec          14  \n",
       "4    Uganda          La Pampa          19  "
      ]
     },
     "execution_count": 25,
     "metadata": {},
     "output_type": "execute_result"
    }
   ],
   "source": [
    "trex_causal_subset.head()"
   ]
  },
  {
   "cell_type": "code",
   "execution_count": 26,
   "metadata": {},
   "outputs": [],
   "source": [
    "removed_ids = {}\n",
    "removed_counterfacts = {}\n",
    "for c_id in trex_causal_df['calibra_id']:\n",
    "    if c_id not in trex_causal_subset['calibra_id'].values:\n",
    "        fact_id = trex_causal_df[trex_causal_df['calibra_id'] == c_id]['fact_id'].values[0]\n",
    "        counterfact = trex_causal_df[trex_causal_df['calibra_id'] == c_id]['false'].values[0]\n",
    "        removed_ids[str(c_id)] = int(fact_id)\n",
    "        if str(fact_id) in removed_counterfacts:\n",
    "            removed_counterfacts[str(fact_id)].append(counterfact)\n",
    "        else:\n",
    "            removed_counterfacts[str(fact_id)] = [counterfact]\n",
    "\n",
    "# did we remove as many rows as eq to the difference between the full calinet dataset row number and the unique count?\n",
    "assert(len(removed_ids) == trex_causal_df.shape[0] - len(trex_causal_df['fact_id'].unique()))"
   ]
  },
  {
   "cell_type": "code",
   "execution_count": 27,
   "metadata": {},
   "outputs": [
    {
     "name": "stdout",
     "output_type": "stream",
     "text": [
      "1 ['Upper Macungie Township', 'Anabar', 'Riau', 'Bologna']\n",
      "2 ['Mpumalanga']\n",
      "3 ['James City County, Virginia', 'Portneuf', 'Rockingham County, Virginia', 'Giridih', 'Canazei']\n",
      "4 ['Sestriere', 'Nitra District', 'Acerra', 'Le Havre']\n",
      "5 ['Ukrainians', 'First Czechoslovak Republic', 'Ziburu']\n",
      "6 ['Oliver, British Columbia', 'Kapurthala', 'ASEAN']\n",
      "7 ['Vinnytsia Oblast', 'Laveno-Mombello', 'Orbassano', 'Arnhem', 'Santa Cristina Gela']\n",
      "8 ['North America', 'Mogilev Region', 'New Zealand/Aotearoa', 'Phasi Charoen']\n",
      "9 ['Castile La Mancha', 'Chikballapur district', 'Brewster County']\n",
      "10 ['Chaumont-Gistoux', 'Magadan Oblast']\n",
      "11 ['Bulakan', 'East Flanders', 'Arenys de Munt']\n",
      "12 ['First Czechoslovak Republic', 'South West Africa', 'Churchill, Manitoba']\n",
      "13 ['Oak Park', 'Rabun County', 'Rio de Janeiro (RJ)', 'Lower Hutt']\n",
      "14 ['Liberty Village', 'Civitacampomarano', 'Sorano']\n",
      "15 ['Western region', 'Sheridan Hollow']\n"
     ]
    }
   ],
   "source": [
    "# these are essentially the extra false things we can test against\n",
    "# that are still worth keeping\n",
    "c = 0\n",
    "for k, v in removed_counterfacts.items():\n",
    "    print(k, v)\n",
    "    c+=1\n",
    "    if c == 15:\n",
    "        break"
   ]
  },
  {
   "cell_type": "code",
   "execution_count": 28,
   "metadata": {},
   "outputs": [
    {
     "data": {
      "text/html": [
       "<div>\n",
       "<style scoped>\n",
       "    .dataframe tbody tr th:only-of-type {\n",
       "        vertical-align: middle;\n",
       "    }\n",
       "\n",
       "    .dataframe tbody tr th {\n",
       "        vertical-align: top;\n",
       "    }\n",
       "\n",
       "    .dataframe thead th {\n",
       "        text-align: right;\n",
       "    }\n",
       "</style>\n",
       "<table border=\"1\" class=\"dataframe\">\n",
       "  <thead>\n",
       "    <tr style=\"text-align: right;\">\n",
       "      <th></th>\n",
       "      <th>fact_id</th>\n",
       "      <th>relation</th>\n",
       "      <th>subject</th>\n",
       "      <th>object</th>\n",
       "      <th>stem</th>\n",
       "      <th>true</th>\n",
       "      <th>false</th>\n",
       "      <th>calibra_id</th>\n",
       "    </tr>\n",
       "  </thead>\n",
       "  <tbody>\n",
       "    <tr>\n",
       "      <th>0</th>\n",
       "      <td>1</td>\n",
       "      <td>P47</td>\n",
       "      <td>Norfolk</td>\n",
       "      <td>Suffolk</td>\n",
       "      <td>Norfolk borders with</td>\n",
       "      <td>Suffolk</td>\n",
       "      <td>Vadena</td>\n",
       "      <td>1</td>\n",
       "    </tr>\n",
       "    <tr>\n",
       "      <th>1</th>\n",
       "      <td>2</td>\n",
       "      <td>P47</td>\n",
       "      <td>Jordan</td>\n",
       "      <td>Israel</td>\n",
       "      <td>Jordan shares a common border with</td>\n",
       "      <td>Israel</td>\n",
       "      <td>Simbach</td>\n",
       "      <td>6</td>\n",
       "    </tr>\n",
       "    <tr>\n",
       "      <th>2</th>\n",
       "      <td>3</td>\n",
       "      <td>P47</td>\n",
       "      <td>Kenya</td>\n",
       "      <td>Ethiopia</td>\n",
       "      <td>Kenya shares border with</td>\n",
       "      <td>Ethiopia</td>\n",
       "      <td>Yixing</td>\n",
       "      <td>7</td>\n",
       "    </tr>\n",
       "    <tr>\n",
       "      <th>3</th>\n",
       "      <td>4</td>\n",
       "      <td>P47</td>\n",
       "      <td>Egypt</td>\n",
       "      <td>Israel</td>\n",
       "      <td>Egypt shares its border with</td>\n",
       "      <td>Israel</td>\n",
       "      <td>Montréal, Quebec</td>\n",
       "      <td>14</td>\n",
       "    </tr>\n",
       "    <tr>\n",
       "      <th>4</th>\n",
       "      <td>5</td>\n",
       "      <td>P47</td>\n",
       "      <td>Tanzania</td>\n",
       "      <td>Uganda</td>\n",
       "      <td>Tanzania borders with</td>\n",
       "      <td>Uganda</td>\n",
       "      <td>La Pampa</td>\n",
       "      <td>19</td>\n",
       "    </tr>\n",
       "  </tbody>\n",
       "</table>\n",
       "</div>"
      ],
      "text/plain": [
       "   fact_id relation   subject    object                                stem  \\\n",
       "0        1      P47   Norfolk   Suffolk                Norfolk borders with   \n",
       "1        2      P47    Jordan    Israel  Jordan shares a common border with   \n",
       "2        3      P47     Kenya  Ethiopia            Kenya shares border with   \n",
       "3        4      P47     Egypt    Israel        Egypt shares its border with   \n",
       "4        5      P47  Tanzania    Uganda               Tanzania borders with   \n",
       "\n",
       "       true             false  calibra_id  \n",
       "0   Suffolk            Vadena           1  \n",
       "1    Israel           Simbach           6  \n",
       "2  Ethiopia            Yixing           7  \n",
       "3    Israel  Montréal, Quebec          14  \n",
       "4    Uganda          La Pampa          19  "
      ]
     },
     "execution_count": 28,
     "metadata": {},
     "output_type": "execute_result"
    }
   ],
   "source": [
    "trex_causal_subset.head()"
   ]
  },
  {
   "cell_type": "code",
   "execution_count": 29,
   "metadata": {},
   "outputs": [],
   "source": [
    "# we may re-use this file\n",
    "with open(\n",
    "    f\"../data/calinet_removed_data_id_to_fact_id_mapping.json\", \"w\"\n",
    ") as outfile:\n",
    "    json.dump(removed_ids, outfile)"
   ]
  },
  {
   "cell_type": "code",
   "execution_count": 30,
   "metadata": {},
   "outputs": [],
   "source": [
    "# we probably won't use this file for anything\n",
    "with open(\n",
    "    f\"../data/calinet_removed_fact_id_to_counterfacts_mapping.json\", \"w\"\n",
    ") as outfile:\n",
    "    json.dump(removed_counterfacts, outfile)"
   ]
  },
  {
   "cell_type": "code",
   "execution_count": 31,
   "metadata": {},
   "outputs": [],
   "source": [
    "# drop extraneous calibra_id column \n",
    "trex_causal_subset.drop(['calibra_id'], axis=1, inplace=True)"
   ]
  },
  {
   "cell_type": "code",
   "execution_count": 32,
   "metadata": {},
   "outputs": [
    {
     "data": {
      "text/plain": [
       "(11960, 7)"
      ]
     },
     "execution_count": 32,
     "metadata": {},
     "output_type": "execute_result"
    }
   ],
   "source": [
    "# there are some fact_id's that only have 1 row\n",
    "# since we did pull stuff out based on our left to right requirement\n",
    "trex_causal_subset.shape"
   ]
  },
  {
   "cell_type": "code",
   "execution_count": 33,
   "metadata": {},
   "outputs": [
    {
     "data": {
      "text/plain": [
       "10563"
      ]
     },
     "execution_count": 33,
     "metadata": {},
     "output_type": "execute_result"
    }
   ],
   "source": [
    "len(removed_counterfacts)"
   ]
  },
  {
   "cell_type": "code",
   "execution_count": 36,
   "metadata": {},
   "outputs": [
    {
     "name": "stdout",
     "output_type": "stream",
     "text": [
      "10563\n"
     ]
    }
   ],
   "source": [
    "full_falses = {}\n",
    "for k, v in removed_counterfacts.items():\n",
    "    subset_false = trex_causal_subset[trex_causal_subset['fact_id'] == int(k)].false.values[0]\n",
    "    full_falses[k] = v\n",
    "    full_falses[k].append(subset_false)\n",
    "\n",
    "print(len(full_falses))"
   ]
  },
  {
   "cell_type": "code",
   "execution_count": 35,
   "metadata": {},
   "outputs": [
    {
     "name": "stdout",
     "output_type": "stream",
     "text": [
      "1 ['Upper Macungie Township', 'Anabar', 'Riau', 'Bologna', 'Vadena']\n"
     ]
    }
   ],
   "source": [
    "for k, v in full_falses.items():\n",
    "    print(k,v)\n",
    "    break"
   ]
  },
  {
   "cell_type": "code",
   "execution_count": 48,
   "metadata": {},
   "outputs": [],
   "source": [
    "def replace_false_column(fact_id, false_val, full_false_dict=full_falses):\n",
    "    if str(fact_id) in full_false_dict:\n",
    "        return full_false_dict[str(fact_id)]\n",
    "    else:\n",
    "        return [false_val]"
   ]
  },
  {
   "cell_type": "code",
   "execution_count": 52,
   "metadata": {},
   "outputs": [],
   "source": [
    "replaced_falses = list(trex_causal_subset.apply(lambda x: replace_false_column(x.fact_id, x.false), axis=1))"
   ]
  },
  {
   "cell_type": "code",
   "execution_count": 53,
   "metadata": {},
   "outputs": [
    {
     "data": {
      "text/plain": [
       "11960"
      ]
     },
     "execution_count": 53,
     "metadata": {},
     "output_type": "execute_result"
    }
   ],
   "source": [
    "len(replaced_falses)"
   ]
  },
  {
   "cell_type": "code",
   "execution_count": 54,
   "metadata": {},
   "outputs": [
    {
     "data": {
      "text/plain": [
       "[['Upper Macungie Township', 'Anabar', 'Riau', 'Bologna', 'Vadena', 'Vadena'],\n",
       " ['Mpumalanga', 'Simbach'],\n",
       " ['James City County, Virginia',\n",
       "  'Portneuf',\n",
       "  'Rockingham County, Virginia',\n",
       "  'Giridih',\n",
       "  'Canazei',\n",
       "  'Yixing'],\n",
       " ['Sestriere', 'Nitra District', 'Acerra', 'Le Havre', 'Montréal, Quebec'],\n",
       " ['Ukrainians', 'First Czechoslovak Republic', 'Ziburu', 'La Pampa'],\n",
       " ['Oliver, British Columbia', 'Kapurthala', 'ASEAN', 'Kodanad']]"
      ]
     },
     "execution_count": 54,
     "metadata": {},
     "output_type": "execute_result"
    }
   ],
   "source": [
    "replaced_falses[:6]"
   ]
  },
  {
   "cell_type": "code",
   "execution_count": 55,
   "metadata": {},
   "outputs": [],
   "source": [
    "trex_causal_subset['false'] = replaced_falses"
   ]
  },
  {
   "cell_type": "code",
   "execution_count": 56,
   "metadata": {},
   "outputs": [
    {
     "data": {
      "text/html": [
       "<div>\n",
       "<style scoped>\n",
       "    .dataframe tbody tr th:only-of-type {\n",
       "        vertical-align: middle;\n",
       "    }\n",
       "\n",
       "    .dataframe tbody tr th {\n",
       "        vertical-align: top;\n",
       "    }\n",
       "\n",
       "    .dataframe thead th {\n",
       "        text-align: right;\n",
       "    }\n",
       "</style>\n",
       "<table border=\"1\" class=\"dataframe\">\n",
       "  <thead>\n",
       "    <tr style=\"text-align: right;\">\n",
       "      <th></th>\n",
       "      <th>fact_id</th>\n",
       "      <th>relation</th>\n",
       "      <th>subject</th>\n",
       "      <th>object</th>\n",
       "      <th>stem</th>\n",
       "      <th>true</th>\n",
       "      <th>false</th>\n",
       "    </tr>\n",
       "  </thead>\n",
       "  <tbody>\n",
       "    <tr>\n",
       "      <th>0</th>\n",
       "      <td>1</td>\n",
       "      <td>P47</td>\n",
       "      <td>Norfolk</td>\n",
       "      <td>Suffolk</td>\n",
       "      <td>Norfolk borders with</td>\n",
       "      <td>Suffolk</td>\n",
       "      <td>[Upper Macungie Township, Anabar, Riau, Bologn...</td>\n",
       "    </tr>\n",
       "    <tr>\n",
       "      <th>1</th>\n",
       "      <td>2</td>\n",
       "      <td>P47</td>\n",
       "      <td>Jordan</td>\n",
       "      <td>Israel</td>\n",
       "      <td>Jordan shares a common border with</td>\n",
       "      <td>Israel</td>\n",
       "      <td>[Mpumalanga, Simbach]</td>\n",
       "    </tr>\n",
       "    <tr>\n",
       "      <th>2</th>\n",
       "      <td>3</td>\n",
       "      <td>P47</td>\n",
       "      <td>Kenya</td>\n",
       "      <td>Ethiopia</td>\n",
       "      <td>Kenya shares border with</td>\n",
       "      <td>Ethiopia</td>\n",
       "      <td>[James City County, Virginia, Portneuf, Rockin...</td>\n",
       "    </tr>\n",
       "    <tr>\n",
       "      <th>3</th>\n",
       "      <td>4</td>\n",
       "      <td>P47</td>\n",
       "      <td>Egypt</td>\n",
       "      <td>Israel</td>\n",
       "      <td>Egypt shares its border with</td>\n",
       "      <td>Israel</td>\n",
       "      <td>[Sestriere, Nitra District, Acerra, Le Havre, ...</td>\n",
       "    </tr>\n",
       "    <tr>\n",
       "      <th>4</th>\n",
       "      <td>5</td>\n",
       "      <td>P47</td>\n",
       "      <td>Tanzania</td>\n",
       "      <td>Uganda</td>\n",
       "      <td>Tanzania borders with</td>\n",
       "      <td>Uganda</td>\n",
       "      <td>[Ukrainians, First Czechoslovak Republic, Zibu...</td>\n",
       "    </tr>\n",
       "  </tbody>\n",
       "</table>\n",
       "</div>"
      ],
      "text/plain": [
       "   fact_id relation   subject    object                                stem  \\\n",
       "0        1      P47   Norfolk   Suffolk                Norfolk borders with   \n",
       "1        2      P47    Jordan    Israel  Jordan shares a common border with   \n",
       "2        3      P47     Kenya  Ethiopia            Kenya shares border with   \n",
       "3        4      P47     Egypt    Israel        Egypt shares its border with   \n",
       "4        5      P47  Tanzania    Uganda               Tanzania borders with   \n",
       "\n",
       "       true                                              false  \n",
       "0   Suffolk  [Upper Macungie Township, Anabar, Riau, Bologn...  \n",
       "1    Israel                              [Mpumalanga, Simbach]  \n",
       "2  Ethiopia  [James City County, Virginia, Portneuf, Rockin...  \n",
       "3    Israel  [Sestriere, Nitra District, Acerra, Le Havre, ...  \n",
       "4    Uganda  [Ukrainians, First Czechoslovak Republic, Zibu...  "
      ]
     },
     "execution_count": 56,
     "metadata": {},
     "output_type": "execute_result"
    }
   ],
   "source": [
    "trex_causal_subset.head()"
   ]
  },
  {
   "cell_type": "code",
   "execution_count": 57,
   "metadata": {},
   "outputs": [],
   "source": [
    "output_dict = {}\n",
    "trex_list = trex_causal_subset.to_dict('records')\n",
    "for i, entry in enumerate(trex_list):\n",
    "    output_dict[i] = trex_list[i]"
   ]
  },
  {
   "cell_type": "code",
   "execution_count": 58,
   "metadata": {},
   "outputs": [],
   "source": [
    "for x, y in output_dict.items():\n",
    "    output_dict[x] = y \n",
    "    output_dict[x]['false'] = [y['false']] "
   ]
  },
  {
   "cell_type": "code",
   "execution_count": 59,
   "metadata": {},
   "outputs": [],
   "source": [
    "# write out cleaned/formatted df\n",
    "with open(\n",
    "    f\"../data/calinet_input_information.json\", \"w\"\n",
    ") as outfile:\n",
    "    json.dump(output_dict, outfile)"
   ]
  },
  {
   "cell_type": "markdown",
   "metadata": {},
   "source": [
    "## Cache ROME counterfact data"
   ]
  },
  {
   "cell_type": "code",
   "execution_count": null,
   "metadata": {},
   "outputs": [],
   "source": [
    "with open('../data/rome_counterfact_original/counterfact.json', 'r') as f:\n",
    "    data_rome = json.load(f)"
   ]
  },
  {
   "cell_type": "code",
   "execution_count": null,
   "metadata": {},
   "outputs": [],
   "source": [
    "len(data_rome)"
   ]
  },
  {
   "cell_type": "code",
   "execution_count": null,
   "metadata": {},
   "outputs": [],
   "source": [
    "data_rome_input_information = {}\n",
    "\n",
    "for i in range(len(data_rome)):\n",
    "    stem = data_rome[i]['requested_rewrite']['prompt'].replace('{}', data_rome[i]['requested_rewrite']['subject'])\n",
    "    \n",
    "    data_rome_input_information[str(i)] = {\n",
    "        \"stem\": stem,\n",
    "        \"true\": data_rome[i]['requested_rewrite']['target_true']['str'],\n",
    "        \"false\": [data_rome[i]['requested_rewrite']['target_new']['str']],\n",
    "        \"case_id\":  data_rome[i]['case_id']\n",
    "    }"
   ]
  },
  {
   "cell_type": "code",
   "execution_count": null,
   "metadata": {},
   "outputs": [],
   "source": [
    "data_rome_input_information"
   ]
  },
  {
   "cell_type": "code",
   "execution_count": null,
   "metadata": {},
   "outputs": [],
   "source": [
    "with open(\n",
    "    f\"../data/rome_counterfact_input_information.json\", \"w\"\n",
    ") as outfile:\n",
    "    json.dump(data_rome_input_information, outfile)"
   ]
  },
  {
   "cell_type": "markdown",
   "metadata": {},
   "source": [
    "## Combine the two datasets"
   ]
  },
  {
   "cell_type": "code",
   "execution_count": 60,
   "metadata": {},
   "outputs": [],
   "source": [
    "with open('../data/calinet_input_information.json', 'r') as f:\n",
    "    data_calinet = json.load(f)\n",
    "\n",
    "with open('../data/rome_counterfact_input_information.json', 'r') as f:\n",
    "    data_rome= json.load(f)\n"
   ]
  },
  {
   "cell_type": "code",
   "execution_count": 61,
   "metadata": {},
   "outputs": [],
   "source": [
    "#data_calinet\n",
    "#data_rome\n",
    "\n",
    "mixed_itr = 0\n",
    "mixed_df = {}\n",
    "\n",
    "for x, y in data_calinet.items():\n",
    "    y['dataset_original'] = 'calinet_input_information'\n",
    "    mixed_df[str(mixed_itr)] = y\n",
    "\n",
    "    mixed_itr+=1\n",
    "\n",
    "for x, y in data_rome.items():\n",
    "    y['dataset_original'] = 'rome_counterfact_input_information'\n",
    "    mixed_df[str(mixed_itr)] = y\n",
    "    mixed_itr+=1\n"
   ]
  },
  {
   "cell_type": "code",
   "execution_count": 62,
   "metadata": {},
   "outputs": [],
   "source": [
    "itrs = 0\n",
    "for x, y in mixed_df.items():\n",
    "    itrs += 1"
   ]
  },
  {
   "cell_type": "code",
   "execution_count": 63,
   "metadata": {},
   "outputs": [
    {
     "data": {
      "text/plain": [
       "33879"
      ]
     },
     "execution_count": 63,
     "metadata": {},
     "output_type": "execute_result"
    }
   ],
   "source": [
    "itrs"
   ]
  },
  {
   "cell_type": "code",
   "execution_count": 64,
   "metadata": {},
   "outputs": [],
   "source": [
    "\n",
    "with open(\n",
    "    f\"../data/calibragpt_full_input_information.json\", \"w\"\n",
    ") as outfile:\n",
    "    json.dump(mixed_df, outfile)"
   ]
  }
 ],
 "metadata": {
  "interpreter": {
   "hash": "301faebbd5cea7fd4466786a19f1bea9d8baf657aaca95ef39840c46b8697603"
  },
  "kernelspec": {
   "display_name": "Python 3 (ipykernel)",
   "language": "python",
   "name": "python3"
  },
  "language_info": {
   "codemirror_mode": {
    "name": "ipython",
    "version": 3
   },
   "file_extension": ".py",
   "mimetype": "text/x-python",
   "name": "python",
   "nbconvert_exporter": "python",
   "pygments_lexer": "ipython3",
   "version": "3.8.8"
  }
 },
 "nbformat": 4,
 "nbformat_minor": 2
}
