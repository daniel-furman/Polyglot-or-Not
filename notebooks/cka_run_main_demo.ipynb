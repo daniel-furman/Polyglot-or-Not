{
  "cells": [
    {
      "cell_type": "markdown",
      "metadata": {
        "id": "Am_Ubq6xTaBz"
      },
      "source": [
        "# Contrastive Knowledge Assesment (CKA) Notebook Demo\n",
        "This notebook enables interactive experimentation with CKA for models including `Flan-t5s`, `OPTs`, `Robertas`, and `GPT2s`.\n",
        "The goal is to probe if factual statements are predicted at a higher probability than a given counterfactual.\n",
        "\n",
        "<a target=\"_blank\" href=\"https://colab.research.google.com/github/daniel-furman/Capstone/blob/main/notebooks/cka_run_main_demo.ipynb\">\n",
        "  <img src=\"https://colab.research.google.com/assets/colab-badge.svg\" alt=\"Open In Colab\"/>\n",
        "</a>\n"
      ]
    },
    {
      "cell_type": "markdown",
      "metadata": {
        "id": "uccv2X7WeJGv"
      },
      "source": [
        "## Dependencies"
      ]
    },
    {
      "cell_type": "code",
      "execution_count": null,
      "metadata": {
        "colab": {
          "base_uri": "https://localhost:8080/"
        },
        "id": "A4gro-sOZz-O",
        "outputId": "ace5af32-d4b7-4c7a-9c19-56144cae4490"
      },
      "outputs": [],
      "source": [
        "!git clone https://github.com/daniel-furman/Capstone.git\n",
        "!pip install -r /content/Capstone/requirements.txt"
      ]
    },
    {
      "cell_type": "markdown",
      "metadata": {
        "id": "3yjnEaRtKd8L"
      },
      "source": [
        "## Imports"
      ]
    },
    {
      "cell_type": "code",
      "execution_count": null,
      "metadata": {
        "id": "-a72Ac0RbMnb"
      },
      "outputs": [],
      "source": [
        "import os\n",
        "import torch"
      ]
    },
    {
      "cell_type": "code",
      "execution_count": null,
      "metadata": {
        "id": "enPdtlx-aH3k"
      },
      "outputs": [],
      "source": [
        "if not torch.cuda.is_available():\n",
        "    raise Exception(\"Change runtime type to include a GPU.\")"
      ]
    },
    {
      "cell_type": "code",
      "execution_count": null,
      "metadata": {
        "id": "0jQTcgbNk-iA"
      },
      "outputs": [],
      "source": [
        "os.chdir('/content/Capstone/src/cka_scripts')\n",
        "os.environ['TF_CPP_MIN_LOG_LEVEL'] = '2' "
      ]
    },
    {
      "cell_type": "markdown",
      "metadata": {
        "id": "8WXwAZfHMgAY"
      },
      "source": [
        "## Notebook usage"
      ]
    },
    {
      "cell_type": "code",
      "execution_count": null,
      "metadata": {
        "id": "GVCMUZJXV0mq"
      },
      "outputs": [],
      "source": [
        "# import the main wrapper function for running cka\n",
        "\n",
        "from run_cka import main\n",
        "config = {}"
      ]
    },
    {
      "cell_type": "markdown",
      "metadata": {
        "id": "PFy4ijAPc_mS"
      },
      "source": [
        "Here, you can specify a causal, masked, or text2text large language model in ```config[\"models\"]```. The `transformers` package is used to load the model into the session at mixed 8bit precision (`load_in_8_bit=True`). See [README](https://github.com/daniel-furman/Capstone#models-tested) for the full list of model families supported and HuggingFace for specific model tags.  \n",
        "\n",
        "Some example VRAM usages:\n",
        "* `google/flan-ul2` requires slightly more than 32GB VRAM\n",
        "* `EleutherAI/gpt-neox-20b` requires slightly more than 22GB VRAM\n",
        "* `EleutherAI/gpt-j-6B` requires slightly more than 7GB VRAM\n",
        "* `google/flan-t5-xl`requires slightly more than 5GB VRAM\n",
        "* `roberta-large` requires slightly less than 1GB VRAM\n",
        "\n"
      ]
    },
    {
      "cell_type": "code",
      "execution_count": null,
      "metadata": {
        "id": "a1VWc_WtEmjG"
      },
      "outputs": [],
      "source": [
        "config[\"models\"] = [\n",
        "    #\"EleutherAI/gpt-j-6B\",\n",
        "    \"gpt2-xl\",\n",
        "]"
      ]
    },
    {
      "cell_type": "markdown",
      "metadata": {
        "id": "MjsiQ1pZEhiN"
      },
      "source": [
        "Next, new facts can be input in ```config[\"input_information\"]```.\n",
        "  * For instance: to input \"Lebron James is famous for playing the sport of {true: basketball; false: football}\", see the last example. "
      ]
    },
    {
      "cell_type": "code",
      "execution_count": null,
      "metadata": {
        "id": "fXTO0xG4Zzx5"
      },
      "outputs": [],
      "source": [
        "config[\"input_information\"] = {\n",
        "    \n",
        "        \"0\": {\n",
        "            \"stem\": \"The 2020 Olympics were held in\",\n",
        "            \"true\": \"Tokyo\",\n",
        "            \"false\": [\"London\", \"Berlin\", \"Chicago\"],\n",
        "        },\n",
        "        \"1\": {\n",
        "            \"stem\": \"Operation Overlord took place in\",\n",
        "            \"true\": \"Normandy\",\n",
        "            \"false\": [\"Manila\", \"Santiago\", \"Baghdad\"],\n",
        "        },\n",
        "        \"2\": {\n",
        "            \"stem\": \"Steve Jobs is the founder of\",\n",
        "            \"true\": \"Apple\",\n",
        "            \"false\": [\"Microsoft\", \"Google\", \"Facebook\"],\n",
        "        },\n",
        "\n",
        "        # Example addition(s)\n",
        "        \"3\": {\n",
        "            \"stem\": \"Lebron James is famous for playing the sport of\",\n",
        "            \"true\": \"basketball\",\n",
        "            \"false\": [\"football\"],\n",
        "        },   \n",
        "    }"
      ]
    },
    {
      "cell_type": "markdown",
      "metadata": {
        "id": "uK_FgovPH5sC"
      },
      "source": [
        "Lastly, verbosity controls how much info is printed to the user."
      ]
    },
    {
      "cell_type": "code",
      "execution_count": null,
      "metadata": {
        "id": "8OZpK5VOFkvW"
      },
      "outputs": [],
      "source": [
        "config[\"verbosity\"] = False"
      ]
    },
    {
      "cell_type": "code",
      "execution_count": null,
      "metadata": {
        "colab": {
          "base_uri": "https://localhost:8080/"
        },
        "id": "UROxQKlfF7Yl",
        "outputId": "d0e16733-1f11-437e-c755-ffc798ffdd29"
      },
      "outputs": [],
      "source": [
        "config"
      ]
    },
    {
      "cell_type": "markdown",
      "metadata": {
        "id": "vpqXavxokObu"
      },
      "source": [
        "Now, we're ready to run the cka pipeline."
      ]
    },
    {
      "cell_type": "code",
      "execution_count": null,
      "metadata": {
        "id": "95AARPmwFk00"
      },
      "outputs": [],
      "source": [
        "score_dicts = main(config)"
      ]
    },
    {
      "cell_type": "code",
      "execution_count": null,
      "metadata": {
        "id": "slVvhNl7kTeA"
      },
      "outputs": [],
      "source": [
        "print(score_dicts[0])\n",
        "print(score_dicts[1])\n",
        "print(score_dicts[2])"
      ]
    },
    {
      "cell_type": "markdown",
      "metadata": {
        "id": "j6lqNVBmhW-g"
      },
      "source": [
        "## CLI usage \n",
        "* Compatible with cached configs included in the repo\n",
        "* You can also create a custom config for an experiment\n",
        "    * See: ```./content/Capstone/src/cka_scripts/configs```"
      ]
    },
    {
      "cell_type": "code",
      "execution_count": null,
      "metadata": {
        "colab": {
          "base_uri": "https://localhost:8080/"
        },
        "id": "Hic1I2GZD5BF",
        "outputId": "1555e5b1-a340-470c-9b9d-e60fa98a955f"
      },
      "outputs": [],
      "source": [
        "# full benchmark dataset\n",
        "\n",
        "!python run_cka.py configs.calibragpt_benchmark.flan-t5_calibragpt"
      ]
    },
    {
      "cell_type": "code",
      "execution_count": null,
      "metadata": {
        "id": "5sL4-Qu559eC"
      },
      "outputs": [],
      "source": []
    }
  ],
  "metadata": {
    "accelerator": "GPU",
    "colab": {
      "machine_shape": "hm",
      "provenance": []
    },
    "gpuClass": "standard",
    "kernelspec": {
      "display_name": "Python 3",
      "name": "python3"
    },
    "language_info": {
      "name": "python"
    }
  },
  "nbformat": 4,
  "nbformat_minor": 0
}
