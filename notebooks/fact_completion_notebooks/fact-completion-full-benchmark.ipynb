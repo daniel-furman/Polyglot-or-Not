{
 "cells": [
  {
   "cell_type": "markdown",
   "metadata": {
    "id": "Am_Ubq6xTaBz"
   },
   "source": [
    "# Run Fact Completion Benchmark\n",
    "This notebook contains the code to run the CalibraGPT fact completion benchmark. Fact completion is accomplished by probing whether factual statements are predicted at a higher probability compared to paired counterfactual statements. We will be using the [CalibraGPT/Fact-Completion](https://huggingface.co/datasets/CalibraGPT/Fact-Completion) dataset. See the Repo's [README](https://github.com/daniel-furman/Polyglot-or-Not) for compatible models and more information.\n",
    "\n",
    "<a target=\"_blank\" href=\"https://colab.research.google.com/github/daniel-furman/Polyglot-or-Not/blob/main/notebooks/fact_completion_notebooks/fact-completion-full-benchmark.ipynb\">\n",
    "  <img src=\"https://colab.research.google.com/assets/colab-badge.svg\" alt=\"Open In Colab\"/>\n",
    "</a>\n"
   ]
  },
  {
   "cell_type": "markdown",
   "metadata": {},
   "source": [
    "## Colab + Drive setup"
   ]
  },
  {
   "cell_type": "code",
   "execution_count": null,
   "metadata": {},
   "outputs": [],
   "source": [
    "from google.colab import drive\n",
    "\n",
    "# Attach drive\n",
    "drive.mount(\"/content/drive\")"
   ]
  },
  {
   "cell_type": "code",
   "execution_count": null,
   "metadata": {},
   "outputs": [],
   "source": [
    "# Global var for folder to save results logs to\n",
    "DRIVE_FOLDER_OUT = \"/content/drive/MyDrive/Colab Files/cka_benchmark_logs/\""
   ]
  },
  {
   "cell_type": "markdown",
   "metadata": {
    "id": "uccv2X7WeJGv"
   },
   "source": [
    "## Dependencies"
   ]
  },
  {
   "cell_type": "code",
   "execution_count": null,
   "metadata": {
    "colab": {
     "base_uri": "https://localhost:8080/",
     "height": 123
    },
    "id": "A4gro-sOZz-O",
    "outputId": "b3c5ecf0-b92a-4cea-a216-25945602c601"
   },
   "outputs": [],
   "source": [
    "!git clone https://github.com/daniel-furman/Capstone.git\n",
    "!pip install -r /content/Capstone/requirements.txt\n",
    "#!pip install -r /content/Capstone/requirements_llama.txt"
   ]
  },
  {
   "cell_type": "markdown",
   "metadata": {
    "id": "3yjnEaRtKd8L"
   },
   "source": [
    "## Imports"
   ]
  },
  {
   "cell_type": "code",
   "execution_count": null,
   "metadata": {
    "id": "-a72Ac0RbMnb"
   },
   "outputs": [],
   "source": [
    "import os\n",
    "import glob\n",
    "import torch\n",
    "from argparse import Namespace\n",
    "from transformers import set_seed\n",
    "from datasets import load_dataset\n",
    "\n",
    "os.chdir(\"/content/Capstone/src/fact_completion_scripts\")\n",
    "from compare_models import compare_models"
   ]
  },
  {
   "cell_type": "markdown",
   "metadata": {
    "id": "Gqw4gExYvhHK"
   },
   "source": [
    "## Configure Args"
   ]
  },
  {
   "cell_type": "code",
   "execution_count": null,
   "metadata": {
    "colab": {
     "base_uri": "https://localhost:8080/"
    },
    "id": "lCHXtnnfvjGm",
    "outputId": "8ad0b597-58e4-40c4-a5fa-d5a05b738ad8"
   },
   "outputs": [],
   "source": [
    "# args config for running the benchmark\n",
    "args = Namespace(\n",
    "    model=\"bert-base-multilingual-cased\",\n",
    "    language=\"en\",\n",
    ")\n",
    "\n",
    "args"
   ]
  },
  {
   "cell_type": "markdown",
   "metadata": {
    "id": "oPCmhNRjKPlu"
   },
   "source": [
    "## Setup"
   ]
  },
  {
   "cell_type": "code",
   "execution_count": null,
   "metadata": {
    "id": "enPdtlx-aH3k"
   },
   "outputs": [],
   "source": [
    "# ensure GPU access\n",
    "if not torch.cuda.is_available():\n",
    "    raise Exception(\"Change runtime type to include a GPU.\")"
   ]
  },
  {
   "cell_type": "code",
   "execution_count": null,
   "metadata": {
    "id": "aGUAvaJbJ-1n"
   },
   "outputs": [],
   "source": [
    "# set warning level\n",
    "os.environ[\"TF_CPP_MIN_LOG_LEVEL\"] = \"2\""
   ]
  },
  {
   "cell_type": "markdown",
   "metadata": {
    "id": "biZ8sWXcKRsG"
   },
   "source": [
    "## Run"
   ]
  },
  {
   "cell_type": "code",
   "execution_count": null,
   "metadata": {
    "colab": {
     "base_uri": "https://localhost:8080/"
    },
    "id": "70WlwWC7Gl9m",
    "outputId": "ae21253b-9b8b-497d-e830-09ff4519ebb7"
   },
   "outputs": [],
   "source": [
    "# run the fact completion benchmark\n",
    "print(\"Running the fact_completion benchmark...\")\n",
    "\n",
    "set_seed(42)\n",
    "\n",
    "# change the below to work on a list of (\"english\", \"en\") pairs\n",
    "# load in the dataset corresponding to the input language\n",
    "supported_languages = [\n",
    "    (\"english\", \"en\"),\n",
    "    (\"french\", \"fr\"),\n",
    "    (\"spanish\", \"es\"),\n",
    "    (\"german\", \"de\"),\n",
    "    (\"ukrainian\", \"uk\"),\n",
    "    (\"romanian\", \"ro\"),\n",
    "    (\"bulgarian\", \"bg\"),\n",
    "    (\"catalan\", \"ca\"),\n",
    "    (\"danish\", \"da\"),\n",
    "    (\"croatian\", \"hr\"),\n",
    "    (\"hungarian\", \"hu\"),\n",
    "    (\"italian\", \"it\"),\n",
    "    (\"dutch\", \"nl\"),\n",
    "    (\"polish\", \"pl\"),\n",
    "    (\"portuguese\", \"pt\"),\n",
    "    (\"russian\", \"ru\"),\n",
    "    (\"slovenian\", \"sl\"),\n",
    "    (\"serbian\", \"sr\"),\n",
    "    (\"swedish\", \"sv\"),\n",
    "    (\"czech\", \"cs\"),\n",
    "]\n",
    "\n",
    "dataset_bool = False\n",
    "for lang_arr in supported_languages:\n",
    "    if (args.language.lower() == lang_arr[0]) or (args.language.lower() == lang_arr[1]):\n",
    "        dataset = load_dataset(\n",
    "            \"CalibraGPT/Fact-Completion\", split=lang_arr[0].capitalize()\n",
    "        )\n",
    "        dataset_bool = True\n",
    "\n",
    "if not dataset_bool:\n",
    "    raise Exception(\"Language not supported.\")\n",
    "\n",
    "# check the input model is compatible\n",
    "compatible_model_prefixes = [\n",
    "    \"t5\",\n",
    "    \"pythia\",\n",
    "    \"gpt\",\n",
    "    \"opt\",\n",
    "    \"llama\",\n",
    "    \"roberta\",\n",
    "    \"bert\",\n",
    "    \"bloom\",\n",
    "]\n",
    "\n",
    "model_supported = False\n",
    "for model_prefix in compatible_model_prefixes:\n",
    "    if model_prefix in args.model.lower():\n",
    "        model_supported = True\n",
    "\n",
    "if not model_supported:\n",
    "    raise Exception(\"Model not supported.\")\n",
    "\n",
    "# create a config for running the pipeline\n",
    "config = {\n",
    "    \"models\": [args.model],\n",
    "    \"input_information\": dataset,\n",
    "    \"verbosity\": False,\n",
    "}\n",
    "\n",
    "# run the contrastive knowledge assessment function\n",
    "# logs saved at './content/logging/'\n",
    "score_dicts, log_fpath = compare_models(\n",
    "    config[\"models\"], config[\"input_information\"], config[\"verbosity\"]\n",
    ")\n",
    "\n",
    "# print the summary results\n",
    "print(f\"\\nScore dict summary:\\n{score_dicts[1]}\")"
   ]
  },
  {
   "cell_type": "code",
   "execution_count": null,
   "metadata": {
    "id": "NJtfHqlG7kJr"
   },
   "outputs": [],
   "source": [
    "# save result logs to drive\n",
    "\n",
    "log = glob.glob(f\"/content/Capstone/src/fact_completion_scripts/{log_fpath}\")[0]\n",
    "log_name = args.language + \"-\" + log.split(\"/\")[-1]\n",
    "log_new_path = os.path.join(DRIVE_FOLDER_OUT, log_name)\n",
    "!cp {log} '{log_new_path}'"
   ]
  },
  {
   "cell_type": "code",
   "execution_count": null,
   "metadata": {},
   "outputs": [],
   "source": []
  }
 ],
 "metadata": {
  "accelerator": "GPU",
  "colab": {
   "machine_shape": "hm",
   "provenance": []
  },
  "gpuClass": "standard",
  "interpreter": {
   "hash": "53aa1d185f0c4d464253b7bca5e55e34e60de52cf1459f322cf3aa8af1e32b33"
  },
  "kernelspec": {
   "display_name": "Python 3.8.8 64-bit ('.venv_capstone': venv)",
   "name": "python3"
  },
  "language_info": {
   "codemirror_mode": {
    "name": "ipython",
    "version": 3
   },
   "file_extension": ".py",
   "mimetype": "text/x-python",
   "name": "python",
   "nbconvert_exporter": "python",
   "pygments_lexer": "ipython3",
   "version": "3.8.8"
  }
 },
 "nbformat": 4,
 "nbformat_minor": 0
}
