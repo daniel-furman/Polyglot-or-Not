{
 "cells": [
  {
   "cell_type": "code",
   "execution_count": null,
   "id": "761ffb4e",
   "metadata": {},
   "outputs": [],
   "source": [
    "import pandas as pd"
   ]
  },
  {
   "cell_type": "code",
   "execution_count": null,
   "id": "91693c7e",
   "metadata": {},
   "outputs": [],
   "source": [
    "# return model specific errors as a df, and the full dataset df\n",
    "def get_dfs(error_file_path, full_input_df_path):\n",
    "    \n",
    "    return pd.read_csv(error_file_path, index_col=[0]), pd.read_csv(full_input_df_path)"
   ]
  },
  {
   "cell_type": "code",
   "execution_count": null,
   "id": "a85d4b34",
   "metadata": {},
   "outputs": [],
   "source": [
    "# change to the path of the error sheet\n",
    "error_df, full_df = get_dfs('~/Downloads/flan-t5-xl.csv',\n",
    "                            '../data/ingestion_tmp_data/fact_checking_full_input_information_3_20_23.csv')"
   ]
  },
  {
   "cell_type": "code",
   "execution_count": null,
   "id": "fc57d674",
   "metadata": {},
   "outputs": [],
   "source": [
    "full_df.head()"
   ]
  },
  {
   "cell_type": "code",
   "execution_count": null,
   "id": "6b030d57",
   "metadata": {},
   "outputs": [],
   "source": [
    "error_df.head()"
   ]
  },
  {
   "cell_type": "code",
   "execution_count": null,
   "id": "7be6e3a3",
   "metadata": {},
   "outputs": [],
   "source": [
    "def get_model_stem(model_fact):\n",
    "    extra_id_start_index = model_fact.index(' <extra_')\n",
    "    assert(extra_id_start_index != -1)\n",
    "    return model_fact[:extra_id_start_index]"
   ]
  },
  {
   "cell_type": "code",
   "execution_count": null,
   "id": "d87a984c",
   "metadata": {},
   "outputs": [],
   "source": [
    "def get_dataset_id(model_fact, df_stems, full_df):\n",
    "    model_stem = get_model_stem(model_fact).strip()\n",
    "    # print(f\"model fact - {model_fact}\")\n",
    "    # print(f\"model stem - {model_stem}\")\n",
    "    for s in df_stems:\n",
    "        if model_stem == s:\n",
    "            return list(full_df[full_df['stem'] == s].dataset_id)[0]\n",
    "    # fail case for stuff we've already gotten rid of during the dedupe/paraphrase-dropping process\n",
    "    # print(f\"Could not find original in dataset for {model_fact} -- that's ok!\")\n",
    "    return -1"
   ]
  },
  {
   "cell_type": "code",
   "execution_count": null,
   "id": "e116eb7d",
   "metadata": {},
   "outputs": [],
   "source": [
    "wrong_facts = []\n",
    "wrong_ids = []\n",
    "model = []\n",
    "# change to whatever you're using\n",
    "model_name = \"t5-xl\"\n",
    "# optional to append a 'todo' automatically\n",
    "resolution = []\n",
    "for model_fact in list(error_df['facts']):\n",
    "    original_dataset_id = get_dataset_id(model_fact, list(full_df['stem']), full_df)\n",
    "    \n",
    "    if original_dataset_id == -1:\n",
    "        continue\n",
    "        \n",
    "    row = full_df[full_df['dataset_id'] == original_dataset_id]\n",
    "    wrong_facts.append(list(row['stem'])[0] + \" \" + list(row['false'])[0] + \" \" + list(row['true'])[0])\n",
    "    wrong_ids.append(original_dataset_id)\n",
    "    model.append(model_name)\n",
    "    resolution.append(\"todo\")"
   ]
  },
  {
   "cell_type": "code",
   "execution_count": null,
   "id": "5d38590e",
   "metadata": {},
   "outputs": [],
   "source": [
    "error_df_subset = pd.DataFrame({'model': model, 'dataset_id': wrong_ids, 'resolution': resolution, 'wrong_fact_with_true_false': wrong_facts})"
   ]
  },
  {
   "cell_type": "code",
   "execution_count": null,
   "id": "488f1637",
   "metadata": {},
   "outputs": [],
   "source": [
    "error_df_subset.head()"
   ]
  },
  {
   "cell_type": "code",
   "execution_count": null,
   "id": "94dcc972",
   "metadata": {},
   "outputs": [],
   "source": [
    "# optional to put this file wherever on your local\n",
    "error_df_subset.to_csv('~/Downloads/t5_errors.csv', index=False)"
   ]
  }
 ],
 "metadata": {
  "kernelspec": {
   "display_name": "Python [conda env:anlp] *",
   "language": "python",
   "name": "conda-env-anlp-py"
  },
  "language_info": {
   "codemirror_mode": {
    "name": "ipython",
    "version": 3
   },
   "file_extension": ".py",
   "mimetype": "text/x-python",
   "name": "python",
   "nbconvert_exporter": "python",
   "pygments_lexer": "ipython3",
   "version": "3.8.8"
  }
 },
 "nbformat": 4,
 "nbformat_minor": 5
}
