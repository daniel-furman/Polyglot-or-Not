{
 "cells": [
  {
   "cell_type": "code",
   "execution_count": null,
   "id": "c9e6f8a8",
   "metadata": {},
   "outputs": [],
   "source": [
    "!python -V"
   ]
  },
  {
   "cell_type": "code",
   "execution_count": null,
   "id": "2cd52350",
   "metadata": {},
   "outputs": [],
   "source": [
    "!git clone https://github.com/daniel-furman/Capstone.git"
   ]
  },
  {
   "cell_type": "code",
   "execution_count": null,
   "id": "2aab7c22",
   "metadata": {},
   "outputs": [],
   "source": [
    "!pip install -r Capstone/requirements_llama.txt"
   ]
  },
  {
   "cell_type": "code",
   "execution_count": null,
   "id": "de76b765",
   "metadata": {},
   "outputs": [],
   "source": [
    "!git clone https://github.com/daniel-furman/transformers_llama.git"
   ]
  },
  {
   "cell_type": "code",
   "execution_count": null,
   "id": "2cd71071",
   "metadata": {},
   "outputs": [],
   "source": [
    "!gsutil cp -r gs://calibragpt/llama llama"
   ]
  },
  {
   "cell_type": "code",
   "execution_count": null,
   "id": "d3c55c58",
   "metadata": {},
   "outputs": [],
   "source": [
    "!mkdir llama"
   ]
  },
  {
   "cell_type": "code",
   "execution_count": null,
   "metadata": {},
   "outputs": [],
   "source": [
    "!python transformers_llama/src/transformers/models/llama/convert_llama_weights_to_hf.py \\\n",
    "    --input_dir 'llama/llama' \\\n",
    "    --model_size 65B \\\n",
    "    --output_dir 'llama/llama/int8'"
   ]
  },
  {
   "cell_type": "code",
   "execution_count": null,
   "id": "34da864e",
   "metadata": {},
   "outputs": [],
   "source": [
    "!gsutil cp -r llama/llama/int8 gs://calibragpt/llama/int8"
   ]
  },
  {
   "cell_type": "code",
   "execution_count": null,
   "metadata": {},
   "outputs": [],
   "source": []
  }
 ],
 "metadata": {
  "kernelspec": {
   "display_name": "Python 3 (ipykernel)",
   "language": "python",
   "name": "python3"
  },
  "language_info": {
   "codemirror_mode": {
    "name": "ipython",
    "version": 3
   },
   "file_extension": ".py",
   "mimetype": "text/x-python",
   "name": "python",
   "nbconvert_exporter": "python",
   "pygments_lexer": "ipython3",
   "version": "3.10.9"
  }
 },
 "nbformat": 4,
 "nbformat_minor": 5
}
