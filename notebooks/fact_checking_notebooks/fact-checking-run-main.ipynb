{
  "cells": [
    {
      "cell_type": "markdown",
      "metadata": {
        "id": "Am_Ubq6xTaBz"
      },
      "source": [
        "# Fact Checking Run Benchmark Notebook\n",
        "This notebook enables experimentation with contrastive knowledge assessment. You can run models including `Flan-t5`, `Bert`, and `GPT2` (among many others, see [repo](https://github.com/daniel-furman/Capstone#model-families-tested)).\n",
        "The goal is to probe if factual statements are predicted at a higher probability than a given counterfactual.\n",
        "\n",
        "<a target=\"_blank\" href=\"https://colab.research.google.com/github/daniel-furman/Capstone/blob/main/notebooks/fact_checking_notebooks/fact-checking-run-main.ipynb\">\n",
        "  <img src=\"https://colab.research.google.com/assets/colab-badge.svg\" alt=\"Open In Colab\"/>\n",
        "</a>\n"
      ]
    },
    {
      "cell_type": "markdown",
      "metadata": {
        "id": "uccv2X7WeJGv"
      },
      "source": [
        "## Dependencies"
      ]
    },
    {
      "cell_type": "code",
      "execution_count": null,
      "metadata": {
        "colab": {
          "base_uri": "https://localhost:8080/"
        },
        "id": "A4gro-sOZz-O",
        "outputId": "800d6768-3de0-439e-a7fa-7d1eeaff54b9"
      },
      "outputs": [],
      "source": [
        "!git clone https://github.com/daniel-furman/Capstone.git\n",
        "!pip install -r /content/Capstone/requirements.txt"
      ]
    },
    {
      "cell_type": "markdown",
      "metadata": {
        "id": "3yjnEaRtKd8L"
      },
      "source": [
        "## Imports"
      ]
    },
    {
      "cell_type": "code",
      "execution_count": null,
      "metadata": {
        "id": "-a72Ac0RbMnb"
      },
      "outputs": [],
      "source": [
        "import os\n",
        "import glob\n",
        "import torch\n",
        "from argparse import Namespace\n",
        "from transformers import set_seed\n",
        "from datasets import load_dataset\n",
        "\n",
        "os.chdir('/content/Capstone/src/fact_checking_scripts')\n",
        "from compare_models import compare_models"
      ]
    },
    {
      "cell_type": "markdown",
      "metadata": {
        "id": "oPCmhNRjKPlu"
      },
      "source": [
        "## Setup"
      ]
    },
    {
      "cell_type": "code",
      "execution_count": null,
      "metadata": {
        "id": "YTqyOz9MKHQQ"
      },
      "outputs": [],
      "source": [
        "# args config for running the benchmark\n",
        "args = Namespace(\n",
        "    model='google/bert_uncased_L-2_H-128_A-2', \n",
        "    language='en',\n",
        ") \n",
        "\n",
        "args"
      ]
    },
    {
      "cell_type": "code",
      "execution_count": null,
      "metadata": {
        "id": "enPdtlx-aH3k"
      },
      "outputs": [],
      "source": [
        "# ensure GPU access\n",
        "if not torch.cuda.is_available():\n",
        "    raise Exception(\"Change runtime type to include a GPU.\")"
      ]
    },
    {
      "cell_type": "code",
      "execution_count": null,
      "metadata": {
        "id": "aGUAvaJbJ-1n"
      },
      "outputs": [],
      "source": [
        "# set warning level\n",
        "os.environ['TF_CPP_MIN_LOG_LEVEL'] = '2' "
      ]
    },
    {
      "cell_type": "markdown",
      "metadata": {
        "id": "biZ8sWXcKRsG"
      },
      "source": [
        "## Run"
      ]
    },
    {
      "cell_type": "code",
      "execution_count": null,
      "metadata": {
        "id": "70WlwWC7Gl9m"
      },
      "outputs": [],
      "source": [
        "# run the fact checking benchmark\n",
        "print(\"Running the fact_checking benchmark...\")\n",
        "\n",
        "set_seed(42)\n",
        "\n",
        "# load in the dataset corresponding to the input language\n",
        "if (args.language.lower() == \"english\") or (args.language.lower() == \"en\"):\n",
        "    dataset = load_dataset(\"CalibraGPT/Fact_Checking\", split=\"English\")\n",
        "else:\n",
        "    raise Exception(\"Language not supported.\")\n",
        "\n",
        "# check the input model is compatible\n",
        "compatible_model_prefixes = [\n",
        "    \"flan\",\n",
        "    \"t5\",\n",
        "    \"pythia\",\n",
        "    \"gpt\",\n",
        "    \"opt\",\n",
        "    \"llama\",\n",
        "    \"roberta\",\n",
        "    \"bert\",\n",
        "    \"bloom\",\n",
        "]\n",
        "\n",
        "model_supported = False\n",
        "for model_prefix in compatible_model_prefixes:\n",
        "    if model_prefix in args.model.lower():\n",
        "        model_supported = True\n",
        "\n",
        "if not model_supported:\n",
        "    raise Exception(\"Model not supported.\")\n",
        "\n",
        "# create a config for running the pipeline\n",
        "config = {\n",
        "    \"models\": [args.model],\n",
        "    \"input_information\": dataset,\n",
        "    \"verbosity\": False,\n",
        "}\n",
        "\n",
        "# run the contrastive knowledge assessment function\n",
        "# logs saved at './content/logging/'\n",
        "score_dicts = compare_models(\n",
        "    config[\"models\"], config[\"input_information\"], config[\"verbosity\"]\n",
        ")\n",
        "\n",
        "# print the summary results\n",
        "print(f\"\\nScore dict summary:\\n{score_dicts[1]}\")"
      ]
    },
    {
      "cell_type": "code",
      "execution_count": null,
      "metadata": {},
      "outputs": [],
      "source": []
    }
  ],
  "metadata": {
    "accelerator": "GPU",
    "colab": {
      "machine_shape": "hm",
      "provenance": []
    },
    "gpuClass": "standard",
    "kernelspec": {
      "display_name": "Python 3",
      "name": "python3"
    },
    "language_info": {
      "name": "python"
    }
  },
  "nbformat": 4,
  "nbformat_minor": 0
}
