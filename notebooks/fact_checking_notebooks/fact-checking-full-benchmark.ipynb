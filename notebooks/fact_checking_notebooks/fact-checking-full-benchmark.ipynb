{
 "cells": [
  {
   "cell_type": "markdown",
   "metadata": {
    "id": "Am_Ubq6xTaBz"
   },
   "source": [
    "# Run Fact Checking Benchmark\n",
    "This notebook contains the code to run the CalibraGPT fact checking benchmark. Fact checking is accomplished by probing whether factual statements are predicted at a higher probability compared to paired counterfactual statements. We will be using the [CalibraGPT/Fact_Checking](https://huggingface.co/datasets/CalibraGPT/Fact_Checking) dataset. See the Repo's [README](https://github.com/daniel-furman/Capstone#model-families-tested) for compatible models and more information.\n",
    "\n",
    "<a target=\"_blank\" href=\"https://colab.research.google.com/github/daniel-furman/Capstone/blob/main/notebooks/fact_checking_notebooks/fact-checking-run-main.ipynb\">\n",
    "  <img src=\"https://colab.research.google.com/assets/colab-badge.svg\" alt=\"Open In Colab\"/>\n",
    "</a>\n"
   ]
  },
  {
   "cell_type": "markdown",
   "metadata": {
    "id": "uccv2X7WeJGv"
   },
   "source": [
    "## Dependencies"
   ]
  },
  {
   "cell_type": "code",
   "execution_count": null,
   "metadata": {
    "colab": {
     "base_uri": "https://localhost:8080/"
    },
    "id": "A4gro-sOZz-O",
    "outputId": "682b4775-a1a1-4055-8b12-e12af68f6d7f"
   },
   "outputs": [],
   "source": [
    "!git clone https://github.com/daniel-furman/Capstone.git\n",
    "!pip install -r /content/Capstone/requirements.txt\n",
    "#!pip install -r /content/Capstone/requirements_llama.txt"
   ]
  },
  {
   "cell_type": "markdown",
   "metadata": {
    "id": "3yjnEaRtKd8L"
   },
   "source": [
    "## Imports"
   ]
  },
  {
   "cell_type": "code",
   "execution_count": null,
   "metadata": {
    "id": "-a72Ac0RbMnb"
   },
   "outputs": [],
   "source": [
    "import os\n",
    "import glob\n",
    "import torch\n",
    "from argparse import Namespace\n",
    "from transformers import set_seed\n",
    "from datasets import load_dataset\n",
    "\n",
    "os.chdir(\"/content/Capstone/src/fact_checking_scripts\")\n",
    "from compare_models import compare_models"
   ]
  },
  {
   "cell_type": "markdown",
   "metadata": {
    "id": "Gqw4gExYvhHK"
   },
   "source": [
    "## Configure Args"
   ]
  },
  {
   "cell_type": "code",
   "execution_count": null,
   "metadata": {
    "colab": {
     "base_uri": "https://localhost:8080/"
    },
    "id": "lCHXtnnfvjGm",
    "outputId": "b166cd0b-40f6-45c6-e27e-6aa07eacc075"
   },
   "outputs": [],
   "source": [
    "# args config for running the benchmark\n",
    "args = Namespace(\n",
    "    model=\"/content/drive/MyDrive/Colab Files/llama/LLaMA/int8/llama-13b\",\n",
    "    language=\"de\",\n",
    ")\n",
    "\n",
    "args"
   ]
  },
  {
   "cell_type": "markdown",
   "metadata": {
    "id": "oPCmhNRjKPlu"
   },
   "source": [
    "## Setup"
   ]
  },
  {
   "cell_type": "code",
   "execution_count": null,
   "metadata": {
    "id": "enPdtlx-aH3k"
   },
   "outputs": [],
   "source": [
    "# ensure GPU access\n",
    "if not torch.cuda.is_available():\n",
    "    raise Exception(\"Change runtime type to include a GPU.\")"
   ]
  },
  {
   "cell_type": "code",
   "execution_count": null,
   "metadata": {
    "id": "aGUAvaJbJ-1n"
   },
   "outputs": [],
   "source": [
    "# set warning level\n",
    "os.environ[\"TF_CPP_MIN_LOG_LEVEL\"] = \"2\""
   ]
  },
  {
   "cell_type": "markdown",
   "metadata": {
    "id": "biZ8sWXcKRsG"
   },
   "source": [
    "## Run"
   ]
  },
  {
   "cell_type": "code",
   "execution_count": null,
   "metadata": {
    "colab": {
     "base_uri": "https://localhost:8080/",
     "height": 355,
     "referenced_widgets": [
      "dd532978bff247d8b88395dece2ce262",
      "8812aa9ffe5540b286e801870c081eed",
      "0780f6957d7c4d1380d19aec66ce1428",
      "5041488dd8e14e6b809640fc54f30778",
      "031e8aac06284ee9af79c80b70318612",
      "1ff57683ad934796865aa6bda280c536",
      "b366f03af87441b7b6bb4b0ded6856bd",
      "823682c8805e4f66b25d7913f21af93b",
      "a43898ffebc04b3daa3f337430ee46fc",
      "25ad6aa3bd5a40a8a556562dd9e83408",
      "fffbd0756d2c4cc8a213b10e12905b16"
     ]
    },
    "id": "70WlwWC7Gl9m",
    "outputId": "8a2b00db-1967-4ea9-9ce5-be889db4377b"
   },
   "outputs": [],
   "source": [
    "# run the fact checking benchmark\n",
    "print(\"Running the fact_checking benchmark...\")\n",
    "\n",
    "set_seed(42)\n",
    "\n",
    "# change the below to work on a list of (\"english\", \"en\") pairs\n",
    "# load in the dataset corresponding to the input language\n",
    "supported_languages = [\n",
    "    (\"english\", \"en\"),\n",
    "    (\"french\", \"fr\"),\n",
    "    (\"spanish\", \"es\"),\n",
    "    (\"chinese\", \"zh\"),\n",
    "    (\"japanese\", \"ja\"),\n",
    "    (\"german\", \"de\"),\n",
    "]\n",
    "\n",
    "dataset_bool = False\n",
    "for lang_arr in supported_languages:\n",
    "    if (args.language.lower() == lang_arr[0]) or (args.language.lower() == lang_arr[1]):\n",
    "        dataset = load_dataset(\n",
    "            \"CalibraGPT/Fact_Checking\", split=lang_arr[0].capitalize()\n",
    "        )\n",
    "        dataset_bool = True\n",
    "\n",
    "if not dataset_bool:\n",
    "    raise Exception(\"Language not supported.\")\n",
    "\n",
    "# check the input model is compatible\n",
    "compatible_model_prefixes = [\n",
    "    \"flan\",\n",
    "    \"t5\",\n",
    "    \"pythia\",\n",
    "    \"gpt\",\n",
    "    \"opt\",\n",
    "    \"llama\",\n",
    "    \"roberta\",\n",
    "    \"bert\",\n",
    "    \"bloom\",\n",
    "]\n",
    "\n",
    "model_supported = False\n",
    "for model_prefix in compatible_model_prefixes:\n",
    "    if model_prefix in args.model.lower():\n",
    "        model_supported = True\n",
    "\n",
    "if not model_supported:\n",
    "    raise Exception(\"Model not supported.\")\n",
    "\n",
    "# create a config for running the pipeline\n",
    "config = {\n",
    "    \"models\": [args.model],\n",
    "    \"input_information\": dataset,\n",
    "    \"verbosity\": False,\n",
    "}\n",
    "\n",
    "# run the contrastive knowledge assessment function\n",
    "# logs saved at './content/logging/'\n",
    "score_dicts = compare_models(\n",
    "    config[\"models\"], config[\"input_information\"], config[\"verbosity\"]\n",
    ")\n",
    "\n",
    "# print the summary results\n",
    "print(f\"\\nScore dict summary:\\n{score_dicts[1]}\")"
   ]
  },
  {
   "cell_type": "code",
   "execution_count": null,
   "metadata": {
    "id": "NJtfHqlG7kJr"
   },
   "outputs": [],
   "source": []
  }
 ],
 "metadata": {
  "accelerator": "GPU",
  "colab": {
   "machine_shape": "hm",
   "provenance": []
  },
  "gpuClass": "standard",
  "kernelspec": {
   "display_name": "Python 3",
   "name": "python3"
  },
  "language_info": {
   "name": "python"
  },
  "widgets": {
   "application/vnd.jupyter.widget-state+json": {
    "031e8aac06284ee9af79c80b70318612": {
     "model_module": "@jupyter-widgets/base",
     "model_module_version": "1.2.0",
     "model_name": "LayoutModel",
     "state": {
      "_model_module": "@jupyter-widgets/base",
      "_model_module_version": "1.2.0",
      "_model_name": "LayoutModel",
      "_view_count": null,
      "_view_module": "@jupyter-widgets/base",
      "_view_module_version": "1.2.0",
      "_view_name": "LayoutView",
      "align_content": null,
      "align_items": null,
      "align_self": null,
      "border": null,
      "bottom": null,
      "display": null,
      "flex": null,
      "flex_flow": null,
      "grid_area": null,
      "grid_auto_columns": null,
      "grid_auto_flow": null,
      "grid_auto_rows": null,
      "grid_column": null,
      "grid_gap": null,
      "grid_row": null,
      "grid_template_areas": null,
      "grid_template_columns": null,
      "grid_template_rows": null,
      "height": null,
      "justify_content": null,
      "justify_items": null,
      "left": null,
      "margin": null,
      "max_height": null,
      "max_width": null,
      "min_height": null,
      "min_width": null,
      "object_fit": null,
      "object_position": null,
      "order": null,
      "overflow": null,
      "overflow_x": null,
      "overflow_y": null,
      "padding": null,
      "right": null,
      "top": null,
      "visibility": null,
      "width": null
     }
    },
    "0780f6957d7c4d1380d19aec66ce1428": {
     "model_module": "@jupyter-widgets/controls",
     "model_module_version": "1.5.0",
     "model_name": "FloatProgressModel",
     "state": {
      "_dom_classes": [],
      "_model_module": "@jupyter-widgets/controls",
      "_model_module_version": "1.5.0",
      "_model_name": "FloatProgressModel",
      "_view_count": null,
      "_view_module": "@jupyter-widgets/controls",
      "_view_module_version": "1.5.0",
      "_view_name": "ProgressView",
      "bar_style": "success",
      "description": "",
      "description_tooltip": null,
      "layout": "IPY_MODEL_823682c8805e4f66b25d7913f21af93b",
      "max": 41,
      "min": 0,
      "orientation": "horizontal",
      "style": "IPY_MODEL_a43898ffebc04b3daa3f337430ee46fc",
      "value": 41
     }
    },
    "1ff57683ad934796865aa6bda280c536": {
     "model_module": "@jupyter-widgets/base",
     "model_module_version": "1.2.0",
     "model_name": "LayoutModel",
     "state": {
      "_model_module": "@jupyter-widgets/base",
      "_model_module_version": "1.2.0",
      "_model_name": "LayoutModel",
      "_view_count": null,
      "_view_module": "@jupyter-widgets/base",
      "_view_module_version": "1.2.0",
      "_view_name": "LayoutView",
      "align_content": null,
      "align_items": null,
      "align_self": null,
      "border": null,
      "bottom": null,
      "display": null,
      "flex": null,
      "flex_flow": null,
      "grid_area": null,
      "grid_auto_columns": null,
      "grid_auto_flow": null,
      "grid_auto_rows": null,
      "grid_column": null,
      "grid_gap": null,
      "grid_row": null,
      "grid_template_areas": null,
      "grid_template_columns": null,
      "grid_template_rows": null,
      "height": null,
      "justify_content": null,
      "justify_items": null,
      "left": null,
      "margin": null,
      "max_height": null,
      "max_width": null,
      "min_height": null,
      "min_width": null,
      "object_fit": null,
      "object_position": null,
      "order": null,
      "overflow": null,
      "overflow_x": null,
      "overflow_y": null,
      "padding": null,
      "right": null,
      "top": null,
      "visibility": null,
      "width": null
     }
    },
    "25ad6aa3bd5a40a8a556562dd9e83408": {
     "model_module": "@jupyter-widgets/base",
     "model_module_version": "1.2.0",
     "model_name": "LayoutModel",
     "state": {
      "_model_module": "@jupyter-widgets/base",
      "_model_module_version": "1.2.0",
      "_model_name": "LayoutModel",
      "_view_count": null,
      "_view_module": "@jupyter-widgets/base",
      "_view_module_version": "1.2.0",
      "_view_name": "LayoutView",
      "align_content": null,
      "align_items": null,
      "align_self": null,
      "border": null,
      "bottom": null,
      "display": null,
      "flex": null,
      "flex_flow": null,
      "grid_area": null,
      "grid_auto_columns": null,
      "grid_auto_flow": null,
      "grid_auto_rows": null,
      "grid_column": null,
      "grid_gap": null,
      "grid_row": null,
      "grid_template_areas": null,
      "grid_template_columns": null,
      "grid_template_rows": null,
      "height": null,
      "justify_content": null,
      "justify_items": null,
      "left": null,
      "margin": null,
      "max_height": null,
      "max_width": null,
      "min_height": null,
      "min_width": null,
      "object_fit": null,
      "object_position": null,
      "order": null,
      "overflow": null,
      "overflow_x": null,
      "overflow_y": null,
      "padding": null,
      "right": null,
      "top": null,
      "visibility": null,
      "width": null
     }
    },
    "5041488dd8e14e6b809640fc54f30778": {
     "model_module": "@jupyter-widgets/controls",
     "model_module_version": "1.5.0",
     "model_name": "HTMLModel",
     "state": {
      "_dom_classes": [],
      "_model_module": "@jupyter-widgets/controls",
      "_model_module_version": "1.5.0",
      "_model_name": "HTMLModel",
      "_view_count": null,
      "_view_module": "@jupyter-widgets/controls",
      "_view_module_version": "1.5.0",
      "_view_name": "HTMLView",
      "description": "",
      "description_tooltip": null,
      "layout": "IPY_MODEL_25ad6aa3bd5a40a8a556562dd9e83408",
      "placeholder": "​",
      "style": "IPY_MODEL_fffbd0756d2c4cc8a213b10e12905b16",
      "value": " 41/41 [04:26&lt;00:00,  6.52s/it]"
     }
    },
    "823682c8805e4f66b25d7913f21af93b": {
     "model_module": "@jupyter-widgets/base",
     "model_module_version": "1.2.0",
     "model_name": "LayoutModel",
     "state": {
      "_model_module": "@jupyter-widgets/base",
      "_model_module_version": "1.2.0",
      "_model_name": "LayoutModel",
      "_view_count": null,
      "_view_module": "@jupyter-widgets/base",
      "_view_module_version": "1.2.0",
      "_view_name": "LayoutView",
      "align_content": null,
      "align_items": null,
      "align_self": null,
      "border": null,
      "bottom": null,
      "display": null,
      "flex": null,
      "flex_flow": null,
      "grid_area": null,
      "grid_auto_columns": null,
      "grid_auto_flow": null,
      "grid_auto_rows": null,
      "grid_column": null,
      "grid_gap": null,
      "grid_row": null,
      "grid_template_areas": null,
      "grid_template_columns": null,
      "grid_template_rows": null,
      "height": null,
      "justify_content": null,
      "justify_items": null,
      "left": null,
      "margin": null,
      "max_height": null,
      "max_width": null,
      "min_height": null,
      "min_width": null,
      "object_fit": null,
      "object_position": null,
      "order": null,
      "overflow": null,
      "overflow_x": null,
      "overflow_y": null,
      "padding": null,
      "right": null,
      "top": null,
      "visibility": null,
      "width": null
     }
    },
    "8812aa9ffe5540b286e801870c081eed": {
     "model_module": "@jupyter-widgets/controls",
     "model_module_version": "1.5.0",
     "model_name": "HTMLModel",
     "state": {
      "_dom_classes": [],
      "_model_module": "@jupyter-widgets/controls",
      "_model_module_version": "1.5.0",
      "_model_name": "HTMLModel",
      "_view_count": null,
      "_view_module": "@jupyter-widgets/controls",
      "_view_module_version": "1.5.0",
      "_view_name": "HTMLView",
      "description": "",
      "description_tooltip": null,
      "layout": "IPY_MODEL_1ff57683ad934796865aa6bda280c536",
      "placeholder": "​",
      "style": "IPY_MODEL_b366f03af87441b7b6bb4b0ded6856bd",
      "value": "Loading checkpoint shards: 100%"
     }
    },
    "a43898ffebc04b3daa3f337430ee46fc": {
     "model_module": "@jupyter-widgets/controls",
     "model_module_version": "1.5.0",
     "model_name": "ProgressStyleModel",
     "state": {
      "_model_module": "@jupyter-widgets/controls",
      "_model_module_version": "1.5.0",
      "_model_name": "ProgressStyleModel",
      "_view_count": null,
      "_view_module": "@jupyter-widgets/base",
      "_view_module_version": "1.2.0",
      "_view_name": "StyleView",
      "bar_color": null,
      "description_width": ""
     }
    },
    "b366f03af87441b7b6bb4b0ded6856bd": {
     "model_module": "@jupyter-widgets/controls",
     "model_module_version": "1.5.0",
     "model_name": "DescriptionStyleModel",
     "state": {
      "_model_module": "@jupyter-widgets/controls",
      "_model_module_version": "1.5.0",
      "_model_name": "DescriptionStyleModel",
      "_view_count": null,
      "_view_module": "@jupyter-widgets/base",
      "_view_module_version": "1.2.0",
      "_view_name": "StyleView",
      "description_width": ""
     }
    },
    "dd532978bff247d8b88395dece2ce262": {
     "model_module": "@jupyter-widgets/controls",
     "model_module_version": "1.5.0",
     "model_name": "HBoxModel",
     "state": {
      "_dom_classes": [],
      "_model_module": "@jupyter-widgets/controls",
      "_model_module_version": "1.5.0",
      "_model_name": "HBoxModel",
      "_view_count": null,
      "_view_module": "@jupyter-widgets/controls",
      "_view_module_version": "1.5.0",
      "_view_name": "HBoxView",
      "box_style": "",
      "children": [
       "IPY_MODEL_8812aa9ffe5540b286e801870c081eed",
       "IPY_MODEL_0780f6957d7c4d1380d19aec66ce1428",
       "IPY_MODEL_5041488dd8e14e6b809640fc54f30778"
      ],
      "layout": "IPY_MODEL_031e8aac06284ee9af79c80b70318612"
     }
    },
    "fffbd0756d2c4cc8a213b10e12905b16": {
     "model_module": "@jupyter-widgets/controls",
     "model_module_version": "1.5.0",
     "model_name": "DescriptionStyleModel",
     "state": {
      "_model_module": "@jupyter-widgets/controls",
      "_model_module_version": "1.5.0",
      "_model_name": "DescriptionStyleModel",
      "_view_count": null,
      "_view_module": "@jupyter-widgets/base",
      "_view_module_version": "1.2.0",
      "_view_name": "StyleView",
      "description_width": ""
     }
    }
   }
  }
 },
 "nbformat": 4,
 "nbformat_minor": 0
}
