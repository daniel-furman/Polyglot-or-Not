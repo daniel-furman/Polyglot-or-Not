{
  "cells": [
    {
      "cell_type": "markdown",
      "metadata": {
        "id": "Am_Ubq6xTaBz"
      },
      "source": [
        "# Fact Checking Notebook Demo\n",
        "This notebook enables experimentation with contrastive knowledge assessment. You can run models including `Flan-t5`, `Bert`, and `GPT2` (among many others, see [repo](https://github.com/daniel-furman/Capstone#model-families-tested)).\n",
        "The goal is to probe if factual statements are predicted at a higher probability than a given counterfactual.\n",
        "\n",
        "<a target=\"_blank\" href=\"https://colab.research.google.com/github/daniel-furman/Capstone/blob/main/notebooks/fact_checking_notebooks/fact-checking-demo.ipynb\">\n",
        "  <img src=\"https://colab.research.google.com/assets/colab-badge.svg\" alt=\"Open In Colab\"/>\n",
        "</a>\n"
      ]
    },
    {
      "cell_type": "markdown",
      "metadata": {
        "id": "uccv2X7WeJGv"
      },
      "source": [
        "## Dependencies"
      ]
    },
    {
      "cell_type": "code",
      "execution_count": null,
      "metadata": {
        "colab": {
          "base_uri": "https://localhost:8080/"
        },
        "id": "A4gro-sOZz-O",
        "outputId": "3e41f905-477b-4c4f-f841-cb01494d4906"
      },
      "outputs": [],
      "source": [
        "!git clone https://github.com/daniel-furman/Capstone.git\n",
        "!pip install -r /content/Capstone/requirements.txt"
      ]
    },
    {
      "cell_type": "markdown",
      "metadata": {
        "id": "3yjnEaRtKd8L"
      },
      "source": [
        "## Imports"
      ]
    },
    {
      "cell_type": "code",
      "execution_count": null,
      "metadata": {
        "id": "-a72Ac0RbMnb"
      },
      "outputs": [],
      "source": [
        "import os\n",
        "import torch\n",
        "import json\n",
        "from datasets import load_dataset"
      ]
    },
    {
      "cell_type": "code",
      "execution_count": null,
      "metadata": {
        "id": "enPdtlx-aH3k"
      },
      "outputs": [],
      "source": [
        "if not torch.cuda.is_available():\n",
        "    raise Exception(\"Change runtime type to include a GPU.\")"
      ]
    },
    {
      "cell_type": "code",
      "execution_count": null,
      "metadata": {
        "id": "0jQTcgbNk-iA"
      },
      "outputs": [],
      "source": [
        "os.chdir('/content/Capstone/src/fact_checking_scripts')\n",
        "os.environ['TF_CPP_MIN_LOG_LEVEL'] = '2' "
      ]
    },
    {
      "cell_type": "markdown",
      "metadata": {
        "id": "8WXwAZfHMgAY"
      },
      "source": [
        "## Notebook usage"
      ]
    },
    {
      "cell_type": "code",
      "execution_count": null,
      "metadata": {
        "id": "GVCMUZJXV0mq"
      },
      "outputs": [],
      "source": [
        "# import the main wrapper function for running cka\n",
        "\n",
        "from run_from_config import main\n",
        "config = {}"
      ]
    },
    {
      "cell_type": "markdown",
      "metadata": {
        "id": "PFy4ijAPc_mS"
      },
      "source": [
        "Here, you can specify a causal, masked, or text2text large language model in ```config[\"models\"]```. The `transformers` package is used to load the model into the session at mixed 8bit precision (`load_in_8_bit=True`). See [README](https://github.com/daniel-furman/Capstone#models-tested) for the full list of model families supported and HuggingFace for specific model tags.  \n",
        "\n",
        "Some example VRAM usages:\n",
        "* `google/flan-ul2` requires slightly more than 32GB VRAM\n",
        "* `EleutherAI/gpt-neox-20b` requires slightly more than 22GB VRAM\n",
        "* `EleutherAI/gpt-j-6B` requires slightly more than 7GB VRAM\n",
        "* `google/flan-t5-xl`requires slightly more than 5GB VRAM\n",
        "* `roberta-large` requires slightly less than 1GB VRAM\n",
        "\n"
      ]
    },
    {
      "cell_type": "code",
      "execution_count": null,
      "metadata": {
        "id": "a1VWc_WtEmjG"
      },
      "outputs": [],
      "source": [
        "config[\"models\"] = [\n",
        "    \"distilgpt2\",\n",
        "]"
      ]
    },
    {
      "cell_type": "markdown",
      "metadata": {
        "id": "MjsiQ1pZEhiN"
      },
      "source": [
        "Next, new facts can be input in ```config[\"input_information\"]```.\n",
        "  * For instance: to input \"Lebron James is famous for playing the sport of {true: basketball; false: football}\", see the last example. "
      ]
    },
    {
      "cell_type": "code",
      "execution_count": null,
      "metadata": {
        "id": "n9vWKLPS5SZW"
      },
      "outputs": [],
      "source": [
        "input_info = [\n",
        "\n",
        "            {\"stem\": \"The 2020 Olympics were held in\",\n",
        "            \"true\": \"Tokyo\",\n",
        "            \"false\": \"['London', 'Berlin', 'Chicago']\",},\n",
        "\n",
        "            {\"stem\": \"Operation Overlord took place in\",\n",
        "            \"true\": \"Normandy\",\n",
        "            \"false\": \"['Manila', 'Santiago', 'Baghdad']\",},\n",
        "\n",
        "            {\"stem\": \"Steve Jobs is the founder of\",\n",
        "            \"true\": \"Apple\",\n",
        "            \"false\": \"['Microsoft', 'Google', 'Facebook']\",},\n",
        "\n",
        "            {\"stem\": \"Lebron James is famous for playing the sport of\",\n",
        "            \"true\": \"basketball\",\n",
        "            \"false\": \"['football']\",},\n",
        "    ]\n",
        "\n",
        "with open('/content/input_info_json.json', 'w') as f:\n",
        "    f.write(json.dumps(input_info))"
      ]
    },
    {
      "cell_type": "code",
      "execution_count": null,
      "metadata": {
        "id": "0-LpVwXw5gHP"
      },
      "outputs": [],
      "source": [
        "config[\"input_information\"] = load_dataset(\"json\", \n",
        "                                           data_files=\"/content/input_info_json.json\"\n",
        "                                           )['train']"
      ]
    },
    {
      "cell_type": "markdown",
      "metadata": {
        "id": "uK_FgovPH5sC"
      },
      "source": [
        "Lastly, verbosity controls how much info is printed to the user."
      ]
    },
    {
      "cell_type": "code",
      "execution_count": null,
      "metadata": {
        "id": "8OZpK5VOFkvW"
      },
      "outputs": [],
      "source": [
        "config[\"verbosity\"] = True"
      ]
    },
    {
      "cell_type": "markdown",
      "metadata": {
        "id": "vpqXavxokObu"
      },
      "source": [
        "Now, we're ready to run the cka pipeline."
      ]
    },
    {
      "cell_type": "code",
      "execution_count": null,
      "metadata": {
        "id": "95AARPmwFk00"
      },
      "outputs": [],
      "source": [
        "score_dicts = main(config)"
      ]
    },
    {
      "cell_type": "code",
      "execution_count": null,
      "metadata": {
        "id": "slVvhNl7kTeA"
      },
      "outputs": [],
      "source": [
        "print(score_dicts[0])"
      ]
    },
    {
      "cell_type": "code",
      "execution_count": null,
      "metadata": {
        "id": "5-XSR3l40Ocu"
      },
      "outputs": [],
      "source": [
        "print(score_dicts[1])"
      ]
    },
    {
      "cell_type": "markdown",
      "metadata": {
        "id": "j6lqNVBmhW-g"
      },
      "source": [
        "## CLI for running the full fact-checking benchmark"
      ]
    },
    {
      "cell_type": "code",
      "execution_count": null,
      "metadata": {
        "id": "Hic1I2GZD5BF"
      },
      "outputs": [],
      "source": [
        "# full benchmark dataset\n",
        "\n",
        "#!python main.py --model gpt2-xl --language en"
      ]
    },
    {
      "cell_type": "code",
      "execution_count": null,
      "metadata": {
        "id": "5rzb-ULDqljH"
      },
      "outputs": [],
      "source": []
    }
  ],
  "metadata": {
    "accelerator": "GPU",
    "colab": {
      "machine_shape": "hm",
      "provenance": []
    },
    "gpuClass": "standard",
    "kernelspec": {
      "display_name": "Python 3",
      "name": "python3"
    },
    "language_info": {
      "name": "python"
    }
  },
  "nbformat": 4,
  "nbformat_minor": 0
}
