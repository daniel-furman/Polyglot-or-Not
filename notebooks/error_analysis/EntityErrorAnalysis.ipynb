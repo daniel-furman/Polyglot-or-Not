{
 "cells": [
  {
   "cell_type": "markdown",
   "id": "94f71ad4",
   "metadata": {},
   "source": [
    "## Imports"
   ]
  },
  {
   "cell_type": "code",
   "execution_count": 354,
   "id": "fcc63c4d",
   "metadata": {},
   "outputs": [],
   "source": [
    "import pandas as pd\n",
    "import glob\n",
    "import datasets\n",
    "import numpy as np\n",
    "import matplotlib.pyplot as plt"
   ]
  },
  {
   "cell_type": "markdown",
   "id": "fa36919e",
   "metadata": {},
   "source": [
    "## Load Data"
   ]
  },
  {
   "cell_type": "code",
   "execution_count": 280,
   "id": "9ede8e4f",
   "metadata": {},
   "outputs": [],
   "source": [
    "wiki_data = pd.read_csv(\"../../data/wikidata/wikidata-property-list.csv\")\n",
    "wiki_data = wiki_data[[\"Title\", \"ID\", \"Datatype\", \"Description\"]]"
   ]
  },
  {
   "cell_type": "code",
   "execution_count": 4,
   "id": "1e1d4cb5",
   "metadata": {},
   "outputs": [],
   "source": [
    "code_to_lang_dict = {\n",
    "    \"bg\": \"Bulgarian\",\n",
    "    \"ca\": \"Catalan\",\n",
    "    \"cs\": \"Czech\",\n",
    "    \"da\": \"Danish\",\n",
    "    \"de\": \"German\",\n",
    "    \"en\": \"English\",\n",
    "    \"es\": \"Spanish\",\n",
    "    \"fr\": \"French\",\n",
    "    \"hr\": \"Croatian\",\n",
    "    \"hu\": \"Hungarian\",\n",
    "    \"it\": \"Italian\",\n",
    "    \"nl\": \"Dutch\",\n",
    "    \"pl\": \"Polish\",\n",
    "    \"pt\": \"Portuguese\",\n",
    "    \"ro\": \"Romanian\",\n",
    "    \"ru\": \"Russian\",\n",
    "    \"sl\": \"Slovenian\",\n",
    "    \"sr\": \"Serbian\",\n",
    "    \"sv\": \"Swedish\",\n",
    "    \"uk\": \"Ukrainian\",\n",
    "}"
   ]
  },
  {
   "cell_type": "code",
   "execution_count": 5,
   "id": "89d61967",
   "metadata": {},
   "outputs": [],
   "source": [
    "lang_to_code_dict = {v: k for k, v in code_to_lang_dict.items()}"
   ]
  },
  {
   "cell_type": "code",
   "execution_count": 6,
   "id": "4216b098",
   "metadata": {},
   "outputs": [
    {
     "name": "stderr",
     "output_type": "stream",
     "text": [
      "Found cached dataset parquet (/Users/tim/.cache/huggingface/datasets/CalibraGPT___parquet/CalibraGPT--Fact-Completion-24a24a1e4bf6e4a8/0.0.0/2a3b91fbd88a2c90d1dbbb32b460cf621d31bd5b05b934492fdef7d8d6f236ec)\n"
     ]
    },
    {
     "data": {
      "application/vnd.jupyter.widget-view+json": {
       "model_id": "621957b392bb44c3901b5ccbcee77903",
       "version_major": 2,
       "version_minor": 0
      },
      "text/plain": [
       "  0%|          | 0/20 [00:00<?, ?it/s]"
      ]
     },
     "metadata": {},
     "output_type": "display_data"
    },
    {
     "name": "stdout",
     "output_type": "stream",
     "text": [
      "for Serbian we got 2170 wrong out of 5426\n",
      "for Ukrainian we got 2138 wrong out of 7918\n",
      "for Dutch we got 3309 wrong out of 22590\n",
      "for Swedish we got 3440 wrong out of 21576\n",
      "for Hungarian we got 1128 wrong out of 4650\n",
      "for Catalan we got 3021 wrong out of 18898\n",
      "for Polish we got 2137 wrong out of 9484\n",
      "for Russian we got 996 wrong out of 3289\n",
      "for Bulgarian we got 5658 wrong out of 20577\n",
      "for Slovenian we got 1890 wrong out of 7873\n",
      "for English we got 2782 wrong out of 26254\n",
      "for German we got 2323 wrong out of 16287\n",
      "for Portuguese we got 3719 wrong out of 22974\n",
      "for Czech we got 2080 wrong out of 9427\n",
      "for Spanish we got 3430 wrong out of 18786\n",
      "for Croatian we got 1715 wrong out of 7358\n",
      "for Danish we got 4255 wrong out of 23365\n",
      "for French we got 2910 wrong out of 18395\n",
      "for Italian we got 3192 wrong out of 20448\n",
      "for Romanian we got 3035 wrong out of 17568\n"
     ]
    }
   ],
   "source": [
    "results_dict = {}\n",
    "results_dict[\"language\"] = []\n",
    "results_dict[\"relation\"] = []\n",
    "results_dict[\"percentage change\"] = []\n",
    "results_dict[\"new ratio of rows\"] = []\n",
    "results_dict[\"old ratio of rows\"] = []\n",
    "\n",
    "hf_df = datasets.load_dataset(\"CalibraGPT/Fact-Completion\")\n",
    "file_names = glob.glob(\"../../data/result_logs/llama-30b/error-analysis/*.csv\")\n",
    "\n",
    "# confirm grabbing data correctly against LLaMa figure\n",
    "# uncomment print statement at end of for loop to see\n",
    "results_dfs = []\n",
    "count = 0\n",
    "for file in file_names:\n",
    "    language = file.split(\".csv\")[0].split(\"-\")[-1].capitalize()\n",
    "    error_df = pd.read_csv(file)\n",
    "    full_hf_df = hf_df[file.split(\".csv\")[0].split(\"-\")[-1].capitalize()]\n",
    "    full_hf_df = full_hf_df.to_pandas()\n",
    "    \n",
    "    # stem is in both\n",
    "    # dataset id is in both\n",
    "    # to see if the model got something wrong, see if the dataset id in the full df is in the error\n",
    "    error_ids = list(error_df[\"dataset_id\"])\n",
    "    correct = []\n",
    "    counts = []\n",
    "    relation_names = []\n",
    "    for row in full_hf_df.iterrows():\n",
    "        # track counts\n",
    "        count += 1\n",
    "        counts.append(count)\n",
    "        # track errors\n",
    "        correct.append(False) if row[1][\"dataset_id\"] in error_ids else correct.append(\n",
    "            True\n",
    "        )\n",
    "        # track relation titles\n",
    "        relation_id = int(row[1].relation[1:])\n",
    "        relation_title = list(wiki_data[wiki_data[\"ID\"] == relation_id][\"Title\"])[0]\n",
    "        relation_names.append(relation_title)\n",
    "\n",
    "    # append result to full df\n",
    "    full_hf_df[\"correct\"] = correct\n",
    "    # append language to full df\n",
    "    full_hf_df[\"language\"] = [language] * full_hf_df.shape[0]\n",
    "    # append language code to full df\n",
    "    lang_code = lang_to_code_dict[language]\n",
    "    full_hf_df[\"lang_code\"] = [lang_code] * full_hf_df.shape[0]\n",
    "    # append relation title to full df\n",
    "    full_hf_df[\"relation_title\"] = relation_names\n",
    "    # also append an arbitrary id to have unique val for each row\n",
    "    full_hf_df[\"analysis_id\"] = counts\n",
    "\n",
    "    results_dfs.append(full_hf_df)\n",
    "\n",
    "results_df = pd.concat(results_dfs)\n",
    "assert results_df.shape[0] == count"
   ]
  },
  {
   "cell_type": "markdown",
   "id": "bca0acfe",
   "metadata": {},
   "source": [
    "## Explore Data"
   ]
  },
  {
   "cell_type": "code",
   "execution_count": 7,
   "id": "c081fa82",
   "metadata": {},
   "outputs": [
    {
     "data": {
      "text/html": [
       "<div>\n",
       "<style scoped>\n",
       "    .dataframe tbody tr th:only-of-type {\n",
       "        vertical-align: middle;\n",
       "    }\n",
       "\n",
       "    .dataframe tbody tr th {\n",
       "        vertical-align: top;\n",
       "    }\n",
       "\n",
       "    .dataframe thead th {\n",
       "        text-align: right;\n",
       "    }\n",
       "</style>\n",
       "<table border=\"1\" class=\"dataframe\">\n",
       "  <thead>\n",
       "    <tr style=\"text-align: right;\">\n",
       "      <th></th>\n",
       "      <th>dataset_id</th>\n",
       "      <th>stem</th>\n",
       "      <th>true</th>\n",
       "      <th>false</th>\n",
       "      <th>relation</th>\n",
       "      <th>subject</th>\n",
       "      <th>object</th>\n",
       "      <th>correct</th>\n",
       "      <th>language</th>\n",
       "      <th>lang_code</th>\n",
       "      <th>relation_title</th>\n",
       "      <th>analysis_id</th>\n",
       "    </tr>\n",
       "  </thead>\n",
       "  <tbody>\n",
       "    <tr>\n",
       "      <th>0</th>\n",
       "      <td>calinet_8922</td>\n",
       "      <td>Приус производи</td>\n",
       "      <td>Тоиота</td>\n",
       "      <td>Хонда</td>\n",
       "      <td>P176</td>\n",
       "      <td>Приус</td>\n",
       "      <td>Тоиота</td>\n",
       "      <td>True</td>\n",
       "      <td>Serbian</td>\n",
       "      <td>sr</td>\n",
       "      <td>manufacturer</td>\n",
       "      <td>1</td>\n",
       "    </tr>\n",
       "    <tr>\n",
       "      <th>1</th>\n",
       "      <td>rome_5025</td>\n",
       "      <td>Сундар Пицхаи ради за</td>\n",
       "      <td>Гоогле</td>\n",
       "      <td>Аппле</td>\n",
       "      <td>P108</td>\n",
       "      <td>Сундар Пицхаи</td>\n",
       "      <td>Гоогле</td>\n",
       "      <td>False</td>\n",
       "      <td>Serbian</td>\n",
       "      <td>sr</td>\n",
       "      <td>employer</td>\n",
       "      <td>2</td>\n",
       "    </tr>\n",
       "    <tr>\n",
       "      <th>2</th>\n",
       "      <td>rome_21333</td>\n",
       "      <td>Главни град Народне Републике Кине,</td>\n",
       "      <td>Пекинг</td>\n",
       "      <td>Кабул</td>\n",
       "      <td>P36</td>\n",
       "      <td>Народна Република Кина</td>\n",
       "      <td>Пекинг</td>\n",
       "      <td>True</td>\n",
       "      <td>Serbian</td>\n",
       "      <td>sr</td>\n",
       "      <td>capital</td>\n",
       "      <td>3</td>\n",
       "    </tr>\n",
       "    <tr>\n",
       "      <th>3</th>\n",
       "      <td>rome_8738</td>\n",
       "      <td>У Синт Мартену разумеју</td>\n",
       "      <td>холандски</td>\n",
       "      <td>дански</td>\n",
       "      <td>P37</td>\n",
       "      <td>Синт Маартен</td>\n",
       "      <td>холандски</td>\n",
       "      <td>True</td>\n",
       "      <td>Serbian</td>\n",
       "      <td>sr</td>\n",
       "      <td>official language</td>\n",
       "      <td>4</td>\n",
       "    </tr>\n",
       "    <tr>\n",
       "      <th>4</th>\n",
       "      <td>rome_8783</td>\n",
       "      <td>Хаас Хоусе се налази у месту</td>\n",
       "      <td>Беч</td>\n",
       "      <td>Алберта</td>\n",
       "      <td>P131</td>\n",
       "      <td>Хаас Хоусе</td>\n",
       "      <td>Беч</td>\n",
       "      <td>True</td>\n",
       "      <td>Serbian</td>\n",
       "      <td>sr</td>\n",
       "      <td>is in the administrative territorial entity</td>\n",
       "      <td>5</td>\n",
       "    </tr>\n",
       "  </tbody>\n",
       "</table>\n",
       "</div>"
      ],
      "text/plain": [
       "     dataset_id                                 stem       true    false  \\\n",
       "0  calinet_8922                      Приус производи     Тоиота    Хонда   \n",
       "1     rome_5025                Сундар Пицхаи ради за     Гоогле    Аппле   \n",
       "2    rome_21333  Главни град Народне Републике Кине,     Пекинг    Кабул   \n",
       "3     rome_8738              У Синт Мартену разумеју  холандски   дански   \n",
       "4     rome_8783         Хаас Хоусе се налази у месту        Беч  Алберта   \n",
       "\n",
       "  relation                 subject     object  correct language lang_code  \\\n",
       "0     P176                   Приус     Тоиота     True  Serbian        sr   \n",
       "1     P108           Сундар Пицхаи     Гоогле    False  Serbian        sr   \n",
       "2      P36  Народна Република Кина     Пекинг     True  Serbian        sr   \n",
       "3      P37            Синт Маартен  холандски     True  Serbian        sr   \n",
       "4     P131              Хаас Хоусе        Беч     True  Serbian        sr   \n",
       "\n",
       "                                relation_title  analysis_id  \n",
       "0                                 manufacturer            1  \n",
       "1                                     employer            2  \n",
       "2                                      capital            3  \n",
       "3                            official language            4  \n",
       "4  is in the administrative territorial entity            5  "
      ]
     },
     "execution_count": 7,
     "metadata": {},
     "output_type": "execute_result"
    }
   ],
   "source": [
    "results_df.head()"
   ]
  },
  {
   "cell_type": "code",
   "execution_count": 286,
   "id": "37de4739",
   "metadata": {},
   "outputs": [
    {
     "data": {
      "text/plain": [
       "11.546545288337015"
      ]
     },
     "execution_count": 286,
     "metadata": {},
     "output_type": "execute_result"
    }
   ],
   "source": [
    "# average number of times a dataset_id gets shared across langs?\n",
    "# 11.5\n",
    "np.mean(results_df[\"dataset_id\"].value_counts())"
   ]
  },
  {
   "cell_type": "code",
   "execution_count": 290,
   "id": "f1317e56",
   "metadata": {},
   "outputs": [
    {
     "data": {
      "text/plain": [
       "<Axes: title={'center': 'Average Dataset ID usage'}, ylabel='Frequency'>"
      ]
     },
     "execution_count": 290,
     "metadata": {},
     "output_type": "execute_result"
    },
    {
     "data": {
      "image/png": "[encoded data removed]",
      "text/plain": [
       "<Figure size 432x288 with 1 Axes>"
      ]
     },
     "metadata": {
      "needs_background": "light"
     },
     "output_type": "display_data"
    }
   ],
   "source": [
    "# hist of our usage\n",
    "results_df[\"dataset_id\"].value_counts().plot(kind='hist', title='Average Dataset ID usage')"
   ]
  },
  {
   "cell_type": "markdown",
   "id": "16563b48",
   "metadata": {},
   "source": [
    "how many dataset_id's get used across all 20 langs?"
   ]
  },
  {
   "cell_type": "code",
   "execution_count": 10,
   "id": "f396f0a9",
   "metadata": {},
   "outputs": [
    {
     "data": {
      "text/plain": [
       "214"
      ]
     },
     "execution_count": 10,
     "metadata": {},
     "output_type": "execute_result"
    }
   ],
   "source": [
    "np.count_nonzero(results_df[\"dataset_id\"].value_counts().values == 20)"
   ]
  },
  {
   "cell_type": "markdown",
   "id": "4594d226",
   "metadata": {},
   "source": [
    "how many dataset_id's get used across only 1 lang?"
   ]
  },
  {
   "cell_type": "code",
   "execution_count": 11,
   "id": "e24454be",
   "metadata": {},
   "outputs": [
    {
     "data": {
      "text/plain": [
       "77"
      ]
     },
     "execution_count": 11,
     "metadata": {},
     "output_type": "execute_result"
    }
   ],
   "source": [
    "np.count_nonzero(results_df[\"dataset_id\"].value_counts().values == 1)"
   ]
  },
  {
   "cell_type": "markdown",
   "id": "26068d39",
   "metadata": {},
   "source": [
    "our prius fact appears in 15 cuts -- *if* you don't take into account translations"
   ]
  },
  {
   "cell_type": "code",
   "execution_count": 83,
   "id": "324fbb0e",
   "metadata": {},
   "outputs": [
    {
     "data": {
      "text/plain": [
       "15"
      ]
     },
     "execution_count": 83,
     "metadata": {},
     "output_type": "execute_result"
    }
   ],
   "source": [
    "results_df[results_df[\"subject\"] == \"Prius\"].shape[0]"
   ]
  },
  {
   "cell_type": "markdown",
   "id": "7ab28824",
   "metadata": {},
   "source": [
    "look at all the versions of our prius fact, which appears in *16* cuts, when you take into account that its translated in serbian differently than the romanized form."
   ]
  },
  {
   "cell_type": "code",
   "execution_count": 84,
   "id": "0125328b",
   "metadata": {},
   "outputs": [
    {
     "data": {
      "text/plain": [
       "16"
      ]
     },
     "execution_count": 84,
     "metadata": {},
     "output_type": "execute_result"
    }
   ],
   "source": [
    "results_df[results_df[\"dataset_id\"] == \"calinet_8922\"].shape[0]"
   ]
  },
  {
   "cell_type": "markdown",
   "id": "6be9291f",
   "metadata": {},
   "source": [
    "## More Cleanup to Ensure that we have access to Subjects across langs"
   ]
  },
  {
   "cell_type": "code",
   "execution_count": 74,
   "id": "e119f0e3",
   "metadata": {},
   "outputs": [],
   "source": [
    "# mapping between dataset id and the english form of a subject\n",
    "dataset_id_to_eng_subject = {}\n",
    "for row in results_df.iterrows():\n",
    "    if row[1].language == 'English':\n",
    "        if row[1].dataset_id not in dataset_id_to_eng_subject:\n",
    "            dataset_id_to_eng_subject[row[1].dataset_id] = row[1].subject"
   ]
  },
  {
   "cell_type": "code",
   "execution_count": 73,
   "id": "a2d9c282",
   "metadata": {},
   "outputs": [
    {
     "data": {
      "text/plain": [
       "'Megan Rapinoe'"
      ]
     },
     "execution_count": 73,
     "metadata": {},
     "output_type": "execute_result"
    }
   ],
   "source": [
    "# put in an id and get the english subject back\n",
    "dataset_id_to_eng_subject['rome_21844']"
   ]
  },
  {
   "cell_type": "code",
   "execution_count": 111,
   "id": "f87fa81f",
   "metadata": {
    "scrolled": true
   },
   "outputs": [],
   "source": [
    "entities = {}\n",
    "for row in results_df.iterrows():\n",
    "    # gather helpful row level data\n",
    "    # the subject\n",
    "    subject = row[1].subject\n",
    "    # whether the model got it right\n",
    "    val = row[1].correct\n",
    "    # the dataset id\n",
    "    dataset_id = row[1].dataset_id\n",
    "    # the english version of the subject\n",
    "    english_subject = dataset_id_to_eng_subject[dataset_id]\n",
    "\n",
    "    # commit it to our tracking dict\n",
    "    if english_subject not in entities:\n",
    "        entities[english_subject] = {\"correct\": 0, \"incorrect\": 0, \"langs\": {}, \"alternate_forms\": {}, \"dataset_ids\": set()}\n",
    "    \n",
    "    # counter of correct/incorrect for that subject\n",
    "    if val:\n",
    "        entities[english_subject][\"correct\"] += 1\n",
    "    else:\n",
    "        entities[english_subject][\"incorrect\"] += 1\n",
    "     \n",
    "    # track language\n",
    "    lang = row[1].lang_code\n",
    "    \n",
    "    if lang not in entities[english_subject][\"langs\"]:\n",
    "        entities[english_subject][\"langs\"][lang] = 1\n",
    "\n",
    "    else:\n",
    "        entities[english_subject][\"langs\"][lang] += 1\n",
    "    \n",
    "    # track any alternate forms\n",
    "    entities[english_subject][\"alternate_forms\"][lang] = subject\n",
    "    \n",
    "    entities[english_subject][\"dataset_ids\"].add(dataset_id)"
   ]
  },
  {
   "cell_type": "code",
   "execution_count": 117,
   "id": "a9a28da3",
   "metadata": {},
   "outputs": [],
   "source": [
    "entity_names = []\n",
    "correct = []\n",
    "incorrect = []\n",
    "total = []\n",
    "pct = []\n",
    "langs = []\n",
    "num_langs = []\n",
    "alternate_forms = []\n",
    "dataset_ids = []\n",
    "for k, v in entities.items():\n",
    "    entity_names.append(k)\n",
    "    # track # of times entity is used in a correct statement, incorrect, and pct accuracy\n",
    "    correct.append(v[\"correct\"])\n",
    "    incorrect.append(v[\"incorrect\"])\n",
    "    total.append(int(v[\"correct\"]) + int(v[\"incorrect\"]))\n",
    "    pct.append(int(v[\"correct\"]) / (int(v[\"correct\"]) + int(v[\"incorrect\"])))\n",
    "    # track # of languages the entity is used in\n",
    "    langs.append(v[\"langs\"])\n",
    "    num_langs.append(len(v[\"langs\"]))\n",
    "    alternate_forms.append(v[\"alternate_forms\"])\n",
    "    # track dataset ids its used in\n",
    "    dataset_ids.append(list(v[\"dataset_ids\"]))\n",
    "    # sanity check\n",
    "    assert((int(v[\"correct\"]) + int(v[\"incorrect\"]) == sum(v[\"langs\"].values())))"
   ]
  },
  {
   "cell_type": "code",
   "execution_count": 298,
   "id": "f871286d",
   "metadata": {},
   "outputs": [
    {
     "data": {
      "text/plain": [
       "11.867738745323988"
      ]
     },
     "execution_count": 298,
     "metadata": {},
     "output_type": "execute_result"
    }
   ],
   "source": [
    "# the average entity appears in ~12 langs\n",
    "# (remember that this will max out at 20.)\n",
    "np.mean(num_langs)"
   ]
  },
  {
   "cell_type": "code",
   "execution_count": 119,
   "id": "a9ef444e",
   "metadata": {},
   "outputs": [],
   "source": [
    "entity_analysis_df = pd.DataFrame(\n",
    "    {\n",
    "        \"entity\": entity_names,\n",
    "        \"num_correct\": correct,\n",
    "        \"num_incorrect\": incorrect,\n",
    "        \"total_usages\": total,\n",
    "        \"percent_accuracy\": pct,\n",
    "        \"languages\": langs,\n",
    "        \"num_languages\": num_langs,\n",
    "        \"alternate_forms\": alternate_forms,\n",
    "        \"dataset_ids\": dataset_ids\n",
    "    }\n",
    ")"
   ]
  },
  {
   "cell_type": "code",
   "execution_count": 268,
   "id": "500559ad",
   "metadata": {},
   "outputs": [
    {
     "data": {
      "text/html": [
       "<div>\n",
       "<style scoped>\n",
       "    .dataframe tbody tr th:only-of-type {\n",
       "        vertical-align: middle;\n",
       "    }\n",
       "\n",
       "    .dataframe tbody tr th {\n",
       "        vertical-align: top;\n",
       "    }\n",
       "\n",
       "    .dataframe thead th {\n",
       "        text-align: right;\n",
       "    }\n",
       "</style>\n",
       "<table border=\"1\" class=\"dataframe\">\n",
       "  <thead>\n",
       "    <tr style=\"text-align: right;\">\n",
       "      <th></th>\n",
       "      <th>entity</th>\n",
       "      <th>num_correct</th>\n",
       "      <th>num_incorrect</th>\n",
       "      <th>total_usages</th>\n",
       "      <th>percent_accuracy</th>\n",
       "      <th>languages</th>\n",
       "      <th>num_languages</th>\n",
       "      <th>alternate_forms</th>\n",
       "      <th>dataset_ids</th>\n",
       "    </tr>\n",
       "  </thead>\n",
       "  <tbody>\n",
       "    <tr>\n",
       "      <th>0</th>\n",
       "      <td>Prius</td>\n",
       "      <td>16</td>\n",
       "      <td>0</td>\n",
       "      <td>16</td>\n",
       "      <td>1.000000</td>\n",
       "      <td>{'sr': 1, 'uk': 1, 'nl': 1, 'sv': 1, 'ca': 1, ...</td>\n",
       "      <td>16</td>\n",
       "      <td>{'sr': 'Приус', 'uk': 'Prius', 'nl': 'Prius', ...</td>\n",
       "      <td>[calinet_8922]</td>\n",
       "    </tr>\n",
       "    <tr>\n",
       "      <th>1</th>\n",
       "      <td>Sundar Pichai</td>\n",
       "      <td>18</td>\n",
       "      <td>1</td>\n",
       "      <td>19</td>\n",
       "      <td>0.947368</td>\n",
       "      <td>{'sr': 1, 'uk': 1, 'nl': 1, 'sv': 1, 'ca': 1, ...</td>\n",
       "      <td>19</td>\n",
       "      <td>{'sr': 'Сундар Пицхаи', 'uk': 'Сундар Пічаї', ...</td>\n",
       "      <td>[rome_5025]</td>\n",
       "    </tr>\n",
       "  </tbody>\n",
       "</table>\n",
       "</div>"
      ],
      "text/plain": [
       "          entity  num_correct  num_incorrect  total_usages  percent_accuracy  \\\n",
       "0          Prius           16              0            16          1.000000   \n",
       "1  Sundar Pichai           18              1            19          0.947368   \n",
       "\n",
       "                                           languages  num_languages  \\\n",
       "0  {'sr': 1, 'uk': 1, 'nl': 1, 'sv': 1, 'ca': 1, ...             16   \n",
       "1  {'sr': 1, 'uk': 1, 'nl': 1, 'sv': 1, 'ca': 1, ...             19   \n",
       "\n",
       "                                     alternate_forms     dataset_ids  \n",
       "0  {'sr': 'Приус', 'uk': 'Prius', 'nl': 'Prius', ...  [calinet_8922]  \n",
       "1  {'sr': 'Сундар Пицхаи', 'uk': 'Сундар Пічаї', ...     [rome_5025]  "
      ]
     },
     "execution_count": 268,
     "metadata": {},
     "output_type": "execute_result"
    }
   ],
   "source": [
    "entity_analysis_df.head(2)"
   ]
  },
  {
   "cell_type": "markdown",
   "id": "e059021c",
   "metadata": {},
   "source": [
    "## Most Correct and Incorrect by Raw Count"
   ]
  },
  {
   "cell_type": "markdown",
   "id": "e94e1e0b",
   "metadata": {},
   "source": [
    "### Most Correct"
   ]
  },
  {
   "cell_type": "markdown",
   "id": "40109ae0",
   "metadata": {},
   "source": [
    "top 10 most correct (by raw count)"
   ]
  },
  {
   "cell_type": "code",
   "execution_count": 282,
   "id": "dd3822f2",
   "metadata": {},
   "outputs": [
    {
     "data": {
      "text/html": [
       "<div>\n",
       "<style scoped>\n",
       "    .dataframe tbody tr th:only-of-type {\n",
       "        vertical-align: middle;\n",
       "    }\n",
       "\n",
       "    .dataframe tbody tr th {\n",
       "        vertical-align: top;\n",
       "    }\n",
       "\n",
       "    .dataframe thead th {\n",
       "        text-align: right;\n",
       "    }\n",
       "</style>\n",
       "<table border=\"1\" class=\"dataframe\">\n",
       "  <thead>\n",
       "    <tr style=\"text-align: right;\">\n",
       "      <th></th>\n",
       "      <th>entity</th>\n",
       "      <th>num_correct</th>\n",
       "      <th>num_incorrect</th>\n",
       "      <th>total_usages</th>\n",
       "      <th>percent_accuracy</th>\n",
       "      <th>languages</th>\n",
       "      <th>num_languages</th>\n",
       "      <th>alternate_forms</th>\n",
       "      <th>dataset_ids</th>\n",
       "    </tr>\n",
       "  </thead>\n",
       "  <tbody>\n",
       "    <tr>\n",
       "      <th>344</th>\n",
       "      <td>They</td>\n",
       "      <td>174</td>\n",
       "      <td>315</td>\n",
       "      <td>489</td>\n",
       "      <td>0.355828</td>\n",
       "      <td>{'sr': 18, 'uk': 22, 'nl': 27, 'sv': 31, 'hu':...</td>\n",
       "      <td>20</td>\n",
       "      <td>{'sr': 'Они', 'uk': 'Вони', 'nl': 'They', 'sv'...</td>\n",
       "      <td>[calinet_12932, calinet_12566, calinet_2272, c...</td>\n",
       "    </tr>\n",
       "    <tr>\n",
       "      <th>1072</th>\n",
       "      <td>European Union</td>\n",
       "      <td>74</td>\n",
       "      <td>68</td>\n",
       "      <td>142</td>\n",
       "      <td>0.521127</td>\n",
       "      <td>{'sr': 7, 'uk': 3, 'nl': 10, 'sv': 7, 'hu': 5,...</td>\n",
       "      <td>20</td>\n",
       "      <td>{'sr': 'Европска унија', 'uk': 'Європейський С...</td>\n",
       "      <td>[rome_10474, rome_6214, rome_15290, rome_21264...</td>\n",
       "    </tr>\n",
       "    <tr>\n",
       "      <th>1454</th>\n",
       "      <td>Tree Hill</td>\n",
       "      <td>6</td>\n",
       "      <td>42</td>\n",
       "      <td>48</td>\n",
       "      <td>0.125000</td>\n",
       "      <td>{'sr': 2, 'uk': 3, 'nl': 1, 'sv': 3, 'ca': 3, ...</td>\n",
       "      <td>19</td>\n",
       "      <td>{'sr': 'Трее Хилл', 'uk': 'Tree Hill', 'nl': '...</td>\n",
       "      <td>[calinet_4819, calinet_4962, calinet_4804]</td>\n",
       "    </tr>\n",
       "    <tr>\n",
       "      <th>3509</th>\n",
       "      <td>Doctor Who</td>\n",
       "      <td>50</td>\n",
       "      <td>41</td>\n",
       "      <td>91</td>\n",
       "      <td>0.549451</td>\n",
       "      <td>{'sr': 1, 'uk': 2, 'nl': 6, 'sv': 5, 'hu': 2, ...</td>\n",
       "      <td>20</td>\n",
       "      <td>{'sr': 'Лекар који', 'uk': 'Лікар, який', 'nl'...</td>\n",
       "      <td>[calinet_7590, calinet_8076, calinet_4572, rom...</td>\n",
       "    </tr>\n",
       "    <tr>\n",
       "      <th>4960</th>\n",
       "      <td>Cam-Pact</td>\n",
       "      <td>4</td>\n",
       "      <td>33</td>\n",
       "      <td>37</td>\n",
       "      <td>0.108108</td>\n",
       "      <td>{'sr': 1, 'uk': 2, 'nl': 2, 'sv': 2, 'hu': 2, ...</td>\n",
       "      <td>20</td>\n",
       "      <td>{'sr': 'Цам-Пацт', 'uk': 'Cam-Pact', 'nl': 'Ca...</td>\n",
       "      <td>[rome_14029, calinet_12903]</td>\n",
       "    </tr>\n",
       "    <tr>\n",
       "      <th>684</th>\n",
       "      <td>VAX</td>\n",
       "      <td>4</td>\n",
       "      <td>32</td>\n",
       "      <td>36</td>\n",
       "      <td>0.111111</td>\n",
       "      <td>{'sr': 2, 'uk': 2, 'nl': 2, 'sv': 2, 'ca': 2, ...</td>\n",
       "      <td>19</td>\n",
       "      <td>{'sr': 'ВАКС', 'uk': 'VAX', 'nl': 'VAX', 'sv':...</td>\n",
       "      <td>[calinet_8905, calinet_8606]</td>\n",
       "    </tr>\n",
       "    <tr>\n",
       "      <th>2389</th>\n",
       "      <td>ice cream cone</td>\n",
       "      <td>50</td>\n",
       "      <td>32</td>\n",
       "      <td>82</td>\n",
       "      <td>0.609756</td>\n",
       "      <td>{'sr': 3, 'uk': 3, 'nl': 6, 'sv': 6, 'hu': 3, ...</td>\n",
       "      <td>19</td>\n",
       "      <td>{'sr': 'корнет за сладолед', 'uk': 'ріжок моро...</td>\n",
       "      <td>[rome_18400, rome_12775, rome_16755, rome_872,...</td>\n",
       "    </tr>\n",
       "    <tr>\n",
       "      <th>1252</th>\n",
       "      <td>China</td>\n",
       "      <td>101</td>\n",
       "      <td>32</td>\n",
       "      <td>133</td>\n",
       "      <td>0.759398</td>\n",
       "      <td>{'sr': 2, 'uk': 2, 'nl': 10, 'sv': 11, 'hu': 2...</td>\n",
       "      <td>20</td>\n",
       "      <td>{'sr': 'Кина', 'uk': 'Китай', 'nl': 'China', '...</td>\n",
       "      <td>[calinet_2641, calinet_2782, calinet_459, cali...</td>\n",
       "    </tr>\n",
       "    <tr>\n",
       "      <th>5570</th>\n",
       "      <td>Sushi Pack</td>\n",
       "      <td>1</td>\n",
       "      <td>31</td>\n",
       "      <td>32</td>\n",
       "      <td>0.031250</td>\n",
       "      <td>{'uk': 2, 'nl': 2, 'sv': 2, 'ca': 2, 'pl': 2, ...</td>\n",
       "      <td>17</td>\n",
       "      <td>{'uk': 'Sushi Pack', 'nl': 'Sushi Pack', 'sv':...</td>\n",
       "      <td>[rome_8450, calinet_4657]</td>\n",
       "    </tr>\n",
       "    <tr>\n",
       "      <th>1378</th>\n",
       "      <td>Life Unexpected</td>\n",
       "      <td>3</td>\n",
       "      <td>30</td>\n",
       "      <td>33</td>\n",
       "      <td>0.090909</td>\n",
       "      <td>{'sr': 2, 'uk': 1, 'nl': 2, 'sv': 2, 'ca': 2, ...</td>\n",
       "      <td>19</td>\n",
       "      <td>{'sr': 'Лифе Унекпецтед', 'uk': 'Life Unexpect...</td>\n",
       "      <td>[calinet_4836, calinet_4598]</td>\n",
       "    </tr>\n",
       "  </tbody>\n",
       "</table>\n",
       "</div>"
      ],
      "text/plain": [
       "               entity  num_correct  num_incorrect  total_usages  \\\n",
       "344              They          174            315           489   \n",
       "1072   European Union           74             68           142   \n",
       "1454        Tree Hill            6             42            48   \n",
       "3509       Doctor Who           50             41            91   \n",
       "4960         Cam-Pact            4             33            37   \n",
       "684               VAX            4             32            36   \n",
       "2389   ice cream cone           50             32            82   \n",
       "1252            China          101             32           133   \n",
       "5570       Sushi Pack            1             31            32   \n",
       "1378  Life Unexpected            3             30            33   \n",
       "\n",
       "      percent_accuracy                                          languages  \\\n",
       "344           0.355828  {'sr': 18, 'uk': 22, 'nl': 27, 'sv': 31, 'hu':...   \n",
       "1072          0.521127  {'sr': 7, 'uk': 3, 'nl': 10, 'sv': 7, 'hu': 5,...   \n",
       "1454          0.125000  {'sr': 2, 'uk': 3, 'nl': 1, 'sv': 3, 'ca': 3, ...   \n",
       "3509          0.549451  {'sr': 1, 'uk': 2, 'nl': 6, 'sv': 5, 'hu': 2, ...   \n",
       "4960          0.108108  {'sr': 1, 'uk': 2, 'nl': 2, 'sv': 2, 'hu': 2, ...   \n",
       "684           0.111111  {'sr': 2, 'uk': 2, 'nl': 2, 'sv': 2, 'ca': 2, ...   \n",
       "2389          0.609756  {'sr': 3, 'uk': 3, 'nl': 6, 'sv': 6, 'hu': 3, ...   \n",
       "1252          0.759398  {'sr': 2, 'uk': 2, 'nl': 10, 'sv': 11, 'hu': 2...   \n",
       "5570          0.031250  {'uk': 2, 'nl': 2, 'sv': 2, 'ca': 2, 'pl': 2, ...   \n",
       "1378          0.090909  {'sr': 2, 'uk': 1, 'nl': 2, 'sv': 2, 'ca': 2, ...   \n",
       "\n",
       "      num_languages                                    alternate_forms  \\\n",
       "344              20  {'sr': 'Они', 'uk': 'Вони', 'nl': 'They', 'sv'...   \n",
       "1072             20  {'sr': 'Европска унија', 'uk': 'Європейський С...   \n",
       "1454             19  {'sr': 'Трее Хилл', 'uk': 'Tree Hill', 'nl': '...   \n",
       "3509             20  {'sr': 'Лекар који', 'uk': 'Лікар, який', 'nl'...   \n",
       "4960             20  {'sr': 'Цам-Пацт', 'uk': 'Cam-Pact', 'nl': 'Ca...   \n",
       "684              19  {'sr': 'ВАКС', 'uk': 'VAX', 'nl': 'VAX', 'sv':...   \n",
       "2389             19  {'sr': 'корнет за сладолед', 'uk': 'ріжок моро...   \n",
       "1252             20  {'sr': 'Кина', 'uk': 'Китай', 'nl': 'China', '...   \n",
       "5570             17  {'uk': 'Sushi Pack', 'nl': 'Sushi Pack', 'sv':...   \n",
       "1378             19  {'sr': 'Лифе Унекпецтед', 'uk': 'Life Unexpect...   \n",
       "\n",
       "                                            dataset_ids  \n",
       "344   [calinet_12932, calinet_12566, calinet_2272, c...  \n",
       "1072  [rome_10474, rome_6214, rome_15290, rome_21264...  \n",
       "1454         [calinet_4819, calinet_4962, calinet_4804]  \n",
       "3509  [calinet_7590, calinet_8076, calinet_4572, rom...  \n",
       "4960                        [rome_14029, calinet_12903]  \n",
       "684                        [calinet_8905, calinet_8606]  \n",
       "2389  [rome_18400, rome_12775, rome_16755, rome_872,...  \n",
       "1252  [calinet_2641, calinet_2782, calinet_459, cali...  \n",
       "5570                          [rome_8450, calinet_4657]  \n",
       "1378                       [calinet_4836, calinet_4598]  "
      ]
     },
     "execution_count": 282,
     "metadata": {},
     "output_type": "execute_result"
    }
   ],
   "source": [
    "entity_analysis_df.sort_values(by=\"num_incorrect\", ascending=False)[:10]"
   ]
  },
  {
   "cell_type": "markdown",
   "id": "39389850",
   "metadata": {},
   "source": [
    "### Most Incorrect"
   ]
  },
  {
   "cell_type": "markdown",
   "id": "11a276b1",
   "metadata": {},
   "source": [
    "top 10 most incorrect (by raw count)"
   ]
  },
  {
   "cell_type": "code",
   "execution_count": 284,
   "id": "5655dad3",
   "metadata": {},
   "outputs": [
    {
     "data": {
      "text/html": [
       "<div>\n",
       "<style scoped>\n",
       "    .dataframe tbody tr th:only-of-type {\n",
       "        vertical-align: middle;\n",
       "    }\n",
       "\n",
       "    .dataframe tbody tr th {\n",
       "        vertical-align: top;\n",
       "    }\n",
       "\n",
       "    .dataframe thead th {\n",
       "        text-align: right;\n",
       "    }\n",
       "</style>\n",
       "<table border=\"1\" class=\"dataframe\">\n",
       "  <thead>\n",
       "    <tr style=\"text-align: right;\">\n",
       "      <th></th>\n",
       "      <th>entity</th>\n",
       "      <th>num_correct</th>\n",
       "      <th>num_incorrect</th>\n",
       "      <th>total_usages</th>\n",
       "      <th>percent_accuracy</th>\n",
       "      <th>languages</th>\n",
       "      <th>num_languages</th>\n",
       "      <th>alternate_forms</th>\n",
       "      <th>dataset_ids</th>\n",
       "    </tr>\n",
       "  </thead>\n",
       "  <tbody>\n",
       "    <tr>\n",
       "      <th>344</th>\n",
       "      <td>They</td>\n",
       "      <td>174</td>\n",
       "      <td>315</td>\n",
       "      <td>489</td>\n",
       "      <td>0.355828</td>\n",
       "      <td>{'sr': 18, 'uk': 22, 'nl': 27, 'sv': 31, 'hu':...</td>\n",
       "      <td>20</td>\n",
       "      <td>{'sr': 'Они', 'uk': 'Вони', 'nl': 'They', 'sv'...</td>\n",
       "      <td>[calinet_12932, calinet_12566, calinet_2272, c...</td>\n",
       "    </tr>\n",
       "    <tr>\n",
       "      <th>1162</th>\n",
       "      <td>Russia</td>\n",
       "      <td>157</td>\n",
       "      <td>24</td>\n",
       "      <td>181</td>\n",
       "      <td>0.867403</td>\n",
       "      <td>{'sr': 4, 'uk': 3, 'nl': 13, 'sv': 11, 'hu': 4...</td>\n",
       "      <td>20</td>\n",
       "      <td>{'sr': 'Русија', 'uk': 'Росія', 'nl': 'Rusland...</td>\n",
       "      <td>[calinet_3479, calinet_2526, calinet_2584, cal...</td>\n",
       "    </tr>\n",
       "    <tr>\n",
       "      <th>2825</th>\n",
       "      <td>South Africa</td>\n",
       "      <td>116</td>\n",
       "      <td>2</td>\n",
       "      <td>118</td>\n",
       "      <td>0.983051</td>\n",
       "      <td>{'sr': 2, 'uk': 2, 'nl': 11, 'sv': 8, 'hu': 2,...</td>\n",
       "      <td>20</td>\n",
       "      <td>{'sr': 'Јужна Африка', 'uk': 'Південна Африка'...</td>\n",
       "      <td>[rome_10612, calinet_3031, calinet_66, calinet...</td>\n",
       "    </tr>\n",
       "    <tr>\n",
       "      <th>4364</th>\n",
       "      <td>Germany</td>\n",
       "      <td>113</td>\n",
       "      <td>19</td>\n",
       "      <td>132</td>\n",
       "      <td>0.856061</td>\n",
       "      <td>{'sr': 1, 'uk': 2, 'nl': 12, 'sv': 10, 'hu': 2...</td>\n",
       "      <td>20</td>\n",
       "      <td>{'sr': 'Немачка', 'uk': 'Німеччина', 'nl': 'Du...</td>\n",
       "      <td>[calinet_2502, calinet_478, calinet_364, calin...</td>\n",
       "    </tr>\n",
       "    <tr>\n",
       "      <th>2494</th>\n",
       "      <td>Hungary</td>\n",
       "      <td>103</td>\n",
       "      <td>13</td>\n",
       "      <td>116</td>\n",
       "      <td>0.887931</td>\n",
       "      <td>{'sr': 1, 'nl': 12, 'sv': 8, 'hu': 1, 'ca': 7,...</td>\n",
       "      <td>18</td>\n",
       "      <td>{'sr': 'Мађарска', 'nl': 'Hongarije', 'sv': 'U...</td>\n",
       "      <td>[calinet_142, rome_17071, calinet_2879, caline...</td>\n",
       "    </tr>\n",
       "    <tr>\n",
       "      <th>1140</th>\n",
       "      <td>India</td>\n",
       "      <td>102</td>\n",
       "      <td>8</td>\n",
       "      <td>110</td>\n",
       "      <td>0.927273</td>\n",
       "      <td>{'sr': 2, 'uk': 4, 'nl': 9, 'sv': 5, 'hu': 3, ...</td>\n",
       "      <td>20</td>\n",
       "      <td>{'sr': 'Индија', 'uk': 'Індія', 'nl': 'India',...</td>\n",
       "      <td>[calinet_2501, calinet_60, calinet_2634, calin...</td>\n",
       "    </tr>\n",
       "    <tr>\n",
       "      <th>1252</th>\n",
       "      <td>China</td>\n",
       "      <td>101</td>\n",
       "      <td>32</td>\n",
       "      <td>133</td>\n",
       "      <td>0.759398</td>\n",
       "      <td>{'sr': 2, 'uk': 2, 'nl': 10, 'sv': 11, 'hu': 2...</td>\n",
       "      <td>20</td>\n",
       "      <td>{'sr': 'Кина', 'uk': 'Китай', 'nl': 'China', '...</td>\n",
       "      <td>[calinet_2641, calinet_2782, calinet_459, cali...</td>\n",
       "    </tr>\n",
       "    <tr>\n",
       "      <th>845</th>\n",
       "      <td>France</td>\n",
       "      <td>98</td>\n",
       "      <td>3</td>\n",
       "      <td>101</td>\n",
       "      <td>0.970297</td>\n",
       "      <td>{'sr': 2, 'uk': 2, 'nl': 8, 'sv': 8, 'hu': 2, ...</td>\n",
       "      <td>20</td>\n",
       "      <td>{'sr': 'Француска', 'uk': 'Франція', 'nl': 'Fr...</td>\n",
       "      <td>[rome_17806, calinet_2519, calinet_257, caline...</td>\n",
       "    </tr>\n",
       "    <tr>\n",
       "      <th>5</th>\n",
       "      <td>Iran</td>\n",
       "      <td>98</td>\n",
       "      <td>6</td>\n",
       "      <td>104</td>\n",
       "      <td>0.942308</td>\n",
       "      <td>{'sr': 3, 'uk': 2, 'nl': 8, 'sv': 8, 'hu': 3, ...</td>\n",
       "      <td>20</td>\n",
       "      <td>{'sr': 'Иран', 'uk': 'Іран', 'nl': 'Iran', 'sv...</td>\n",
       "      <td>[calinet_3044, calinet_482, calinet_231, calin...</td>\n",
       "    </tr>\n",
       "    <tr>\n",
       "      <th>1203</th>\n",
       "      <td>Belgium</td>\n",
       "      <td>97</td>\n",
       "      <td>4</td>\n",
       "      <td>101</td>\n",
       "      <td>0.960396</td>\n",
       "      <td>{'sr': 3, 'uk': 2, 'nl': 9, 'sv': 7, 'hu': 2, ...</td>\n",
       "      <td>20</td>\n",
       "      <td>{'sr': 'Белгија', 'uk': 'Бельгія', 'nl': 'Belg...</td>\n",
       "      <td>[rome_18642, calinet_3034, rome_19222, rome_11...</td>\n",
       "    </tr>\n",
       "  </tbody>\n",
       "</table>\n",
       "</div>"
      ],
      "text/plain": [
       "            entity  num_correct  num_incorrect  total_usages  \\\n",
       "344           They          174            315           489   \n",
       "1162        Russia          157             24           181   \n",
       "2825  South Africa          116              2           118   \n",
       "4364       Germany          113             19           132   \n",
       "2494       Hungary          103             13           116   \n",
       "1140         India          102              8           110   \n",
       "1252         China          101             32           133   \n",
       "845         France           98              3           101   \n",
       "5             Iran           98              6           104   \n",
       "1203       Belgium           97              4           101   \n",
       "\n",
       "      percent_accuracy                                          languages  \\\n",
       "344           0.355828  {'sr': 18, 'uk': 22, 'nl': 27, 'sv': 31, 'hu':...   \n",
       "1162          0.867403  {'sr': 4, 'uk': 3, 'nl': 13, 'sv': 11, 'hu': 4...   \n",
       "2825          0.983051  {'sr': 2, 'uk': 2, 'nl': 11, 'sv': 8, 'hu': 2,...   \n",
       "4364          0.856061  {'sr': 1, 'uk': 2, 'nl': 12, 'sv': 10, 'hu': 2...   \n",
       "2494          0.887931  {'sr': 1, 'nl': 12, 'sv': 8, 'hu': 1, 'ca': 7,...   \n",
       "1140          0.927273  {'sr': 2, 'uk': 4, 'nl': 9, 'sv': 5, 'hu': 3, ...   \n",
       "1252          0.759398  {'sr': 2, 'uk': 2, 'nl': 10, 'sv': 11, 'hu': 2...   \n",
       "845           0.970297  {'sr': 2, 'uk': 2, 'nl': 8, 'sv': 8, 'hu': 2, ...   \n",
       "5             0.942308  {'sr': 3, 'uk': 2, 'nl': 8, 'sv': 8, 'hu': 3, ...   \n",
       "1203          0.960396  {'sr': 3, 'uk': 2, 'nl': 9, 'sv': 7, 'hu': 2, ...   \n",
       "\n",
       "      num_languages                                    alternate_forms  \\\n",
       "344              20  {'sr': 'Они', 'uk': 'Вони', 'nl': 'They', 'sv'...   \n",
       "1162             20  {'sr': 'Русија', 'uk': 'Росія', 'nl': 'Rusland...   \n",
       "2825             20  {'sr': 'Јужна Африка', 'uk': 'Південна Африка'...   \n",
       "4364             20  {'sr': 'Немачка', 'uk': 'Німеччина', 'nl': 'Du...   \n",
       "2494             18  {'sr': 'Мађарска', 'nl': 'Hongarije', 'sv': 'U...   \n",
       "1140             20  {'sr': 'Индија', 'uk': 'Індія', 'nl': 'India',...   \n",
       "1252             20  {'sr': 'Кина', 'uk': 'Китай', 'nl': 'China', '...   \n",
       "845              20  {'sr': 'Француска', 'uk': 'Франція', 'nl': 'Fr...   \n",
       "5                20  {'sr': 'Иран', 'uk': 'Іран', 'nl': 'Iran', 'sv...   \n",
       "1203             20  {'sr': 'Белгија', 'uk': 'Бельгія', 'nl': 'Belg...   \n",
       "\n",
       "                                            dataset_ids  \n",
       "344   [calinet_12932, calinet_12566, calinet_2272, c...  \n",
       "1162  [calinet_3479, calinet_2526, calinet_2584, cal...  \n",
       "2825  [rome_10612, calinet_3031, calinet_66, calinet...  \n",
       "4364  [calinet_2502, calinet_478, calinet_364, calin...  \n",
       "2494  [calinet_142, rome_17071, calinet_2879, caline...  \n",
       "1140  [calinet_2501, calinet_60, calinet_2634, calin...  \n",
       "1252  [calinet_2641, calinet_2782, calinet_459, cali...  \n",
       "845   [rome_17806, calinet_2519, calinet_257, caline...  \n",
       "5     [calinet_3044, calinet_482, calinet_231, calin...  \n",
       "1203  [rome_18642, calinet_3034, rome_19222, rome_11...  "
      ]
     },
     "execution_count": 284,
     "metadata": {},
     "output_type": "execute_result"
    }
   ],
   "source": [
    "entity_analysis_df.sort_values(by=\"num_correct\", ascending=False)[:10]"
   ]
  },
  {
   "cell_type": "code",
   "execution_count": 267,
   "id": "f30457db",
   "metadata": {},
   "outputs": [
    {
     "data": {
      "text/plain": [
       "<Axes: title={'center': 'Average Accuracy per Entity'}, ylabel='Frequency'>"
      ]
     },
     "execution_count": 267,
     "metadata": {},
     "output_type": "execute_result"
    },
    {
     "data": {
      "image/png": "[encoded data removed]",
      "text/plain": [
       "<Figure size 432x288 with 1 Axes>"
      ]
     },
     "metadata": {
      "needs_background": "light"
     },
     "output_type": "display_data"
    }
   ],
   "source": [
    "entity_analysis_df[\"percent_accuracy\"].plot(kind='hist', title='Average Accuracy per Entity')"
   ]
  },
  {
   "cell_type": "markdown",
   "id": "c4005a4f",
   "metadata": {},
   "source": [
    "## Most Correct and Incorrect by Percent (at least 10 usages)"
   ]
  },
  {
   "cell_type": "markdown",
   "id": "f4ecc00f",
   "metadata": {},
   "source": [
    "there are 6496 entities that were used more than 10 times and always correct!"
   ]
  },
  {
   "cell_type": "code",
   "execution_count": 103,
   "id": "3b0e725f",
   "metadata": {},
   "outputs": [
    {
     "data": {
      "text/plain": [
       "6496"
      ]
     },
     "execution_count": 103,
     "metadata": {},
     "output_type": "execute_result"
    }
   ],
   "source": [
    "\n",
    "len(\n",
    "    entity_analysis_df[\n",
    "        (entity_analysis_df[\"total_usages\"] >= 10)\n",
    "        & (entity_analysis_df[\"percent_accuracy\"] == 1.0)\n",
    "    ]\n",
    ")"
   ]
  },
  {
   "cell_type": "markdown",
   "id": "9a79926a",
   "metadata": {},
   "source": [
    "and they comprise 88k of our corrects."
   ]
  },
  {
   "cell_type": "code",
   "execution_count": 269,
   "id": "2f14c100",
   "metadata": {},
   "outputs": [
    {
     "data": {
      "text/plain": [
       "88138"
      ]
     },
     "execution_count": 269,
     "metadata": {},
     "output_type": "execute_result"
    }
   ],
   "source": [
    "sum(\n",
    "    entity_analysis_df[\n",
    "        (entity_analysis_df[\"total_usages\"] >= 10)\n",
    "        & (entity_analysis_df[\"percent_accuracy\"] == 1.0)\n",
    "    ][\"total_usages\"]\n",
    ")"
   ]
  },
  {
   "cell_type": "markdown",
   "id": "fa164f52",
   "metadata": {},
   "source": [
    "there were just 238 entities that were consistently bad"
   ]
  },
  {
   "cell_type": "code",
   "execution_count": 270,
   "id": "b5cbb59e",
   "metadata": {},
   "outputs": [
    {
     "data": {
      "text/plain": [
       "238"
      ]
     },
     "execution_count": 270,
     "metadata": {},
     "output_type": "execute_result"
    }
   ],
   "source": [
    "len(\n",
    "    entity_analysis_df[\n",
    "        (entity_analysis_df[\"total_usages\"] >= 10)\n",
    "        & (entity_analysis_df[\"percent_accuracy\"] == 0.0)\n",
    "    ]\n",
    ")"
   ]
  },
  {
   "cell_type": "markdown",
   "id": "2f82ddf7",
   "metadata": {},
   "source": [
    "and they comprise just 3405 of our incorrect"
   ]
  },
  {
   "cell_type": "code",
   "execution_count": 271,
   "id": "e508d563",
   "metadata": {},
   "outputs": [
    {
     "data": {
      "text/plain": [
       "3405"
      ]
     },
     "execution_count": 271,
     "metadata": {},
     "output_type": "execute_result"
    }
   ],
   "source": [
    "sum(\n",
    "    entity_analysis_df[\n",
    "        (entity_analysis_df[\"total_usages\"] >= 10)\n",
    "        & (entity_analysis_df[\"percent_accuracy\"] == 0.0)\n",
    "    ][\"total_usages\"]\n",
    ")"
   ]
  },
  {
   "cell_type": "markdown",
   "id": "f8175294",
   "metadata": {},
   "source": [
    "subset of some of the 238 entities bad entities"
   ]
  },
  {
   "cell_type": "code",
   "execution_count": 275,
   "id": "6a0b3f14",
   "metadata": {},
   "outputs": [
    {
     "data": {
      "text/html": [
       "<div>\n",
       "<style scoped>\n",
       "    .dataframe tbody tr th:only-of-type {\n",
       "        vertical-align: middle;\n",
       "    }\n",
       "\n",
       "    .dataframe tbody tr th {\n",
       "        vertical-align: top;\n",
       "    }\n",
       "\n",
       "    .dataframe thead th {\n",
       "        text-align: right;\n",
       "    }\n",
       "</style>\n",
       "<table border=\"1\" class=\"dataframe\">\n",
       "  <thead>\n",
       "    <tr style=\"text-align: right;\">\n",
       "      <th></th>\n",
       "      <th>entity</th>\n",
       "      <th>num_languages</th>\n",
       "    </tr>\n",
       "  </thead>\n",
       "  <tbody>\n",
       "    <tr>\n",
       "      <th>20504</th>\n",
       "      <td>James Royce Shannon</td>\n",
       "      <td>11</td>\n",
       "    </tr>\n",
       "    <tr>\n",
       "      <th>20519</th>\n",
       "      <td>Thomas Browne</td>\n",
       "      <td>12</td>\n",
       "    </tr>\n",
       "    <tr>\n",
       "      <th>20865</th>\n",
       "      <td>Geraldine McNulty</td>\n",
       "      <td>10</td>\n",
       "    </tr>\n",
       "    <tr>\n",
       "      <th>20886</th>\n",
       "      <td>Aunty Disco Project</td>\n",
       "      <td>11</td>\n",
       "    </tr>\n",
       "    <tr>\n",
       "      <th>21426</th>\n",
       "      <td>Kazimierz Nycz</td>\n",
       "      <td>10</td>\n",
       "    </tr>\n",
       "  </tbody>\n",
       "</table>\n",
       "</div>"
      ],
      "text/plain": [
       "                    entity  num_languages\n",
       "20504  James Royce Shannon             11\n",
       "20519        Thomas Browne             12\n",
       "20865    Geraldine McNulty             10\n",
       "20886  Aunty Disco Project             11\n",
       "21426       Kazimierz Nycz             10"
      ]
     },
     "execution_count": 275,
     "metadata": {},
     "output_type": "execute_result"
    }
   ],
   "source": [
    "entity_analysis_df[\n",
    "    (entity_analysis_df[\"total_usages\"] >= 10)\n",
    "    & (entity_analysis_df[\"percent_accuracy\"] == 0.0)\n",
    "][-5:][['entity', 'num_languages']]"
   ]
  },
  {
   "cell_type": "markdown",
   "id": "9e2a9361",
   "metadata": {},
   "source": [
    "## Most Correct and Incorrect by Percent (no usage minimum)"
   ]
  },
  {
   "cell_type": "markdown",
   "id": "af177fbc",
   "metadata": {},
   "source": [
    "how many entities do we always get right?"
   ]
  },
  {
   "cell_type": "code",
   "execution_count": 301,
   "id": "07cb2a4b",
   "metadata": {},
   "outputs": [
    {
     "data": {
      "text/plain": [
       "8902"
      ]
     },
     "execution_count": 301,
     "metadata": {},
     "output_type": "execute_result"
    }
   ],
   "source": [
    "len(entity_analysis_df[entity_analysis_df[\"percent_accuracy\"] == 1.0])"
   ]
  },
  {
   "cell_type": "code",
   "execution_count": 304,
   "id": "9c98df28",
   "metadata": {},
   "outputs": [
    {
     "data": {
      "text/html": [
       "<div>\n",
       "<style scoped>\n",
       "    .dataframe tbody tr th:only-of-type {\n",
       "        vertical-align: middle;\n",
       "    }\n",
       "\n",
       "    .dataframe tbody tr th {\n",
       "        vertical-align: top;\n",
       "    }\n",
       "\n",
       "    .dataframe thead th {\n",
       "        text-align: right;\n",
       "    }\n",
       "</style>\n",
       "<table border=\"1\" class=\"dataframe\">\n",
       "  <thead>\n",
       "    <tr style=\"text-align: right;\">\n",
       "      <th></th>\n",
       "      <th>entity</th>\n",
       "      <th>num_correct</th>\n",
       "      <th>num_incorrect</th>\n",
       "      <th>total_usages</th>\n",
       "      <th>percent_accuracy</th>\n",
       "      <th>languages</th>\n",
       "      <th>num_languages</th>\n",
       "      <th>alternate_forms</th>\n",
       "      <th>dataset_ids</th>\n",
       "    </tr>\n",
       "  </thead>\n",
       "  <tbody>\n",
       "    <tr>\n",
       "      <th>0</th>\n",
       "      <td>Prius</td>\n",
       "      <td>16</td>\n",
       "      <td>0</td>\n",
       "      <td>16</td>\n",
       "      <td>1.0</td>\n",
       "      <td>{'sr': 1, 'uk': 1, 'nl': 1, 'sv': 1, 'ca': 1, ...</td>\n",
       "      <td>16</td>\n",
       "      <td>{'sr': 'Приус', 'uk': 'Prius', 'nl': 'Prius', ...</td>\n",
       "      <td>[calinet_8922]</td>\n",
       "    </tr>\n",
       "    <tr>\n",
       "      <th>2</th>\n",
       "      <td>People's Republic of China</td>\n",
       "      <td>17</td>\n",
       "      <td>0</td>\n",
       "      <td>17</td>\n",
       "      <td>1.0</td>\n",
       "      <td>{'sr': 1, 'uk': 1, 'nl': 1, 'sv': 1, 'hu': 1, ...</td>\n",
       "      <td>17</td>\n",
       "      <td>{'sr': 'Народна Република Кина', 'uk': 'Народн...</td>\n",
       "      <td>[rome_21333]</td>\n",
       "    </tr>\n",
       "    <tr>\n",
       "      <th>8</th>\n",
       "      <td>Fortran</td>\n",
       "      <td>18</td>\n",
       "      <td>0</td>\n",
       "      <td>18</td>\n",
       "      <td>1.0</td>\n",
       "      <td>{'sr': 1, 'uk': 1, 'nl': 1, 'sv': 1, 'ca': 1, ...</td>\n",
       "      <td>18</td>\n",
       "      <td>{'sr': 'Фортран', 'uk': 'Fortran', 'nl': 'Fort...</td>\n",
       "      <td>[rome_18369]</td>\n",
       "    </tr>\n",
       "    <tr>\n",
       "      <th>10</th>\n",
       "      <td>MacBook Pro</td>\n",
       "      <td>18</td>\n",
       "      <td>0</td>\n",
       "      <td>18</td>\n",
       "      <td>1.0</td>\n",
       "      <td>{'sr': 1, 'uk': 1, 'nl': 1, 'sv': 1, 'ca': 1, ...</td>\n",
       "      <td>18</td>\n",
       "      <td>{'sr': 'МацБоок Про', 'uk': 'MacBook Pro', 'nl...</td>\n",
       "      <td>[rome_17929]</td>\n",
       "    </tr>\n",
       "    <tr>\n",
       "      <th>27</th>\n",
       "      <td>Peter O'Sullevan</td>\n",
       "      <td>19</td>\n",
       "      <td>0</td>\n",
       "      <td>19</td>\n",
       "      <td>1.0</td>\n",
       "      <td>{'sr': 1, 'uk': 1, 'nl': 1, 'sv': 1, 'ca': 1, ...</td>\n",
       "      <td>19</td>\n",
       "      <td>{'sr': 'Петер О'Суллеван', 'uk': 'Пітер О'Салл...</td>\n",
       "      <td>[rome_2619]</td>\n",
       "    </tr>\n",
       "  </tbody>\n",
       "</table>\n",
       "</div>"
      ],
      "text/plain": [
       "                        entity  num_correct  num_incorrect  total_usages  \\\n",
       "0                        Prius           16              0            16   \n",
       "2   People's Republic of China           17              0            17   \n",
       "8                      Fortran           18              0            18   \n",
       "10                 MacBook Pro           18              0            18   \n",
       "27            Peter O'Sullevan           19              0            19   \n",
       "\n",
       "    percent_accuracy                                          languages  \\\n",
       "0                1.0  {'sr': 1, 'uk': 1, 'nl': 1, 'sv': 1, 'ca': 1, ...   \n",
       "2                1.0  {'sr': 1, 'uk': 1, 'nl': 1, 'sv': 1, 'hu': 1, ...   \n",
       "8                1.0  {'sr': 1, 'uk': 1, 'nl': 1, 'sv': 1, 'ca': 1, ...   \n",
       "10               1.0  {'sr': 1, 'uk': 1, 'nl': 1, 'sv': 1, 'ca': 1, ...   \n",
       "27               1.0  {'sr': 1, 'uk': 1, 'nl': 1, 'sv': 1, 'ca': 1, ...   \n",
       "\n",
       "    num_languages                                    alternate_forms  \\\n",
       "0              16  {'sr': 'Приус', 'uk': 'Prius', 'nl': 'Prius', ...   \n",
       "2              17  {'sr': 'Народна Република Кина', 'uk': 'Народн...   \n",
       "8              18  {'sr': 'Фортран', 'uk': 'Fortran', 'nl': 'Fort...   \n",
       "10             18  {'sr': 'МацБоок Про', 'uk': 'MacBook Pro', 'nl...   \n",
       "27             19  {'sr': 'Петер О'Суллеван', 'uk': 'Пітер О'Салл...   \n",
       "\n",
       "       dataset_ids  \n",
       "0   [calinet_8922]  \n",
       "2     [rome_21333]  \n",
       "8     [rome_18369]  \n",
       "10    [rome_17929]  \n",
       "27     [rome_2619]  "
      ]
     },
     "execution_count": 304,
     "metadata": {},
     "output_type": "execute_result"
    }
   ],
   "source": [
    "entity_analysis_df[entity_analysis_df[\"percent_accuracy\"] == 1.0].head()"
   ]
  },
  {
   "cell_type": "markdown",
   "id": "3f8267e4",
   "metadata": {},
   "source": [
    "how many entities do we always get wrong?"
   ]
  },
  {
   "cell_type": "code",
   "execution_count": 303,
   "id": "c6a1a873",
   "metadata": {},
   "outputs": [
    {
     "data": {
      "text/plain": [
       "322"
      ]
     },
     "execution_count": 303,
     "metadata": {},
     "output_type": "execute_result"
    }
   ],
   "source": [
    "len(entity_analysis_df[entity_analysis_df[\"percent_accuracy\"] == 0.0])"
   ]
  },
  {
   "cell_type": "code",
   "execution_count": 306,
   "id": "ec5f48fc",
   "metadata": {},
   "outputs": [
    {
     "data": {
      "text/html": [
       "<div>\n",
       "<style scoped>\n",
       "    .dataframe tbody tr th:only-of-type {\n",
       "        vertical-align: middle;\n",
       "    }\n",
       "\n",
       "    .dataframe tbody tr th {\n",
       "        vertical-align: top;\n",
       "    }\n",
       "\n",
       "    .dataframe thead th {\n",
       "        text-align: right;\n",
       "    }\n",
       "</style>\n",
       "<table border=\"1\" class=\"dataframe\">\n",
       "  <thead>\n",
       "    <tr style=\"text-align: right;\">\n",
       "      <th></th>\n",
       "      <th>entity</th>\n",
       "      <th>num_correct</th>\n",
       "      <th>num_incorrect</th>\n",
       "      <th>total_usages</th>\n",
       "      <th>percent_accuracy</th>\n",
       "      <th>languages</th>\n",
       "      <th>num_languages</th>\n",
       "      <th>alternate_forms</th>\n",
       "      <th>dataset_ids</th>\n",
       "    </tr>\n",
       "  </thead>\n",
       "  <tbody>\n",
       "    <tr>\n",
       "      <th>49</th>\n",
       "      <td>Visible World</td>\n",
       "      <td>0</td>\n",
       "      <td>19</td>\n",
       "      <td>19</td>\n",
       "      <td>0.0</td>\n",
       "      <td>{'sr': 1, 'uk': 1, 'nl': 1, 'sv': 1, 'ca': 1, ...</td>\n",
       "      <td>19</td>\n",
       "      <td>{'sr': 'Видљиви свет', 'uk': 'Видимий світ', '...</td>\n",
       "      <td>[calinet_12615]</td>\n",
       "    </tr>\n",
       "    <tr>\n",
       "      <th>79</th>\n",
       "      <td>John McEntee</td>\n",
       "      <td>0</td>\n",
       "      <td>19</td>\n",
       "      <td>19</td>\n",
       "      <td>0.0</td>\n",
       "      <td>{'sr': 1, 'uk': 1, 'nl': 1, 'sv': 1, 'ca': 1, ...</td>\n",
       "      <td>19</td>\n",
       "      <td>{'sr': 'Јохн МцЕнтее', 'uk': 'John McEntee', '...</td>\n",
       "      <td>[calinet_12605]</td>\n",
       "    </tr>\n",
       "    <tr>\n",
       "      <th>185</th>\n",
       "      <td>Alphonse</td>\n",
       "      <td>0</td>\n",
       "      <td>8</td>\n",
       "      <td>8</td>\n",
       "      <td>0.0</td>\n",
       "      <td>{'sr': 1, 'ca': 1, 'en': 1, 'de': 1, 'pt': 1, ...</td>\n",
       "      <td>8</td>\n",
       "      <td>{'sr': 'Алпхонсе', 'ca': 'Alphonse', 'en': 'Al...</td>\n",
       "      <td>[calinet_1789]</td>\n",
       "    </tr>\n",
       "    <tr>\n",
       "      <th>212</th>\n",
       "      <td>Tom Leopold</td>\n",
       "      <td>0</td>\n",
       "      <td>15</td>\n",
       "      <td>15</td>\n",
       "      <td>0.0</td>\n",
       "      <td>{'sr': 1, 'nl': 1, 'sv': 1, 'ca': 1, 'pl': 1, ...</td>\n",
       "      <td>15</td>\n",
       "      <td>{'sr': 'Том Леополд', 'nl': 'Tom Leopold', 'sv...</td>\n",
       "      <td>[rome_19964]</td>\n",
       "    </tr>\n",
       "    <tr>\n",
       "      <th>221</th>\n",
       "      <td>Barry Pilton</td>\n",
       "      <td>0</td>\n",
       "      <td>15</td>\n",
       "      <td>15</td>\n",
       "      <td>0.0</td>\n",
       "      <td>{'sr': 1, 'nl': 1, 'sv': 1, 'ca': 1, 'pl': 1, ...</td>\n",
       "      <td>15</td>\n",
       "      <td>{'sr': 'Барри Пилтон', 'nl': 'Barry Pilton', '...</td>\n",
       "      <td>[calinet_5398]</td>\n",
       "    </tr>\n",
       "  </tbody>\n",
       "</table>\n",
       "</div>"
      ],
      "text/plain": [
       "            entity  num_correct  num_incorrect  total_usages  \\\n",
       "49   Visible World            0             19            19   \n",
       "79    John McEntee            0             19            19   \n",
       "185       Alphonse            0              8             8   \n",
       "212    Tom Leopold            0             15            15   \n",
       "221   Barry Pilton            0             15            15   \n",
       "\n",
       "     percent_accuracy                                          languages  \\\n",
       "49                0.0  {'sr': 1, 'uk': 1, 'nl': 1, 'sv': 1, 'ca': 1, ...   \n",
       "79                0.0  {'sr': 1, 'uk': 1, 'nl': 1, 'sv': 1, 'ca': 1, ...   \n",
       "185               0.0  {'sr': 1, 'ca': 1, 'en': 1, 'de': 1, 'pt': 1, ...   \n",
       "212               0.0  {'sr': 1, 'nl': 1, 'sv': 1, 'ca': 1, 'pl': 1, ...   \n",
       "221               0.0  {'sr': 1, 'nl': 1, 'sv': 1, 'ca': 1, 'pl': 1, ...   \n",
       "\n",
       "     num_languages                                    alternate_forms  \\\n",
       "49              19  {'sr': 'Видљиви свет', 'uk': 'Видимий світ', '...   \n",
       "79              19  {'sr': 'Јохн МцЕнтее', 'uk': 'John McEntee', '...   \n",
       "185              8  {'sr': 'Алпхонсе', 'ca': 'Alphonse', 'en': 'Al...   \n",
       "212             15  {'sr': 'Том Леополд', 'nl': 'Tom Leopold', 'sv...   \n",
       "221             15  {'sr': 'Барри Пилтон', 'nl': 'Barry Pilton', '...   \n",
       "\n",
       "         dataset_ids  \n",
       "49   [calinet_12615]  \n",
       "79   [calinet_12605]  \n",
       "185   [calinet_1789]  \n",
       "212     [rome_19964]  \n",
       "221   [calinet_5398]  "
      ]
     },
     "execution_count": 306,
     "metadata": {},
     "output_type": "execute_result"
    }
   ],
   "source": [
    "entity_analysis_df[entity_analysis_df[\"percent_accuracy\"] == 0.0].head()"
   ]
  },
  {
   "cell_type": "markdown",
   "id": "da28b34a",
   "metadata": {},
   "source": [
    "## Analyzing a Single Entity"
   ]
  },
  {
   "cell_type": "code",
   "execution_count": 276,
   "id": "bd283324",
   "metadata": {},
   "outputs": [],
   "source": [
    "def get_lang_usage_report_for_entity(entity_val):\n",
    "    usage_dict = entity_analysis_df[entity_analysis_df['entity'] == entity_val]['languages'].values[0]\n",
    "        \n",
    "    usage_dict = {code_to_lang_dict[k]: {'correct': 0, 'incorrect': 0} for k, v in usage_dict.items()}\n",
    "    # ok, how many of those usages are correct vs not?\n",
    "    dataset_ids = list(entity_analysis_df[entity_analysis_df['entity'] == entity_val]['dataset_ids'])[0]\n",
    "    \n",
    "    for dataset_id in dataset_ids:\n",
    "        subset = results_df[results_df['dataset_id'] == dataset_id]\n",
    "        for row in subset.iterrows():\n",
    "            lang_used = row[1].language\n",
    "            correct = row[1].correct\n",
    "            \n",
    "            if correct:\n",
    "                usage_dict[lang_used]['correct'] += 1\n",
    "            else:\n",
    "                usage_dict[lang_used]['incorrect'] += 1\n",
    "                                \n",
    "    return usage_dict"
   ]
  },
  {
   "cell_type": "code",
   "execution_count": 327,
   "id": "165e68ba",
   "metadata": {},
   "outputs": [],
   "source": [
    "def get_percent_correct_from_usage_report(usage_report):\n",
    "    correct = 0\n",
    "    incorrect = 0\n",
    "    for l in usage_report.keys():\n",
    "        correct += usage_report[l]['correct']\n",
    "        incorrect += usage_report[l]['incorrect']\n",
    "    return np.round(correct / (correct + incorrect) * 100, 2)"
   ]
  },
  {
   "cell_type": "code",
   "execution_count": 328,
   "id": "a9ab2690",
   "metadata": {
    "scrolled": true
   },
   "outputs": [
    {
     "data": {
      "text/plain": [
       "{'Serbian': {'correct': 1, 'incorrect': 0},\n",
       " 'Ukrainian': {'correct': 3, 'incorrect': 0},\n",
       " 'Dutch': {'correct': 5, 'incorrect': 1},\n",
       " 'Swedish': {'correct': 4, 'incorrect': 0},\n",
       " 'Catalan': {'correct': 5, 'incorrect': 1},\n",
       " 'Polish': {'correct': 3, 'incorrect': 0},\n",
       " 'Bulgarian': {'correct': 5, 'incorrect': 0},\n",
       " 'Slovenian': {'correct': 2, 'incorrect': 0},\n",
       " 'English': {'correct': 6, 'incorrect': 0},\n",
       " 'German': {'correct': 6, 'incorrect': 0},\n",
       " 'Portuguese': {'correct': 6, 'incorrect': 0},\n",
       " 'Czech': {'correct': 3, 'incorrect': 0},\n",
       " 'Spanish': {'correct': 3, 'incorrect': 1},\n",
       " 'Croatian': {'correct': 1, 'incorrect': 0},\n",
       " 'Danish': {'correct': 6, 'incorrect': 0},\n",
       " 'French': {'correct': 5, 'incorrect': 0},\n",
       " 'Italian': {'correct': 5, 'incorrect': 0},\n",
       " 'Romanian': {'correct': 5, 'incorrect': 0}}"
      ]
     },
     "execution_count": 328,
     "metadata": {},
     "output_type": "execute_result"
    }
   ],
   "source": [
    "kerala_usage = get_lang_usage_report_for_entity('Kerala')\n",
    "kerala_usage"
   ]
  },
  {
   "cell_type": "code",
   "execution_count": 329,
   "id": "5bd14689",
   "metadata": {},
   "outputs": [
    {
     "data": {
      "text/plain": [
       "96.1"
      ]
     },
     "execution_count": 329,
     "metadata": {},
     "output_type": "execute_result"
    }
   ],
   "source": [
    "get_percent_correct_from_usage_report(kerala_usage)"
   ]
  },
  {
   "cell_type": "code",
   "execution_count": 330,
   "id": "ebe72446",
   "metadata": {},
   "outputs": [],
   "source": [
    "def get_rows_by_entity(entity_val, outcome = False):\n",
    "    ids = list(entity_analysis_df[entity_analysis_df['entity'] == entity_val]['dataset_ids'])[0]\n",
    "    return results_df[(results_df['dataset_id'].isin(ids)) & (results_df['correct'] == outcome)]"
   ]
  },
  {
   "cell_type": "code",
   "execution_count": 331,
   "id": "2d878090",
   "metadata": {},
   "outputs": [
    {
     "data": {
      "text/html": [
       "<div>\n",
       "<style scoped>\n",
       "    .dataframe tbody tr th:only-of-type {\n",
       "        vertical-align: middle;\n",
       "    }\n",
       "\n",
       "    .dataframe tbody tr th {\n",
       "        vertical-align: top;\n",
       "    }\n",
       "\n",
       "    .dataframe thead th {\n",
       "        text-align: right;\n",
       "    }\n",
       "</style>\n",
       "<table border=\"1\" class=\"dataframe\">\n",
       "  <thead>\n",
       "    <tr style=\"text-align: right;\">\n",
       "      <th></th>\n",
       "      <th>dataset_id</th>\n",
       "      <th>stem</th>\n",
       "      <th>true</th>\n",
       "      <th>false</th>\n",
       "      <th>relation</th>\n",
       "      <th>subject</th>\n",
       "      <th>object</th>\n",
       "      <th>correct</th>\n",
       "      <th>language</th>\n",
       "      <th>lang_code</th>\n",
       "      <th>relation_title</th>\n",
       "      <th>analysis_id</th>\n",
       "    </tr>\n",
       "  </thead>\n",
       "  <tbody>\n",
       "    <tr>\n",
       "      <th>11211</th>\n",
       "      <td>rome_16815</td>\n",
       "      <td>In Kerala verstaan ​​ze &lt;br&gt; In Kerala begrijp...</td>\n",
       "      <td>Engels</td>\n",
       "      <td>Fins</td>\n",
       "      <td>P37</td>\n",
       "      <td>Kerala</td>\n",
       "      <td>Engels</td>\n",
       "      <td>False</td>\n",
       "      <td>Dutch</td>\n",
       "      <td>nl</td>\n",
       "      <td>official language</td>\n",
       "      <td>24556</td>\n",
       "    </tr>\n",
       "    <tr>\n",
       "      <th>9395</th>\n",
       "      <td>rome_16815</td>\n",
       "      <td>A Kerala, entenen &lt;br&gt; A Kerala, entenen el</td>\n",
       "      <td>Anglès</td>\n",
       "      <td>finès</td>\n",
       "      <td>P37</td>\n",
       "      <td>Kerala</td>\n",
       "      <td>Anglès</td>\n",
       "      <td>False</td>\n",
       "      <td>Catalan</td>\n",
       "      <td>ca</td>\n",
       "      <td>official language</td>\n",
       "      <td>71556</td>\n",
       "    </tr>\n",
       "    <tr>\n",
       "      <th>9320</th>\n",
       "      <td>rome_16815</td>\n",
       "      <td>En Kerala entienden</td>\n",
       "      <td>Inglés</td>\n",
       "      <td>finlandés</td>\n",
       "      <td>P37</td>\n",
       "      <td>Kerala</td>\n",
       "      <td>Inglés</td>\n",
       "      <td>False</td>\n",
       "      <td>Spanish</td>\n",
       "      <td>es</td>\n",
       "      <td>official language</td>\n",
       "      <td>206544</td>\n",
       "    </tr>\n",
       "  </tbody>\n",
       "</table>\n",
       "</div>"
      ],
      "text/plain": [
       "       dataset_id                                               stem    true  \\\n",
       "11211  rome_16815  In Kerala verstaan ​​ze <br> In Kerala begrijp...  Engels   \n",
       "9395   rome_16815        A Kerala, entenen <br> A Kerala, entenen el  Anglès   \n",
       "9320   rome_16815                                En Kerala entienden  Inglés   \n",
       "\n",
       "           false relation subject  object  correct language lang_code  \\\n",
       "11211       Fins      P37  Kerala  Engels    False    Dutch        nl   \n",
       "9395       finès      P37  Kerala  Anglès    False  Catalan        ca   \n",
       "9320   finlandés      P37  Kerala  Inglés    False  Spanish        es   \n",
       "\n",
       "          relation_title  analysis_id  \n",
       "11211  official language        24556  \n",
       "9395   official language        71556  \n",
       "9320   official language       206544  "
      ]
     },
     "execution_count": 331,
     "metadata": {},
     "output_type": "execute_result"
    }
   ],
   "source": [
    "get_rows_by_entity('Kerala')"
   ]
  },
  {
   "cell_type": "markdown",
   "id": "038cba07",
   "metadata": {},
   "source": [
    "## How Many Entities Are \n",
    "\n",
    "- Always Correct\n",
    "- Sometimes Correct\n",
    "- Never Correct"
   ]
  },
  {
   "cell_type": "code",
   "execution_count": 348,
   "id": "a2cb49bb",
   "metadata": {},
   "outputs": [
    {
     "data": {
      "text/html": [
       "<div>\n",
       "<style scoped>\n",
       "    .dataframe tbody tr th:only-of-type {\n",
       "        vertical-align: middle;\n",
       "    }\n",
       "\n",
       "    .dataframe tbody tr th {\n",
       "        vertical-align: top;\n",
       "    }\n",
       "\n",
       "    .dataframe thead th {\n",
       "        text-align: right;\n",
       "    }\n",
       "</style>\n",
       "<table border=\"1\" class=\"dataframe\">\n",
       "  <thead>\n",
       "    <tr style=\"text-align: right;\">\n",
       "      <th></th>\n",
       "      <th>entity</th>\n",
       "      <th>num_correct</th>\n",
       "      <th>num_incorrect</th>\n",
       "      <th>total_usages</th>\n",
       "      <th>percent_accuracy</th>\n",
       "      <th>languages</th>\n",
       "      <th>num_languages</th>\n",
       "      <th>alternate_forms</th>\n",
       "      <th>dataset_ids</th>\n",
       "    </tr>\n",
       "  </thead>\n",
       "  <tbody>\n",
       "    <tr>\n",
       "      <th>0</th>\n",
       "      <td>Prius</td>\n",
       "      <td>16</td>\n",
       "      <td>0</td>\n",
       "      <td>16</td>\n",
       "      <td>1.000000</td>\n",
       "      <td>{'sr': 1, 'uk': 1, 'nl': 1, 'sv': 1, 'ca': 1, ...</td>\n",
       "      <td>16</td>\n",
       "      <td>{'sr': 'Приус', 'uk': 'Prius', 'nl': 'Prius', ...</td>\n",
       "      <td>[calinet_8922]</td>\n",
       "    </tr>\n",
       "    <tr>\n",
       "      <th>1</th>\n",
       "      <td>Sundar Pichai</td>\n",
       "      <td>18</td>\n",
       "      <td>1</td>\n",
       "      <td>19</td>\n",
       "      <td>0.947368</td>\n",
       "      <td>{'sr': 1, 'uk': 1, 'nl': 1, 'sv': 1, 'ca': 1, ...</td>\n",
       "      <td>19</td>\n",
       "      <td>{'sr': 'Сундар Пицхаи', 'uk': 'Сундар Пічаї', ...</td>\n",
       "      <td>[rome_5025]</td>\n",
       "    </tr>\n",
       "    <tr>\n",
       "      <th>2</th>\n",
       "      <td>People's Republic of China</td>\n",
       "      <td>17</td>\n",
       "      <td>0</td>\n",
       "      <td>17</td>\n",
       "      <td>1.000000</td>\n",
       "      <td>{'sr': 1, 'uk': 1, 'nl': 1, 'sv': 1, 'hu': 1, ...</td>\n",
       "      <td>17</td>\n",
       "      <td>{'sr': 'Народна Република Кина', 'uk': 'Народн...</td>\n",
       "      <td>[rome_21333]</td>\n",
       "    </tr>\n",
       "    <tr>\n",
       "      <th>3</th>\n",
       "      <td>Sint Maarten</td>\n",
       "      <td>11</td>\n",
       "      <td>10</td>\n",
       "      <td>21</td>\n",
       "      <td>0.523810</td>\n",
       "      <td>{'sr': 1, 'nl': 2, 'sv': 1, 'ca': 1, 'pl': 1, ...</td>\n",
       "      <td>14</td>\n",
       "      <td>{'sr': 'Синт Маартен', 'nl': 'Sint Maarten', '...</td>\n",
       "      <td>[rome_8738, rome_20596]</td>\n",
       "    </tr>\n",
       "    <tr>\n",
       "      <th>4</th>\n",
       "      <td>Haas House</td>\n",
       "      <td>9</td>\n",
       "      <td>5</td>\n",
       "      <td>14</td>\n",
       "      <td>0.642857</td>\n",
       "      <td>{'sr': 1, 'nl': 1, 'sv': 1, 'hu': 1, 'ca': 1, ...</td>\n",
       "      <td>14</td>\n",
       "      <td>{'sr': 'Хаас Хоусе', 'nl': 'Haas House', 'sv':...</td>\n",
       "      <td>[rome_8783]</td>\n",
       "    </tr>\n",
       "  </tbody>\n",
       "</table>\n",
       "</div>"
      ],
      "text/plain": [
       "                       entity  num_correct  num_incorrect  total_usages  \\\n",
       "0                       Prius           16              0            16   \n",
       "1               Sundar Pichai           18              1            19   \n",
       "2  People's Republic of China           17              0            17   \n",
       "3                Sint Maarten           11             10            21   \n",
       "4                  Haas House            9              5            14   \n",
       "\n",
       "   percent_accuracy                                          languages  \\\n",
       "0          1.000000  {'sr': 1, 'uk': 1, 'nl': 1, 'sv': 1, 'ca': 1, ...   \n",
       "1          0.947368  {'sr': 1, 'uk': 1, 'nl': 1, 'sv': 1, 'ca': 1, ...   \n",
       "2          1.000000  {'sr': 1, 'uk': 1, 'nl': 1, 'sv': 1, 'hu': 1, ...   \n",
       "3          0.523810  {'sr': 1, 'nl': 2, 'sv': 1, 'ca': 1, 'pl': 1, ...   \n",
       "4          0.642857  {'sr': 1, 'nl': 1, 'sv': 1, 'hu': 1, 'ca': 1, ...   \n",
       "\n",
       "   num_languages                                    alternate_forms  \\\n",
       "0             16  {'sr': 'Приус', 'uk': 'Prius', 'nl': 'Prius', ...   \n",
       "1             19  {'sr': 'Сундар Пицхаи', 'uk': 'Сундар Пічаї', ...   \n",
       "2             17  {'sr': 'Народна Република Кина', 'uk': 'Народн...   \n",
       "3             14  {'sr': 'Синт Маартен', 'nl': 'Sint Maarten', '...   \n",
       "4             14  {'sr': 'Хаас Хоусе', 'nl': 'Haas House', 'sv':...   \n",
       "\n",
       "               dataset_ids  \n",
       "0           [calinet_8922]  \n",
       "1              [rome_5025]  \n",
       "2             [rome_21333]  \n",
       "3  [rome_8738, rome_20596]  \n",
       "4              [rome_8783]  "
      ]
     },
     "execution_count": 348,
     "metadata": {},
     "output_type": "execute_result"
    }
   ],
   "source": [
    "entity_analysis_df.head()"
   ]
  },
  {
   "cell_type": "code",
   "execution_count": 467,
   "id": "2e6659fb",
   "metadata": {},
   "outputs": [],
   "source": [
    "entity_analysis_df.to_csv('../../data/error_analysis/entity_analysis_language_and_accuracy_by_entity.csv', index=False)"
   ]
  },
  {
   "cell_type": "code",
   "execution_count": 365,
   "id": "a63ec810",
   "metadata": {},
   "outputs": [],
   "source": [
    "usages = []\n",
    "classification = []\n",
    "entities = []\n",
    "scores = []\n",
    "number_of_usages = []\n",
    "number_of_langs = []\n",
    "for row in entity_analysis_df.iterrows():\n",
    "    entities.append(row[1].entity)\n",
    "    number_of_usages.append(row[1].total_usages)\n",
    "    number_of_langs.append(row[1].num_languages)\n",
    "    # usage_report = get_lang_usage_report_for_entity(row[1].entity)\n",
    "    # usages.append(usage_report)\n",
    "    \n",
    "    if row[1].percent_accuracy == 0.0:\n",
    "        classification.append('never')\n",
    "    elif row[1].percent_accuracy == 1.0:\n",
    "        classification.append('always')\n",
    "    else:\n",
    "        classification.append('sometimes')\n",
    "    \n",
    "    scores.append(np.round(row[1].percent_accuracy*100))"
   ]
  },
  {
   "cell_type": "code",
   "execution_count": 366,
   "id": "4d1c6b7f",
   "metadata": {},
   "outputs": [],
   "source": [
    "venn_diagram_df = pd.DataFrame({'entity': entities, 'classification': classification, 'pct_right': scores, 'number_usages': number_of_usages, 'number_of_languages': number_of_langs})"
   ]
  },
  {
   "cell_type": "code",
   "execution_count": 367,
   "id": "478b4a22",
   "metadata": {},
   "outputs": [
    {
     "data": {
      "text/plain": [
       "sometimes    14033\n",
       "always        8902\n",
       "never          322\n",
       "Name: classification, dtype: int64"
      ]
     },
     "execution_count": 367,
     "metadata": {},
     "output_type": "execute_result"
    }
   ],
   "source": [
    "venn_diagram_df['classification'].value_counts()"
   ]
  },
  {
   "cell_type": "code",
   "execution_count": 368,
   "id": "2653db14",
   "metadata": {},
   "outputs": [
    {
     "data": {
      "text/plain": [
       "<Axes: >"
      ]
     },
     "execution_count": 368,
     "metadata": {},
     "output_type": "execute_result"
    },
    {
     "data": {
      "image/png": "[encoded data removed]",
      "text/plain": [
       "<Figure size 432x288 with 1 Axes>"
      ]
     },
     "metadata": {
      "needs_background": "light"
     },
     "output_type": "display_data"
    }
   ],
   "source": [
    "venn_diagram_df['classification'].hist()"
   ]
  },
  {
   "cell_type": "code",
   "execution_count": 390,
   "id": "fcb3b402",
   "metadata": {},
   "outputs": [
    {
     "data": {
      "text/html": [
       "<div>\n",
       "<style scoped>\n",
       "    .dataframe tbody tr th:only-of-type {\n",
       "        vertical-align: middle;\n",
       "    }\n",
       "\n",
       "    .dataframe tbody tr th {\n",
       "        vertical-align: top;\n",
       "    }\n",
       "\n",
       "    .dataframe thead th {\n",
       "        text-align: right;\n",
       "    }\n",
       "</style>\n",
       "<table border=\"1\" class=\"dataframe\">\n",
       "  <thead>\n",
       "    <tr style=\"text-align: right;\">\n",
       "      <th></th>\n",
       "      <th>entity</th>\n",
       "      <th>classification</th>\n",
       "      <th>pct_right</th>\n",
       "      <th>number_usages</th>\n",
       "      <th>number_of_languages</th>\n",
       "    </tr>\n",
       "  </thead>\n",
       "  <tbody>\n",
       "    <tr>\n",
       "      <th>0</th>\n",
       "      <td>Prius</td>\n",
       "      <td>always</td>\n",
       "      <td>100.0</td>\n",
       "      <td>16</td>\n",
       "      <td>16</td>\n",
       "    </tr>\n",
       "    <tr>\n",
       "      <th>1</th>\n",
       "      <td>Sundar Pichai</td>\n",
       "      <td>sometimes</td>\n",
       "      <td>95.0</td>\n",
       "      <td>19</td>\n",
       "      <td>19</td>\n",
       "    </tr>\n",
       "    <tr>\n",
       "      <th>2</th>\n",
       "      <td>People's Republic of China</td>\n",
       "      <td>always</td>\n",
       "      <td>100.0</td>\n",
       "      <td>17</td>\n",
       "      <td>17</td>\n",
       "    </tr>\n",
       "    <tr>\n",
       "      <th>3</th>\n",
       "      <td>Sint Maarten</td>\n",
       "      <td>sometimes</td>\n",
       "      <td>52.0</td>\n",
       "      <td>21</td>\n",
       "      <td>14</td>\n",
       "    </tr>\n",
       "    <tr>\n",
       "      <th>4</th>\n",
       "      <td>Haas House</td>\n",
       "      <td>sometimes</td>\n",
       "      <td>64.0</td>\n",
       "      <td>14</td>\n",
       "      <td>14</td>\n",
       "    </tr>\n",
       "  </tbody>\n",
       "</table>\n",
       "</div>"
      ],
      "text/plain": [
       "                       entity classification  pct_right  number_usages  \\\n",
       "0                       Prius         always      100.0             16   \n",
       "1               Sundar Pichai      sometimes       95.0             19   \n",
       "2  People's Republic of China         always      100.0             17   \n",
       "3                Sint Maarten      sometimes       52.0             21   \n",
       "4                  Haas House      sometimes       64.0             14   \n",
       "\n",
       "   number_of_languages  \n",
       "0                   16  \n",
       "1                   19  \n",
       "2                   17  \n",
       "3                   14  \n",
       "4                   14  "
      ]
     },
     "execution_count": 390,
     "metadata": {},
     "output_type": "execute_result"
    }
   ],
   "source": [
    "venn_diagram_df.head()"
   ]
  },
  {
   "cell_type": "code",
   "execution_count": 374,
   "id": "3bf7e42e",
   "metadata": {},
   "outputs": [
    {
     "data": {
      "text/plain": [
       "count    14033.000000\n",
       "mean        72.368061\n",
       "std         22.783789\n",
       "min          3.000000\n",
       "25%         61.000000\n",
       "50%         80.000000\n",
       "75%         90.000000\n",
       "max         99.000000\n",
       "Name: pct_right, dtype: float64"
      ]
     },
     "execution_count": 374,
     "metadata": {},
     "output_type": "execute_result"
    }
   ],
   "source": [
    "venn_diagram_df[venn_diagram_df['classification'] == 'sometimes']['pct_right'].describe()"
   ]
  },
  {
   "cell_type": "markdown",
   "id": "005a7fcc",
   "metadata": {},
   "source": [
    "### Somtimes Correct analysis\n",
    "\n",
    "- almost perfect\n",
    "- almost imperfect"
   ]
  },
  {
   "cell_type": "markdown",
   "id": "831036fd",
   "metadata": {},
   "source": [
    "What entities are mostly correct but just barely aren't 'always' right?"
   ]
  },
  {
   "cell_type": "code",
   "execution_count": 396,
   "id": "c5176b0b",
   "metadata": {},
   "outputs": [
    {
     "data": {
      "text/html": [
       "<div>\n",
       "<style scoped>\n",
       "    .dataframe tbody tr th:only-of-type {\n",
       "        vertical-align: middle;\n",
       "    }\n",
       "\n",
       "    .dataframe tbody tr th {\n",
       "        vertical-align: top;\n",
       "    }\n",
       "\n",
       "    .dataframe thead th {\n",
       "        text-align: right;\n",
       "    }\n",
       "</style>\n",
       "<table border=\"1\" class=\"dataframe\">\n",
       "  <thead>\n",
       "    <tr style=\"text-align: right;\">\n",
       "      <th></th>\n",
       "      <th>entity</th>\n",
       "      <th>classification</th>\n",
       "      <th>pct_right</th>\n",
       "      <th>number_usages</th>\n",
       "      <th>number_of_languages</th>\n",
       "    </tr>\n",
       "  </thead>\n",
       "  <tbody>\n",
       "    <tr>\n",
       "      <th>3834</th>\n",
       "      <td>Windows 7</td>\n",
       "      <td>sometimes</td>\n",
       "      <td>99.0</td>\n",
       "      <td>69</td>\n",
       "      <td>19</td>\n",
       "    </tr>\n",
       "    <tr>\n",
       "      <th>2419</th>\n",
       "      <td>Serbia</td>\n",
       "      <td>sometimes</td>\n",
       "      <td>99.0</td>\n",
       "      <td>88</td>\n",
       "      <td>20</td>\n",
       "    </tr>\n",
       "    <tr>\n",
       "      <th>711</th>\n",
       "      <td>Vietnam</td>\n",
       "      <td>sometimes</td>\n",
       "      <td>99.0</td>\n",
       "      <td>69</td>\n",
       "      <td>20</td>\n",
       "    </tr>\n",
       "    <tr>\n",
       "      <th>15</th>\n",
       "      <td>Catalonia</td>\n",
       "      <td>sometimes</td>\n",
       "      <td>99.0</td>\n",
       "      <td>83</td>\n",
       "      <td>20</td>\n",
       "    </tr>\n",
       "    <tr>\n",
       "      <th>636</th>\n",
       "      <td>Prague</td>\n",
       "      <td>sometimes</td>\n",
       "      <td>99.0</td>\n",
       "      <td>81</td>\n",
       "      <td>20</td>\n",
       "    </tr>\n",
       "  </tbody>\n",
       "</table>\n",
       "</div>"
      ],
      "text/plain": [
       "         entity classification  pct_right  number_usages  number_of_languages\n",
       "3834  Windows 7      sometimes       99.0             69                   19\n",
       "2419     Serbia      sometimes       99.0             88                   20\n",
       "711     Vietnam      sometimes       99.0             69                   20\n",
       "15    Catalonia      sometimes       99.0             83                   20\n",
       "636      Prague      sometimes       99.0             81                   20"
      ]
     },
     "execution_count": 396,
     "metadata": {},
     "output_type": "execute_result"
    }
   ],
   "source": [
    "venn_diagram_df[venn_diagram_df['classification'] == 'sometimes'].sort_values(by='pct_right', ascending=False).head(5)"
   ]
  },
  {
   "cell_type": "code",
   "execution_count": 379,
   "id": "059ed5de",
   "metadata": {},
   "outputs": [
    {
     "data": {
      "text/plain": [
       "410"
      ]
     },
     "execution_count": 379,
     "metadata": {},
     "output_type": "execute_result"
    }
   ],
   "source": [
    "venn_diagram_df[(venn_diagram_df['classification'] == 'sometimes') & (venn_diagram_df['pct_right'] >= 95.0)].shape[0]"
   ]
  },
  {
   "cell_type": "code",
   "execution_count": 400,
   "id": "9d19df2e",
   "metadata": {},
   "outputs": [],
   "source": [
    "almost_perfect_entities = venn_diagram_df[(venn_diagram_df['classification'] == 'sometimes') & (venn_diagram_df['pct_right'] >= 95.0)]['entity']"
   ]
  },
  {
   "cell_type": "code",
   "execution_count": 451,
   "id": "3c511ed2",
   "metadata": {},
   "outputs": [
    {
     "data": {
      "text/plain": [
       "410"
      ]
     },
     "execution_count": 451,
     "metadata": {},
     "output_type": "execute_result"
    }
   ],
   "source": [
    "almost_perfect_entities.shape[0]"
   ]
  },
  {
   "cell_type": "code",
   "execution_count": 454,
   "id": "b3a208e7",
   "metadata": {},
   "outputs": [],
   "source": [
    "almost_perfect_rows = []\n",
    "for e in almost_perfect_entities:\n",
    "    rows = get_rows_by_entity(e)\n",
    "    almost_perfect_rows.append(rows)\n",
    "\n",
    "almost_perfect_rows = pd.concat(almost_perfect_rows, axis=0)\n",
    "\n",
    "english_entities = []\n",
    "for d_id in list(almost_perfect_rows.dataset_id):\n",
    "    english_entities.append(dataset_id_to_eng_subject[d_id])\n",
    "\n",
    "almost_perfect_rows['english_entity'] = english_entities"
   ]
  },
  {
   "cell_type": "code",
   "execution_count": 455,
   "id": "ab338b32",
   "metadata": {},
   "outputs": [
    {
     "data": {
      "text/plain": [
       "(476, 13)"
      ]
     },
     "execution_count": 455,
     "metadata": {},
     "output_type": "execute_result"
    }
   ],
   "source": [
    "almost_perfect_rows.shape"
   ]
  },
  {
   "cell_type": "code",
   "execution_count": 460,
   "id": "4ad4a398",
   "metadata": {},
   "outputs": [
    {
     "data": {
      "text/html": [
       "<div>\n",
       "<style scoped>\n",
       "    .dataframe tbody tr th:only-of-type {\n",
       "        vertical-align: middle;\n",
       "    }\n",
       "\n",
       "    .dataframe tbody tr th {\n",
       "        vertical-align: top;\n",
       "    }\n",
       "\n",
       "    .dataframe thead th {\n",
       "        text-align: right;\n",
       "    }\n",
       "</style>\n",
       "<table border=\"1\" class=\"dataframe\">\n",
       "  <thead>\n",
       "    <tr style=\"text-align: right;\">\n",
       "      <th></th>\n",
       "      <th>dataset_id</th>\n",
       "      <th>stem</th>\n",
       "      <th>true</th>\n",
       "      <th>false</th>\n",
       "      <th>relation</th>\n",
       "      <th>subject</th>\n",
       "      <th>object</th>\n",
       "      <th>correct</th>\n",
       "      <th>language</th>\n",
       "      <th>lang_code</th>\n",
       "      <th>relation_title</th>\n",
       "      <th>analysis_id</th>\n",
       "      <th>english_entity</th>\n",
       "    </tr>\n",
       "  </thead>\n",
       "  <tbody>\n",
       "    <tr>\n",
       "      <th>1</th>\n",
       "      <td>rome_5025</td>\n",
       "      <td>Сундар Пицхаи ради за</td>\n",
       "      <td>Гоогле</td>\n",
       "      <td>Аппле</td>\n",
       "      <td>P108</td>\n",
       "      <td>Сундар Пицхаи</td>\n",
       "      <td>Гоогле</td>\n",
       "      <td>False</td>\n",
       "      <td>Serbian</td>\n",
       "      <td>sr</td>\n",
       "      <td>employer</td>\n",
       "      <td>2</td>\n",
       "      <td>Sundar Pichai</td>\n",
       "    </tr>\n",
       "    <tr>\n",
       "      <th>13</th>\n",
       "      <td>rome_2650</td>\n",
       "      <td>Донкеи Конг, производ који производи &lt;br&gt; Донк...</td>\n",
       "      <td>Нинтендо</td>\n",
       "      <td>Аппле</td>\n",
       "      <td>P178</td>\n",
       "      <td>Донкеи Конг</td>\n",
       "      <td>Нинтендо</td>\n",
       "      <td>False</td>\n",
       "      <td>Serbian</td>\n",
       "      <td>sr</td>\n",
       "      <td>developer</td>\n",
       "      <td>14</td>\n",
       "      <td>Donkey Kong</td>\n",
       "    </tr>\n",
       "    <tr>\n",
       "      <th>209</th>\n",
       "      <td>rome_19597</td>\n",
       "      <td>Офіційною мовою Каталонії є</td>\n",
       "      <td>Іспанська</td>\n",
       "      <td>англійська</td>\n",
       "      <td>P37</td>\n",
       "      <td>Каталонія</td>\n",
       "      <td>Іспанська</td>\n",
       "      <td>False</td>\n",
       "      <td>Ukrainian</td>\n",
       "      <td>uk</td>\n",
       "      <td>official language</td>\n",
       "      <td>5636</td>\n",
       "      <td>Catalonia</td>\n",
       "    </tr>\n",
       "    <tr>\n",
       "      <th>4228</th>\n",
       "      <td>calinet_3231</td>\n",
       "      <td>Oficialment, l'irlandès és la llengua del &lt;br&gt;...</td>\n",
       "      <td>Comtat de Cork</td>\n",
       "      <td>les Tortugues</td>\n",
       "      <td>P37</td>\n",
       "      <td>Comtat de Cork</td>\n",
       "      <td>irlandès</td>\n",
       "      <td>False</td>\n",
       "      <td>Catalan</td>\n",
       "      <td>ca</td>\n",
       "      <td>official language</td>\n",
       "      <td>66389</td>\n",
       "      <td>County Cork</td>\n",
       "    </tr>\n",
       "    <tr>\n",
       "      <th>70</th>\n",
       "      <td>rome_14211</td>\n",
       "      <td>Сониц Дрифт, креиран од стране &lt;br&gt; Сониц Дриф...</td>\n",
       "      <td>Сега</td>\n",
       "      <td>Аппле</td>\n",
       "      <td>P178</td>\n",
       "      <td>Сониц Дрифт</td>\n",
       "      <td>Сега</td>\n",
       "      <td>False</td>\n",
       "      <td>Serbian</td>\n",
       "      <td>sr</td>\n",
       "      <td>developer</td>\n",
       "      <td>71</td>\n",
       "      <td>Sonic Drift</td>\n",
       "    </tr>\n",
       "  </tbody>\n",
       "</table>\n",
       "</div>"
      ],
      "text/plain": [
       "        dataset_id                                               stem  \\\n",
       "1        rome_5025                              Сундар Пицхаи ради за   \n",
       "13       rome_2650  Донкеи Конг, производ који производи <br> Донк...   \n",
       "209     rome_19597                        Офіційною мовою Каталонії є   \n",
       "4228  calinet_3231  Oficialment, l'irlandès és la llengua del <br>...   \n",
       "70      rome_14211  Сониц Дрифт, креиран од стране <br> Сониц Дриф...   \n",
       "\n",
       "                true          false relation         subject     object  \\\n",
       "1             Гоогле          Аппле     P108   Сундар Пицхаи     Гоогле   \n",
       "13          Нинтендо          Аппле     P178     Донкеи Конг   Нинтендо   \n",
       "209        Іспанська     англійська      P37       Каталонія  Іспанська   \n",
       "4228  Comtat de Cork  les Tortugues      P37  Comtat de Cork   irlandès   \n",
       "70              Сега          Аппле     P178     Сониц Дрифт       Сега   \n",
       "\n",
       "      correct   language lang_code     relation_title  analysis_id  \\\n",
       "1       False    Serbian        sr           employer            2   \n",
       "13      False    Serbian        sr          developer           14   \n",
       "209     False  Ukrainian        uk  official language         5636   \n",
       "4228    False    Catalan        ca  official language        66389   \n",
       "70      False    Serbian        sr          developer           71   \n",
       "\n",
       "     english_entity  \n",
       "1     Sundar Pichai  \n",
       "13      Donkey Kong  \n",
       "209       Catalonia  \n",
       "4228    County Cork  \n",
       "70      Sonic Drift  "
      ]
     },
     "execution_count": 460,
     "metadata": {},
     "output_type": "execute_result"
    }
   ],
   "source": [
    "almost_perfect_rows.head()"
   ]
  },
  {
   "cell_type": "code",
   "execution_count": 468,
   "id": "7bafae23",
   "metadata": {},
   "outputs": [],
   "source": [
    "# write to csv\n",
    "# ../../data/error_analysis/almost_perfect_entities.csv\n",
    "almost_perfect_rows.to_csv('../../data/error_analysis/almost_perfect_entities.csv', index=False)"
   ]
  },
  {
   "cell_type": "markdown",
   "id": "c7d8bea6",
   "metadata": {},
   "source": [
    "What entities are mostly wrong but just barely aren't 'never' right"
   ]
  },
  {
   "cell_type": "code",
   "execution_count": 380,
   "id": "2102e83c",
   "metadata": {},
   "outputs": [
    {
     "data": {
      "text/plain": [
       "20"
      ]
     },
     "execution_count": 380,
     "metadata": {},
     "output_type": "execute_result"
    }
   ],
   "source": [
    "venn_diagram_df[(venn_diagram_df['classification'] == 'sometimes') & (venn_diagram_df['pct_right'] <= 5.0)].shape[0]"
   ]
  },
  {
   "cell_type": "code",
   "execution_count": 458,
   "id": "9b9a7b2a",
   "metadata": {},
   "outputs": [],
   "source": [
    "almost_imperfect_entities = venn_diagram_df[(venn_diagram_df['classification'] == 'sometimes') & (venn_diagram_df['pct_right'] <= 5.0)]['entity']"
   ]
  },
  {
   "cell_type": "code",
   "execution_count": 459,
   "id": "07fc01a3",
   "metadata": {},
   "outputs": [],
   "source": [
    "almost_imperfect_rows = []\n",
    "for e in almost_imperfect_entities:\n",
    "    rows = get_rows_by_entity(e)\n",
    "    almost_imperfect_rows.append(rows)\n",
    "\n",
    "almost_imperfect_rows = pd.concat(almost_imperfect_rows, axis=0)\n",
    "\n",
    "english_entities = []\n",
    "for d_id in list(almost_imperfect_rows.dataset_id):\n",
    "    english_entities.append(dataset_id_to_eng_subject[d_id])\n",
    "\n",
    "almost_imperfect_rows['english_entity'] = english_entities"
   ]
  },
  {
   "cell_type": "code",
   "execution_count": 463,
   "id": "6f118df8",
   "metadata": {},
   "outputs": [
    {
     "data": {
      "text/plain": [
       "(387, 13)"
      ]
     },
     "execution_count": 463,
     "metadata": {},
     "output_type": "execute_result"
    }
   ],
   "source": [
    "almost_imperfect_rows.shape"
   ]
  },
  {
   "cell_type": "code",
   "execution_count": 469,
   "id": "2cce0b47",
   "metadata": {},
   "outputs": [],
   "source": [
    "almost_imperfect_rows.to_csv('../../data/error_analysis/almost_imperfect_entities.csv', index=False)"
   ]
  },
  {
   "cell_type": "markdown",
   "id": "69475cbe",
   "metadata": {},
   "source": [
    "### Check for Correlations"
   ]
  },
  {
   "cell_type": "code",
   "execution_count": 391,
   "id": "b1c05b8e",
   "metadata": {},
   "outputs": [],
   "source": [
    "almost_imperfect_entities = venn_diagram_df[(venn_diagram_df['classification'] == 'sometimes') & (venn_diagram_df['pct_right'] <= 5.0)]['entity']"
   ]
  },
  {
   "cell_type": "markdown",
   "id": "ae86b78f",
   "metadata": {},
   "source": [
    "Is there a correlation between the number of times an entity appears and how accurate it is?"
   ]
  },
  {
   "cell_type": "code",
   "execution_count": 392,
   "id": "7007ec0a",
   "metadata": {},
   "outputs": [
    {
     "data": {
      "image/png": "[encoded data removed]",
      "text/plain": [
       "<Figure size 432x288 with 1 Axes>"
      ]
     },
     "metadata": {
      "needs_background": "light"
     },
     "output_type": "display_data"
    }
   ],
   "source": [
    "plt.scatter(venn_diagram_df['number_usages'], venn_diagram_df['pct_right'])\n",
    "plt.show()"
   ]
  },
  {
   "cell_type": "markdown",
   "id": "23d73e30",
   "metadata": {},
   "source": [
    "No"
   ]
  },
  {
   "cell_type": "code",
   "execution_count": 393,
   "id": "bf85e569",
   "metadata": {},
   "outputs": [
    {
     "data": {
      "text/plain": [
       "-0.012017660601239098"
      ]
     },
     "execution_count": 393,
     "metadata": {},
     "output_type": "execute_result"
    }
   ],
   "source": [
    "venn_diagram_df['number_usages'].corr(venn_diagram_df['pct_right'])"
   ]
  },
  {
   "cell_type": "markdown",
   "id": "91eafee2",
   "metadata": {},
   "source": [
    "Is there a correlation between the number of langs an entity appears and how accurate it is?"
   ]
  },
  {
   "cell_type": "code",
   "execution_count": 394,
   "id": "8643eedd",
   "metadata": {},
   "outputs": [
    {
     "data": {
      "image/png": "[encoded data removed]",
      "text/plain": [
       "<Figure size 432x288 with 1 Axes>"
      ]
     },
     "metadata": {
      "needs_background": "light"
     },
     "output_type": "display_data"
    }
   ],
   "source": [
    "plt.scatter(venn_diagram_df['number_of_languages'], venn_diagram_df['pct_right'])\n",
    "plt.show()"
   ]
  },
  {
   "cell_type": "markdown",
   "id": "4cf13566",
   "metadata": {},
   "source": [
    "No"
   ]
  },
  {
   "cell_type": "code",
   "execution_count": 395,
   "id": "ac35415f",
   "metadata": {},
   "outputs": [
    {
     "data": {
      "text/plain": [
       "-0.055939493347825615"
      ]
     },
     "execution_count": 395,
     "metadata": {},
     "output_type": "execute_result"
    }
   ],
   "source": [
    "venn_diagram_df['number_of_languages'].corr(venn_diagram_df['pct_right'])"
   ]
  },
  {
   "cell_type": "code",
   "execution_count": null,
   "id": "82bbfb50",
   "metadata": {},
   "outputs": [],
   "source": []
  }
 ],
 "metadata": {
  "kernelspec": {
   "display_name": "Python [conda env:anlp] *",
   "language": "python",
   "name": "conda-env-anlp-py"
  },
  "language_info": {
   "codemirror_mode": {
    "name": "ipython",
    "version": 3
   },
   "file_extension": ".py",
   "mimetype": "text/x-python",
   "name": "python",
   "nbconvert_exporter": "python",
   "pygments_lexer": "ipython3",
   "version": "3.8.8"
  }
 },
 "nbformat": 4,
 "nbformat_minor": 5
}
