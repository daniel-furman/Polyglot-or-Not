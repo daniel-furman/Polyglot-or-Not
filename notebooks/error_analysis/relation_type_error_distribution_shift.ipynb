{
 "cells": [
  {
   "cell_type": "code",
   "execution_count": null,
   "metadata": {},
   "outputs": [],
   "source": [
    "import pandas as pd\n",
    "import glob\n",
    "import datasets\n",
    "import numpy as np"
   ]
  },
  {
   "cell_type": "code",
   "execution_count": null,
   "metadata": {},
   "outputs": [],
   "source": [
    "results_dict = {}\n",
    "results_dict['language'] = []\n",
    "results_dict['relation'] = []\n",
    "results_dict['percentage change'] = []\n",
    "results_dict['new ratio of rows'] = []\n",
    "results_dict['old ratio of rows'] = []\n",
    "\n",
    "\n",
    "hf_df = datasets.load_dataset('CalibraGPT/Fact-Completion')\n",
    "file_names = glob.glob(\"../../data/result_logs/llama/error-analysis/*.csv\")\n",
    "\n",
    "# confirm grabbing data correctly against LLaMa figure\n",
    "# uncomment print statement at end of for loop to see\n",
    "for file in file_names:\n",
    "    language = file.split('.csv')[0].split('-')[-1].capitalize()\n",
    "    error_df = pd.read_csv(file)\n",
    "    full_hf_df = hf_df[file.split('.csv')[0].split('-')[-1].capitalize()]\n",
    "    # print(language, \":\", np.round((len(full_hf_df) - len(error_df))/len(full_hf_df) * 100, 3), \"%\")\n",
    "\n",
    "# calculate the distribution shift by language by relation present in the errors\n",
    "for file in file_names:\n",
    "    language = file.split('.csv')[0].split('-')[-1].capitalize()\n",
    "    error_df = pd.read_csv(file)\n",
    "    full_hf_df = hf_df[file.split('.csv')[0].split('-')[-1].capitalize()]\n",
    "    full_hf_df = full_hf_df.to_pandas()\n",
    "    relations = np.unique(np.array(error_df.relation.tolist()))\n",
    "    for relation in relations:\n",
    "        new_ratio = len(error_df[error_df[\"relation\"] == relation]) / len(error_df)\n",
    "        old_ratio = len(full_hf_df[full_hf_df[\"relation\"] == relation]) / len(full_hf_df)\n",
    "        results_dict['relation'].append(relation)\n",
    "        results_dict['language'].append(language)\n",
    "        results_dict['percentage change'].append(np.round(100*(new_ratio - old_ratio)/old_ratio, 3))\n",
    "        results_dict['new ratio of rows'].append(np.round(new_ratio, 3))\n",
    "        results_dict['old ratio of rows'].append(np.round(old_ratio, 3))"
   ]
  },
  {
   "cell_type": "code",
   "execution_count": null,
   "metadata": {},
   "outputs": [],
   "source": [
    "df = pd.DataFrame.from_dict(results_dict)\n",
    "quant_error_analysis = df.sort_values(by=['percentage change'], ascending=False)\n",
    "quant_error_analysis.to_csv('../../data/error_analysis/canonical_quant_error_analysis.csv')\n",
    "\n",
    "# top % increase across all languages\n",
    "quant_error_analysis.head(25)"
   ]
  },
  {
   "cell_type": "code",
   "execution_count": null,
   "metadata": {},
   "outputs": [],
   "source": [
    "# average across all langs\n",
    "\n",
    "grouped_quant_error_analysis = pd.DataFrame(quant_error_analysis.groupby(['relation'])[\"percentage change\"].mean())\n",
    "\n",
    "pd_df = {}\n",
    "pd_df['relation'] = grouped_quant_error_analysis.index.tolist()\n",
    "pd_df['mean percentage change across langs'] = grouped_quant_error_analysis['percentage change'].tolist()\n",
    "\n",
    "grouped_quant_error_analysis = pd.DataFrame.from_dict(pd_df)\n",
    "grouped_quant_error_analysis = grouped_quant_error_analysis.sort_values('mean percentage change across langs', ascending=False).reset_index(drop=True)\n",
    "\n",
    "grouped_quant_error_analysis.to_csv('../../data/error_analysis/aggregate_quant_error_analysis.csv')\n",
    "grouped_quant_error_analysis\n"
   ]
  },
  {
   "cell_type": "code",
   "execution_count": null,
   "metadata": {},
   "outputs": [],
   "source": []
  }
 ],
 "metadata": {
  "interpreter": {
   "hash": "53aa1d185f0c4d464253b7bca5e55e34e60de52cf1459f322cf3aa8af1e32b33"
  },
  "kernelspec": {
   "display_name": "Python 3.8.8 64-bit ('.venv_capstone': venv)",
   "name": "python3"
  },
  "language_info": {
   "codemirror_mode": {
    "name": "ipython",
    "version": 3
   },
   "file_extension": ".py",
   "mimetype": "text/x-python",
   "name": "python",
   "nbconvert_exporter": "python",
   "pygments_lexer": "ipython3",
   "version": "3.8.8"
  }
 },
 "nbformat": 4,
 "nbformat_minor": 2
}
