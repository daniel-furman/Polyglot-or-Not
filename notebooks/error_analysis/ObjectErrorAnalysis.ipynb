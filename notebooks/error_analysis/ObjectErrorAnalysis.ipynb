{
 "cells": [
  {
   "cell_type": "markdown",
   "id": "94f71ad4",
   "metadata": {},
   "source": [
    "## Imports"
   ]
  },
  {
   "cell_type": "code",
   "execution_count": 1,
   "id": "fcc63c4d",
   "metadata": {},
   "outputs": [],
   "source": [
    "import pandas as pd\n",
    "import glob\n",
    "import datasets\n",
    "import numpy as np\n",
    "import matplotlib.pyplot as plt"
   ]
  },
  {
   "cell_type": "markdown",
   "id": "fa36919e",
   "metadata": {},
   "source": [
    "## Load Data"
   ]
  },
  {
   "cell_type": "code",
   "execution_count": 2,
   "id": "9ede8e4f",
   "metadata": {},
   "outputs": [],
   "source": [
    "wiki_data = pd.read_csv(\"../../data/wikidata/wikidata-property-list.csv\")\n",
    "wiki_data = wiki_data[[\"Title\", \"ID\", \"Datatype\", \"Description\"]]"
   ]
  },
  {
   "cell_type": "code",
   "execution_count": 3,
   "id": "1e1d4cb5",
   "metadata": {},
   "outputs": [],
   "source": [
    "code_to_lang_dict = {\n",
    "    \"bg\": \"Bulgarian\",\n",
    "    \"ca\": \"Catalan\",\n",
    "    \"cs\": \"Czech\",\n",
    "    \"da\": \"Danish\",\n",
    "    \"de\": \"German\",\n",
    "    \"en\": \"English\",\n",
    "    \"es\": \"Spanish\",\n",
    "    \"fr\": \"French\",\n",
    "    \"hr\": \"Croatian\",\n",
    "    \"hu\": \"Hungarian\",\n",
    "    \"it\": \"Italian\",\n",
    "    \"nl\": \"Dutch\",\n",
    "    \"pl\": \"Polish\",\n",
    "    \"pt\": \"Portuguese\",\n",
    "    \"ro\": \"Romanian\",\n",
    "    \"ru\": \"Russian\",\n",
    "    \"sl\": \"Slovenian\",\n",
    "    \"sr\": \"Serbian\",\n",
    "    \"sv\": \"Swedish\",\n",
    "    \"uk\": \"Ukrainian\",\n",
    "}"
   ]
  },
  {
   "cell_type": "code",
   "execution_count": 4,
   "id": "89d61967",
   "metadata": {},
   "outputs": [],
   "source": [
    "lang_to_code_dict = {v: k for k, v in code_to_lang_dict.items()}"
   ]
  },
  {
   "cell_type": "code",
   "execution_count": 5,
   "id": "4216b098",
   "metadata": {},
   "outputs": [
    {
     "name": "stderr",
     "output_type": "stream",
     "text": [
      "Found cached dataset parquet (/Users/ashbhat/.cache/huggingface/datasets/CalibraGPT___parquet/CalibraGPT--Fact-Completion-24a24a1e4bf6e4a8/0.0.0/2a3b91fbd88a2c90d1dbbb32b460cf621d31bd5b05b934492fdef7d8d6f236ec)\n"
     ]
    },
    {
     "data": {
      "application/vnd.jupyter.widget-view+json": {
       "model_id": "e56dc55a6a4241308816608724bdd94f",
       "version_major": 2,
       "version_minor": 0
      },
      "text/plain": [
       "  0%|          | 0/20 [00:00<?, ?it/s]"
      ]
     },
     "metadata": {},
     "output_type": "display_data"
    }
   ],
   "source": [
    "results_dict = {}\n",
    "results_dict[\"language\"] = []\n",
    "results_dict[\"relation\"] = []\n",
    "results_dict[\"percentage change\"] = []\n",
    "results_dict[\"new ratio of rows\"] = []\n",
    "results_dict[\"old ratio of rows\"] = []\n",
    "\n",
    "hf_df = datasets.load_dataset(\"CalibraGPT/Fact-Completion\")\n",
    "file_names = glob.glob(\"../../data/result_logs/llama-30b/error-analysis/*.csv\")\n",
    "\n",
    "# confirm grabbing data correctly against LLaMa figure\n",
    "# uncomment print statement at end of for loop to see\n",
    "results_dfs = []\n",
    "count = 0\n",
    "for file in file_names:\n",
    "    language = file.split(\".csv\")[0].split(\"-\")[-1].capitalize()\n",
    "    error_df = pd.read_csv(file)\n",
    "    full_hf_df = hf_df[file.split(\".csv\")[0].split(\"-\")[-1].capitalize()]\n",
    "    full_hf_df = full_hf_df.to_pandas()\n",
    "\n",
    "    # stem is in both\n",
    "    # dataset id is in both\n",
    "    # to see if the model got something wrong, see if the dataset id in the full df is in the error\n",
    "    error_ids = list(error_df[\"dataset_id\"])\n",
    "    correct = []\n",
    "    counts = []\n",
    "    relation_names = []\n",
    "    for row in full_hf_df.iterrows():\n",
    "        # track counts\n",
    "        count += 1\n",
    "        counts.append(count)\n",
    "        # track errors\n",
    "        correct.append(False) if row[1][\"dataset_id\"] in error_ids else correct.append(\n",
    "            True\n",
    "        )\n",
    "        # track relation titles\n",
    "        relation_id = int(row[1].relation[1:])\n",
    "        relation_title = list(wiki_data[wiki_data[\"ID\"] == relation_id][\"Title\"])[0]\n",
    "        relation_names.append(relation_title)\n",
    "\n",
    "    # append result to full df\n",
    "    full_hf_df[\"correct\"] = correct\n",
    "    # append language to full df\n",
    "    full_hf_df[\"language\"] = [language] * full_hf_df.shape[0]\n",
    "    # append language code to full df\n",
    "    lang_code = lang_to_code_dict[language]\n",
    "    full_hf_df[\"lang_code\"] = [lang_code] * full_hf_df.shape[0]\n",
    "    # append relation title to full df\n",
    "    full_hf_df[\"relation_title\"] = relation_names\n",
    "    # also append an arbitrary id to have unique val for each row\n",
    "    full_hf_df[\"analysis_id\"] = counts\n",
    "\n",
    "    results_dfs.append(full_hf_df)\n",
    "\n",
    "results_df = pd.concat(results_dfs)\n",
    "assert results_df.shape[0] == count"
   ]
  },
  {
   "cell_type": "markdown",
   "id": "bca0acfe",
   "metadata": {},
   "source": [
    "## Explore Data"
   ]
  },
  {
   "cell_type": "code",
   "execution_count": 6,
   "id": "c081fa82",
   "metadata": {},
   "outputs": [
    {
     "data": {
      "text/html": [
       "<div>\n",
       "<style scoped>\n",
       "    .dataframe tbody tr th:only-of-type {\n",
       "        vertical-align: middle;\n",
       "    }\n",
       "\n",
       "    .dataframe tbody tr th {\n",
       "        vertical-align: top;\n",
       "    }\n",
       "\n",
       "    .dataframe thead th {\n",
       "        text-align: right;\n",
       "    }\n",
       "</style>\n",
       "<table border=\"1\" class=\"dataframe\">\n",
       "  <thead>\n",
       "    <tr style=\"text-align: right;\">\n",
       "      <th></th>\n",
       "      <th>dataset_id</th>\n",
       "      <th>stem</th>\n",
       "      <th>true</th>\n",
       "      <th>false</th>\n",
       "      <th>relation</th>\n",
       "      <th>subject</th>\n",
       "      <th>object</th>\n",
       "      <th>correct</th>\n",
       "      <th>language</th>\n",
       "      <th>lang_code</th>\n",
       "      <th>relation_title</th>\n",
       "      <th>analysis_id</th>\n",
       "    </tr>\n",
       "  </thead>\n",
       "  <tbody>\n",
       "    <tr>\n",
       "      <th>0</th>\n",
       "      <td>calinet_8922</td>\n",
       "      <td>Приус производи</td>\n",
       "      <td>Тоиота</td>\n",
       "      <td>Хонда</td>\n",
       "      <td>P176</td>\n",
       "      <td>Приус</td>\n",
       "      <td>Тоиота</td>\n",
       "      <td>True</td>\n",
       "      <td>Serbian</td>\n",
       "      <td>sr</td>\n",
       "      <td>manufacturer</td>\n",
       "      <td>1</td>\n",
       "    </tr>\n",
       "    <tr>\n",
       "      <th>1</th>\n",
       "      <td>rome_5025</td>\n",
       "      <td>Сундар Пицхаи ради за</td>\n",
       "      <td>Гоогле</td>\n",
       "      <td>Аппле</td>\n",
       "      <td>P108</td>\n",
       "      <td>Сундар Пицхаи</td>\n",
       "      <td>Гоогле</td>\n",
       "      <td>False</td>\n",
       "      <td>Serbian</td>\n",
       "      <td>sr</td>\n",
       "      <td>employer</td>\n",
       "      <td>2</td>\n",
       "    </tr>\n",
       "    <tr>\n",
       "      <th>2</th>\n",
       "      <td>rome_21333</td>\n",
       "      <td>Главни град Народне Републике Кине,</td>\n",
       "      <td>Пекинг</td>\n",
       "      <td>Кабул</td>\n",
       "      <td>P36</td>\n",
       "      <td>Народна Република Кина</td>\n",
       "      <td>Пекинг</td>\n",
       "      <td>True</td>\n",
       "      <td>Serbian</td>\n",
       "      <td>sr</td>\n",
       "      <td>capital</td>\n",
       "      <td>3</td>\n",
       "    </tr>\n",
       "    <tr>\n",
       "      <th>3</th>\n",
       "      <td>rome_8738</td>\n",
       "      <td>У Синт Мартену разумеју</td>\n",
       "      <td>холандски</td>\n",
       "      <td>дански</td>\n",
       "      <td>P37</td>\n",
       "      <td>Синт Маартен</td>\n",
       "      <td>холандски</td>\n",
       "      <td>True</td>\n",
       "      <td>Serbian</td>\n",
       "      <td>sr</td>\n",
       "      <td>official language</td>\n",
       "      <td>4</td>\n",
       "    </tr>\n",
       "    <tr>\n",
       "      <th>4</th>\n",
       "      <td>rome_8783</td>\n",
       "      <td>Хаас Хоусе се налази у месту</td>\n",
       "      <td>Беч</td>\n",
       "      <td>Алберта</td>\n",
       "      <td>P131</td>\n",
       "      <td>Хаас Хоусе</td>\n",
       "      <td>Беч</td>\n",
       "      <td>True</td>\n",
       "      <td>Serbian</td>\n",
       "      <td>sr</td>\n",
       "      <td>is in the administrative territorial entity</td>\n",
       "      <td>5</td>\n",
       "    </tr>\n",
       "  </tbody>\n",
       "</table>\n",
       "</div>"
      ],
      "text/plain": [
       "     dataset_id                                 stem       true    false  \\\n",
       "0  calinet_8922                      Приус производи     Тоиота    Хонда   \n",
       "1     rome_5025                Сундар Пицхаи ради за     Гоогле    Аппле   \n",
       "2    rome_21333  Главни град Народне Републике Кине,     Пекинг    Кабул   \n",
       "3     rome_8738              У Синт Мартену разумеју  холандски   дански   \n",
       "4     rome_8783         Хаас Хоусе се налази у месту        Беч  Алберта   \n",
       "\n",
       "  relation                 subject     object  correct language lang_code  \\\n",
       "0     P176                   Приус     Тоиота     True  Serbian        sr   \n",
       "1     P108           Сундар Пицхаи     Гоогле    False  Serbian        sr   \n",
       "2      P36  Народна Република Кина     Пекинг     True  Serbian        sr   \n",
       "3      P37            Синт Маартен  холандски     True  Serbian        sr   \n",
       "4     P131              Хаас Хоусе        Беч     True  Serbian        sr   \n",
       "\n",
       "                                relation_title  analysis_id  \n",
       "0                                 manufacturer            1  \n",
       "1                                     employer            2  \n",
       "2                                      capital            3  \n",
       "3                            official language            4  \n",
       "4  is in the administrative territorial entity            5  "
      ]
     },
     "execution_count": 6,
     "metadata": {},
     "output_type": "execute_result"
    }
   ],
   "source": [
    "results_df.head()"
   ]
  },
  {
   "cell_type": "code",
   "execution_count": 7,
   "id": "37de4739",
   "metadata": {},
   "outputs": [
    {
     "data": {
      "text/plain": [
       "11.546545288337015"
      ]
     },
     "execution_count": 7,
     "metadata": {},
     "output_type": "execute_result"
    }
   ],
   "source": [
    "# average number of times a dataset_id gets shared across langs?\n",
    "# 11.5\n",
    "np.mean(results_df[\"dataset_id\"].value_counts())"
   ]
  },
  {
   "cell_type": "code",
   "execution_count": 8,
   "id": "f1317e56",
   "metadata": {},
   "outputs": [
    {
     "data": {
      "text/plain": [
       "<AxesSubplot:title={'center':'Average Dataset ID usage'}, ylabel='Frequency'>"
      ]
     },
     "execution_count": 8,
     "metadata": {},
     "output_type": "execute_result"
    },
    {
     "data": {
      "image/png": "[encoded data removed]",
      "text/plain": [
       "<Figure size 640x480 with 1 Axes>"
      ]
     },
     "metadata": {},
     "output_type": "display_data"
    }
   ],
   "source": [
    "# hist of our usage\n",
    "results_df[\"dataset_id\"].value_counts().plot(\n",
    "    kind=\"hist\", title=\"Average Dataset ID usage\"\n",
    ")"
   ]
  },
  {
   "cell_type": "markdown",
   "id": "ced957e5",
   "metadata": {},
   "source": [
    "how many dataset_id's get used across all 20 langs?"
   ]
  },
  {
   "cell_type": "code",
   "execution_count": 9,
   "id": "f396f0a9",
   "metadata": {},
   "outputs": [
    {
     "data": {
      "text/plain": [
       "214"
      ]
     },
     "execution_count": 9,
     "metadata": {},
     "output_type": "execute_result"
    }
   ],
   "source": [
    "np.count_nonzero(results_df[\"dataset_id\"].value_counts().values == 20)"
   ]
  },
  {
   "cell_type": "markdown",
   "id": "30dc32c0",
   "metadata": {},
   "source": [
    "how many dataset_id's get used across only 1 lang?"
   ]
  },
  {
   "cell_type": "code",
   "execution_count": 10,
   "id": "e24454be",
   "metadata": {},
   "outputs": [
    {
     "data": {
      "text/plain": [
       "77"
      ]
     },
     "execution_count": 10,
     "metadata": {},
     "output_type": "execute_result"
    }
   ],
   "source": [
    "np.count_nonzero(results_df[\"dataset_id\"].value_counts().values == 1)"
   ]
  },
  {
   "cell_type": "markdown",
   "id": "e422ed1d",
   "metadata": {},
   "source": [
    "our prius fact appears in 15 cuts -- *if* you don't take into account translations"
   ]
  },
  {
   "cell_type": "code",
   "execution_count": 11,
   "id": "593f665f",
   "metadata": {},
   "outputs": [
    {
     "data": {
      "text/plain": [
       "0"
      ]
     },
     "execution_count": 11,
     "metadata": {},
     "output_type": "execute_result"
    }
   ],
   "source": [
    "results_df[results_df[\"object\"] == \"Prius\"].shape[0]"
   ]
  },
  {
   "cell_type": "markdown",
   "id": "f90463af",
   "metadata": {},
   "source": [
    "look at all the versions of our prius fact, which appears in *16* cuts, when you take into account that its translated in serbian differently than the romanized form."
   ]
  },
  {
   "cell_type": "code",
   "execution_count": 12,
   "id": "0125328b",
   "metadata": {},
   "outputs": [
    {
     "data": {
      "text/plain": [
       "16"
      ]
     },
     "execution_count": 12,
     "metadata": {},
     "output_type": "execute_result"
    }
   ],
   "source": [
    "results_df[results_df[\"dataset_id\"] == \"calinet_8922\"].shape[0]"
   ]
  },
  {
   "cell_type": "markdown",
   "id": "ca1d4896",
   "metadata": {},
   "source": [
    "## More Cleanup to Ensure that we have access to objects across langs"
   ]
  },
  {
   "cell_type": "code",
   "execution_count": 13,
   "id": "c50e88e4",
   "metadata": {},
   "outputs": [],
   "source": [
    "# mapping between dataset id and the english form of a object\n",
    "dataset_id_to_eng_object = {}\n",
    "for row in results_df.iterrows():\n",
    "    if row[1].language == \"English\":\n",
    "        if row[1].dataset_id not in dataset_id_to_eng_object:\n",
    "            dataset_id_to_eng_object[row[1].dataset_id] = row[1].object"
   ]
  },
  {
   "cell_type": "code",
   "execution_count": 14,
   "id": "cfa0b6f9",
   "metadata": {},
   "outputs": [
    {
     "data": {
      "text/plain": [
       "'soccer'"
      ]
     },
     "execution_count": 14,
     "metadata": {},
     "output_type": "execute_result"
    }
   ],
   "source": [
    "# put in an id and get the english object back\n",
    "dataset_id_to_eng_object[\"rome_21844\"]"
   ]
  },
  {
   "cell_type": "code",
   "execution_count": 15,
   "id": "f87fa81f",
   "metadata": {
    "scrolled": true
   },
   "outputs": [],
   "source": [
    "objects = {}\n",
    "for row in results_df.iterrows():\n",
    "    # gather helpful row level data\n",
    "    # the object\n",
    "    object = row[1].object\n",
    "    # whether the model got it right\n",
    "    val = row[1].correct\n",
    "    # the dataset id\n",
    "    dataset_id = row[1].dataset_id\n",
    "    # the english version of the object\n",
    "    english_object = dataset_id_to_eng_object[dataset_id]\n",
    "\n",
    "    # commit it to our tracking dict\n",
    "    if english_object not in objects:\n",
    "        objects[english_object] = {\n",
    "            \"correct\": 0,\n",
    "            \"incorrect\": 0,\n",
    "            \"langs\": {},\n",
    "            \"alternate_forms\": {},\n",
    "            \"dataset_ids\": set(),\n",
    "        }\n",
    "\n",
    "    # counter of correct/incorrect for that object\n",
    "    if val:\n",
    "        objects[english_object][\"correct\"] += 1\n",
    "    else:\n",
    "        objects[english_object][\"incorrect\"] += 1\n",
    "\n",
    "    # track language\n",
    "    lang = row[1].lang_code\n",
    "\n",
    "    if lang not in objects[english_object][\"langs\"]:\n",
    "        objects[english_object][\"langs\"][lang] = 1\n",
    "\n",
    "    else:\n",
    "        objects[english_object][\"langs\"][lang] += 1\n",
    "\n",
    "    # track any alternate forms\n",
    "    objects[english_object][\"alternate_forms\"][lang] = object\n",
    "\n",
    "    objects[english_object][\"dataset_ids\"].add(dataset_id)"
   ]
  },
  {
   "cell_type": "code",
   "execution_count": 16,
   "id": "a9a28da3",
   "metadata": {},
   "outputs": [],
   "source": [
    "object_names = []\n",
    "correct = []\n",
    "incorrect = []\n",
    "total = []\n",
    "pct = []\n",
    "langs = []\n",
    "num_langs = []\n",
    "alternate_forms = []\n",
    "dataset_ids = []\n",
    "for k, v in objects.items():\n",
    "    object_names.append(k)\n",
    "    # track # of times object is used in a correct statement, incorrect, and pct accuracy\n",
    "    correct.append(v[\"correct\"])\n",
    "    incorrect.append(v[\"incorrect\"])\n",
    "    total.append(int(v[\"correct\"]) + int(v[\"incorrect\"]))\n",
    "    pct.append(int(v[\"correct\"]) / (int(v[\"correct\"]) + int(v[\"incorrect\"])))\n",
    "    # track # of languages the object is used in\n",
    "    langs.append(v[\"langs\"])\n",
    "    num_langs.append(len(v[\"langs\"]))\n",
    "    alternate_forms.append(v[\"alternate_forms\"])\n",
    "    # track dataset ids its used in\n",
    "    dataset_ids.append(list(v[\"dataset_ids\"]))\n",
    "    # sanity check\n",
    "    assert int(v[\"correct\"]) + int(v[\"incorrect\"]) == sum(v[\"langs\"].values())"
   ]
  },
  {
   "cell_type": "code",
   "execution_count": 17,
   "id": "c66e674e",
   "metadata": {},
   "outputs": [
    {
     "data": {
      "text/plain": [
       "14.345872801082544"
      ]
     },
     "execution_count": 17,
     "metadata": {},
     "output_type": "execute_result"
    }
   ],
   "source": [
    "# the average object appears in ~12 langs\n",
    "# (remember that this will max out at 20.)\n",
    "np.mean(num_langs)"
   ]
  },
  {
   "cell_type": "code",
   "execution_count": 18,
   "id": "a9ef444e",
   "metadata": {},
   "outputs": [],
   "source": [
    "object_analysis_df = pd.DataFrame(\n",
    "    {\n",
    "        \"object\": object_names,\n",
    "        \"num_correct\": correct,\n",
    "        \"num_incorrect\": incorrect,\n",
    "        \"total_usages\": total,\n",
    "        \"percent_accuracy\": pct,\n",
    "        \"languages\": langs,\n",
    "        \"num_languages\": num_langs,\n",
    "        \"alternate_forms\": alternate_forms,\n",
    "        \"dataset_ids\": dataset_ids,\n",
    "        \n",
    "    }\n",
    ")"
   ]
  },
  {
   "cell_type": "code",
   "execution_count": 19,
   "id": "2c14aa0a",
   "metadata": {},
   "outputs": [
    {
     "data": {
      "text/html": [
       "<div>\n",
       "<style scoped>\n",
       "    .dataframe tbody tr th:only-of-type {\n",
       "        vertical-align: middle;\n",
       "    }\n",
       "\n",
       "    .dataframe tbody tr th {\n",
       "        vertical-align: top;\n",
       "    }\n",
       "\n",
       "    .dataframe thead th {\n",
       "        text-align: right;\n",
       "    }\n",
       "</style>\n",
       "<table border=\"1\" class=\"dataframe\">\n",
       "  <thead>\n",
       "    <tr style=\"text-align: right;\">\n",
       "      <th></th>\n",
       "      <th>object</th>\n",
       "      <th>num_correct</th>\n",
       "      <th>num_incorrect</th>\n",
       "      <th>total_usages</th>\n",
       "      <th>percent_accuracy</th>\n",
       "      <th>languages</th>\n",
       "      <th>num_languages</th>\n",
       "      <th>alternate_forms</th>\n",
       "      <th>dataset_ids</th>\n",
       "    </tr>\n",
       "  </thead>\n",
       "  <tbody>\n",
       "    <tr>\n",
       "      <th>0</th>\n",
       "      <td>Toyota</td>\n",
       "      <td>402</td>\n",
       "      <td>25</td>\n",
       "      <td>427</td>\n",
       "      <td>0.941452</td>\n",
       "      <td>{'sr': 16, 'uk': 27, 'nl': 27, 'sv': 27, 'hu':...</td>\n",
       "      <td>20</td>\n",
       "      <td>{'sr': 'Тоиота', 'uk': 'Toyota', 'nl': 'Toyota...</td>\n",
       "      <td>[rome_14380, calinet_8922, rome_19947, calinet...</td>\n",
       "    </tr>\n",
       "    <tr>\n",
       "      <th>1</th>\n",
       "      <td>Google</td>\n",
       "      <td>768</td>\n",
       "      <td>68</td>\n",
       "      <td>836</td>\n",
       "      <td>0.918660</td>\n",
       "      <td>{'sr': 31, 'uk': 45, 'nl': 47, 'sv': 51, 'hu':...</td>\n",
       "      <td>20</td>\n",
       "      <td>{'sr': 'Гоогле', 'uk': 'Google', 'nl': 'Google...</td>\n",
       "      <td>[rome_11840, rome_13264, rome_2080, rome_11581...</td>\n",
       "    </tr>\n",
       "  </tbody>\n",
       "</table>\n",
       "</div>"
      ],
      "text/plain": [
       "   object  num_correct  num_incorrect  total_usages  percent_accuracy  \\\n",
       "0  Toyota          402             25           427          0.941452   \n",
       "1  Google          768             68           836          0.918660   \n",
       "\n",
       "                                           languages  num_languages  \\\n",
       "0  {'sr': 16, 'uk': 27, 'nl': 27, 'sv': 27, 'hu':...             20   \n",
       "1  {'sr': 31, 'uk': 45, 'nl': 47, 'sv': 51, 'hu':...             20   \n",
       "\n",
       "                                     alternate_forms  \\\n",
       "0  {'sr': 'Тоиота', 'uk': 'Toyota', 'nl': 'Toyota...   \n",
       "1  {'sr': 'Гоогле', 'uk': 'Google', 'nl': 'Google...   \n",
       "\n",
       "                                         dataset_ids  \n",
       "0  [rome_14380, calinet_8922, rome_19947, calinet...  \n",
       "1  [rome_11840, rome_13264, rome_2080, rome_11581...  "
      ]
     },
     "execution_count": 19,
     "metadata": {},
     "output_type": "execute_result"
    }
   ],
   "source": [
    "object_analysis_df.head(2)"
   ]
  },
  {
   "cell_type": "code",
   "execution_count": 104,
   "id": "c51e5cf3",
   "metadata": {},
   "outputs": [],
   "source": [
    "# remove multi token objects\n",
    "object_analysis_df = object_analysis_df[~object_analysis_df['object'].str.contains(' ')]"
   ]
  },
  {
   "cell_type": "markdown",
   "id": "e059021c",
   "metadata": {},
   "source": [
    "## Most Correct and Incorrect by Raw Count"
   ]
  },
  {
   "cell_type": "markdown",
   "id": "cf875ea0",
   "metadata": {},
   "source": [
    "### Most Correct"
   ]
  },
  {
   "cell_type": "markdown",
   "id": "89eed492",
   "metadata": {},
   "source": [
    "top 10 most correct (by raw count)"
   ]
  },
  {
   "cell_type": "code",
   "execution_count": 157,
   "id": "dd3822f2",
   "metadata": {},
   "outputs": [
    {
     "data": {
      "text/html": [
       "<div>\n",
       "<style scoped>\n",
       "    .dataframe tbody tr th:only-of-type {\n",
       "        vertical-align: middle;\n",
       "    }\n",
       "\n",
       "    .dataframe tbody tr th {\n",
       "        vertical-align: top;\n",
       "    }\n",
       "\n",
       "    .dataframe thead th {\n",
       "        text-align: right;\n",
       "    }\n",
       "</style>\n",
       "<table border=\"1\" class=\"dataframe\">\n",
       "  <thead>\n",
       "    <tr style=\"text-align: right;\">\n",
       "      <th></th>\n",
       "      <th>object</th>\n",
       "      <th>num_correct</th>\n",
       "      <th>num_incorrect</th>\n",
       "      <th>total_usages</th>\n",
       "      <th>percent_accuracy</th>\n",
       "      <th>languages</th>\n",
       "      <th>num_languages</th>\n",
       "      <th>alternate_forms</th>\n",
       "      <th>dataset_ids</th>\n",
       "    </tr>\n",
       "  </thead>\n",
       "  <tbody>\n",
       "    <tr>\n",
       "      <th>30</th>\n",
       "      <td>French</td>\n",
       "      <td>9775</td>\n",
       "      <td>1903</td>\n",
       "      <td>11678</td>\n",
       "      <td>0.837044</td>\n",
       "      <td>{'sr': 446, 'uk': 351, 'nl': 992, 'sv': 708, '...</td>\n",
       "      <td>20</td>\n",
       "      <td>{'sr': 'Француски', 'uk': 'французька', 'nl': ...</td>\n",
       "      <td>[rome_11068, rome_14803, rome_19154, rome_2009...</td>\n",
       "    </tr>\n",
       "    <tr>\n",
       "      <th>168</th>\n",
       "      <td>London</td>\n",
       "      <td>6805</td>\n",
       "      <td>242</td>\n",
       "      <td>7047</td>\n",
       "      <td>0.965659</td>\n",
       "      <td>{'sr': 6, 'uk': 11, 'nl': 598, 'sv': 605, 'hu'...</td>\n",
       "      <td>20</td>\n",
       "      <td>{'sr': 'Лондон', 'uk': 'Лондон', 'nl': 'Londen...</td>\n",
       "      <td>[calinet_6550, rome_11933, rome_2630, rome_753...</td>\n",
       "    </tr>\n",
       "    <tr>\n",
       "      <th>195</th>\n",
       "      <td>English</td>\n",
       "      <td>6671</td>\n",
       "      <td>1562</td>\n",
       "      <td>8233</td>\n",
       "      <td>0.810276</td>\n",
       "      <td>{'sr': 5, 'uk': 364, 'nl': 761, 'sv': 40, 'hu'...</td>\n",
       "      <td>20</td>\n",
       "      <td>{'sr': 'енглески језик', 'uk': 'англійська', '...</td>\n",
       "      <td>[rome_18861, rome_15508, calinet_3140, rome_15...</td>\n",
       "    </tr>\n",
       "    <tr>\n",
       "      <th>177</th>\n",
       "      <td>jazz</td>\n",
       "      <td>6251</td>\n",
       "      <td>606</td>\n",
       "      <td>6857</td>\n",
       "      <td>0.911623</td>\n",
       "      <td>{'sr': 13, 'uk': 212, 'nl': 402, 'sv': 549, 'h...</td>\n",
       "      <td>20</td>\n",
       "      <td>{'sr': 'јазз', 'uk': 'джаз', 'nl': 'jazz', 'sv...</td>\n",
       "      <td>[rome_1690, rome_14937, rome_10661, rome_16667...</td>\n",
       "    </tr>\n",
       "    <tr>\n",
       "      <th>45</th>\n",
       "      <td>Antarctica</td>\n",
       "      <td>4778</td>\n",
       "      <td>1375</td>\n",
       "      <td>6153</td>\n",
       "      <td>0.776532</td>\n",
       "      <td>{'sr': 90, 'uk': 148, 'nl': 659, 'sv': 534, 'h...</td>\n",
       "      <td>20</td>\n",
       "      <td>{'sr': 'Антарктика', 'uk': 'Антарктида', 'nl':...</td>\n",
       "      <td>[rome_4548, rome_20768, rome_5996, rome_1990, ...</td>\n",
       "    </tr>\n",
       "    <tr>\n",
       "      <th>178</th>\n",
       "      <td>NBC</td>\n",
       "      <td>4119</td>\n",
       "      <td>676</td>\n",
       "      <td>4795</td>\n",
       "      <td>0.859020</td>\n",
       "      <td>{'sr': 9, 'uk': 291, 'nl': 303, 'sv': 307, 'hu...</td>\n",
       "      <td>20</td>\n",
       "      <td>{'sr': 'НБЦ', 'uk': 'NBC', 'nl': 'NBC', 'sv': ...</td>\n",
       "      <td>[rome_5952, rome_19815, rome_5084, rome_147, r...</td>\n",
       "    </tr>\n",
       "    <tr>\n",
       "      <th>221</th>\n",
       "      <td>Paris</td>\n",
       "      <td>4066</td>\n",
       "      <td>172</td>\n",
       "      <td>4238</td>\n",
       "      <td>0.959415</td>\n",
       "      <td>{'sr': 9, 'uk': 29, 'nl': 351, 'sv': 355, 'hu'...</td>\n",
       "      <td>20</td>\n",
       "      <td>{'sr': 'Париз', 'uk': 'Париж', 'nl': 'Parijs',...</td>\n",
       "      <td>[rome_16464, rome_18791, rome_16992, rome_1859...</td>\n",
       "    </tr>\n",
       "    <tr>\n",
       "      <th>28</th>\n",
       "      <td>actor</td>\n",
       "      <td>3640</td>\n",
       "      <td>572</td>\n",
       "      <td>4212</td>\n",
       "      <td>0.864198</td>\n",
       "      <td>{'sr': 231, 'uk': 136, 'nl': 291, 'sv': 299, '...</td>\n",
       "      <td>20</td>\n",
       "      <td>{'sr': 'глумац', 'uk': 'актор', 'nl': 'acteur'...</td>\n",
       "      <td>[rome_20433, rome_11140, rome_114, rome_21206,...</td>\n",
       "    </tr>\n",
       "    <tr>\n",
       "      <th>26</th>\n",
       "      <td>BBC</td>\n",
       "      <td>3560</td>\n",
       "      <td>512</td>\n",
       "      <td>4072</td>\n",
       "      <td>0.874263</td>\n",
       "      <td>{'sr': 74, 'uk': 203, 'nl': 225, 'sv': 257, 'h...</td>\n",
       "      <td>20</td>\n",
       "      <td>{'sr': 'ББЦ', 'uk': 'BBC', 'nl': 'BBC', 'sv': ...</td>\n",
       "      <td>[rome_20480, rome_16280, rome_11659, rome_1875...</td>\n",
       "    </tr>\n",
       "    <tr>\n",
       "      <th>25</th>\n",
       "      <td>Microsoft</td>\n",
       "      <td>3280</td>\n",
       "      <td>205</td>\n",
       "      <td>3485</td>\n",
       "      <td>0.941176</td>\n",
       "      <td>{'sr': 143, 'uk': 196, 'nl': 204, 'sv': 208, '...</td>\n",
       "      <td>20</td>\n",
       "      <td>{'sr': 'Мицрософт', 'uk': 'Microsoft', 'nl': '...</td>\n",
       "      <td>[rome_16381, rome_18233, rome_10257, rome_1936...</td>\n",
       "    </tr>\n",
       "  </tbody>\n",
       "</table>\n",
       "</div>"
      ],
      "text/plain": [
       "         object  num_correct  num_incorrect  total_usages  percent_accuracy  \\\n",
       "30       French         9775           1903         11678          0.837044   \n",
       "168      London         6805            242          7047          0.965659   \n",
       "195     English         6671           1562          8233          0.810276   \n",
       "177        jazz         6251            606          6857          0.911623   \n",
       "45   Antarctica         4778           1375          6153          0.776532   \n",
       "178         NBC         4119            676          4795          0.859020   \n",
       "221       Paris         4066            172          4238          0.959415   \n",
       "28        actor         3640            572          4212          0.864198   \n",
       "26          BBC         3560            512          4072          0.874263   \n",
       "25    Microsoft         3280            205          3485          0.941176   \n",
       "\n",
       "                                             languages  num_languages  \\\n",
       "30   {'sr': 446, 'uk': 351, 'nl': 992, 'sv': 708, '...             20   \n",
       "168  {'sr': 6, 'uk': 11, 'nl': 598, 'sv': 605, 'hu'...             20   \n",
       "195  {'sr': 5, 'uk': 364, 'nl': 761, 'sv': 40, 'hu'...             20   \n",
       "177  {'sr': 13, 'uk': 212, 'nl': 402, 'sv': 549, 'h...             20   \n",
       "45   {'sr': 90, 'uk': 148, 'nl': 659, 'sv': 534, 'h...             20   \n",
       "178  {'sr': 9, 'uk': 291, 'nl': 303, 'sv': 307, 'hu...             20   \n",
       "221  {'sr': 9, 'uk': 29, 'nl': 351, 'sv': 355, 'hu'...             20   \n",
       "28   {'sr': 231, 'uk': 136, 'nl': 291, 'sv': 299, '...             20   \n",
       "26   {'sr': 74, 'uk': 203, 'nl': 225, 'sv': 257, 'h...             20   \n",
       "25   {'sr': 143, 'uk': 196, 'nl': 204, 'sv': 208, '...             20   \n",
       "\n",
       "                                       alternate_forms  \\\n",
       "30   {'sr': 'Француски', 'uk': 'французька', 'nl': ...   \n",
       "168  {'sr': 'Лондон', 'uk': 'Лондон', 'nl': 'Londen...   \n",
       "195  {'sr': 'енглески језик', 'uk': 'англійська', '...   \n",
       "177  {'sr': 'јазз', 'uk': 'джаз', 'nl': 'jazz', 'sv...   \n",
       "45   {'sr': 'Антарктика', 'uk': 'Антарктида', 'nl':...   \n",
       "178  {'sr': 'НБЦ', 'uk': 'NBC', 'nl': 'NBC', 'sv': ...   \n",
       "221  {'sr': 'Париз', 'uk': 'Париж', 'nl': 'Parijs',...   \n",
       "28   {'sr': 'глумац', 'uk': 'актор', 'nl': 'acteur'...   \n",
       "26   {'sr': 'ББЦ', 'uk': 'BBC', 'nl': 'BBC', 'sv': ...   \n",
       "25   {'sr': 'Мицрософт', 'uk': 'Microsoft', 'nl': '...   \n",
       "\n",
       "                                           dataset_ids  \n",
       "30   [rome_11068, rome_14803, rome_19154, rome_2009...  \n",
       "168  [calinet_6550, rome_11933, rome_2630, rome_753...  \n",
       "195  [rome_18861, rome_15508, calinet_3140, rome_15...  \n",
       "177  [rome_1690, rome_14937, rome_10661, rome_16667...  \n",
       "45   [rome_4548, rome_20768, rome_5996, rome_1990, ...  \n",
       "178  [rome_5952, rome_19815, rome_5084, rome_147, r...  \n",
       "221  [rome_16464, rome_18791, rome_16992, rome_1859...  \n",
       "28   [rome_20433, rome_11140, rome_114, rome_21206,...  \n",
       "26   [rome_20480, rome_16280, rome_11659, rome_1875...  \n",
       "25   [rome_16381, rome_18233, rome_10257, rome_1936...  "
      ]
     },
     "execution_count": 157,
     "metadata": {},
     "output_type": "execute_result"
    }
   ],
   "source": [
    "object_analysis_df.sort_values(by=\"num_correct\", ascending=False)[:10]"
   ]
  },
  {
   "cell_type": "markdown",
   "id": "c42f0c65",
   "metadata": {},
   "source": [
    "### Most Incorrect"
   ]
  },
  {
   "cell_type": "markdown",
   "id": "682aaa8c",
   "metadata": {},
   "source": [
    "top 10 most incorrect (by raw count)"
   ]
  },
  {
   "cell_type": "code",
   "execution_count": 158,
   "id": "5655dad3",
   "metadata": {},
   "outputs": [
    {
     "data": {
      "text/html": [
       "<div>\n",
       "<style scoped>\n",
       "    .dataframe tbody tr th:only-of-type {\n",
       "        vertical-align: middle;\n",
       "    }\n",
       "\n",
       "    .dataframe tbody tr th {\n",
       "        vertical-align: top;\n",
       "    }\n",
       "\n",
       "    .dataframe thead th {\n",
       "        text-align: right;\n",
       "    }\n",
       "</style>\n",
       "<table border=\"1\" class=\"dataframe\">\n",
       "  <thead>\n",
       "    <tr style=\"text-align: right;\">\n",
       "      <th></th>\n",
       "      <th>object</th>\n",
       "      <th>num_correct</th>\n",
       "      <th>num_incorrect</th>\n",
       "      <th>total_usages</th>\n",
       "      <th>percent_accuracy</th>\n",
       "      <th>languages</th>\n",
       "      <th>num_languages</th>\n",
       "      <th>alternate_forms</th>\n",
       "      <th>dataset_ids</th>\n",
       "    </tr>\n",
       "  </thead>\n",
       "  <tbody>\n",
       "    <tr>\n",
       "      <th>30</th>\n",
       "      <td>French</td>\n",
       "      <td>9775</td>\n",
       "      <td>1903</td>\n",
       "      <td>11678</td>\n",
       "      <td>0.837044</td>\n",
       "      <td>{'sr': 446, 'uk': 351, 'nl': 992, 'sv': 708, '...</td>\n",
       "      <td>20</td>\n",
       "      <td>{'sr': 'Француски', 'uk': 'французька', 'nl': ...</td>\n",
       "      <td>[rome_11068, rome_14803, rome_19154, rome_2009...</td>\n",
       "    </tr>\n",
       "    <tr>\n",
       "      <th>195</th>\n",
       "      <td>English</td>\n",
       "      <td>6671</td>\n",
       "      <td>1562</td>\n",
       "      <td>8233</td>\n",
       "      <td>0.810276</td>\n",
       "      <td>{'sr': 5, 'uk': 364, 'nl': 761, 'sv': 40, 'hu'...</td>\n",
       "      <td>20</td>\n",
       "      <td>{'sr': 'енглески језик', 'uk': 'англійська', '...</td>\n",
       "      <td>[rome_18861, rome_15508, calinet_3140, rome_15...</td>\n",
       "    </tr>\n",
       "    <tr>\n",
       "      <th>105</th>\n",
       "      <td>CBS</td>\n",
       "      <td>2568</td>\n",
       "      <td>1479</td>\n",
       "      <td>4047</td>\n",
       "      <td>0.634544</td>\n",
       "      <td>{'sr': 15, 'uk': 251, 'nl': 254, 'sv': 260, 'h...</td>\n",
       "      <td>20</td>\n",
       "      <td>{'sr': 'ЦБС', 'uk': 'CBS', 'nl': 'CBS', 'sv': ...</td>\n",
       "      <td>[rome_14071, rome_19337, calinet_4614, rome_21...</td>\n",
       "    </tr>\n",
       "    <tr>\n",
       "      <th>45</th>\n",
       "      <td>Antarctica</td>\n",
       "      <td>4778</td>\n",
       "      <td>1375</td>\n",
       "      <td>6153</td>\n",
       "      <td>0.776532</td>\n",
       "      <td>{'sr': 90, 'uk': 148, 'nl': 659, 'sv': 534, 'h...</td>\n",
       "      <td>20</td>\n",
       "      <td>{'sr': 'Антарктика', 'uk': 'Антарктида', 'nl':...</td>\n",
       "      <td>[rome_4548, rome_20768, rome_5996, rome_1990, ...</td>\n",
       "    </tr>\n",
       "    <tr>\n",
       "      <th>21</th>\n",
       "      <td>politician</td>\n",
       "      <td>1007</td>\n",
       "      <td>1028</td>\n",
       "      <td>2035</td>\n",
       "      <td>0.494840</td>\n",
       "      <td>{'sr': 125, 'uk': 72, 'nl': 132, 'sv': 139, 'h...</td>\n",
       "      <td>20</td>\n",
       "      <td>{'sr': 'политичар', 'uk': 'політик', 'nl': 'po...</td>\n",
       "      <td>[rome_13547, rome_12064, rome_20522, calinet_5...</td>\n",
       "    </tr>\n",
       "    <tr>\n",
       "      <th>83</th>\n",
       "      <td>Russian</td>\n",
       "      <td>3178</td>\n",
       "      <td>833</td>\n",
       "      <td>4011</td>\n",
       "      <td>0.792321</td>\n",
       "      <td>{'sr': 172, 'uk': 2, 'nl': 296, 'sv': 251, 'hu...</td>\n",
       "      <td>20</td>\n",
       "      <td>{'sr': 'Руски', 'uk': 'російський', 'nl': 'Rus...</td>\n",
       "      <td>[calinet_3269, rome_14666, rome_3044, rome_171...</td>\n",
       "    </tr>\n",
       "    <tr>\n",
       "      <th>822</th>\n",
       "      <td>American</td>\n",
       "      <td>686</td>\n",
       "      <td>828</td>\n",
       "      <td>1514</td>\n",
       "      <td>0.453104</td>\n",
       "      <td>{'sr': 1, 'nl': 260, 'sv': 30, 'hu': 3, 'ca': ...</td>\n",
       "      <td>17</td>\n",
       "      <td>{'sr': 'Американац', 'nl': 'Amerikaans', 'sv':...</td>\n",
       "      <td>[calinet_3928, calinet_3687, calinet_3641, cal...</td>\n",
       "    </tr>\n",
       "    <tr>\n",
       "      <th>178</th>\n",
       "      <td>NBC</td>\n",
       "      <td>4119</td>\n",
       "      <td>676</td>\n",
       "      <td>4795</td>\n",
       "      <td>0.859020</td>\n",
       "      <td>{'sr': 9, 'uk': 291, 'nl': 303, 'sv': 307, 'hu...</td>\n",
       "      <td>20</td>\n",
       "      <td>{'sr': 'НБЦ', 'uk': 'NBC', 'nl': 'NBC', 'sv': ...</td>\n",
       "      <td>[rome_5952, rome_19815, rome_5084, rome_147, r...</td>\n",
       "    </tr>\n",
       "    <tr>\n",
       "      <th>58</th>\n",
       "      <td>opera</td>\n",
       "      <td>838</td>\n",
       "      <td>672</td>\n",
       "      <td>1510</td>\n",
       "      <td>0.554967</td>\n",
       "      <td>{'sr': 7, 'uk': 28, 'nl': 92, 'sv': 159, 'hu':...</td>\n",
       "      <td>20</td>\n",
       "      <td>{'sr': 'опера', 'uk': 'опера', 'nl': 'opera', ...</td>\n",
       "      <td>[rome_16892, rome_7230, rome_16198, rome_17875...</td>\n",
       "    </tr>\n",
       "    <tr>\n",
       "      <th>1068</th>\n",
       "      <td>midfielder</td>\n",
       "      <td>2819</td>\n",
       "      <td>628</td>\n",
       "      <td>3447</td>\n",
       "      <td>0.817813</td>\n",
       "      <td>{'sr': 1, 'uk': 64, 'nl': 322, 'sv': 259, 'hu'...</td>\n",
       "      <td>20</td>\n",
       "      <td>{'sr': 'midfielder', 'uk': 'півзахисник', 'nl'...</td>\n",
       "      <td>[rome_18911, rome_19967, rome_3440, rome_4879,...</td>\n",
       "    </tr>\n",
       "  </tbody>\n",
       "</table>\n",
       "</div>"
      ],
      "text/plain": [
       "          object  num_correct  num_incorrect  total_usages  percent_accuracy  \\\n",
       "30        French         9775           1903         11678          0.837044   \n",
       "195      English         6671           1562          8233          0.810276   \n",
       "105          CBS         2568           1479          4047          0.634544   \n",
       "45    Antarctica         4778           1375          6153          0.776532   \n",
       "21    politician         1007           1028          2035          0.494840   \n",
       "83       Russian         3178            833          4011          0.792321   \n",
       "822     American          686            828          1514          0.453104   \n",
       "178          NBC         4119            676          4795          0.859020   \n",
       "58         opera          838            672          1510          0.554967   \n",
       "1068  midfielder         2819            628          3447          0.817813   \n",
       "\n",
       "                                              languages  num_languages  \\\n",
       "30    {'sr': 446, 'uk': 351, 'nl': 992, 'sv': 708, '...             20   \n",
       "195   {'sr': 5, 'uk': 364, 'nl': 761, 'sv': 40, 'hu'...             20   \n",
       "105   {'sr': 15, 'uk': 251, 'nl': 254, 'sv': 260, 'h...             20   \n",
       "45    {'sr': 90, 'uk': 148, 'nl': 659, 'sv': 534, 'h...             20   \n",
       "21    {'sr': 125, 'uk': 72, 'nl': 132, 'sv': 139, 'h...             20   \n",
       "83    {'sr': 172, 'uk': 2, 'nl': 296, 'sv': 251, 'hu...             20   \n",
       "822   {'sr': 1, 'nl': 260, 'sv': 30, 'hu': 3, 'ca': ...             17   \n",
       "178   {'sr': 9, 'uk': 291, 'nl': 303, 'sv': 307, 'hu...             20   \n",
       "58    {'sr': 7, 'uk': 28, 'nl': 92, 'sv': 159, 'hu':...             20   \n",
       "1068  {'sr': 1, 'uk': 64, 'nl': 322, 'sv': 259, 'hu'...             20   \n",
       "\n",
       "                                        alternate_forms  \\\n",
       "30    {'sr': 'Француски', 'uk': 'французька', 'nl': ...   \n",
       "195   {'sr': 'енглески језик', 'uk': 'англійська', '...   \n",
       "105   {'sr': 'ЦБС', 'uk': 'CBS', 'nl': 'CBS', 'sv': ...   \n",
       "45    {'sr': 'Антарктика', 'uk': 'Антарктида', 'nl':...   \n",
       "21    {'sr': 'политичар', 'uk': 'політик', 'nl': 'po...   \n",
       "83    {'sr': 'Руски', 'uk': 'російський', 'nl': 'Rus...   \n",
       "822   {'sr': 'Американац', 'nl': 'Amerikaans', 'sv':...   \n",
       "178   {'sr': 'НБЦ', 'uk': 'NBC', 'nl': 'NBC', 'sv': ...   \n",
       "58    {'sr': 'опера', 'uk': 'опера', 'nl': 'opera', ...   \n",
       "1068  {'sr': 'midfielder', 'uk': 'півзахисник', 'nl'...   \n",
       "\n",
       "                                            dataset_ids  \n",
       "30    [rome_11068, rome_14803, rome_19154, rome_2009...  \n",
       "195   [rome_18861, rome_15508, calinet_3140, rome_15...  \n",
       "105   [rome_14071, rome_19337, calinet_4614, rome_21...  \n",
       "45    [rome_4548, rome_20768, rome_5996, rome_1990, ...  \n",
       "21    [rome_13547, rome_12064, rome_20522, calinet_5...  \n",
       "83    [calinet_3269, rome_14666, rome_3044, rome_171...  \n",
       "822   [calinet_3928, calinet_3687, calinet_3641, cal...  \n",
       "178   [rome_5952, rome_19815, rome_5084, rome_147, r...  \n",
       "58    [rome_16892, rome_7230, rome_16198, rome_17875...  \n",
       "1068  [rome_18911, rome_19967, rome_3440, rome_4879,...  "
      ]
     },
     "execution_count": 158,
     "metadata": {},
     "output_type": "execute_result"
    }
   ],
   "source": [
    "object_analysis_df.sort_values(by=\"num_incorrect\", ascending=False)[:10]"
   ]
  },
  {
   "cell_type": "code",
   "execution_count": 194,
   "id": "d3ba22fc",
   "metadata": {},
   "outputs": [
    {
     "name": "stdout",
     "output_type": "stream",
     "text": [
      "['French', 'English', 'London', 'jazz', 'Antarctica', 'NBC', 'Paris', 'actor', 'BBC', 'CBS', 'Russian', 'Microsoft', 'midfielder', 'Spanish', 'Italian', 'Apple', 'Berlin', 'piano', 'Japan', 'bishop', 'Rome', 'Finnish', 'politician', 'Canada', 'India', 'Germany', 'quarterback', 'Dutch', 'guitar', 'Swedish', 'Chicago', 'American', 'opera', 'Moscow', 'Vienna', 'France', 'Tamil', 'IBM', 'MTV', 'composer', 'Australia', 'Boston', 'Toronto', 'Philadelphia', 'Italy', 'poet', 'Hindi', 'Stockholm', 'Europe', 'Seattle', 'HBO', 'violin', 'Oslo', 'goaltender', 'Tokyo', 'mathematics', 'pope', 'physics', 'Amsterdam', 'Google', 'Sweden', 'Montreal', 'linebacker', 'Munich', 'Hebrew', 'ABC', 'Milan', 'Madrid', 'Nintendo', 'Poland', 'Asia', 'Jerusalem', 'journalist', 'Sony', 'Florence', 'Netherlands', 'sitcom', 'ESPN', 'Venice', 'Belgium']\n"
     ]
    }
   ],
   "source": [
    "print(object_analysis_df.sort_values(by=[\"total_usages\",\"num_incorrect\"], ascending=False)['object'][:80].to_list())"
   ]
  },
  {
   "cell_type": "code",
   "execution_count": 159,
   "id": "14e2f617",
   "metadata": {},
   "outputs": [
    {
     "data": {
      "text/plain": [
       "<AxesSubplot:title={'center':'Average Accuracy per object'}, ylabel='Frequency'>"
      ]
     },
     "execution_count": 159,
     "metadata": {},
     "output_type": "execute_result"
    },
    {
     "data": {
      "image/png": "[encoded data removed]",
      "text/plain": [
       "<Figure size 640x480 with 1 Axes>"
      ]
     },
     "metadata": {},
     "output_type": "display_data"
    }
   ],
   "source": [
    "object_analysis_df[\"percent_accuracy\"].plot(\n",
    "    kind=\"hist\", title=\"Average Accuracy per object\"\n",
    ")"
   ]
  },
  {
   "cell_type": "markdown",
   "id": "c4005a4f",
   "metadata": {},
   "source": [
    "## Most Correct and Incorrect by Percent (at least 10 usages)"
   ]
  },
  {
   "cell_type": "markdown",
   "id": "d44c6878",
   "metadata": {},
   "source": [
    "there are 414 objects that were used more than 10 times and always correct!"
   ]
  },
  {
   "cell_type": "code",
   "execution_count": 160,
   "id": "3b0e725f",
   "metadata": {},
   "outputs": [
    {
     "data": {
      "text/plain": [
       "414"
      ]
     },
     "execution_count": 160,
     "metadata": {},
     "output_type": "execute_result"
    }
   ],
   "source": [
    "len(\n",
    "    object_analysis_df[\n",
    "        (object_analysis_df[\"total_usages\"] >= 10)\n",
    "        & (object_analysis_df[\"percent_accuracy\"] == 1.0)\n",
    "    ]\n",
    ")"
   ]
  },
  {
   "cell_type": "markdown",
   "id": "cb5ddabe",
   "metadata": {},
   "source": [
    "and they comprise just 7510 of our corrects."
   ]
  },
  {
   "cell_type": "code",
   "execution_count": 161,
   "id": "2f14c100",
   "metadata": {},
   "outputs": [
    {
     "data": {
      "text/plain": [
       "7510"
      ]
     },
     "execution_count": 161,
     "metadata": {},
     "output_type": "execute_result"
    }
   ],
   "source": [
    "sum(\n",
    "    object_analysis_df[\n",
    "        (object_analysis_df[\"total_usages\"] >= 10)\n",
    "        & (object_analysis_df[\"percent_accuracy\"] == 1.0)\n",
    "    ][\"total_usages\"]\n",
    ")"
   ]
  },
  {
   "cell_type": "markdown",
   "id": "6a51afcb",
   "metadata": {},
   "source": [
    "there were just 32 objects that were consistently bad"
   ]
  },
  {
   "cell_type": "code",
   "execution_count": 162,
   "id": "b5cbb59e",
   "metadata": {},
   "outputs": [
    {
     "data": {
      "text/plain": [
       "32"
      ]
     },
     "execution_count": 162,
     "metadata": {},
     "output_type": "execute_result"
    }
   ],
   "source": [
    "len(\n",
    "    object_analysis_df[\n",
    "        (object_analysis_df[\"total_usages\"] >= 10)\n",
    "        & (object_analysis_df[\"percent_accuracy\"] == 0.0)\n",
    "    ]\n",
    ")"
   ]
  },
  {
   "cell_type": "markdown",
   "id": "2c14b7b2",
   "metadata": {},
   "source": [
    "and they comprise just 459 of our incorrect"
   ]
  },
  {
   "cell_type": "code",
   "execution_count": 163,
   "id": "e508d563",
   "metadata": {},
   "outputs": [
    {
     "data": {
      "text/plain": [
       "459"
      ]
     },
     "execution_count": 163,
     "metadata": {},
     "output_type": "execute_result"
    }
   ],
   "source": [
    "sum(\n",
    "    object_analysis_df[\n",
    "        (object_analysis_df[\"total_usages\"] >= 10)\n",
    "        & (object_analysis_df[\"percent_accuracy\"] == 0.0)\n",
    "    ][\"total_usages\"]\n",
    ")"
   ]
  },
  {
   "cell_type": "markdown",
   "id": "99e779e3",
   "metadata": {},
   "source": [
    "subset of some of the 32 objects bad objects"
   ]
  },
  {
   "cell_type": "code",
   "execution_count": 164,
   "id": "6a0b3f14",
   "metadata": {},
   "outputs": [
    {
     "name": "stdout",
     "output_type": "stream",
     "text": [
      "['北京', 'Sujiatun', 'neoclassical', 'Paccar', '0verflow', 'Dynamix', 'RTL5', 'اردو', 'Televisa', 'CDC', 'KTTV', 'Meyrin', 'Asianet', 'Rumpler', 'Teplitz', 'Alvorada', 'М.', 'Siegburg', 'Letterkenny', 'Tommerup', 'Gorinchem', 'Spokane', 'Hermannsburg', 'Messina', 'Mari', 'Bauhinia', 'Fairfax', 'Neckar', 'Raymond', 'ARIN', 'Alexandra', 'Jasper']\n"
     ]
    }
   ],
   "source": [
    "print(object_analysis_df[\n",
    "    (object_analysis_df[\"total_usages\"] >= 10)\n",
    "    & (object_analysis_df[\"percent_accuracy\"] == 0.0)\n",
    "].sort_values('total_usages',ascending=False)['object'].to_list())"
   ]
  },
  {
   "cell_type": "markdown",
   "id": "dd76d942",
   "metadata": {},
   "source": [
    "## Most Correct and Incorrect by Percent (no usage minimum)"
   ]
  },
  {
   "cell_type": "markdown",
   "id": "1dc13aa9",
   "metadata": {},
   "source": [
    "how many objects do we always get right?"
   ]
  },
  {
   "cell_type": "code",
   "execution_count": 113,
   "id": "83c0db14",
   "metadata": {},
   "outputs": [
    {
     "data": {
      "text/plain": [
       "497"
      ]
     },
     "execution_count": 113,
     "metadata": {},
     "output_type": "execute_result"
    }
   ],
   "source": [
    "len(object_analysis_df[object_analysis_df[\"percent_accuracy\"] == 1.0])"
   ]
  },
  {
   "cell_type": "code",
   "execution_count": 114,
   "id": "2fd15d30",
   "metadata": {},
   "outputs": [
    {
     "data": {
      "text/html": [
       "<div>\n",
       "<style scoped>\n",
       "    .dataframe tbody tr th:only-of-type {\n",
       "        vertical-align: middle;\n",
       "    }\n",
       "\n",
       "    .dataframe tbody tr th {\n",
       "        vertical-align: top;\n",
       "    }\n",
       "\n",
       "    .dataframe thead th {\n",
       "        text-align: right;\n",
       "    }\n",
       "</style>\n",
       "<table border=\"1\" class=\"dataframe\">\n",
       "  <thead>\n",
       "    <tr style=\"text-align: right;\">\n",
       "      <th></th>\n",
       "      <th>object</th>\n",
       "      <th>num_correct</th>\n",
       "      <th>num_incorrect</th>\n",
       "      <th>total_usages</th>\n",
       "      <th>percent_accuracy</th>\n",
       "      <th>languages</th>\n",
       "      <th>num_languages</th>\n",
       "      <th>alternate_forms</th>\n",
       "      <th>dataset_ids</th>\n",
       "    </tr>\n",
       "  </thead>\n",
       "  <tbody>\n",
       "    <tr>\n",
       "      <th>34</th>\n",
       "      <td>Karelia</td>\n",
       "      <td>18</td>\n",
       "      <td>0</td>\n",
       "      <td>18</td>\n",
       "      <td>1.0</td>\n",
       "      <td>{'sr': 1, 'uk': 1, 'nl': 1, 'sv': 1, 'ca': 1, ...</td>\n",
       "      <td>18</td>\n",
       "      <td>{'sr': 'Карелиа', 'uk': 'Карелія', 'nl': 'Kare...</td>\n",
       "      <td>[calinet_5784]</td>\n",
       "    </tr>\n",
       "    <tr>\n",
       "      <th>85</th>\n",
       "      <td>CBM</td>\n",
       "      <td>18</td>\n",
       "      <td>0</td>\n",
       "      <td>18</td>\n",
       "      <td>1.0</td>\n",
       "      <td>{'sr': 1, 'uk': 1, 'nl': 1, 'sv': 1, 'ca': 1, ...</td>\n",
       "      <td>18</td>\n",
       "      <td>{'sr': 'ЦБМ', 'uk': 'CBM', 'nl': 'CBM', 'sv': ...</td>\n",
       "      <td>[calinet_8691]</td>\n",
       "    </tr>\n",
       "    <tr>\n",
       "      <th>99</th>\n",
       "      <td>DMG</td>\n",
       "      <td>18</td>\n",
       "      <td>0</td>\n",
       "      <td>18</td>\n",
       "      <td>1.0</td>\n",
       "      <td>{'sr': 1, 'uk': 1, 'nl': 1, 'sv': 1, 'ca': 1, ...</td>\n",
       "      <td>18</td>\n",
       "      <td>{'sr': 'ДМГ', 'uk': 'DMG', 'nl': 'DMG', 'sv': ...</td>\n",
       "      <td>[calinet_8759]</td>\n",
       "    </tr>\n",
       "    <tr>\n",
       "      <th>102</th>\n",
       "      <td>Madagascar</td>\n",
       "      <td>63</td>\n",
       "      <td>0</td>\n",
       "      <td>63</td>\n",
       "      <td>1.0</td>\n",
       "      <td>{'sr': 1, 'uk': 3, 'nl': 1, 'sv': 5, 'hu': 1, ...</td>\n",
       "      <td>19</td>\n",
       "      <td>{'sr': 'Мадагасцар', 'uk': 'Мадагаскар', 'nl':...</td>\n",
       "      <td>[rome_8058, calinet_5639, rome_21464, rome_210...</td>\n",
       "    </tr>\n",
       "    <tr>\n",
       "      <th>156</th>\n",
       "      <td>Navarra</td>\n",
       "      <td>19</td>\n",
       "      <td>0</td>\n",
       "      <td>19</td>\n",
       "      <td>1.0</td>\n",
       "      <td>{'sr': 1, 'uk': 1, 'nl': 1, 'sv': 1, 'hu': 1, ...</td>\n",
       "      <td>19</td>\n",
       "      <td>{'sr': 'Наварра', 'uk': 'Наварра', 'nl': 'Nava...</td>\n",
       "      <td>[calinet_5960]</td>\n",
       "    </tr>\n",
       "  </tbody>\n",
       "</table>\n",
       "</div>"
      ],
      "text/plain": [
       "         object  num_correct  num_incorrect  total_usages  percent_accuracy  \\\n",
       "34      Karelia           18              0            18               1.0   \n",
       "85          CBM           18              0            18               1.0   \n",
       "99          DMG           18              0            18               1.0   \n",
       "102  Madagascar           63              0            63               1.0   \n",
       "156     Navarra           19              0            19               1.0   \n",
       "\n",
       "                                             languages  num_languages  \\\n",
       "34   {'sr': 1, 'uk': 1, 'nl': 1, 'sv': 1, 'ca': 1, ...             18   \n",
       "85   {'sr': 1, 'uk': 1, 'nl': 1, 'sv': 1, 'ca': 1, ...             18   \n",
       "99   {'sr': 1, 'uk': 1, 'nl': 1, 'sv': 1, 'ca': 1, ...             18   \n",
       "102  {'sr': 1, 'uk': 3, 'nl': 1, 'sv': 5, 'hu': 1, ...             19   \n",
       "156  {'sr': 1, 'uk': 1, 'nl': 1, 'sv': 1, 'hu': 1, ...             19   \n",
       "\n",
       "                                       alternate_forms  \\\n",
       "34   {'sr': 'Карелиа', 'uk': 'Карелія', 'nl': 'Kare...   \n",
       "85   {'sr': 'ЦБМ', 'uk': 'CBM', 'nl': 'CBM', 'sv': ...   \n",
       "99   {'sr': 'ДМГ', 'uk': 'DMG', 'nl': 'DMG', 'sv': ...   \n",
       "102  {'sr': 'Мадагасцар', 'uk': 'Мадагаскар', 'nl':...   \n",
       "156  {'sr': 'Наварра', 'uk': 'Наварра', 'nl': 'Nava...   \n",
       "\n",
       "                                           dataset_ids  \n",
       "34                                      [calinet_5784]  \n",
       "85                                      [calinet_8691]  \n",
       "99                                      [calinet_8759]  \n",
       "102  [rome_8058, calinet_5639, rome_21464, rome_210...  \n",
       "156                                     [calinet_5960]  "
      ]
     },
     "execution_count": 114,
     "metadata": {},
     "output_type": "execute_result"
    }
   ],
   "source": [
    "object_analysis_df[object_analysis_df[\"percent_accuracy\"] == 1.0].head()"
   ]
  },
  {
   "cell_type": "code",
   "execution_count": 115,
   "id": "0d6cf04a",
   "metadata": {},
   "outputs": [
    {
     "data": {
      "text/plain": [
       "'Karelia'"
      ]
     },
     "execution_count": 115,
     "metadata": {},
     "output_type": "execute_result"
    }
   ],
   "source": [
    "dataset_id_to_eng_object['calinet_5784']"
   ]
  },
  {
   "cell_type": "markdown",
   "id": "6c3cc526",
   "metadata": {},
   "source": [
    "how many objects do we always get wrong?"
   ]
  },
  {
   "cell_type": "code",
   "execution_count": 116,
   "id": "b274f6aa",
   "metadata": {},
   "outputs": [
    {
     "data": {
      "text/plain": [
       "36"
      ]
     },
     "execution_count": 116,
     "metadata": {},
     "output_type": "execute_result"
    }
   ],
   "source": [
    "len(object_analysis_df[object_analysis_df[\"percent_accuracy\"] == 0.0])"
   ]
  },
  {
   "cell_type": "code",
   "execution_count": 117,
   "id": "2bbf90c1",
   "metadata": {},
   "outputs": [
    {
     "data": {
      "text/html": [
       "<div>\n",
       "<style scoped>\n",
       "    .dataframe tbody tr th:only-of-type {\n",
       "        vertical-align: middle;\n",
       "    }\n",
       "\n",
       "    .dataframe tbody tr th {\n",
       "        vertical-align: top;\n",
       "    }\n",
       "\n",
       "    .dataframe thead th {\n",
       "        text-align: right;\n",
       "    }\n",
       "</style>\n",
       "<table border=\"1\" class=\"dataframe\">\n",
       "  <thead>\n",
       "    <tr style=\"text-align: right;\">\n",
       "      <th></th>\n",
       "      <th>object</th>\n",
       "      <th>num_correct</th>\n",
       "      <th>num_incorrect</th>\n",
       "      <th>total_usages</th>\n",
       "      <th>percent_accuracy</th>\n",
       "      <th>languages</th>\n",
       "      <th>num_languages</th>\n",
       "      <th>alternate_forms</th>\n",
       "      <th>dataset_ids</th>\n",
       "    </tr>\n",
       "  </thead>\n",
       "  <tbody>\n",
       "    <tr>\n",
       "      <th>496</th>\n",
       "      <td>北京</td>\n",
       "      <td>0</td>\n",
       "      <td>20</td>\n",
       "      <td>20</td>\n",
       "      <td>0.0</td>\n",
       "      <td>{'sr': 1, 'uk': 1, 'nl': 1, 'sv': 1, 'hu': 1, ...</td>\n",
       "      <td>20</td>\n",
       "      <td>{'sr': '北京', 'uk': '北京', 'nl': '北京', 'sv': '北京...</td>\n",
       "      <td>[calinet_2782]</td>\n",
       "    </tr>\n",
       "    <tr>\n",
       "      <th>709</th>\n",
       "      <td>Sujiatun</td>\n",
       "      <td>0</td>\n",
       "      <td>20</td>\n",
       "      <td>20</td>\n",
       "      <td>0.0</td>\n",
       "      <td>{'sr': 1, 'uk': 1, 'nl': 1, 'sv': 1, 'hu': 1, ...</td>\n",
       "      <td>20</td>\n",
       "      <td>{'sr': 'Sujiatun', 'uk': 'Sujiatun', 'nl': 'Su...</td>\n",
       "      <td>[calinet_692]</td>\n",
       "    </tr>\n",
       "    <tr>\n",
       "      <th>1226</th>\n",
       "      <td>neoclassical</td>\n",
       "      <td>0</td>\n",
       "      <td>20</td>\n",
       "      <td>20</td>\n",
       "      <td>0.0</td>\n",
       "      <td>{'sr': 1, 'uk': 1, 'nl': 1, 'sv': 1, 'hu': 1, ...</td>\n",
       "      <td>20</td>\n",
       "      <td>{'sr': 'неокласицистички', 'uk': 'неокласичний...</td>\n",
       "      <td>[calinet_8281]</td>\n",
       "    </tr>\n",
       "    <tr>\n",
       "      <th>783</th>\n",
       "      <td>Paccar</td>\n",
       "      <td>0</td>\n",
       "      <td>19</td>\n",
       "      <td>19</td>\n",
       "      <td>0.0</td>\n",
       "      <td>{'sr': 1, 'uk': 1, 'nl': 1, 'sv': 1, 'ca': 1, ...</td>\n",
       "      <td>19</td>\n",
       "      <td>{'sr': 'Паццар', 'uk': 'Paccar', 'nl': 'Paccar...</td>\n",
       "      <td>[calinet_8798]</td>\n",
       "    </tr>\n",
       "    <tr>\n",
       "      <th>699</th>\n",
       "      <td>0verflow</td>\n",
       "      <td>0</td>\n",
       "      <td>19</td>\n",
       "      <td>19</td>\n",
       "      <td>0.0</td>\n",
       "      <td>{'sr': 1, 'uk': 1, 'nl': 1, 'sv': 1, 'ca': 1, ...</td>\n",
       "      <td>19</td>\n",
       "      <td>{'sr': '0верфлов', 'uk': '0verflow', 'nl': '0v...</td>\n",
       "      <td>[calinet_11502]</td>\n",
       "    </tr>\n",
       "  </tbody>\n",
       "</table>\n",
       "</div>"
      ],
      "text/plain": [
       "            object  num_correct  num_incorrect  total_usages  \\\n",
       "496             北京            0             20            20   \n",
       "709       Sujiatun            0             20            20   \n",
       "1226  neoclassical            0             20            20   \n",
       "783         Paccar            0             19            19   \n",
       "699       0verflow            0             19            19   \n",
       "\n",
       "      percent_accuracy                                          languages  \\\n",
       "496                0.0  {'sr': 1, 'uk': 1, 'nl': 1, 'sv': 1, 'hu': 1, ...   \n",
       "709                0.0  {'sr': 1, 'uk': 1, 'nl': 1, 'sv': 1, 'hu': 1, ...   \n",
       "1226               0.0  {'sr': 1, 'uk': 1, 'nl': 1, 'sv': 1, 'hu': 1, ...   \n",
       "783                0.0  {'sr': 1, 'uk': 1, 'nl': 1, 'sv': 1, 'ca': 1, ...   \n",
       "699                0.0  {'sr': 1, 'uk': 1, 'nl': 1, 'sv': 1, 'ca': 1, ...   \n",
       "\n",
       "      num_languages                                    alternate_forms  \\\n",
       "496              20  {'sr': '北京', 'uk': '北京', 'nl': '北京', 'sv': '北京...   \n",
       "709              20  {'sr': 'Sujiatun', 'uk': 'Sujiatun', 'nl': 'Su...   \n",
       "1226             20  {'sr': 'неокласицистички', 'uk': 'неокласичний...   \n",
       "783              19  {'sr': 'Паццар', 'uk': 'Paccar', 'nl': 'Paccar...   \n",
       "699              19  {'sr': '0верфлов', 'uk': '0verflow', 'nl': '0v...   \n",
       "\n",
       "          dataset_ids  \n",
       "496    [calinet_2782]  \n",
       "709     [calinet_692]  \n",
       "1226   [calinet_8281]  \n",
       "783    [calinet_8798]  \n",
       "699   [calinet_11502]  "
      ]
     },
     "execution_count": 117,
     "metadata": {},
     "output_type": "execute_result"
    }
   ],
   "source": [
    "object_analysis_df[object_analysis_df[\"percent_accuracy\"] == 0.0].sort_values('num_incorrect',ascending=False).head()"
   ]
  },
  {
   "cell_type": "markdown",
   "id": "9a452632",
   "metadata": {},
   "source": [
    "how many objects do we mostly get wrong?"
   ]
  },
  {
   "cell_type": "code",
   "execution_count": 182,
   "id": "2a17ed99",
   "metadata": {},
   "outputs": [],
   "source": [
    "threshold = 0.8"
   ]
  },
  {
   "cell_type": "code",
   "execution_count": 183,
   "id": "8efcd32d",
   "metadata": {},
   "outputs": [
    {
     "data": {
      "text/plain": [
       "886"
      ]
     },
     "execution_count": 183,
     "metadata": {},
     "output_type": "execute_result"
    }
   ],
   "source": [
    "len(object_analysis_df[object_analysis_df[\"percent_accuracy\"] <= threshold])"
   ]
  },
  {
   "cell_type": "code",
   "execution_count": 184,
   "id": "18a9fcfb",
   "metadata": {},
   "outputs": [
    {
     "data": {
      "text/html": [
       "<div>\n",
       "<style scoped>\n",
       "    .dataframe tbody tr th:only-of-type {\n",
       "        vertical-align: middle;\n",
       "    }\n",
       "\n",
       "    .dataframe tbody tr th {\n",
       "        vertical-align: top;\n",
       "    }\n",
       "\n",
       "    .dataframe thead th {\n",
       "        text-align: right;\n",
       "    }\n",
       "</style>\n",
       "<table border=\"1\" class=\"dataframe\">\n",
       "  <thead>\n",
       "    <tr style=\"text-align: right;\">\n",
       "      <th></th>\n",
       "      <th>object</th>\n",
       "      <th>num_correct</th>\n",
       "      <th>num_incorrect</th>\n",
       "    </tr>\n",
       "  </thead>\n",
       "  <tbody>\n",
       "    <tr>\n",
       "      <th>105</th>\n",
       "      <td>CBS</td>\n",
       "      <td>2568</td>\n",
       "      <td>1479</td>\n",
       "    </tr>\n",
       "    <tr>\n",
       "      <th>45</th>\n",
       "      <td>Antarctica</td>\n",
       "      <td>4778</td>\n",
       "      <td>1375</td>\n",
       "    </tr>\n",
       "    <tr>\n",
       "      <th>21</th>\n",
       "      <td>politician</td>\n",
       "      <td>1007</td>\n",
       "      <td>1028</td>\n",
       "    </tr>\n",
       "    <tr>\n",
       "      <th>83</th>\n",
       "      <td>Russian</td>\n",
       "      <td>3178</td>\n",
       "      <td>833</td>\n",
       "    </tr>\n",
       "    <tr>\n",
       "      <th>822</th>\n",
       "      <td>American</td>\n",
       "      <td>686</td>\n",
       "      <td>828</td>\n",
       "    </tr>\n",
       "    <tr>\n",
       "      <th>...</th>\n",
       "      <td>...</td>\n",
       "      <td>...</td>\n",
       "      <td>...</td>\n",
       "    </tr>\n",
       "    <tr>\n",
       "      <th>2216</th>\n",
       "      <td>Buddhism</td>\n",
       "      <td>4</td>\n",
       "      <td>1</td>\n",
       "    </tr>\n",
       "    <tr>\n",
       "      <th>3006</th>\n",
       "      <td>WR</td>\n",
       "      <td>4</td>\n",
       "      <td>1</td>\n",
       "    </tr>\n",
       "    <tr>\n",
       "      <th>2133</th>\n",
       "      <td>Lebanese</td>\n",
       "      <td>2</td>\n",
       "      <td>1</td>\n",
       "    </tr>\n",
       "    <tr>\n",
       "      <th>3540</th>\n",
       "      <td>Northwest</td>\n",
       "      <td>3</td>\n",
       "      <td>1</td>\n",
       "    </tr>\n",
       "    <tr>\n",
       "      <th>3685</th>\n",
       "      <td>electro-industrial</td>\n",
       "      <td>1</td>\n",
       "      <td>1</td>\n",
       "    </tr>\n",
       "  </tbody>\n",
       "</table>\n",
       "<p>886 rows × 3 columns</p>\n",
       "</div>"
      ],
      "text/plain": [
       "                  object  num_correct  num_incorrect\n",
       "105                  CBS         2568           1479\n",
       "45            Antarctica         4778           1375\n",
       "21            politician         1007           1028\n",
       "83               Russian         3178            833\n",
       "822             American          686            828\n",
       "...                  ...          ...            ...\n",
       "2216            Buddhism            4              1\n",
       "3006                  WR            4              1\n",
       "2133            Lebanese            2              1\n",
       "3540           Northwest            3              1\n",
       "3685  electro-industrial            1              1\n",
       "\n",
       "[886 rows x 3 columns]"
      ]
     },
     "execution_count": 184,
     "metadata": {},
     "output_type": "execute_result"
    }
   ],
   "source": [
    "object_analysis_df[(object_analysis_df[\"percent_accuracy\"] <= threshold)].sort_values('num_incorrect',ascending=False)[['object','num_correct','num_incorrect']]"
   ]
  },
  {
   "cell_type": "markdown",
   "id": "dada9f3a",
   "metadata": {},
   "source": [
    "## Analyzing a Single object"
   ]
  },
  {
   "cell_type": "code",
   "execution_count": 121,
   "id": "38df8eb1",
   "metadata": {},
   "outputs": [],
   "source": [
    "def get_lang_usage_report_for_object(object_val):\n",
    "    usage_dict = object_analysis_df[object_analysis_df[\"object\"] == object_val][\n",
    "        \"languages\"\n",
    "    ].values[0]\n",
    "\n",
    "    usage_dict = {\n",
    "        code_to_lang_dict[k]: {\"correct\": 0, \"incorrect\": 0}\n",
    "        for k, v in usage_dict.items()\n",
    "    }\n",
    "    # ok, how many of those usages are correct vs not?\n",
    "    dataset_ids = list(\n",
    "        object_analysis_df[object_analysis_df[\"object\"] == object_val][\"dataset_ids\"]\n",
    "    )[0]\n",
    "\n",
    "    for dataset_id in dataset_ids:\n",
    "        subset = results_df[results_df[\"dataset_id\"] == dataset_id]\n",
    "        for row in subset.iterrows():\n",
    "            lang_used = row[1].language\n",
    "            correct = row[1].correct\n",
    "\n",
    "            if correct:\n",
    "                usage_dict[lang_used][\"correct\"] += 1\n",
    "            else:\n",
    "                usage_dict[lang_used][\"incorrect\"] += 1\n",
    "\n",
    "    return usage_dict"
   ]
  },
  {
   "cell_type": "code",
   "execution_count": 122,
   "id": "3b5bc1cc",
   "metadata": {},
   "outputs": [],
   "source": [
    "def get_percent_correct_from_usage_report(usage_report):\n",
    "    correct = 0\n",
    "    incorrect = 0\n",
    "    for l in usage_report.keys():\n",
    "        correct += usage_report[l][\"correct\"]\n",
    "        incorrect += usage_report[l][\"incorrect\"]\n",
    "    return np.round(correct / (correct + incorrect) * 100, 2)"
   ]
  },
  {
   "cell_type": "code",
   "execution_count": 195,
   "id": "cf66e1c7",
   "metadata": {
    "scrolled": true
   },
   "outputs": [
    {
     "data": {
      "text/plain": [
       "{'Serbian': {'correct': 264, 'incorrect': 182},\n",
       " 'Ukrainian': {'correct': 272, 'incorrect': 79},\n",
       " 'Dutch': {'correct': 877, 'incorrect': 115},\n",
       " 'Swedish': {'correct': 684, 'incorrect': 24},\n",
       " 'Hungarian': {'correct': 176, 'incorrect': 229},\n",
       " 'Catalan': {'correct': 646, 'incorrect': 57},\n",
       " 'Polish': {'correct': 331, 'incorrect': 122},\n",
       " 'Russian': {'correct': 6, 'incorrect': 9},\n",
       " 'Bulgarian': {'correct': 462, 'incorrect': 252},\n",
       " 'Slovenian': {'correct': 6, 'incorrect': 3},\n",
       " 'English': {'correct': 1189, 'incorrect': 35},\n",
       " 'German': {'correct': 748, 'incorrect': 86},\n",
       " 'Portuguese': {'correct': 773, 'incorrect': 159},\n",
       " 'Czech': {'correct': 387, 'incorrect': 60},\n",
       " 'Spanish': {'correct': 273, 'incorrect': 211},\n",
       " 'Croatian': {'correct': 543, 'incorrect': 37},\n",
       " 'Danish': {'correct': 832, 'incorrect': 112},\n",
       " 'French': {'correct': 500, 'incorrect': 62},\n",
       " 'Italian': {'correct': 797, 'incorrect': 57},\n",
       " 'Romanian': {'correct': 9, 'incorrect': 12}}"
      ]
     },
     "execution_count": 195,
     "metadata": {},
     "output_type": "execute_result"
    }
   ],
   "source": [
    "antarctica_usage = get_lang_usage_report_for_object(\"French\")\n",
    "antarctica_usage"
   ]
  },
  {
   "cell_type": "code",
   "execution_count": 124,
   "id": "87c6c75b",
   "metadata": {},
   "outputs": [
    {
     "data": {
      "text/plain": [
       "77.65"
      ]
     },
     "execution_count": 124,
     "metadata": {},
     "output_type": "execute_result"
    }
   ],
   "source": [
    "get_percent_correct_from_usage_report(antarctica_usage)"
   ]
  },
  {
   "cell_type": "code",
   "execution_count": 125,
   "id": "2161154a",
   "metadata": {},
   "outputs": [],
   "source": [
    "def get_rows_by_object(object_val, outcome=False):\n",
    "    ids = list(\n",
    "        object_analysis_df[object_analysis_df[\"object\"] == object_val][\"dataset_ids\"]\n",
    "    )[0]\n",
    "    return results_df[\n",
    "        (results_df[\"dataset_id\"].isin(ids)) & (results_df[\"correct\"] == outcome)\n",
    "    ]"
   ]
  },
  {
   "cell_type": "code",
   "execution_count": 197,
   "id": "e5c20b1b",
   "metadata": {},
   "outputs": [
    {
     "data": {
      "text/html": [
       "<div>\n",
       "<style scoped>\n",
       "    .dataframe tbody tr th:only-of-type {\n",
       "        vertical-align: middle;\n",
       "    }\n",
       "\n",
       "    .dataframe tbody tr th {\n",
       "        vertical-align: top;\n",
       "    }\n",
       "\n",
       "    .dataframe thead th {\n",
       "        text-align: right;\n",
       "    }\n",
       "</style>\n",
       "<table border=\"1\" class=\"dataframe\">\n",
       "  <thead>\n",
       "    <tr style=\"text-align: right;\">\n",
       "      <th></th>\n",
       "      <th>dataset_id</th>\n",
       "      <th>stem</th>\n",
       "      <th>true</th>\n",
       "      <th>false</th>\n",
       "      <th>relation</th>\n",
       "      <th>subject</th>\n",
       "      <th>object</th>\n",
       "      <th>correct</th>\n",
       "      <th>language</th>\n",
       "      <th>lang_code</th>\n",
       "      <th>relation_title</th>\n",
       "      <th>analysis_id</th>\n",
       "      <th>object_en</th>\n",
       "    </tr>\n",
       "  </thead>\n",
       "  <tbody>\n",
       "    <tr>\n",
       "      <th>3605</th>\n",
       "      <td>rome_18750</td>\n",
       "      <td>Францис Тоие говори &lt;br&gt; Францис Тоие говори ј...</td>\n",
       "      <td>енглески језик</td>\n",
       "      <td>Руски</td>\n",
       "      <td>P1412</td>\n",
       "      <td>Францис Тоие</td>\n",
       "      <td>енглески језик</td>\n",
       "      <td>False</td>\n",
       "      <td>Serbian</td>\n",
       "      <td>sr</td>\n",
       "      <td>languages spoken</td>\n",
       "      <td>3606</td>\n",
       "      <td>English</td>\n",
       "    </tr>\n",
       "    <tr>\n",
       "      <th>45</th>\n",
       "      <td>rome_21809</td>\n",
       "      <td>Оригінальна мова Front Page Challenge –</td>\n",
       "      <td>англійська</td>\n",
       "      <td>Іспанська</td>\n",
       "      <td>P364</td>\n",
       "      <td>Front Page Challenge</td>\n",
       "      <td>англійська</td>\n",
       "      <td>False</td>\n",
       "      <td>Ukrainian</td>\n",
       "      <td>uk</td>\n",
       "      <td>original language</td>\n",
       "      <td>5472</td>\n",
       "      <td>English</td>\n",
       "    </tr>\n",
       "    <tr>\n",
       "      <th>176</th>\n",
       "      <td>rome_5117</td>\n",
       "      <td>Мовою Murder Call була &lt;br&gt; Мовою «Виклику вби...</td>\n",
       "      <td>англійська</td>\n",
       "      <td>італійська</td>\n",
       "      <td>P364</td>\n",
       "      <td>Murder Call</td>\n",
       "      <td>англійська</td>\n",
       "      <td>False</td>\n",
       "      <td>Ukrainian</td>\n",
       "      <td>uk</td>\n",
       "      <td>original language</td>\n",
       "      <td>5603</td>\n",
       "      <td>English</td>\n",
       "    </tr>\n",
       "    <tr>\n",
       "      <th>210</th>\n",
       "      <td>rome_8134</td>\n",
       "      <td>Оригінальна мова The Blue Planet – &lt;br&gt; Оригін...</td>\n",
       "      <td>англійська</td>\n",
       "      <td>тамільська</td>\n",
       "      <td>P364</td>\n",
       "      <td>The Blue Planet</td>\n",
       "      <td>англійська</td>\n",
       "      <td>False</td>\n",
       "      <td>Ukrainian</td>\n",
       "      <td>uk</td>\n",
       "      <td>original language</td>\n",
       "      <td>5637</td>\n",
       "      <td>English</td>\n",
       "    </tr>\n",
       "    <tr>\n",
       "      <th>254</th>\n",
       "      <td>rome_13851</td>\n",
       "      <td>Мова Alright, Still —</td>\n",
       "      <td>англійська</td>\n",
       "      <td>тамільська</td>\n",
       "      <td>P364</td>\n",
       "      <td>Alright, Still</td>\n",
       "      <td>англійська</td>\n",
       "      <td>False</td>\n",
       "      <td>Ukrainian</td>\n",
       "      <td>uk</td>\n",
       "      <td>original language</td>\n",
       "      <td>5681</td>\n",
       "      <td>English</td>\n",
       "    </tr>\n",
       "    <tr>\n",
       "      <th>...</th>\n",
       "      <td>...</td>\n",
       "      <td>...</td>\n",
       "      <td>...</td>\n",
       "      <td>...</td>\n",
       "      <td>...</td>\n",
       "      <td>...</td>\n",
       "      <td>...</td>\n",
       "      <td>...</td>\n",
       "      <td>...</td>\n",
       "      <td>...</td>\n",
       "      <td>...</td>\n",
       "      <td>...</td>\n",
       "      <td>...</td>\n",
       "    </tr>\n",
       "    <tr>\n",
       "      <th>16408</th>\n",
       "      <td>calinet_9416</td>\n",
       "      <td>Word Up este scris în</td>\n",
       "      <td>Engleză</td>\n",
       "      <td>Revista Elle &lt;br&gt; limba română &lt;br&gt; Coreea de ...</td>\n",
       "      <td>P407</td>\n",
       "      <td>Word Up</td>\n",
       "      <td>Engleză</td>\n",
       "      <td>False</td>\n",
       "      <td>Romanian</td>\n",
       "      <td>ro</td>\n",
       "      <td>language</td>\n",
       "      <td>301984</td>\n",
       "      <td>English</td>\n",
       "    </tr>\n",
       "    <tr>\n",
       "      <th>16441</th>\n",
       "      <td>calinet_9157</td>\n",
       "      <td>Odnoklassniki este scris în</td>\n",
       "      <td>Engleză</td>\n",
       "      <td>portugheză &lt;br&gt; Cornish &lt;br&gt; limba Abenaki</td>\n",
       "      <td>P407</td>\n",
       "      <td>Odnoklassniki</td>\n",
       "      <td>Engleză</td>\n",
       "      <td>False</td>\n",
       "      <td>Romanian</td>\n",
       "      <td>ro</td>\n",
       "      <td>language</td>\n",
       "      <td>302017</td>\n",
       "      <td>English</td>\n",
       "    </tr>\n",
       "    <tr>\n",
       "      <th>16597</th>\n",
       "      <td>calinet_9245</td>\n",
       "      <td>Vogue Hommes este scris în</td>\n",
       "      <td>Engleză</td>\n",
       "      <td>slovenă &lt;br&gt; limba latină</td>\n",
       "      <td>P407</td>\n",
       "      <td>Vogue Hommes</td>\n",
       "      <td>Engleză</td>\n",
       "      <td>False</td>\n",
       "      <td>Romanian</td>\n",
       "      <td>ro</td>\n",
       "      <td>language</td>\n",
       "      <td>302173</td>\n",
       "      <td>English</td>\n",
       "    </tr>\n",
       "    <tr>\n",
       "      <th>16654</th>\n",
       "      <td>calinet_9496</td>\n",
       "      <td>Utrecht este scris în &lt;br&gt; Utrecht este scris ...</td>\n",
       "      <td>Engleză</td>\n",
       "      <td>D'elles &lt;br&gt; limba latină &lt;br&gt; Cornish mijloci...</td>\n",
       "      <td>P407</td>\n",
       "      <td>Utrecht</td>\n",
       "      <td>Engleză</td>\n",
       "      <td>False</td>\n",
       "      <td>Romanian</td>\n",
       "      <td>ro</td>\n",
       "      <td>language</td>\n",
       "      <td>302230</td>\n",
       "      <td>English</td>\n",
       "    </tr>\n",
       "    <tr>\n",
       "      <th>17200</th>\n",
       "      <td>calinet_9435</td>\n",
       "      <td>Alexander a fost scris în &lt;br&gt; Alexandru a fos...</td>\n",
       "      <td>Engleză</td>\n",
       "      <td>limba română &lt;br&gt; indoneziană</td>\n",
       "      <td>P407</td>\n",
       "      <td>Alexander</td>\n",
       "      <td>Engleză</td>\n",
       "      <td>False</td>\n",
       "      <td>Romanian</td>\n",
       "      <td>ro</td>\n",
       "      <td>language</td>\n",
       "      <td>302776</td>\n",
       "      <td>English</td>\n",
       "    </tr>\n",
       "  </tbody>\n",
       "</table>\n",
       "<p>1562 rows × 13 columns</p>\n",
       "</div>"
      ],
      "text/plain": [
       "         dataset_id                                               stem  \\\n",
       "3605     rome_18750  Францис Тоие говори <br> Францис Тоие говори ј...   \n",
       "45       rome_21809            Оригінальна мова Front Page Challenge –   \n",
       "176       rome_5117  Мовою Murder Call була <br> Мовою «Виклику вби...   \n",
       "210       rome_8134  Оригінальна мова The Blue Planet – <br> Оригін...   \n",
       "254      rome_13851                              Мова Alright, Still —   \n",
       "...             ...                                                ...   \n",
       "16408  calinet_9416                              Word Up este scris în   \n",
       "16441  calinet_9157                        Odnoklassniki este scris în   \n",
       "16597  calinet_9245                         Vogue Hommes este scris în   \n",
       "16654  calinet_9496  Utrecht este scris în <br> Utrecht este scris ...   \n",
       "17200  calinet_9435  Alexander a fost scris în <br> Alexandru a fos...   \n",
       "\n",
       "                 true                                              false  \\\n",
       "3605   енглески језик                                              Руски   \n",
       "45         англійська                                          Іспанська   \n",
       "176        англійська                                         італійська   \n",
       "210        англійська                                         тамільська   \n",
       "254        англійська                                         тамільська   \n",
       "...               ...                                                ...   \n",
       "16408         Engleză  Revista Elle <br> limba română <br> Coreea de ...   \n",
       "16441         Engleză         portugheză <br> Cornish <br> limba Abenaki   \n",
       "16597         Engleză                          slovenă <br> limba latină   \n",
       "16654         Engleză  D'elles <br> limba latină <br> Cornish mijloci...   \n",
       "17200         Engleză                      limba română <br> indoneziană   \n",
       "\n",
       "      relation               subject          object  correct   language  \\\n",
       "3605     P1412          Францис Тоие  енглески језик    False    Serbian   \n",
       "45        P364  Front Page Challenge      англійська    False  Ukrainian   \n",
       "176       P364           Murder Call      англійська    False  Ukrainian   \n",
       "210       P364       The Blue Planet      англійська    False  Ukrainian   \n",
       "254       P364        Alright, Still      англійська    False  Ukrainian   \n",
       "...        ...                   ...             ...      ...        ...   \n",
       "16408     P407               Word Up         Engleză    False   Romanian   \n",
       "16441     P407         Odnoklassniki         Engleză    False   Romanian   \n",
       "16597     P407          Vogue Hommes         Engleză    False   Romanian   \n",
       "16654     P407               Utrecht         Engleză    False   Romanian   \n",
       "17200     P407             Alexander         Engleză    False   Romanian   \n",
       "\n",
       "      lang_code     relation_title  analysis_id object_en  \n",
       "3605         sr   languages spoken         3606   English  \n",
       "45           uk  original language         5472   English  \n",
       "176          uk  original language         5603   English  \n",
       "210          uk  original language         5637   English  \n",
       "254          uk  original language         5681   English  \n",
       "...         ...                ...          ...       ...  \n",
       "16408        ro           language       301984   English  \n",
       "16441        ro           language       302017   English  \n",
       "16597        ro           language       302173   English  \n",
       "16654        ro           language       302230   English  \n",
       "17200        ro           language       302776   English  \n",
       "\n",
       "[1562 rows x 13 columns]"
      ]
     },
     "execution_count": 197,
     "metadata": {},
     "output_type": "execute_result"
    }
   ],
   "source": [
    "get_rows_by_object(\"English\")"
   ]
  },
  {
   "cell_type": "markdown",
   "id": "1263a1b1",
   "metadata": {},
   "source": [
    "## How Many objects Are \n",
    "\n",
    "- Always Correct\n",
    "- Sometimes Correct\n",
    "- Never Correct"
   ]
  },
  {
   "cell_type": "code",
   "execution_count": 127,
   "id": "c7c1f115",
   "metadata": {},
   "outputs": [
    {
     "data": {
      "text/html": [
       "<div>\n",
       "<style scoped>\n",
       "    .dataframe tbody tr th:only-of-type {\n",
       "        vertical-align: middle;\n",
       "    }\n",
       "\n",
       "    .dataframe tbody tr th {\n",
       "        vertical-align: top;\n",
       "    }\n",
       "\n",
       "    .dataframe thead th {\n",
       "        text-align: right;\n",
       "    }\n",
       "</style>\n",
       "<table border=\"1\" class=\"dataframe\">\n",
       "  <thead>\n",
       "    <tr style=\"text-align: right;\">\n",
       "      <th></th>\n",
       "      <th>object</th>\n",
       "      <th>num_correct</th>\n",
       "      <th>num_incorrect</th>\n",
       "      <th>total_usages</th>\n",
       "      <th>percent_accuracy</th>\n",
       "      <th>languages</th>\n",
       "      <th>num_languages</th>\n",
       "      <th>alternate_forms</th>\n",
       "      <th>dataset_ids</th>\n",
       "    </tr>\n",
       "  </thead>\n",
       "  <tbody>\n",
       "    <tr>\n",
       "      <th>0</th>\n",
       "      <td>Toyota</td>\n",
       "      <td>402</td>\n",
       "      <td>25</td>\n",
       "      <td>427</td>\n",
       "      <td>0.941452</td>\n",
       "      <td>{'sr': 16, 'uk': 27, 'nl': 27, 'sv': 27, 'hu':...</td>\n",
       "      <td>20</td>\n",
       "      <td>{'sr': 'Тоиота', 'uk': 'Toyota', 'nl': 'Toyota...</td>\n",
       "      <td>[rome_14380, calinet_8922, rome_19947, calinet...</td>\n",
       "    </tr>\n",
       "    <tr>\n",
       "      <th>1</th>\n",
       "      <td>Google</td>\n",
       "      <td>768</td>\n",
       "      <td>68</td>\n",
       "      <td>836</td>\n",
       "      <td>0.918660</td>\n",
       "      <td>{'sr': 31, 'uk': 45, 'nl': 47, 'sv': 51, 'hu':...</td>\n",
       "      <td>20</td>\n",
       "      <td>{'sr': 'Гоогле', 'uk': 'Google', 'nl': 'Google...</td>\n",
       "      <td>[rome_11840, rome_13264, rome_2080, rome_11581...</td>\n",
       "    </tr>\n",
       "    <tr>\n",
       "      <th>2</th>\n",
       "      <td>Beijing</td>\n",
       "      <td>355</td>\n",
       "      <td>20</td>\n",
       "      <td>375</td>\n",
       "      <td>0.946667</td>\n",
       "      <td>{'sr': 6, 'uk': 6, 'nl': 29, 'sv': 29, 'hu': 6...</td>\n",
       "      <td>20</td>\n",
       "      <td>{'sr': 'Пекинг', 'uk': 'Пекін', 'nl': 'Peking'...</td>\n",
       "      <td>[rome_13882, rome_442, rome_17921, rome_6853, ...</td>\n",
       "    </tr>\n",
       "    <tr>\n",
       "      <th>3</th>\n",
       "      <td>Dutch</td>\n",
       "      <td>1241</td>\n",
       "      <td>371</td>\n",
       "      <td>1612</td>\n",
       "      <td>0.769851</td>\n",
       "      <td>{'sr': 72, 'uk': 57, 'nl': 139, 'sv': 97, 'hu'...</td>\n",
       "      <td>19</td>\n",
       "      <td>{'sr': 'холандски', 'uk': 'голландська', 'nl':...</td>\n",
       "      <td>[rome_18244, rome_4295, rome_3860, rome_131, r...</td>\n",
       "    </tr>\n",
       "    <tr>\n",
       "      <th>4</th>\n",
       "      <td>Vienna</td>\n",
       "      <td>1302</td>\n",
       "      <td>79</td>\n",
       "      <td>1381</td>\n",
       "      <td>0.942795</td>\n",
       "      <td>{'sr': 4, 'uk': 6, 'nl': 115, 'sv': 119, 'hu':...</td>\n",
       "      <td>20</td>\n",
       "      <td>{'sr': 'Беч', 'uk': 'Відень', 'nl': 'Wenen', '...</td>\n",
       "      <td>[rome_5030, rome_7494, rome_15887, rome_14677,...</td>\n",
       "    </tr>\n",
       "  </tbody>\n",
       "</table>\n",
       "</div>"
      ],
      "text/plain": [
       "    object  num_correct  num_incorrect  total_usages  percent_accuracy  \\\n",
       "0   Toyota          402             25           427          0.941452   \n",
       "1   Google          768             68           836          0.918660   \n",
       "2  Beijing          355             20           375          0.946667   \n",
       "3    Dutch         1241            371          1612          0.769851   \n",
       "4   Vienna         1302             79          1381          0.942795   \n",
       "\n",
       "                                           languages  num_languages  \\\n",
       "0  {'sr': 16, 'uk': 27, 'nl': 27, 'sv': 27, 'hu':...             20   \n",
       "1  {'sr': 31, 'uk': 45, 'nl': 47, 'sv': 51, 'hu':...             20   \n",
       "2  {'sr': 6, 'uk': 6, 'nl': 29, 'sv': 29, 'hu': 6...             20   \n",
       "3  {'sr': 72, 'uk': 57, 'nl': 139, 'sv': 97, 'hu'...             19   \n",
       "4  {'sr': 4, 'uk': 6, 'nl': 115, 'sv': 119, 'hu':...             20   \n",
       "\n",
       "                                     alternate_forms  \\\n",
       "0  {'sr': 'Тоиота', 'uk': 'Toyota', 'nl': 'Toyota...   \n",
       "1  {'sr': 'Гоогле', 'uk': 'Google', 'nl': 'Google...   \n",
       "2  {'sr': 'Пекинг', 'uk': 'Пекін', 'nl': 'Peking'...   \n",
       "3  {'sr': 'холандски', 'uk': 'голландська', 'nl':...   \n",
       "4  {'sr': 'Беч', 'uk': 'Відень', 'nl': 'Wenen', '...   \n",
       "\n",
       "                                         dataset_ids  \n",
       "0  [rome_14380, calinet_8922, rome_19947, calinet...  \n",
       "1  [rome_11840, rome_13264, rome_2080, rome_11581...  \n",
       "2  [rome_13882, rome_442, rome_17921, rome_6853, ...  \n",
       "3  [rome_18244, rome_4295, rome_3860, rome_131, r...  \n",
       "4  [rome_5030, rome_7494, rome_15887, rome_14677,...  "
      ]
     },
     "execution_count": 127,
     "metadata": {},
     "output_type": "execute_result"
    }
   ],
   "source": [
    "object_analysis_df.head()"
   ]
  },
  {
   "cell_type": "code",
   "execution_count": 128,
   "id": "a575e20c",
   "metadata": {},
   "outputs": [],
   "source": [
    "object_analysis_df.to_csv(\n",
    "    \"../../data/error_analysis/object_analysis_language_and_accuracy_by_object.csv\",\n",
    "    index=False,\n",
    ")"
   ]
  },
  {
   "cell_type": "code",
   "execution_count": 129,
   "id": "b123a252",
   "metadata": {},
   "outputs": [],
   "source": [
    "usages = []\n",
    "classification = []\n",
    "objects = []\n",
    "scores = []\n",
    "number_of_usages = []\n",
    "number_of_langs = []\n",
    "for row in object_analysis_df.iterrows():\n",
    "    objects.append(row[1].object)\n",
    "    number_of_usages.append(row[1].total_usages)\n",
    "    number_of_langs.append(row[1].num_languages)\n",
    "    # usage_report = get_lang_usage_report_for_object(row[1].object)\n",
    "    # usages.append(usage_report)\n",
    "\n",
    "    if row[1].percent_accuracy == 0.0:\n",
    "        classification.append(\"never\")\n",
    "    elif row[1].percent_accuracy == 1.0:\n",
    "        classification.append(\"always\")\n",
    "    else:\n",
    "        classification.append(\"sometimes\")\n",
    "\n",
    "    scores.append(np.round(row[1].percent_accuracy * 100))"
   ]
  },
  {
   "cell_type": "code",
   "execution_count": 130,
   "id": "8b1ea364",
   "metadata": {},
   "outputs": [],
   "source": [
    "venn_diagram_df = pd.DataFrame(\n",
    "    {\n",
    "        \"object\": objects,\n",
    "        \"classification\": classification,\n",
    "        \"pct_right\": scores,\n",
    "        \"number_usages\": number_of_usages,\n",
    "        \"number_of_languages\": number_of_langs,\n",
    "    }\n",
    ")"
   ]
  },
  {
   "cell_type": "code",
   "execution_count": 131,
   "id": "c8638576",
   "metadata": {},
   "outputs": [
    {
     "data": {
      "text/plain": [
       "sometimes    1734\n",
       "always        497\n",
       "never          36\n",
       "Name: classification, dtype: int64"
      ]
     },
     "execution_count": 131,
     "metadata": {},
     "output_type": "execute_result"
    }
   ],
   "source": [
    "venn_diagram_df[\"classification\"].value_counts()"
   ]
  },
  {
   "cell_type": "code",
   "execution_count": 199,
   "id": "00ce028d",
   "metadata": {},
   "outputs": [
    {
     "data": {
      "text/plain": [
       "<AxesSubplot:>"
      ]
     },
     "execution_count": 199,
     "metadata": {},
     "output_type": "execute_result"
    },
    {
     "data": {
      "image/png": "[encoded data removed]",
      "text/plain": [
       "<Figure size 640x480 with 1 Axes>"
      ]
     },
     "metadata": {},
     "output_type": "display_data"
    }
   ],
   "source": [
    "venn_diagram_df[\"classification\"].hist()"
   ]
  },
  {
   "cell_type": "code",
   "execution_count": 133,
   "id": "4f36ef3e",
   "metadata": {},
   "outputs": [
    {
     "data": {
      "text/html": [
       "<div>\n",
       "<style scoped>\n",
       "    .dataframe tbody tr th:only-of-type {\n",
       "        vertical-align: middle;\n",
       "    }\n",
       "\n",
       "    .dataframe tbody tr th {\n",
       "        vertical-align: top;\n",
       "    }\n",
       "\n",
       "    .dataframe thead th {\n",
       "        text-align: right;\n",
       "    }\n",
       "</style>\n",
       "<table border=\"1\" class=\"dataframe\">\n",
       "  <thead>\n",
       "    <tr style=\"text-align: right;\">\n",
       "      <th></th>\n",
       "      <th>object</th>\n",
       "      <th>classification</th>\n",
       "      <th>pct_right</th>\n",
       "      <th>number_usages</th>\n",
       "      <th>number_of_languages</th>\n",
       "    </tr>\n",
       "  </thead>\n",
       "  <tbody>\n",
       "    <tr>\n",
       "      <th>0</th>\n",
       "      <td>Toyota</td>\n",
       "      <td>sometimes</td>\n",
       "      <td>94.0</td>\n",
       "      <td>427</td>\n",
       "      <td>20</td>\n",
       "    </tr>\n",
       "    <tr>\n",
       "      <th>1</th>\n",
       "      <td>Google</td>\n",
       "      <td>sometimes</td>\n",
       "      <td>92.0</td>\n",
       "      <td>836</td>\n",
       "      <td>20</td>\n",
       "    </tr>\n",
       "    <tr>\n",
       "      <th>2</th>\n",
       "      <td>Beijing</td>\n",
       "      <td>sometimes</td>\n",
       "      <td>95.0</td>\n",
       "      <td>375</td>\n",
       "      <td>20</td>\n",
       "    </tr>\n",
       "    <tr>\n",
       "      <th>3</th>\n",
       "      <td>Dutch</td>\n",
       "      <td>sometimes</td>\n",
       "      <td>77.0</td>\n",
       "      <td>1612</td>\n",
       "      <td>19</td>\n",
       "    </tr>\n",
       "    <tr>\n",
       "      <th>4</th>\n",
       "      <td>Vienna</td>\n",
       "      <td>sometimes</td>\n",
       "      <td>94.0</td>\n",
       "      <td>1381</td>\n",
       "      <td>20</td>\n",
       "    </tr>\n",
       "  </tbody>\n",
       "</table>\n",
       "</div>"
      ],
      "text/plain": [
       "    object classification  pct_right  number_usages  number_of_languages\n",
       "0   Toyota      sometimes       94.0            427                   20\n",
       "1   Google      sometimes       92.0            836                   20\n",
       "2  Beijing      sometimes       95.0            375                   20\n",
       "3    Dutch      sometimes       77.0           1612                   19\n",
       "4   Vienna      sometimes       94.0           1381                   20"
      ]
     },
     "execution_count": 133,
     "metadata": {},
     "output_type": "execute_result"
    }
   ],
   "source": [
    "venn_diagram_df.head()"
   ]
  },
  {
   "cell_type": "code",
   "execution_count": 134,
   "id": "63ff4db6",
   "metadata": {},
   "outputs": [
    {
     "data": {
      "text/plain": [
       "count    1734.000000\n",
       "mean       72.301615\n",
       "std        24.202517\n",
       "min         5.000000\n",
       "25%        61.000000\n",
       "50%        81.000000\n",
       "75%        91.000000\n",
       "max       100.000000\n",
       "Name: pct_right, dtype: float64"
      ]
     },
     "execution_count": 134,
     "metadata": {},
     "output_type": "execute_result"
    }
   ],
   "source": [
    "venn_diagram_df[venn_diagram_df[\"classification\"] == \"sometimes\"][\n",
    "    \"pct_right\"\n",
    "].describe()"
   ]
  },
  {
   "cell_type": "code",
   "execution_count": 209,
   "id": "28e55510",
   "metadata": {},
   "outputs": [
    {
     "data": {
      "text/html": [
       "<div>\n",
       "<style scoped>\n",
       "    .dataframe tbody tr th:only-of-type {\n",
       "        vertical-align: middle;\n",
       "    }\n",
       "\n",
       "    .dataframe tbody tr th {\n",
       "        vertical-align: top;\n",
       "    }\n",
       "\n",
       "    .dataframe thead th {\n",
       "        text-align: right;\n",
       "    }\n",
       "</style>\n",
       "<table border=\"1\" class=\"dataframe\">\n",
       "  <thead>\n",
       "    <tr style=\"text-align: right;\">\n",
       "      <th></th>\n",
       "      <th>object</th>\n",
       "      <th>classification</th>\n",
       "      <th>pct_right</th>\n",
       "      <th>number_usages</th>\n",
       "      <th>number_of_languages</th>\n",
       "    </tr>\n",
       "  </thead>\n",
       "  <tbody>\n",
       "    <tr>\n",
       "      <th>547</th>\n",
       "      <td>SVT2</td>\n",
       "      <td>sometimes</td>\n",
       "      <td>5.0</td>\n",
       "      <td>19</td>\n",
       "      <td>19</td>\n",
       "    </tr>\n",
       "    <tr>\n",
       "      <th>370</th>\n",
       "      <td>Ghostface</td>\n",
       "      <td>sometimes</td>\n",
       "      <td>5.0</td>\n",
       "      <td>19</td>\n",
       "      <td>19</td>\n",
       "    </tr>\n",
       "    <tr>\n",
       "      <th>606</th>\n",
       "      <td>self-portrait</td>\n",
       "      <td>sometimes</td>\n",
       "      <td>5.0</td>\n",
       "      <td>20</td>\n",
       "      <td>20</td>\n",
       "    </tr>\n",
       "    <tr>\n",
       "      <th>655</th>\n",
       "      <td>Opel</td>\n",
       "      <td>sometimes</td>\n",
       "      <td>6.0</td>\n",
       "      <td>17</td>\n",
       "      <td>17</td>\n",
       "    </tr>\n",
       "    <tr>\n",
       "      <th>583</th>\n",
       "      <td>Edsel</td>\n",
       "      <td>sometimes</td>\n",
       "      <td>6.0</td>\n",
       "      <td>17</td>\n",
       "      <td>17</td>\n",
       "    </tr>\n",
       "    <tr>\n",
       "      <th>...</th>\n",
       "      <td>...</td>\n",
       "      <td>...</td>\n",
       "      <td>...</td>\n",
       "      <td>...</td>\n",
       "      <td>...</td>\n",
       "    </tr>\n",
       "    <tr>\n",
       "      <th>233</th>\n",
       "      <td>Konami</td>\n",
       "      <td>sometimes</td>\n",
       "      <td>99.0</td>\n",
       "      <td>204</td>\n",
       "      <td>20</td>\n",
       "    </tr>\n",
       "    <tr>\n",
       "      <th>278</th>\n",
       "      <td>Mecca</td>\n",
       "      <td>sometimes</td>\n",
       "      <td>99.0</td>\n",
       "      <td>89</td>\n",
       "      <td>18</td>\n",
       "    </tr>\n",
       "    <tr>\n",
       "      <th>572</th>\n",
       "      <td>Congo</td>\n",
       "      <td>sometimes</td>\n",
       "      <td>99.0</td>\n",
       "      <td>98</td>\n",
       "      <td>20</td>\n",
       "    </tr>\n",
       "    <tr>\n",
       "      <th>504</th>\n",
       "      <td>Cairo</td>\n",
       "      <td>sometimes</td>\n",
       "      <td>99.0</td>\n",
       "      <td>182</td>\n",
       "      <td>20</td>\n",
       "    </tr>\n",
       "    <tr>\n",
       "      <th>923</th>\n",
       "      <td>Seoul</td>\n",
       "      <td>sometimes</td>\n",
       "      <td>100.0</td>\n",
       "      <td>249</td>\n",
       "      <td>19</td>\n",
       "    </tr>\n",
       "  </tbody>\n",
       "</table>\n",
       "<p>1734 rows × 5 columns</p>\n",
       "</div>"
      ],
      "text/plain": [
       "            object classification  pct_right  number_usages  \\\n",
       "547           SVT2      sometimes        5.0             19   \n",
       "370      Ghostface      sometimes        5.0             19   \n",
       "606  self-portrait      sometimes        5.0             20   \n",
       "655           Opel      sometimes        6.0             17   \n",
       "583          Edsel      sometimes        6.0             17   \n",
       "..             ...            ...        ...            ...   \n",
       "233         Konami      sometimes       99.0            204   \n",
       "278          Mecca      sometimes       99.0             89   \n",
       "572          Congo      sometimes       99.0             98   \n",
       "504          Cairo      sometimes       99.0            182   \n",
       "923          Seoul      sometimes      100.0            249   \n",
       "\n",
       "     number_of_languages  \n",
       "547                   19  \n",
       "370                   19  \n",
       "606                   20  \n",
       "655                   17  \n",
       "583                   17  \n",
       "..                   ...  \n",
       "233                   20  \n",
       "278                   18  \n",
       "572                   20  \n",
       "504                   20  \n",
       "923                   19  \n",
       "\n",
       "[1734 rows x 5 columns]"
      ]
     },
     "execution_count": 209,
     "metadata": {},
     "output_type": "execute_result"
    }
   ],
   "source": [
    "venn_diagram_df[venn_diagram_df[\"classification\"] == \"sometimes\"].sort_values('pct_right')"
   ]
  },
  {
   "cell_type": "markdown",
   "id": "f0a41fec",
   "metadata": {},
   "source": [
    "### Somtimes Correct analysis\n",
    "\n",
    "- almost perfect\n",
    "- almost imperfect"
   ]
  },
  {
   "cell_type": "markdown",
   "id": "8c52c32c",
   "metadata": {},
   "source": [
    "What objects are mostly correct but just barely aren't 'always' right?"
   ]
  },
  {
   "cell_type": "code",
   "execution_count": 135,
   "id": "42aefd07",
   "metadata": {},
   "outputs": [
    {
     "data": {
      "text/html": [
       "<div>\n",
       "<style scoped>\n",
       "    .dataframe tbody tr th:only-of-type {\n",
       "        vertical-align: middle;\n",
       "    }\n",
       "\n",
       "    .dataframe tbody tr th {\n",
       "        vertical-align: top;\n",
       "    }\n",
       "\n",
       "    .dataframe thead th {\n",
       "        text-align: right;\n",
       "    }\n",
       "</style>\n",
       "<table border=\"1\" class=\"dataframe\">\n",
       "  <thead>\n",
       "    <tr style=\"text-align: right;\">\n",
       "      <th></th>\n",
       "      <th>object</th>\n",
       "      <th>classification</th>\n",
       "      <th>pct_right</th>\n",
       "      <th>number_usages</th>\n",
       "      <th>number_of_languages</th>\n",
       "    </tr>\n",
       "  </thead>\n",
       "  <tbody>\n",
       "    <tr>\n",
       "      <th>923</th>\n",
       "      <td>Seoul</td>\n",
       "      <td>sometimes</td>\n",
       "      <td>100.0</td>\n",
       "      <td>249</td>\n",
       "      <td>19</td>\n",
       "    </tr>\n",
       "    <tr>\n",
       "      <th>278</th>\n",
       "      <td>Mecca</td>\n",
       "      <td>sometimes</td>\n",
       "      <td>99.0</td>\n",
       "      <td>89</td>\n",
       "      <td>18</td>\n",
       "    </tr>\n",
       "    <tr>\n",
       "      <th>49</th>\n",
       "      <td>Bangalore</td>\n",
       "      <td>sometimes</td>\n",
       "      <td>99.0</td>\n",
       "      <td>166</td>\n",
       "      <td>18</td>\n",
       "    </tr>\n",
       "    <tr>\n",
       "      <th>493</th>\n",
       "      <td>Colombia</td>\n",
       "      <td>sometimes</td>\n",
       "      <td>99.0</td>\n",
       "      <td>140</td>\n",
       "      <td>14</td>\n",
       "    </tr>\n",
       "    <tr>\n",
       "      <th>572</th>\n",
       "      <td>Congo</td>\n",
       "      <td>sometimes</td>\n",
       "      <td>99.0</td>\n",
       "      <td>98</td>\n",
       "      <td>20</td>\n",
       "    </tr>\n",
       "  </tbody>\n",
       "</table>\n",
       "</div>"
      ],
      "text/plain": [
       "        object classification  pct_right  number_usages  number_of_languages\n",
       "923      Seoul      sometimes      100.0            249                   19\n",
       "278      Mecca      sometimes       99.0             89                   18\n",
       "49   Bangalore      sometimes       99.0            166                   18\n",
       "493   Colombia      sometimes       99.0            140                   14\n",
       "572      Congo      sometimes       99.0             98                   20"
      ]
     },
     "execution_count": 135,
     "metadata": {},
     "output_type": "execute_result"
    }
   ],
   "source": [
    "venn_diagram_df[venn_diagram_df[\"classification\"] == \"sometimes\"].sort_values(\n",
    "    by=\"pct_right\", ascending=False\n",
    ").head(5)"
   ]
  },
  {
   "cell_type": "code",
   "execution_count": 136,
   "id": "bb043078",
   "metadata": {},
   "outputs": [
    {
     "data": {
      "text/plain": [
       "159"
      ]
     },
     "execution_count": 136,
     "metadata": {},
     "output_type": "execute_result"
    }
   ],
   "source": [
    "venn_diagram_df[\n",
    "    (venn_diagram_df[\"classification\"] == \"sometimes\")\n",
    "    & (venn_diagram_df[\"pct_right\"] >= 95.0)\n",
    "].shape[0]"
   ]
  },
  {
   "cell_type": "code",
   "execution_count": 137,
   "id": "e0823fa1",
   "metadata": {},
   "outputs": [],
   "source": [
    "almost_perfect_objects = venn_diagram_df[\n",
    "    (venn_diagram_df[\"classification\"] == \"sometimes\")\n",
    "    & (venn_diagram_df[\"pct_right\"] >= 95.0)\n",
    "][\"object\"]"
   ]
  },
  {
   "cell_type": "code",
   "execution_count": 138,
   "id": "1989fce4",
   "metadata": {},
   "outputs": [
    {
     "data": {
      "text/plain": [
       "159"
      ]
     },
     "execution_count": 138,
     "metadata": {},
     "output_type": "execute_result"
    }
   ],
   "source": [
    "almost_perfect_objects.shape[0]"
   ]
  },
  {
   "cell_type": "code",
   "execution_count": 139,
   "id": "bfe8061e",
   "metadata": {},
   "outputs": [],
   "source": [
    "almost_perfect_rows = []\n",
    "for e in almost_perfect_objects:\n",
    "    rows = get_rows_by_object(e)\n",
    "    almost_perfect_rows.append(rows)\n",
    "\n",
    "almost_perfect_rows = pd.concat(almost_perfect_rows, axis=0)\n",
    "\n",
    "english_objects = []\n",
    "for d_id in list(almost_perfect_rows.dataset_id):\n",
    "    english_objects.append(dataset_id_to_eng_object[d_id])\n",
    "\n",
    "almost_perfect_rows[\"english_object\"] = english_objects"
   ]
  },
  {
   "cell_type": "code",
   "execution_count": 140,
   "id": "92f03ddc",
   "metadata": {},
   "outputs": [
    {
     "data": {
      "text/plain": [
       "(1025, 14)"
      ]
     },
     "execution_count": 140,
     "metadata": {},
     "output_type": "execute_result"
    }
   ],
   "source": [
    "almost_perfect_rows.shape"
   ]
  },
  {
   "cell_type": "code",
   "execution_count": 141,
   "id": "e656b678",
   "metadata": {},
   "outputs": [
    {
     "data": {
      "text/html": [
       "<div>\n",
       "<style scoped>\n",
       "    .dataframe tbody tr th:only-of-type {\n",
       "        vertical-align: middle;\n",
       "    }\n",
       "\n",
       "    .dataframe tbody tr th {\n",
       "        vertical-align: top;\n",
       "    }\n",
       "\n",
       "    .dataframe thead th {\n",
       "        text-align: right;\n",
       "    }\n",
       "</style>\n",
       "<table border=\"1\" class=\"dataframe\">\n",
       "  <thead>\n",
       "    <tr style=\"text-align: right;\">\n",
       "      <th></th>\n",
       "      <th>dataset_id</th>\n",
       "      <th>stem</th>\n",
       "      <th>true</th>\n",
       "      <th>false</th>\n",
       "      <th>relation</th>\n",
       "      <th>subject</th>\n",
       "      <th>object</th>\n",
       "      <th>correct</th>\n",
       "      <th>language</th>\n",
       "      <th>lang_code</th>\n",
       "      <th>relation_title</th>\n",
       "      <th>analysis_id</th>\n",
       "      <th>object_en</th>\n",
       "      <th>english_object</th>\n",
       "    </tr>\n",
       "  </thead>\n",
       "  <tbody>\n",
       "    <tr>\n",
       "      <th>2785</th>\n",
       "      <td>calinet_2841</td>\n",
       "      <td>Главни град ЦХН је</td>\n",
       "      <td>Пекинг</td>\n",
       "      <td>Ирачка влада &lt;br&gt; Спартанбург &lt;br&gt; Цервера &lt;br...</td>\n",
       "      <td>P36</td>\n",
       "      <td>ЦХН</td>\n",
       "      <td>Пекинг</td>\n",
       "      <td>False</td>\n",
       "      <td>Serbian</td>\n",
       "      <td>sr</td>\n",
       "      <td>capital</td>\n",
       "      <td>2786</td>\n",
       "      <td>Beijing</td>\n",
       "      <td>Beijing</td>\n",
       "    </tr>\n",
       "    <tr>\n",
       "      <th>1361</th>\n",
       "      <td>rome_17921</td>\n",
       "      <td>Qing-dinasztia, amelynek fővárosa</td>\n",
       "      <td>Peking</td>\n",
       "      <td>Párizs</td>\n",
       "      <td>P36</td>\n",
       "      <td>Csing dinasztia</td>\n",
       "      <td>Peking</td>\n",
       "      <td>False</td>\n",
       "      <td>Hungarian</td>\n",
       "      <td>hu</td>\n",
       "      <td>capital</td>\n",
       "      <td>58872</td>\n",
       "      <td>Beijing</td>\n",
       "      <td>Beijing</td>\n",
       "    </tr>\n",
       "    <tr>\n",
       "      <th>3947</th>\n",
       "      <td>rome_12771</td>\n",
       "      <td>Friedrich Rosen va morir a</td>\n",
       "      <td>Pequín</td>\n",
       "      <td>Londres</td>\n",
       "      <td>P20</td>\n",
       "      <td>Friedrich Rosen</td>\n",
       "      <td>Pequín</td>\n",
       "      <td>False</td>\n",
       "      <td>Catalan</td>\n",
       "      <td>ca</td>\n",
       "      <td>place of death</td>\n",
       "      <td>66108</td>\n",
       "      <td>Beijing</td>\n",
       "      <td>Beijing</td>\n",
       "    </tr>\n",
       "    <tr>\n",
       "      <th>2725</th>\n",
       "      <td>rome_17921</td>\n",
       "      <td>Dynastia Qing, której stolicą jest</td>\n",
       "      <td>Pekin</td>\n",
       "      <td>Paryż</td>\n",
       "      <td>P36</td>\n",
       "      <td>Dynastia Qing</td>\n",
       "      <td>Pekin</td>\n",
       "      <td>False</td>\n",
       "      <td>Polish</td>\n",
       "      <td>pl</td>\n",
       "      <td>capital</td>\n",
       "      <td>83784</td>\n",
       "      <td>Beijing</td>\n",
       "      <td>Beijing</td>\n",
       "    </tr>\n",
       "    <tr>\n",
       "      <th>3923</th>\n",
       "      <td>rome_10058</td>\n",
       "      <td>Джоу Лонг беше от &lt;br&gt; Джоу Лонг беше родом от</td>\n",
       "      <td>Пекин</td>\n",
       "      <td>Единбург</td>\n",
       "      <td>P19</td>\n",
       "      <td>Zhou Long</td>\n",
       "      <td>Пекин</td>\n",
       "      <td>False</td>\n",
       "      <td>Bulgarian</td>\n",
       "      <td>bg</td>\n",
       "      <td>place of birth</td>\n",
       "      <td>97755</td>\n",
       "      <td>Beijing</td>\n",
       "      <td>Beijing</td>\n",
       "    </tr>\n",
       "  </tbody>\n",
       "</table>\n",
       "</div>"
      ],
      "text/plain": [
       "        dataset_id                                            stem    true  \\\n",
       "2785  calinet_2841                              Главни град ЦХН је  Пекинг   \n",
       "1361    rome_17921               Qing-dinasztia, amelynek fővárosa  Peking   \n",
       "3947    rome_12771                      Friedrich Rosen va morir a  Pequín   \n",
       "2725    rome_17921              Dynastia Qing, której stolicą jest   Pekin   \n",
       "3923    rome_10058  Джоу Лонг беше от <br> Джоу Лонг беше родом от   Пекин   \n",
       "\n",
       "                                                  false relation  \\\n",
       "2785  Ирачка влада <br> Спартанбург <br> Цервера <br...      P36   \n",
       "1361                                             Párizs      P36   \n",
       "3947                                            Londres      P20   \n",
       "2725                                              Paryż      P36   \n",
       "3923                                           Единбург      P19   \n",
       "\n",
       "              subject  object  correct   language lang_code  relation_title  \\\n",
       "2785              ЦХН  Пекинг    False    Serbian        sr         capital   \n",
       "1361  Csing dinasztia  Peking    False  Hungarian        hu         capital   \n",
       "3947  Friedrich Rosen  Pequín    False    Catalan        ca  place of death   \n",
       "2725    Dynastia Qing   Pekin    False     Polish        pl         capital   \n",
       "3923        Zhou Long   Пекин    False  Bulgarian        bg  place of birth   \n",
       "\n",
       "      analysis_id object_en english_object  \n",
       "2785         2786   Beijing        Beijing  \n",
       "1361        58872   Beijing        Beijing  \n",
       "3947        66108   Beijing        Beijing  \n",
       "2725        83784   Beijing        Beijing  \n",
       "3923        97755   Beijing        Beijing  "
      ]
     },
     "execution_count": 141,
     "metadata": {},
     "output_type": "execute_result"
    }
   ],
   "source": [
    "almost_perfect_rows.head()"
   ]
  },
  {
   "cell_type": "code",
   "execution_count": 142,
   "id": "2b39eaca",
   "metadata": {},
   "outputs": [],
   "source": [
    "# write to csv\n",
    "# ../../data/error_analysis/almost_perfect_objects.csv\n",
    "almost_perfect_rows.to_csv(\n",
    "    \"../../data/error_analysis/object_analysis_almost_perfect_objects.csv\", index=False\n",
    ")"
   ]
  },
  {
   "cell_type": "markdown",
   "id": "7897518d",
   "metadata": {},
   "source": [
    "What objects are mostly wrong but just barely aren't 'never' right"
   ]
  },
  {
   "cell_type": "code",
   "execution_count": 200,
   "id": "84d12687",
   "metadata": {},
   "outputs": [
    {
     "data": {
      "text/html": [
       "<div>\n",
       "<style scoped>\n",
       "    .dataframe tbody tr th:only-of-type {\n",
       "        vertical-align: middle;\n",
       "    }\n",
       "\n",
       "    .dataframe tbody tr th {\n",
       "        vertical-align: top;\n",
       "    }\n",
       "\n",
       "    .dataframe thead th {\n",
       "        text-align: right;\n",
       "    }\n",
       "</style>\n",
       "<table border=\"1\" class=\"dataframe\">\n",
       "  <thead>\n",
       "    <tr style=\"text-align: right;\">\n",
       "      <th></th>\n",
       "      <th>object</th>\n",
       "      <th>classification</th>\n",
       "      <th>pct_right</th>\n",
       "      <th>number_usages</th>\n",
       "      <th>number_of_languages</th>\n",
       "    </tr>\n",
       "  </thead>\n",
       "  <tbody>\n",
       "    <tr>\n",
       "      <th>370</th>\n",
       "      <td>Ghostface</td>\n",
       "      <td>sometimes</td>\n",
       "      <td>5.0</td>\n",
       "      <td>19</td>\n",
       "      <td>19</td>\n",
       "    </tr>\n",
       "    <tr>\n",
       "      <th>547</th>\n",
       "      <td>SVT2</td>\n",
       "      <td>sometimes</td>\n",
       "      <td>5.0</td>\n",
       "      <td>19</td>\n",
       "      <td>19</td>\n",
       "    </tr>\n",
       "    <tr>\n",
       "      <th>606</th>\n",
       "      <td>self-portrait</td>\n",
       "      <td>sometimes</td>\n",
       "      <td>5.0</td>\n",
       "      <td>20</td>\n",
       "      <td>20</td>\n",
       "    </tr>\n",
       "  </tbody>\n",
       "</table>\n",
       "</div>"
      ],
      "text/plain": [
       "            object classification  pct_right  number_usages  \\\n",
       "370      Ghostface      sometimes        5.0             19   \n",
       "547           SVT2      sometimes        5.0             19   \n",
       "606  self-portrait      sometimes        5.0             20   \n",
       "\n",
       "     number_of_languages  \n",
       "370                   19  \n",
       "547                   19  \n",
       "606                   20  "
      ]
     },
     "execution_count": 200,
     "metadata": {},
     "output_type": "execute_result"
    }
   ],
   "source": [
    "venn_diagram_df[\n",
    "    (venn_diagram_df[\"classification\"] == \"sometimes\")\n",
    "    & (venn_diagram_df[\"pct_right\"] <= 5.0)\n",
    "]"
   ]
  },
  {
   "cell_type": "code",
   "execution_count": 144,
   "id": "833889d4",
   "metadata": {},
   "outputs": [],
   "source": [
    "almost_imperfect_objects = venn_diagram_df[\n",
    "    (venn_diagram_df[\"classification\"] == \"sometimes\")\n",
    "    & (venn_diagram_df[\"pct_right\"] <= 5.0)\n",
    "][\"object\"]"
   ]
  },
  {
   "cell_type": "code",
   "execution_count": 145,
   "id": "3d7cf423",
   "metadata": {},
   "outputs": [],
   "source": [
    "almost_imperfect_rows = []\n",
    "for e in almost_imperfect_objects:\n",
    "    rows = get_rows_by_object(e)\n",
    "    almost_imperfect_rows.append(rows)\n",
    "\n",
    "almost_imperfect_rows = pd.concat(almost_imperfect_rows, axis=0)\n",
    "\n",
    "english_objects = []\n",
    "for d_id in list(almost_imperfect_rows.dataset_id):\n",
    "    english_objects.append(dataset_id_to_eng_object[d_id])\n",
    "\n",
    "almost_imperfect_rows[\"english_object\"] = english_objects"
   ]
  },
  {
   "cell_type": "code",
   "execution_count": 146,
   "id": "654e0d86",
   "metadata": {},
   "outputs": [
    {
     "data": {
      "text/plain": [
       "(55, 14)"
      ]
     },
     "execution_count": 146,
     "metadata": {},
     "output_type": "execute_result"
    }
   ],
   "source": [
    "almost_imperfect_rows.shape"
   ]
  },
  {
   "cell_type": "code",
   "execution_count": 147,
   "id": "9826dcb6",
   "metadata": {},
   "outputs": [],
   "source": [
    "almost_imperfect_rows.to_csv(\n",
    "    \"../../data/error_analysis/object_analysis_almost_imperfect_objects.csv\",\n",
    "    index=False,\n",
    ")"
   ]
  },
  {
   "cell_type": "markdown",
   "id": "3c773cf9",
   "metadata": {},
   "source": [
    "### Check for Correlations"
   ]
  },
  {
   "cell_type": "code",
   "execution_count": 148,
   "id": "b0efaf0c",
   "metadata": {},
   "outputs": [],
   "source": [
    "almost_imperfect_objects = venn_diagram_df[\n",
    "    (venn_diagram_df[\"classification\"] == \"sometimes\")\n",
    "    & (venn_diagram_df[\"pct_right\"] <= 5.0)\n",
    "][\"object\"]"
   ]
  },
  {
   "cell_type": "markdown",
   "id": "0f8f4b9b",
   "metadata": {},
   "source": [
    "Is there a correlation between the number of times an object appears and how accurate it is?"
   ]
  },
  {
   "cell_type": "code",
   "execution_count": 149,
   "id": "df1b57dc",
   "metadata": {},
   "outputs": [
    {
     "data": {
      "image/png": "[encoded data removed]",
      "text/plain": [
       "<Figure size 640x480 with 1 Axes>"
      ]
     },
     "metadata": {},
     "output_type": "display_data"
    }
   ],
   "source": [
    "plt.scatter(venn_diagram_df[\"number_usages\"], venn_diagram_df[\"pct_right\"])\n",
    "plt.show()"
   ]
  },
  {
   "cell_type": "markdown",
   "id": "3f9b21b5",
   "metadata": {},
   "source": [
    "No"
   ]
  },
  {
   "cell_type": "code",
   "execution_count": 150,
   "id": "7bf82d2b",
   "metadata": {},
   "outputs": [
    {
     "data": {
      "text/plain": [
       "0.04939541834289125"
      ]
     },
     "execution_count": 150,
     "metadata": {},
     "output_type": "execute_result"
    }
   ],
   "source": [
    "venn_diagram_df[\"number_usages\"].corr(venn_diagram_df[\"pct_right\"])"
   ]
  },
  {
   "cell_type": "markdown",
   "id": "833f118e",
   "metadata": {},
   "source": [
    "Is there a correlation between the number of langs an object appears and how accurate it is?"
   ]
  },
  {
   "cell_type": "code",
   "execution_count": 151,
   "id": "c43713e7",
   "metadata": {},
   "outputs": [
    {
     "data": {
      "image/png": "[encoded data removed]",
      "text/plain": [
       "<Figure size 640x480 with 1 Axes>"
      ]
     },
     "metadata": {},
     "output_type": "display_data"
    }
   ],
   "source": [
    "plt.scatter(venn_diagram_df[\"number_of_languages\"], venn_diagram_df[\"pct_right\"])\n",
    "plt.show()"
   ]
  },
  {
   "cell_type": "markdown",
   "id": "37e2dbf2",
   "metadata": {},
   "source": [
    "No"
   ]
  },
  {
   "cell_type": "code",
   "execution_count": 152,
   "id": "d201c1fb",
   "metadata": {},
   "outputs": [
    {
     "data": {
      "text/plain": [
       "0.05032166422586567"
      ]
     },
     "execution_count": 152,
     "metadata": {},
     "output_type": "execute_result"
    }
   ],
   "source": [
    "venn_diagram_df[\"number_of_languages\"].corr(venn_diagram_df[\"pct_right\"])"
   ]
  },
  {
   "cell_type": "code",
   "execution_count": null,
   "id": "a5d5d62b",
   "metadata": {},
   "outputs": [],
   "source": []
  }
 ],
 "metadata": {
  "kernelspec": {
   "display_name": "Python 3.9.13 ('base')",
   "language": "python",
   "name": "python3"
  },
  "language_info": {
   "codemirror_mode": {
    "name": "ipython",
    "version": 3
   },
   "file_extension": ".py",
   "mimetype": "text/x-python",
   "name": "python",
   "nbconvert_exporter": "python",
   "pygments_lexer": "ipython3",
   "version": "3.9.13"
  },
  "vscode": {
   "interpreter": {
    "hash": "1b2a681c3ac7acf31a3a9837076c007e07d5a53dd35b965db35d26d340fc3a15"
   }
  }
 },
 "nbformat": 4,
 "nbformat_minor": 5
}
