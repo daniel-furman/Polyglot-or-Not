{
 "cells": [
  {
   "cell_type": "markdown",
   "id": "93fb5fbc",
   "metadata": {},
   "source": [
    "## Imports"
   ]
  },
  {
   "cell_type": "code",
   "execution_count": 50,
   "id": "484138e4",
   "metadata": {},
   "outputs": [],
   "source": [
    "import pandas as pd\n",
    "import numpy as np\n",
    "import matplotlib.pyplot as plt\n",
    "\n",
    "import json\n",
    "import urllib.parse\n",
    "import urllib.request\n",
    "\n",
    "from ftfy import fix_text"
   ]
  },
  {
   "cell_type": "markdown",
   "id": "d8ecc316",
   "metadata": {},
   "source": [
    "## Load Entity Data"
   ]
  },
  {
   "cell_type": "code",
   "execution_count": 3,
   "id": "20aaef30",
   "metadata": {},
   "outputs": [],
   "source": [
    "code_to_lang_dict = {\n",
    "    \"bg\": \"Bulgarian\",\n",
    "    \"ca\": \"Catalan\",\n",
    "    \"cs\": \"Czech\",\n",
    "    \"da\": \"Danish\",\n",
    "    \"de\": \"German\",\n",
    "    \"en\": \"English\",\n",
    "    \"es\": \"Spanish\",\n",
    "    \"fr\": \"French\",\n",
    "    \"hr\": \"Croatian\",\n",
    "    \"hu\": \"Hungarian\",\n",
    "    \"it\": \"Italian\",\n",
    "    \"nl\": \"Dutch\",\n",
    "    \"pl\": \"Polish\",\n",
    "    \"pt\": \"Portuguese\",\n",
    "    \"ro\": \"Romanian\",\n",
    "    \"ru\": \"Russian\",\n",
    "    \"sl\": \"Slovenian\",\n",
    "    \"sr\": \"Serbian\",\n",
    "    \"sv\": \"Swedish\",\n",
    "    \"uk\": \"Ukrainian\",\n",
    "}"
   ]
  },
  {
   "cell_type": "code",
   "execution_count": 33,
   "id": "d350b9af",
   "metadata": {},
   "outputs": [],
   "source": [
    "lang_codes = list(code_to_lang_dict.keys())"
   ]
  },
  {
   "cell_type": "code",
   "execution_count": 4,
   "id": "0c48dd74",
   "metadata": {},
   "outputs": [],
   "source": [
    "entity_analysis_df = pd.read_csv(\n",
    "    \"../../data/error_analysis/entity_analysis_language_and_accuracy_by_entity.csv\"\n",
    ")"
   ]
  },
  {
   "cell_type": "code",
   "execution_count": 5,
   "id": "f76ba1c9",
   "metadata": {},
   "outputs": [
    {
     "data": {
      "text/html": [
       "<div>\n",
       "<style scoped>\n",
       "    .dataframe tbody tr th:only-of-type {\n",
       "        vertical-align: middle;\n",
       "    }\n",
       "\n",
       "    .dataframe tbody tr th {\n",
       "        vertical-align: top;\n",
       "    }\n",
       "\n",
       "    .dataframe thead th {\n",
       "        text-align: right;\n",
       "    }\n",
       "</style>\n",
       "<table border=\"1\" class=\"dataframe\">\n",
       "  <thead>\n",
       "    <tr style=\"text-align: right;\">\n",
       "      <th></th>\n",
       "      <th>entity</th>\n",
       "      <th>num_correct</th>\n",
       "      <th>num_incorrect</th>\n",
       "      <th>total_usages</th>\n",
       "      <th>percent_accuracy</th>\n",
       "      <th>languages</th>\n",
       "      <th>num_languages</th>\n",
       "      <th>alternate_forms</th>\n",
       "      <th>dataset_ids</th>\n",
       "    </tr>\n",
       "  </thead>\n",
       "  <tbody>\n",
       "    <tr>\n",
       "      <th>0</th>\n",
       "      <td>Prius</td>\n",
       "      <td>16</td>\n",
       "      <td>0</td>\n",
       "      <td>16</td>\n",
       "      <td>1.000000</td>\n",
       "      <td>{'sr': 1, 'uk': 1, 'nl': 1, 'sv': 1, 'ca': 1, ...</td>\n",
       "      <td>16</td>\n",
       "      <td>{'sr': 'Приус', 'uk': 'Prius', 'nl': 'Prius', ...</td>\n",
       "      <td>['calinet_8922']</td>\n",
       "    </tr>\n",
       "    <tr>\n",
       "      <th>1</th>\n",
       "      <td>Sundar Pichai</td>\n",
       "      <td>18</td>\n",
       "      <td>1</td>\n",
       "      <td>19</td>\n",
       "      <td>0.947368</td>\n",
       "      <td>{'sr': 1, 'uk': 1, 'nl': 1, 'sv': 1, 'ca': 1, ...</td>\n",
       "      <td>19</td>\n",
       "      <td>{'sr': 'Сундар Пицхаи', 'uk': 'Сундар Пічаї', ...</td>\n",
       "      <td>['rome_5025']</td>\n",
       "    </tr>\n",
       "    <tr>\n",
       "      <th>2</th>\n",
       "      <td>People's Republic of China</td>\n",
       "      <td>17</td>\n",
       "      <td>0</td>\n",
       "      <td>17</td>\n",
       "      <td>1.000000</td>\n",
       "      <td>{'sr': 1, 'uk': 1, 'nl': 1, 'sv': 1, 'hu': 1, ...</td>\n",
       "      <td>17</td>\n",
       "      <td>{'sr': 'Народна Република Кина', 'uk': 'Народн...</td>\n",
       "      <td>['rome_21333']</td>\n",
       "    </tr>\n",
       "    <tr>\n",
       "      <th>3</th>\n",
       "      <td>Sint Maarten</td>\n",
       "      <td>11</td>\n",
       "      <td>10</td>\n",
       "      <td>21</td>\n",
       "      <td>0.523810</td>\n",
       "      <td>{'sr': 1, 'nl': 2, 'sv': 1, 'ca': 1, 'pl': 1, ...</td>\n",
       "      <td>14</td>\n",
       "      <td>{'sr': 'Синт Маартен', 'nl': 'Sint Maarten', '...</td>\n",
       "      <td>['rome_8738', 'rome_20596']</td>\n",
       "    </tr>\n",
       "    <tr>\n",
       "      <th>4</th>\n",
       "      <td>Haas House</td>\n",
       "      <td>9</td>\n",
       "      <td>5</td>\n",
       "      <td>14</td>\n",
       "      <td>0.642857</td>\n",
       "      <td>{'sr': 1, 'nl': 1, 'sv': 1, 'hu': 1, 'ca': 1, ...</td>\n",
       "      <td>14</td>\n",
       "      <td>{'sr': 'Хаас Хоусе', 'nl': 'Haas House', 'sv':...</td>\n",
       "      <td>['rome_8783']</td>\n",
       "    </tr>\n",
       "  </tbody>\n",
       "</table>\n",
       "</div>"
      ],
      "text/plain": [
       "                       entity  num_correct  num_incorrect  total_usages  \\\n",
       "0                       Prius           16              0            16   \n",
       "1               Sundar Pichai           18              1            19   \n",
       "2  People's Republic of China           17              0            17   \n",
       "3                Sint Maarten           11             10            21   \n",
       "4                  Haas House            9              5            14   \n",
       "\n",
       "   percent_accuracy                                          languages  \\\n",
       "0          1.000000  {'sr': 1, 'uk': 1, 'nl': 1, 'sv': 1, 'ca': 1, ...   \n",
       "1          0.947368  {'sr': 1, 'uk': 1, 'nl': 1, 'sv': 1, 'ca': 1, ...   \n",
       "2          1.000000  {'sr': 1, 'uk': 1, 'nl': 1, 'sv': 1, 'hu': 1, ...   \n",
       "3          0.523810  {'sr': 1, 'nl': 2, 'sv': 1, 'ca': 1, 'pl': 1, ...   \n",
       "4          0.642857  {'sr': 1, 'nl': 1, 'sv': 1, 'hu': 1, 'ca': 1, ...   \n",
       "\n",
       "   num_languages                                    alternate_forms  \\\n",
       "0             16  {'sr': 'Приус', 'uk': 'Prius', 'nl': 'Prius', ...   \n",
       "1             19  {'sr': 'Сундар Пицхаи', 'uk': 'Сундар Пічаї', ...   \n",
       "2             17  {'sr': 'Народна Република Кина', 'uk': 'Народн...   \n",
       "3             14  {'sr': 'Синт Маартен', 'nl': 'Sint Maarten', '...   \n",
       "4             14  {'sr': 'Хаас Хоусе', 'nl': 'Haas House', 'sv':...   \n",
       "\n",
       "                   dataset_ids  \n",
       "0             ['calinet_8922']  \n",
       "1                ['rome_5025']  \n",
       "2               ['rome_21333']  \n",
       "3  ['rome_8738', 'rome_20596']  \n",
       "4                ['rome_8783']  "
      ]
     },
     "execution_count": 5,
     "metadata": {},
     "output_type": "execute_result"
    }
   ],
   "source": [
    "entity_analysis_df.head()"
   ]
  },
  {
   "cell_type": "markdown",
   "id": "acf7ea8c",
   "metadata": {},
   "source": [
    "So we have 23k entities to work with. We're interested in how many times they get mentioned on wikipedia."
   ]
  },
  {
   "cell_type": "code",
   "execution_count": 6,
   "id": "f7efb860",
   "metadata": {},
   "outputs": [
    {
     "data": {
      "text/plain": [
       "23257"
      ]
     },
     "execution_count": 6,
     "metadata": {},
     "output_type": "execute_result"
    }
   ],
   "source": [
    "len(entity_analysis_df['entity'])"
   ]
  },
  {
   "cell_type": "code",
   "execution_count": 47,
   "id": "7a85fa95",
   "metadata": {},
   "outputs": [],
   "source": [
    "# for a given language, randomly sample <n> articles (max of 500).\n",
    "# return a dict of their id and title.\n",
    "def get_wikipedia_pages(lang, debug = False):\n",
    "    articles_url = f\"https://{lang}.wikipedia.org/w/api.php?action=query&list=random&format=json&rnnamespace=0&rnlimit=50&format=json\"\n",
    "    \n",
    "    \n",
    "    url = urllib.request.urlopen(articles_url)\n",
    "    \n",
    "    data = url.read()\n",
    "    \n",
    "    encoding = url.info().get_content_charset('utf-8')\n",
    "    obj = json.loads(data.decode(encoding))\n",
    "    \n",
    "    if 'query' not in obj or 'random' not in obj['query']:\n",
    "        if debug:\n",
    "            print(f\"Unable to grab articles from {code_to_lang_dict[lang]} using URL {url}.\")\n",
    "        raise Exception\n",
    "        \n",
    "    mappings = obj['query']['random']\n",
    "    ids = {}\n",
    "    for m in mappings:\n",
    "        ids[m['id']] = m['title']\n",
    "        \n",
    "    if debug:\n",
    "        print(f\"Fetched {len(ids)} articles from {code_to_lang_dict[lang]} wikipedia\")\n",
    "    return ids"
   ]
  },
  {
   "cell_type": "code",
   "execution_count": 48,
   "id": "04273ef7",
   "metadata": {},
   "outputs": [
    {
     "name": "stdout",
     "output_type": "stream",
     "text": [
      "Fetched 50 articles from Bulgarian wikipedia\n"
     ]
    }
   ],
   "source": [
    "info_to_check = get_wikipedia_pages(lang_codes[0], debug=True)"
   ]
  },
  {
   "cell_type": "code",
   "execution_count": 49,
   "id": "a8e4fa9d",
   "metadata": {},
   "outputs": [
    {
     "data": {
      "text/plain": [
       "{811139: 'Вентрология',\n",
       " 212800: 'Заза',\n",
       " 215038: 'Телевизионен продуцент',\n",
       " 106193: 'Георги Димитров (дипломат)',\n",
       " 221756: 'Грузинци',\n",
       " 701675: 'Ненчо Илиев (писател)',\n",
       " 648744: 'Покапаля',\n",
       " 110978: 'Нанси Пелоси',\n",
       " 327331: 'Мамерк Емилий Скавър',\n",
       " 23929: 'Величково (област Варна)',\n",
       " 813443: 'Шоуто на Патрик Звездата',\n",
       " 49919: 'Пясъчна усойница',\n",
       " 508699: 'Asthenes maculicauda',\n",
       " 202356: 'Требине',\n",
       " 486733: '763 (пояснение)',\n",
       " 49000: 'Сухуми',\n",
       " 581534: 'Хайнрих II (Насау-Байлщайн)',\n",
       " 481296: 'Лудвиг фон Майсен',\n",
       " 735399: 'Прекинато Градище',\n",
       " 558041: 'Blennodesmus scapularis',\n",
       " 421748: 'Because We Can - The Tour',\n",
       " 198060: 'Евангелие от Лука',\n",
       " 345344: 'Алберто Куадри',\n",
       " 513685: 'Sylvilagus mansuetus',\n",
       " 99367: 'Лъчезар Балтанов',\n",
       " 786102: 'Станиш Дельохаджиев',\n",
       " 168280: 'Димитър Савов',\n",
       " 442360: 'Румен Стоянов (футболист, р. 1976)',\n",
       " 487490: 'Санта Тереза Галура',\n",
       " 404490: 'Лошице',\n",
       " 491294: 'Молизе (село)',\n",
       " 47053: 'Адриан (император)',\n",
       " 638153: 'Али Хаменеи',\n",
       " 166565: 'Олга Николаевна (1895 – 1918)',\n",
       " 732892: 'Пясъкоструене',\n",
       " 236060: 'Лиман',\n",
       " 558441: 'Bothriembryon brazieri',\n",
       " 589802: 'Овташен (област Ширак)',\n",
       " 611198: 'Княжество Биркенфелд',\n",
       " 398638: 'Франк Уелкър',\n",
       " 331284: 'Белоопашат космест опосум',\n",
       " 465738: 'Хайнрих III (Брауншвайг-Грубенхаген)',\n",
       " 345158: 'Абу Бакр Кайрат',\n",
       " 11669: 'Манолич',\n",
       " 711244: 'Penguin Books',\n",
       " 715270: 'Никола Тодоров Ушев',\n",
       " 805681: 'Браян Фрийман',\n",
       " 511075: 'Sporophila cinnamomea',\n",
       " 128893: 'MPAA',\n",
       " 518211: 'Littoraria flammea'}"
      ]
     },
     "execution_count": 49,
     "metadata": {},
     "output_type": "execute_result"
    }
   ],
   "source": [
    "info_to_check"
   ]
  },
  {
   "cell_type": "code",
   "execution_count": null,
   "id": "719d9d98",
   "metadata": {},
   "outputs": [],
   "source": [
    "# for an inputted article_id:title combination\n",
    "# get the content\n",
    "# e.g. for Kerala\n",
    "\n",
    "# https://en.wikipedia.org/w/api.php?action=query&format=json&titles=Kerala&prop=extracts&explaintext\n",
    "# (will be followed by a bunch of stuff)\n",
    "# good response - {\"batchcomplete\":\"\",\"query\":{\"pages\":{\"14958\":{\"pageid\":14958,\"ns\":0,\"title\":\"Kerala\"\n",
    "\n",
    "# implies there is no article or api call went rogue\n",
    "# bad response - {\"batchcomplete\":\"\",\"query\":{\"pages\":{\"-1\":{\"ns\":0,\"title\":\"Kerala\",\"missing\":\"\"}}}}\n",
    "def get_article_info(title):\n",
    "    safe_title = \n",
    "    info_url = f\"https://{lang}wikipedia.org/w/api.php?action=query&format=json&titles={safe_title}&prop=extracts&explaintext&format=json\"\n",
    "    \n",
    "    \n",
    "    url = urllib.request.urlopen(articles_url)\n",
    "    \n",
    "    data = url.read()\n",
    "    \n",
    "    encoding = url.info().get_content_charset('utf-8')\n",
    "    obj = json.loads(data.decode(encoding))\n",
    "\n",
    "    fix_text"
   ]
  },
  {
   "cell_type": "code",
   "execution_count": null,
   "id": "0b18ac9c",
   "metadata": {},
   "outputs": [],
   "source": [
    "# for inputted article content\n",
    "# count how many of our target entities appear in the text\n",
    "# always search english and the native language in-case of translation inconsistencies\n",
    "def count_entities_in_article():\n",
    "    return None"
   ]
  }
 ],
 "metadata": {
  "kernelspec": {
   "display_name": "Python [conda env:anlp] *",
   "language": "python",
   "name": "conda-env-anlp-py"
  },
  "language_info": {
   "codemirror_mode": {
    "name": "ipython",
    "version": 3
   },
   "file_extension": ".py",
   "mimetype": "text/x-python",
   "name": "python",
   "nbconvert_exporter": "python",
   "pygments_lexer": "ipython3",
   "version": "3.8.8"
  }
 },
 "nbformat": 4,
 "nbformat_minor": 5
}
