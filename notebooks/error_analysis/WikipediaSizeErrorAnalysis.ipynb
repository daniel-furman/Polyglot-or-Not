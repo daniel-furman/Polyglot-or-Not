{
 "cells": [
  {
   "cell_type": "markdown",
   "id": "55960578",
   "metadata": {},
   "source": [
    "## Imports"
   ]
  },
  {
   "cell_type": "code",
   "execution_count": 1,
   "id": "3e400749",
   "metadata": {},
   "outputs": [],
   "source": [
    "import pandas as pd\n",
    "import glob\n",
    "import datasets\n",
    "import numpy as np\n",
    "import matplotlib.pyplot as plt\n",
    "from scipy.stats import linregress"
   ]
  },
  {
   "cell_type": "markdown",
   "id": "98b102a6",
   "metadata": {},
   "source": [
    "## Read Data"
   ]
  },
  {
   "cell_type": "code",
   "execution_count": 2,
   "id": "38a8b683",
   "metadata": {},
   "outputs": [],
   "source": [
    "wiki_data = pd.read_csv(\n",
    "    \"../../data/wikidata/wikipedia-articles-per-lang-june-2022.tsv\", sep=\"\\t\"\n",
    ")"
   ]
  },
  {
   "cell_type": "code",
   "execution_count": 3,
   "id": "2706d439",
   "metadata": {},
   "outputs": [],
   "source": [
    "wiki_data = wiki_data.rename(columns={\"lang\": \"language\"})"
   ]
  },
  {
   "cell_type": "code",
   "execution_count": 4,
   "id": "1ea08fb0",
   "metadata": {},
   "outputs": [
    {
     "data": {
      "text/html": [
       "<div>\n",
       "<style scoped>\n",
       "    .dataframe tbody tr th:only-of-type {\n",
       "        vertical-align: middle;\n",
       "    }\n",
       "\n",
       "    .dataframe tbody tr th {\n",
       "        vertical-align: top;\n",
       "    }\n",
       "\n",
       "    .dataframe thead th {\n",
       "        text-align: right;\n",
       "    }\n",
       "</style>\n",
       "<table border=\"1\" class=\"dataframe\">\n",
       "  <thead>\n",
       "    <tr style=\"text-align: right;\">\n",
       "      <th></th>\n",
       "      <th>code</th>\n",
       "      <th>language</th>\n",
       "      <th>June_2022_article_count</th>\n",
       "      <th>June_2022_date</th>\n",
       "      <th>Url</th>\n",
       "    </tr>\n",
       "  </thead>\n",
       "  <tbody>\n",
       "    <tr>\n",
       "      <th>0</th>\n",
       "      <td>bg:</td>\n",
       "      <td>Bulgarian</td>\n",
       "      <td>282,130</td>\n",
       "      <td>6/14/2022</td>\n",
       "      <td>https://web.archive.org/web/20220614194239/htt...</td>\n",
       "    </tr>\n",
       "    <tr>\n",
       "      <th>1</th>\n",
       "      <td>ca:</td>\n",
       "      <td>Catalan</td>\n",
       "      <td>702,281</td>\n",
       "      <td>6/14/2022</td>\n",
       "      <td>https://web.archive.org/web/20220614194621/htt...</td>\n",
       "    </tr>\n",
       "    <tr>\n",
       "      <th>2</th>\n",
       "      <td>cs:</td>\n",
       "      <td>Czech</td>\n",
       "      <td>505,105</td>\n",
       "      <td>6/14/2022</td>\n",
       "      <td>https://web.archive.org/web/20220614015357/htt...</td>\n",
       "    </tr>\n",
       "    <tr>\n",
       "      <th>3</th>\n",
       "      <td>da:</td>\n",
       "      <td>Danish</td>\n",
       "      <td>280,923</td>\n",
       "      <td>6/14/2022</td>\n",
       "      <td>https://web.archive.org/web/20220614020329/htt...</td>\n",
       "    </tr>\n",
       "    <tr>\n",
       "      <th>4</th>\n",
       "      <td>de:</td>\n",
       "      <td>German</td>\n",
       "      <td>2,698,267</td>\n",
       "      <td>6/15/2022</td>\n",
       "      <td>https://web.archive.org/web/20220615000601/htt...</td>\n",
       "    </tr>\n",
       "  </tbody>\n",
       "</table>\n",
       "</div>"
      ],
      "text/plain": [
       "  code   language June_2022_article_count June_2022_date  \\\n",
       "0  bg:  Bulgarian                 282,130      6/14/2022   \n",
       "1  ca:    Catalan                 702,281      6/14/2022   \n",
       "2  cs:      Czech                 505,105      6/14/2022   \n",
       "3  da:     Danish                 280,923      6/14/2022   \n",
       "4  de:     German               2,698,267      6/15/2022   \n",
       "\n",
       "                                                 Url  \n",
       "0  https://web.archive.org/web/20220614194239/htt...  \n",
       "1  https://web.archive.org/web/20220614194621/htt...  \n",
       "2  https://web.archive.org/web/20220614015357/htt...  \n",
       "3  https://web.archive.org/web/20220614020329/htt...  \n",
       "4  https://web.archive.org/web/20220615000601/htt...  "
      ]
     },
     "execution_count": 4,
     "metadata": {},
     "output_type": "execute_result"
    }
   ],
   "source": [
    "wiki_data.head()"
   ]
  },
  {
   "cell_type": "code",
   "execution_count": 5,
   "id": "cac383dd",
   "metadata": {},
   "outputs": [],
   "source": [
    "entity_analysis_df = pd.read_csv(\n",
    "    \"../../data/error_analysis/entity_analysis_language_and_accuracy_by_entity.csv\"\n",
    ")"
   ]
  },
  {
   "cell_type": "code",
   "execution_count": 6,
   "id": "4304fa07",
   "metadata": {},
   "outputs": [
    {
     "data": {
      "text/html": [
       "<div>\n",
       "<style scoped>\n",
       "    .dataframe tbody tr th:only-of-type {\n",
       "        vertical-align: middle;\n",
       "    }\n",
       "\n",
       "    .dataframe tbody tr th {\n",
       "        vertical-align: top;\n",
       "    }\n",
       "\n",
       "    .dataframe thead th {\n",
       "        text-align: right;\n",
       "    }\n",
       "</style>\n",
       "<table border=\"1\" class=\"dataframe\">\n",
       "  <thead>\n",
       "    <tr style=\"text-align: right;\">\n",
       "      <th></th>\n",
       "      <th>entity</th>\n",
       "      <th>num_correct</th>\n",
       "      <th>num_incorrect</th>\n",
       "      <th>total_usages</th>\n",
       "      <th>percent_accuracy</th>\n",
       "      <th>languages</th>\n",
       "      <th>num_languages</th>\n",
       "      <th>alternate_forms</th>\n",
       "      <th>dataset_ids</th>\n",
       "    </tr>\n",
       "  </thead>\n",
       "  <tbody>\n",
       "    <tr>\n",
       "      <th>0</th>\n",
       "      <td>Prius</td>\n",
       "      <td>16</td>\n",
       "      <td>0</td>\n",
       "      <td>16</td>\n",
       "      <td>1.000000</td>\n",
       "      <td>{'sr': 1, 'uk': 1, 'nl': 1, 'sv': 1, 'ca': 1, ...</td>\n",
       "      <td>16</td>\n",
       "      <td>{'sr': 'Приус', 'uk': 'Prius', 'nl': 'Prius', ...</td>\n",
       "      <td>['calinet_8922']</td>\n",
       "    </tr>\n",
       "    <tr>\n",
       "      <th>1</th>\n",
       "      <td>Sundar Pichai</td>\n",
       "      <td>18</td>\n",
       "      <td>1</td>\n",
       "      <td>19</td>\n",
       "      <td>0.947368</td>\n",
       "      <td>{'sr': 1, 'uk': 1, 'nl': 1, 'sv': 1, 'ca': 1, ...</td>\n",
       "      <td>19</td>\n",
       "      <td>{'sr': 'Сундар Пицхаи', 'uk': 'Сундар Пічаї', ...</td>\n",
       "      <td>['rome_5025']</td>\n",
       "    </tr>\n",
       "    <tr>\n",
       "      <th>2</th>\n",
       "      <td>People's Republic of China</td>\n",
       "      <td>17</td>\n",
       "      <td>0</td>\n",
       "      <td>17</td>\n",
       "      <td>1.000000</td>\n",
       "      <td>{'sr': 1, 'uk': 1, 'nl': 1, 'sv': 1, 'hu': 1, ...</td>\n",
       "      <td>17</td>\n",
       "      <td>{'sr': 'Народна Република Кина', 'uk': 'Народн...</td>\n",
       "      <td>['rome_21333']</td>\n",
       "    </tr>\n",
       "    <tr>\n",
       "      <th>3</th>\n",
       "      <td>Sint Maarten</td>\n",
       "      <td>11</td>\n",
       "      <td>10</td>\n",
       "      <td>21</td>\n",
       "      <td>0.523810</td>\n",
       "      <td>{'sr': 1, 'nl': 2, 'sv': 1, 'ca': 1, 'pl': 1, ...</td>\n",
       "      <td>14</td>\n",
       "      <td>{'sr': 'Синт Маартен', 'nl': 'Sint Maarten', '...</td>\n",
       "      <td>['rome_8738', 'rome_20596']</td>\n",
       "    </tr>\n",
       "    <tr>\n",
       "      <th>4</th>\n",
       "      <td>Haas House</td>\n",
       "      <td>9</td>\n",
       "      <td>5</td>\n",
       "      <td>14</td>\n",
       "      <td>0.642857</td>\n",
       "      <td>{'sr': 1, 'nl': 1, 'sv': 1, 'hu': 1, 'ca': 1, ...</td>\n",
       "      <td>14</td>\n",
       "      <td>{'sr': 'Хаас Хоусе', 'nl': 'Haas House', 'sv':...</td>\n",
       "      <td>['rome_8783']</td>\n",
       "    </tr>\n",
       "  </tbody>\n",
       "</table>\n",
       "</div>"
      ],
      "text/plain": [
       "                       entity  num_correct  num_incorrect  total_usages  \\\n",
       "0                       Prius           16              0            16   \n",
       "1               Sundar Pichai           18              1            19   \n",
       "2  People's Republic of China           17              0            17   \n",
       "3                Sint Maarten           11             10            21   \n",
       "4                  Haas House            9              5            14   \n",
       "\n",
       "   percent_accuracy                                          languages  \\\n",
       "0          1.000000  {'sr': 1, 'uk': 1, 'nl': 1, 'sv': 1, 'ca': 1, ...   \n",
       "1          0.947368  {'sr': 1, 'uk': 1, 'nl': 1, 'sv': 1, 'ca': 1, ...   \n",
       "2          1.000000  {'sr': 1, 'uk': 1, 'nl': 1, 'sv': 1, 'hu': 1, ...   \n",
       "3          0.523810  {'sr': 1, 'nl': 2, 'sv': 1, 'ca': 1, 'pl': 1, ...   \n",
       "4          0.642857  {'sr': 1, 'nl': 1, 'sv': 1, 'hu': 1, 'ca': 1, ...   \n",
       "\n",
       "   num_languages                                    alternate_forms  \\\n",
       "0             16  {'sr': 'Приус', 'uk': 'Prius', 'nl': 'Prius', ...   \n",
       "1             19  {'sr': 'Сундар Пицхаи', 'uk': 'Сундар Пічаї', ...   \n",
       "2             17  {'sr': 'Народна Република Кина', 'uk': 'Народн...   \n",
       "3             14  {'sr': 'Синт Маартен', 'nl': 'Sint Maarten', '...   \n",
       "4             14  {'sr': 'Хаас Хоусе', 'nl': 'Haas House', 'sv':...   \n",
       "\n",
       "                   dataset_ids  \n",
       "0             ['calinet_8922']  \n",
       "1                ['rome_5025']  \n",
       "2               ['rome_21333']  \n",
       "3  ['rome_8738', 'rome_20596']  \n",
       "4                ['rome_8783']  "
      ]
     },
     "execution_count": 6,
     "metadata": {},
     "output_type": "execute_result"
    }
   ],
   "source": [
    "entity_analysis_df.head()"
   ]
  },
  {
   "cell_type": "code",
   "execution_count": 7,
   "id": "263a87de",
   "metadata": {},
   "outputs": [],
   "source": [
    "llama_summary_df = pd.read_csv(\n",
    "    \"../../data/result_logs/llama-30b/results//llama-fact-completion-benchmark-results.csv\"\n",
    ")"
   ]
  },
  {
   "cell_type": "code",
   "execution_count": 8,
   "id": "4f0bc8c9",
   "metadata": {},
   "outputs": [
    {
     "data": {
      "text/html": [
       "<div>\n",
       "<style scoped>\n",
       "    .dataframe tbody tr th:only-of-type {\n",
       "        vertical-align: middle;\n",
       "    }\n",
       "\n",
       "    .dataframe tbody tr th {\n",
       "        vertical-align: top;\n",
       "    }\n",
       "\n",
       "    .dataframe thead th {\n",
       "        text-align: right;\n",
       "    }\n",
       "</style>\n",
       "<table border=\"1\" class=\"dataframe\">\n",
       "  <thead>\n",
       "    <tr style=\"text-align: right;\">\n",
       "      <th></th>\n",
       "      <th>language</th>\n",
       "      <th>accuracy</th>\n",
       "      <th>uncertainty</th>\n",
       "      <th>num_pairs</th>\n",
       "    </tr>\n",
       "  </thead>\n",
       "  <tbody>\n",
       "    <tr>\n",
       "      <th>0</th>\n",
       "      <td>English</td>\n",
       "      <td>89.40</td>\n",
       "      <td>0.38</td>\n",
       "      <td>26254</td>\n",
       "    </tr>\n",
       "    <tr>\n",
       "      <th>1</th>\n",
       "      <td>German</td>\n",
       "      <td>85.74</td>\n",
       "      <td>0.53</td>\n",
       "      <td>16287</td>\n",
       "    </tr>\n",
       "    <tr>\n",
       "      <th>2</th>\n",
       "      <td>Dutch</td>\n",
       "      <td>85.35</td>\n",
       "      <td>0.46</td>\n",
       "      <td>25590</td>\n",
       "    </tr>\n",
       "    <tr>\n",
       "      <th>3</th>\n",
       "      <td>Italian</td>\n",
       "      <td>84.39</td>\n",
       "      <td>0.49</td>\n",
       "      <td>20448</td>\n",
       "    </tr>\n",
       "    <tr>\n",
       "      <th>4</th>\n",
       "      <td>French</td>\n",
       "      <td>84.18</td>\n",
       "      <td>0.52</td>\n",
       "      <td>18395</td>\n",
       "    </tr>\n",
       "  </tbody>\n",
       "</table>\n",
       "</div>"
      ],
      "text/plain": [
       "  language  accuracy  uncertainty  num_pairs\n",
       "0  English     89.40         0.38      26254\n",
       "1   German     85.74         0.53      16287\n",
       "2    Dutch     85.35         0.46      25590\n",
       "3  Italian     84.39         0.49      20448\n",
       "4   French     84.18         0.52      18395"
      ]
     },
     "execution_count": 8,
     "metadata": {},
     "output_type": "execute_result"
    }
   ],
   "source": [
    "llama_summary_df.head()"
   ]
  },
  {
   "cell_type": "markdown",
   "id": "75ca2fe7",
   "metadata": {},
   "source": [
    "## clean data"
   ]
  },
  {
   "cell_type": "code",
   "execution_count": 9,
   "id": "51e139f5",
   "metadata": {},
   "outputs": [],
   "source": [
    "agg_df = pd.merge(wiki_data, llama_summary_df, on=\"language\", how=\"inner\")[\n",
    "    [\n",
    "        \"code\",\n",
    "        \"language\",\n",
    "        \"June_2022_article_count\",\n",
    "        \"accuracy\",\n",
    "        \"uncertainty\",\n",
    "        \"num_pairs\",\n",
    "    ]\n",
    "]"
   ]
  },
  {
   "cell_type": "code",
   "execution_count": 10,
   "id": "ff7e9225",
   "metadata": {},
   "outputs": [
    {
     "data": {
      "text/html": [
       "<div>\n",
       "<style scoped>\n",
       "    .dataframe tbody tr th:only-of-type {\n",
       "        vertical-align: middle;\n",
       "    }\n",
       "\n",
       "    .dataframe tbody tr th {\n",
       "        vertical-align: top;\n",
       "    }\n",
       "\n",
       "    .dataframe thead th {\n",
       "        text-align: right;\n",
       "    }\n",
       "</style>\n",
       "<table border=\"1\" class=\"dataframe\">\n",
       "  <thead>\n",
       "    <tr style=\"text-align: right;\">\n",
       "      <th></th>\n",
       "      <th>code</th>\n",
       "      <th>language</th>\n",
       "      <th>June_2022_article_count</th>\n",
       "      <th>accuracy</th>\n",
       "      <th>uncertainty</th>\n",
       "      <th>num_pairs</th>\n",
       "    </tr>\n",
       "  </thead>\n",
       "  <tbody>\n",
       "    <tr>\n",
       "      <th>0</th>\n",
       "      <td>bg:</td>\n",
       "      <td>Bulgarian</td>\n",
       "      <td>282,130</td>\n",
       "      <td>72.50</td>\n",
       "      <td>0.61</td>\n",
       "      <td>20577</td>\n",
       "    </tr>\n",
       "    <tr>\n",
       "      <th>1</th>\n",
       "      <td>ca:</td>\n",
       "      <td>Catalan</td>\n",
       "      <td>702,281</td>\n",
       "      <td>84.01</td>\n",
       "      <td>0.52</td>\n",
       "      <td>18898</td>\n",
       "    </tr>\n",
       "    <tr>\n",
       "      <th>2</th>\n",
       "      <td>cs:</td>\n",
       "      <td>Czech</td>\n",
       "      <td>505,105</td>\n",
       "      <td>77.94</td>\n",
       "      <td>0.84</td>\n",
       "      <td>9427</td>\n",
       "    </tr>\n",
       "    <tr>\n",
       "      <th>3</th>\n",
       "      <td>da:</td>\n",
       "      <td>Danish</td>\n",
       "      <td>280,923</td>\n",
       "      <td>81.79</td>\n",
       "      <td>0.50</td>\n",
       "      <td>23365</td>\n",
       "    </tr>\n",
       "    <tr>\n",
       "      <th>4</th>\n",
       "      <td>de:</td>\n",
       "      <td>German</td>\n",
       "      <td>2,698,267</td>\n",
       "      <td>85.74</td>\n",
       "      <td>0.53</td>\n",
       "      <td>16287</td>\n",
       "    </tr>\n",
       "  </tbody>\n",
       "</table>\n",
       "</div>"
      ],
      "text/plain": [
       "  code   language June_2022_article_count  accuracy  uncertainty  num_pairs\n",
       "0  bg:  Bulgarian                 282,130     72.50         0.61      20577\n",
       "1  ca:    Catalan                 702,281     84.01         0.52      18898\n",
       "2  cs:      Czech                 505,105     77.94         0.84       9427\n",
       "3  da:     Danish                 280,923     81.79         0.50      23365\n",
       "4  de:     German               2,698,267     85.74         0.53      16287"
      ]
     },
     "execution_count": 10,
     "metadata": {},
     "output_type": "execute_result"
    }
   ],
   "source": [
    "agg_df.head()"
   ]
  },
  {
   "cell_type": "code",
   "execution_count": 11,
   "id": "ff3b576d",
   "metadata": {},
   "outputs": [
    {
     "data": {
      "text/plain": [
       "282130"
      ]
     },
     "execution_count": 11,
     "metadata": {},
     "output_type": "execute_result"
    }
   ],
   "source": [
    "int(\"282,130\".replace(\",\", \"\"))"
   ]
  },
  {
   "cell_type": "code",
   "execution_count": 12,
   "id": "b08eabdd",
   "metadata": {},
   "outputs": [],
   "source": [
    "agg_df[\"June_2022_article_count\"] = [\n",
    "    int(c.replace(\",\", \"\")) for c in list(agg_df[\"June_2022_article_count\"])\n",
    "]"
   ]
  },
  {
   "cell_type": "code",
   "execution_count": 13,
   "id": "984b8f5e",
   "metadata": {},
   "outputs": [],
   "source": [
    "agg_df[\"accuracy\"] = [float(c) for c in list(agg_df[\"accuracy\"])]"
   ]
  },
  {
   "cell_type": "markdown",
   "id": "cbf4cff3",
   "metadata": {},
   "source": [
    "## is there a connection bt wikipedia size and accuracy?"
   ]
  },
  {
   "cell_type": "markdown",
   "id": "f2902b0c",
   "metadata": {},
   "source": [
    "first let's just graph the size of wikipedia per language"
   ]
  },
  {
   "cell_type": "code",
   "execution_count": 14,
   "id": "66cdde4a",
   "metadata": {},
   "outputs": [],
   "source": [
    "stats = agg_df[[\"language\", \"June_2022_article_count\"]].sort_values(\n",
    "    by=\"June_2022_article_count\", ascending=True\n",
    ")"
   ]
  },
  {
   "cell_type": "markdown",
   "id": "c97412f2",
   "metadata": {},
   "source": [
    "### Size of wikipedia per language"
   ]
  },
  {
   "cell_type": "code",
   "execution_count": 48,
   "id": "b7d24753",
   "metadata": {},
   "outputs": [
    {
     "data": {
      "image/png": "[encoded data removed]",
      "text/plain": [
       "<Figure size 432x288 with 1 Axes>"
      ]
     },
     "metadata": {
      "needs_background": "light"
     },
     "output_type": "display_data"
    }
   ],
   "source": [
    "plt.barh(\"language\", \"June_2022_article_count\", data=stats)\n",
    "\n",
    "plt.suptitle(\"Multilingual Wikipedia Article Count\", fontsize=12)\n",
    "plt.xlabel(\"Articles (in millions)\", fontsize=12)\n",
    "plt.ylabel(\"Language\")\n",
    "plt.xticks(range(0, max(stats[\"June_2022_article_count\"]) + 500000, 500000))\n",
    "\n",
    "# label the bars with the number of articles\n",
    "# for i, v in enumerate(stats['June_2022_article_count']):\n",
    "#    plt.text(v + 1000, i, str(v), color='blue', fontweight='bold')\n",
    "\n",
    "txt = \"number of pages as of June 2022 (LLaMa's training period)\"\n",
    "plt.figtext(0.5, -0.05, txt, wrap=True, horizontalalignment=\"center\", fontsize=12)\n",
    "\n",
    "# display the plot\n",
    "# plt.show()\n",
    "\n",
    "plt.savefig('multilingual_wiki_count.png', dpi=300, bbox_inches = \"tight\")"
   ]
  },
  {
   "cell_type": "markdown",
   "id": "dec352ec",
   "metadata": {},
   "source": [
    "## accuracy and wikipedia size"
   ]
  },
  {
   "cell_type": "code",
   "execution_count": 192,
   "id": "c5481612",
   "metadata": {},
   "outputs": [],
   "source": [
    "stats = agg_df[[\"language\", \"accuracy\", \"code\", \"June_2022_article_count\"]]"
   ]
  },
  {
   "cell_type": "code",
   "execution_count": 193,
   "id": "f38a6ecf",
   "metadata": {},
   "outputs": [
    {
     "name": "stderr",
     "output_type": "stream",
     "text": [
      "/var/folders/02/16ydl6kx7wnfv5434ztsylf40000gn/T/ipykernel_6297/319015839.py:1: SettingWithCopyWarning: \n",
      "A value is trying to be set on a copy of a slice from a DataFrame.\n",
      "Try using .loc[row_indexer,col_indexer] = value instead\n",
      "\n",
      "See the caveats in the documentation: https://pandas.pydata.org/pandas-docs/stable/user_guide/indexing.html#returning-a-view-versus-a-copy\n",
      "  stats['code'] = [c[:-1] for c in stats['code']]\n"
     ]
    }
   ],
   "source": [
    "stats[\"code\"] = [c[:-1] for c in stats[\"code\"]]"
   ]
  },
  {
   "cell_type": "code",
   "execution_count": 194,
   "id": "05174056",
   "metadata": {},
   "outputs": [],
   "source": [
    "no_english_stats = stats.drop([5]).reset_index()"
   ]
  },
  {
   "cell_type": "code",
   "execution_count": 195,
   "id": "943ec294",
   "metadata": {},
   "outputs": [
    {
     "data": {
      "text/plain": [
       "(19, 5)"
      ]
     },
     "execution_count": 195,
     "metadata": {},
     "output_type": "execute_result"
    }
   ],
   "source": [
    "no_english_stats.shape"
   ]
  },
  {
   "cell_type": "markdown",
   "id": "3e26093e",
   "metadata": {},
   "source": [
    "#### connection between accuracy and wikipedia size, including English wikipedia"
   ]
  },
  {
   "cell_type": "markdown",
   "id": "69e0133b",
   "metadata": {},
   "source": [
    "We see a positive correlation between how well LLaMa did on CKA and the size of wikipedia."
   ]
  },
  {
   "cell_type": "code",
   "execution_count": 196,
   "id": "f6aad883",
   "metadata": {},
   "outputs": [
    {
     "data": {
      "text/plain": [
       "0.5101122613323459"
      ]
     },
     "execution_count": 196,
     "metadata": {},
     "output_type": "execute_result"
    }
   ],
   "source": [
    "stats[\"accuracy\"].corr(stats[\"June_2022_article_count\"])"
   ]
  },
  {
   "cell_type": "code",
   "execution_count": 201,
   "id": "b0af39db",
   "metadata": {},
   "outputs": [
    {
     "data": {
      "image/png": "[encoded data removed]",
      "text/plain": [
       "<Figure size 432x288 with 1 Axes>"
      ]
     },
     "metadata": {
      "needs_background": "light"
     },
     "output_type": "display_data"
    }
   ],
   "source": [
    "# create the graph\n",
    "\n",
    "plt.title(\"Correlation between Accuracy and Wikipedia Size (english included)\")\n",
    "plt.scatter(\n",
    "    stats[\"accuracy\"],\n",
    "    stats[\"June_2022_article_count\"],\n",
    "    facecolors=\"none\",\n",
    "    edgecolors=\"none\",\n",
    ")\n",
    "\n",
    "plt.xlabel(\"Accuracy Percentage on CKA\")\n",
    "plt.ylabel(\"Wikipedia Articles (in millions)\")\n",
    "\n",
    "plt.yticks(range(0, max(stats[\"June_2022_article_count\"]) + 500000, 500000))\n",
    "\n",
    "# add trendline\n",
    "slope, intercept, r_value, p_value, std_err = linregress(\n",
    "    stats[\"accuracy\"], stats[\"June_2022_article_count\"]\n",
    ")\n",
    "plt.plot(stats[\"accuracy\"], intercept + slope * stats[\"accuracy\"], \"b\")\n",
    "\n",
    "# add legend with r-squared value\n",
    "r_squared = r_value**2\n",
    "plt.annotate(\n",
    "    \"R-squared = {:.2f}\".format(r_squared), xy=(0.05, 0.9), xycoords=\"axes fraction\"\n",
    ")\n",
    "\n",
    "for i, txt in enumerate(stats[\"code\"]):\n",
    "    plt.annotate(\n",
    "        txt, (stats[\"accuracy\"][i], stats[\"June_2022_article_count\"][i]), ha=\"center\"\n",
    "    )\n",
    "\n",
    "plt.show()"
   ]
  },
  {
   "cell_type": "markdown",
   "id": "29b48cc4",
   "metadata": {},
   "source": [
    "#### connection between accuracy and wikipedia size, without English wikipedia"
   ]
  },
  {
   "cell_type": "markdown",
   "id": "01d0f656",
   "metadata": {},
   "source": [
    "when you remove english from the group, the positive correlation drops"
   ]
  },
  {
   "cell_type": "code",
   "execution_count": 203,
   "id": "62c95a4c",
   "metadata": {},
   "outputs": [
    {
     "data": {
      "text/plain": [
       "0.42304002440971117"
      ]
     },
     "execution_count": 203,
     "metadata": {},
     "output_type": "execute_result"
    }
   ],
   "source": [
    "no_english_stats[\"accuracy\"].corr(no_english_stats[\"June_2022_article_count\"])"
   ]
  },
  {
   "cell_type": "code",
   "execution_count": 205,
   "id": "7a302afd",
   "metadata": {},
   "outputs": [
    {
     "data": {
      "image/png": "[encoded data removed]",
      "text/plain": [
       "<Figure size 432x288 with 1 Axes>"
      ]
     },
     "metadata": {
      "needs_background": "light"
     },
     "output_type": "display_data"
    }
   ],
   "source": [
    "# create the graph\n",
    "\n",
    "# remove english\n",
    "\n",
    "plt.title(\"Correlation between Accuracy and Wikipedia Size (english excluded)\")\n",
    "plt.scatter(\n",
    "    no_english_stats[\"accuracy\"],\n",
    "    no_english_stats[\"June_2022_article_count\"],\n",
    "    facecolors=\"none\",\n",
    "    edgecolors=\"none\",\n",
    ")\n",
    "\n",
    "plt.xlabel(\"Accuracy Percentage on CKA\")\n",
    "plt.ylabel(\"Wikipedia Articles (in millions)\")\n",
    "\n",
    "plt.yticks(range(0, max(stats[\"June_2022_article_count\"]) + 500000, 500000))\n",
    "\n",
    "# add trendline\n",
    "slope, intercept, r_value, p_value, std_err = linregress(\n",
    "    no_english_stats[\"accuracy\"], no_english_stats[\"June_2022_article_count\"]\n",
    ")\n",
    "plt.plot(\n",
    "    no_english_stats[\"accuracy\"], intercept + slope * no_english_stats[\"accuracy\"], \"b\"\n",
    ")\n",
    "\n",
    "# add legend with r-squared value\n",
    "r_squared = r_value**2\n",
    "plt.annotate(\n",
    "    \"R-squared = {:.2f}\".format(r_squared), xy=(0.05, 0.9), xycoords=\"axes fraction\"\n",
    ")\n",
    "\n",
    "for i, txt in enumerate(no_english_stats[\"code\"]):\n",
    "    plt.annotate(\n",
    "        txt,\n",
    "        (\n",
    "            no_english_stats[\"accuracy\"][i],\n",
    "            no_english_stats[\"June_2022_article_count\"][i],\n",
    "        ),\n",
    "        ha=\"center\",\n",
    "    )\n",
    "\n",
    "plt.show()"
   ]
  },
  {
   "cell_type": "code",
   "execution_count": 204,
   "id": "46fa97e1",
   "metadata": {},
   "outputs": [],
   "source": [
    "# stats['regression_outcome'] = np.where(stats[\"June_2022_article_count\"] > intercept + slope * stats[\"accuracy\"], \"worse than expectation\", \"better than expectation\")"
   ]
  }
 ],
 "metadata": {
  "kernelspec": {
   "display_name": "Python [conda env:anlp] *",
   "language": "python",
   "name": "conda-env-anlp-py"
  },
  "language_info": {
   "codemirror_mode": {
    "name": "ipython",
    "version": 3
   },
   "file_extension": ".py",
   "mimetype": "text/x-python",
   "name": "python",
   "nbconvert_exporter": "python",
   "pygments_lexer": "ipython3",
   "version": "3.8.8"
  }
 },
 "nbformat": 4,
 "nbformat_minor": 5
}
