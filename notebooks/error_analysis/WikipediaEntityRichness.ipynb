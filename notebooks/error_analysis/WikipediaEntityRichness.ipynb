{
 "cells": [
  {
   "cell_type": "code",
   "execution_count": 1,
   "id": "deb5d201",
   "metadata": {},
   "outputs": [],
   "source": [
    "import pandas as pd\n",
    "import glob\n",
    "import numpy as np\n",
    "import matplotlib.pyplot as plt\n",
    "\n",
    "import os\n",
    "import json\n",
    "\n",
    "from scipy.stats import linregress\n",
    "from scipy.stats import f_oneway\n",
    "from scipy.stats import pearsonr\n",
    "from scipy.stats import ttest_ind"
   ]
  },
  {
   "cell_type": "markdown",
   "id": "af69c907",
   "metadata": {},
   "source": [
    "## Load Data from 10k per lang sampling"
   ]
  },
  {
   "cell_type": "code",
   "execution_count": 2,
   "id": "532eaa0d",
   "metadata": {},
   "outputs": [],
   "source": [
    "entity_richness_df = pd.read_csv(\n",
    "    \"../../data/wikidata/wikipedia-entity-richness-10k-samples.csv\"\n",
    ")"
   ]
  },
  {
   "cell_type": "code",
   "execution_count": 3,
   "id": "957c138d",
   "metadata": {},
   "outputs": [
    {
     "data": {
      "text/html": [
       "<div>\n",
       "<style scoped>\n",
       "    .dataframe tbody tr th:only-of-type {\n",
       "        vertical-align: middle;\n",
       "    }\n",
       "\n",
       "    .dataframe tbody tr th {\n",
       "        vertical-align: top;\n",
       "    }\n",
       "\n",
       "    .dataframe thead th {\n",
       "        text-align: right;\n",
       "    }\n",
       "</style>\n",
       "<table border=\"1\" class=\"dataframe\">\n",
       "  <thead>\n",
       "    <tr style=\"text-align: right;\">\n",
       "      <th></th>\n",
       "      <th>code</th>\n",
       "      <th>lang</th>\n",
       "      <th>average_words</th>\n",
       "      <th>average_total_entities</th>\n",
       "      <th>average_unique_entities</th>\n",
       "      <th>average_total_target_entities</th>\n",
       "      <th>average_unique_target_entities</th>\n",
       "      <th>language_script</th>\n",
       "      <th>language_family</th>\n",
       "      <th>LLama_score</th>\n",
       "    </tr>\n",
       "  </thead>\n",
       "  <tbody>\n",
       "    <tr>\n",
       "      <th>0</th>\n",
       "      <td>ca:</td>\n",
       "      <td>Catalan</td>\n",
       "      <td>386.4352</td>\n",
       "      <td>26.5070</td>\n",
       "      <td>19.5319</td>\n",
       "      <td>3.8204</td>\n",
       "      <td>2.3064</td>\n",
       "      <td>Latin</td>\n",
       "      <td>Romance</td>\n",
       "      <td>84.01</td>\n",
       "    </tr>\n",
       "    <tr>\n",
       "      <th>1</th>\n",
       "      <td>da:</td>\n",
       "      <td>Danish</td>\n",
       "      <td>255.7695</td>\n",
       "      <td>22.7107</td>\n",
       "      <td>16.8970</td>\n",
       "      <td>3.2939</td>\n",
       "      <td>2.0761</td>\n",
       "      <td>Latin</td>\n",
       "      <td>Germanic</td>\n",
       "      <td>81.79</td>\n",
       "    </tr>\n",
       "    <tr>\n",
       "      <th>2</th>\n",
       "      <td>de:</td>\n",
       "      <td>German</td>\n",
       "      <td>418.5911</td>\n",
       "      <td>40.9469</td>\n",
       "      <td>30.4609</td>\n",
       "      <td>3.9036</td>\n",
       "      <td>2.4097</td>\n",
       "      <td>Latin</td>\n",
       "      <td>Germanic</td>\n",
       "      <td>85.74</td>\n",
       "    </tr>\n",
       "    <tr>\n",
       "      <th>3</th>\n",
       "      <td>en:</td>\n",
       "      <td>English</td>\n",
       "      <td>463.1478</td>\n",
       "      <td>70.1181</td>\n",
       "      <td>50.1902</td>\n",
       "      <td>6.8614</td>\n",
       "      <td>3.6812</td>\n",
       "      <td>latin</td>\n",
       "      <td>Germanic</td>\n",
       "      <td>89.40</td>\n",
       "    </tr>\n",
       "    <tr>\n",
       "      <th>4</th>\n",
       "      <td>es:</td>\n",
       "      <td>Spanish</td>\n",
       "      <td>470.5506</td>\n",
       "      <td>33.0414</td>\n",
       "      <td>23.8025</td>\n",
       "      <td>4.2502</td>\n",
       "      <td>2.4056</td>\n",
       "      <td>Latin</td>\n",
       "      <td>Romance</td>\n",
       "      <td>81.74</td>\n",
       "    </tr>\n",
       "    <tr>\n",
       "      <th>5</th>\n",
       "      <td>fr:</td>\n",
       "      <td>French</td>\n",
       "      <td>491.9274</td>\n",
       "      <td>36.8189</td>\n",
       "      <td>26.2652</td>\n",
       "      <td>4.4849</td>\n",
       "      <td>2.5791</td>\n",
       "      <td>Latin</td>\n",
       "      <td>Romance</td>\n",
       "      <td>84.18</td>\n",
       "    </tr>\n",
       "    <tr>\n",
       "      <th>6</th>\n",
       "      <td>hr:</td>\n",
       "      <td>Croatian</td>\n",
       "      <td>273.2872</td>\n",
       "      <td>24.9753</td>\n",
       "      <td>19.6839</td>\n",
       "      <td>0.8701</td>\n",
       "      <td>0.5975</td>\n",
       "      <td>Latin</td>\n",
       "      <td>Slavic</td>\n",
       "      <td>76.69</td>\n",
       "    </tr>\n",
       "    <tr>\n",
       "      <th>7</th>\n",
       "      <td>it:</td>\n",
       "      <td>Italian</td>\n",
       "      <td>391.6706</td>\n",
       "      <td>31.0902</td>\n",
       "      <td>21.5230</td>\n",
       "      <td>3.9515</td>\n",
       "      <td>2.2414</td>\n",
       "      <td>Latin</td>\n",
       "      <td>Romance</td>\n",
       "      <td>84.39</td>\n",
       "    </tr>\n",
       "    <tr>\n",
       "      <th>8</th>\n",
       "      <td>nl:</td>\n",
       "      <td>Dutch</td>\n",
       "      <td>156.5349</td>\n",
       "      <td>25.2445</td>\n",
       "      <td>19.7739</td>\n",
       "      <td>1.8523</td>\n",
       "      <td>1.2847</td>\n",
       "      <td>Latin</td>\n",
       "      <td>Germanic</td>\n",
       "      <td>85.35</td>\n",
       "    </tr>\n",
       "    <tr>\n",
       "      <th>9</th>\n",
       "      <td>pl:</td>\n",
       "      <td>Polish</td>\n",
       "      <td>214.2879</td>\n",
       "      <td>32.7062</td>\n",
       "      <td>25.7368</td>\n",
       "      <td>0.8957</td>\n",
       "      <td>0.5988</td>\n",
       "      <td>Latin</td>\n",
       "      <td>Slavic</td>\n",
       "      <td>77.50</td>\n",
       "    </tr>\n",
       "    <tr>\n",
       "      <th>10</th>\n",
       "      <td>pt:</td>\n",
       "      <td>Portuguese</td>\n",
       "      <td>320.4374</td>\n",
       "      <td>24.9513</td>\n",
       "      <td>17.8573</td>\n",
       "      <td>3.5956</td>\n",
       "      <td>2.1765</td>\n",
       "      <td>Latin</td>\n",
       "      <td>Romance</td>\n",
       "      <td>83.81</td>\n",
       "    </tr>\n",
       "    <tr>\n",
       "      <th>11</th>\n",
       "      <td>ro:</td>\n",
       "      <td>Romanian</td>\n",
       "      <td>231.1006</td>\n",
       "      <td>42.7232</td>\n",
       "      <td>33.6824</td>\n",
       "      <td>2.3910</td>\n",
       "      <td>1.6158</td>\n",
       "      <td>Latin</td>\n",
       "      <td>Romance</td>\n",
       "      <td>82.72</td>\n",
       "    </tr>\n",
       "    <tr>\n",
       "      <th>12</th>\n",
       "      <td>ru:</td>\n",
       "      <td>Russian</td>\n",
       "      <td>382.8360</td>\n",
       "      <td>35.7028</td>\n",
       "      <td>26.3572</td>\n",
       "      <td>0.8568</td>\n",
       "      <td>0.5799</td>\n",
       "      <td>Cyrillic</td>\n",
       "      <td>Slavic</td>\n",
       "      <td>69.72</td>\n",
       "    </tr>\n",
       "    <tr>\n",
       "      <th>13</th>\n",
       "      <td>sv:</td>\n",
       "      <td>Swedish</td>\n",
       "      <td>95.0300</td>\n",
       "      <td>9.3638</td>\n",
       "      <td>7.4199</td>\n",
       "      <td>1.2957</td>\n",
       "      <td>0.9476</td>\n",
       "      <td>Latin</td>\n",
       "      <td>Germanic</td>\n",
       "      <td>84.06</td>\n",
       "    </tr>\n",
       "    <tr>\n",
       "      <th>14</th>\n",
       "      <td>uk:</td>\n",
       "      <td>Ukrainian</td>\n",
       "      <td>283.6425</td>\n",
       "      <td>25.3170</td>\n",
       "      <td>19.8953</td>\n",
       "      <td>1.2068</td>\n",
       "      <td>0.7938</td>\n",
       "      <td>Cyrillic</td>\n",
       "      <td>Slavic</td>\n",
       "      <td>73.00</td>\n",
       "    </tr>\n",
       "  </tbody>\n",
       "</table>\n",
       "</div>"
      ],
      "text/plain": [
       "   code        lang  average_words  average_total_entities  \\\n",
       "0   ca:     Catalan       386.4352                 26.5070   \n",
       "1   da:      Danish       255.7695                 22.7107   \n",
       "2   de:      German       418.5911                 40.9469   \n",
       "3   en:     English       463.1478                 70.1181   \n",
       "4   es:     Spanish       470.5506                 33.0414   \n",
       "5   fr:      French       491.9274                 36.8189   \n",
       "6   hr:    Croatian       273.2872                 24.9753   \n",
       "7   it:     Italian       391.6706                 31.0902   \n",
       "8   nl:       Dutch       156.5349                 25.2445   \n",
       "9   pl:      Polish       214.2879                 32.7062   \n",
       "10  pt:  Portuguese       320.4374                 24.9513   \n",
       "11  ro:    Romanian       231.1006                 42.7232   \n",
       "12  ru:     Russian       382.8360                 35.7028   \n",
       "13  sv:     Swedish        95.0300                  9.3638   \n",
       "14  uk:   Ukrainian       283.6425                 25.3170   \n",
       "\n",
       "    average_unique_entities  average_total_target_entities  \\\n",
       "0                   19.5319                         3.8204   \n",
       "1                   16.8970                         3.2939   \n",
       "2                   30.4609                         3.9036   \n",
       "3                   50.1902                         6.8614   \n",
       "4                   23.8025                         4.2502   \n",
       "5                   26.2652                         4.4849   \n",
       "6                   19.6839                         0.8701   \n",
       "7                   21.5230                         3.9515   \n",
       "8                   19.7739                         1.8523   \n",
       "9                   25.7368                         0.8957   \n",
       "10                  17.8573                         3.5956   \n",
       "11                  33.6824                         2.3910   \n",
       "12                  26.3572                         0.8568   \n",
       "13                   7.4199                         1.2957   \n",
       "14                  19.8953                         1.2068   \n",
       "\n",
       "    average_unique_target_entities language_script language_family  \\\n",
       "0                           2.3064           Latin         Romance   \n",
       "1                           2.0761           Latin        Germanic   \n",
       "2                           2.4097           Latin        Germanic   \n",
       "3                           3.6812           latin        Germanic   \n",
       "4                           2.4056           Latin         Romance   \n",
       "5                           2.5791           Latin         Romance   \n",
       "6                           0.5975           Latin          Slavic   \n",
       "7                           2.2414           Latin         Romance   \n",
       "8                           1.2847           Latin        Germanic   \n",
       "9                           0.5988           Latin          Slavic   \n",
       "10                          2.1765           Latin         Romance   \n",
       "11                          1.6158           Latin         Romance   \n",
       "12                          0.5799        Cyrillic          Slavic   \n",
       "13                          0.9476           Latin        Germanic   \n",
       "14                          0.7938        Cyrillic          Slavic   \n",
       "\n",
       "    LLama_score  \n",
       "0         84.01  \n",
       "1         81.79  \n",
       "2         85.74  \n",
       "3         89.40  \n",
       "4         81.74  \n",
       "5         84.18  \n",
       "6         76.69  \n",
       "7         84.39  \n",
       "8         85.35  \n",
       "9         77.50  \n",
       "10        83.81  \n",
       "11        82.72  \n",
       "12        69.72  \n",
       "13        84.06  \n",
       "14        73.00  "
      ]
     },
     "execution_count": 3,
     "metadata": {},
     "output_type": "execute_result"
    }
   ],
   "source": [
    "entity_richness_df"
   ]
  },
  {
   "cell_type": "markdown",
   "id": "b12919af",
   "metadata": {},
   "source": [
    "## Check relationship between score and stats from wikipedia sampling"
   ]
  },
  {
   "cell_type": "code",
   "execution_count": 39,
   "id": "da6aa32b",
   "metadata": {},
   "outputs": [
    {
     "data": {
      "text/plain": [
       "0.14916100054162695"
      ]
     },
     "execution_count": 39,
     "metadata": {},
     "output_type": "execute_result"
    }
   ],
   "source": [
    "entity_richness_df[\"average_words\"].corr(entity_richness_df[\"LLama_score\"])"
   ]
  },
  {
   "cell_type": "code",
   "execution_count": 40,
   "id": "1c4d06c9",
   "metadata": {},
   "outputs": [
    {
     "data": {
      "text/plain": [
       "0.2968840398609711"
      ]
     },
     "execution_count": 40,
     "metadata": {},
     "output_type": "execute_result"
    }
   ],
   "source": [
    "entity_richness_df[\"average_total_entities\"].corr(entity_richness_df[\"LLama_score\"])"
   ]
  },
  {
   "cell_type": "code",
   "execution_count": 41,
   "id": "74b975f2",
   "metadata": {},
   "outputs": [
    {
     "data": {
      "text/plain": [
       "0.2578993602132841"
      ]
     },
     "execution_count": 41,
     "metadata": {},
     "output_type": "execute_result"
    }
   ],
   "source": [
    "entity_richness_df[\"average_unique_entities\"].corr(entity_richness_df[\"LLama_score\"])"
   ]
  },
  {
   "cell_type": "code",
   "execution_count": 42,
   "id": "4e26deab",
   "metadata": {},
   "outputs": [
    {
     "data": {
      "text/plain": [
       "0.7423438496782907"
      ]
     },
     "execution_count": 42,
     "metadata": {},
     "output_type": "execute_result"
    }
   ],
   "source": [
    "entity_richness_df[\"average_total_target_entities\"].corr(\n",
    "    entity_richness_df[\"LLama_score\"]\n",
    ")"
   ]
  },
  {
   "cell_type": "code",
   "execution_count": 43,
   "id": "a000bd63",
   "metadata": {},
   "outputs": [
    {
     "data": {
      "text/plain": [
       "0.7771119983978775"
      ]
     },
     "execution_count": 43,
     "metadata": {},
     "output_type": "execute_result"
    }
   ],
   "source": [
    "entity_richness_df[\"average_unique_target_entities\"].corr(\n",
    "    entity_richness_df[\"LLama_score\"]\n",
    ")"
   ]
  },
  {
   "cell_type": "code",
   "execution_count": 44,
   "id": "886a21bf",
   "metadata": {},
   "outputs": [
    {
     "name": "stdout",
     "output_type": "stream",
     "text": [
      "We observe a correlation between the average unique target entities on the page and the performance on CKA:\n",
      "*Pearson's r* of 0.78 and a p-value of < .001.\n",
      "We can REJECT the null hypothesis that these two values do not share a linear relationship.\n"
     ]
    }
   ],
   "source": [
    "pearsons_r, p = pearsonr(entity_richness_df[\"average_unique_target_entities\"],  entity_richness_df[\"LLama_score\"])\n",
    "reject = \"REJECT\" if p <= 0.05 else \"ACCEPT\"\n",
    "\n",
    "if p < 0.001:\n",
    "    p = \"< .001\"\n",
    "\n",
    "    print(\n",
    "        f\"We observe a correlation between the average unique target entities on the page and the performance on CKA:\\n*Pearson's r* of {np.round(pearsons_r, 2)} and a p-value of {p}.\"\n",
    "    )\n",
    "    print(\n",
    "        f\"We can {reject} the null hypothesis that these two values do not share a linear relationship.\"\n",
    "    )"
   ]
  },
  {
   "cell_type": "code",
   "execution_count": 45,
   "id": "f27f46da",
   "metadata": {},
   "outputs": [
    {
     "data": {
      "image/png": "[encoded data removed]",
      "text/plain": [
       "<Figure size 432x288 with 1 Axes>"
      ]
     },
     "metadata": {
      "needs_background": "light"
     },
     "output_type": "display_data"
    }
   ],
   "source": [
    "# create the graph\n",
    "\n",
    "plt.title(\"Correlation between Accuracy and Unique Target Entities on Wikipedia\")\n",
    "plt.scatter(\n",
    "    entity_richness_df[\"LLama_score\"],\n",
    "    entity_richness_df[\"average_unique_target_entities\"],\n",
    "    facecolors=\"none\",\n",
    "    edgecolors=\"none\",\n",
    ")\n",
    "\n",
    "plt.xlabel(\"Accuracy Percentage on CKA\")\n",
    "plt.ylabel(\"Average Target Entities per Article\")\n",
    "\n",
    "# plt.yticks(range(0, max(stats[\"June_2022_article_count\"]) + 500000, 500000))\n",
    "\n",
    "# add trendline\n",
    "slope, intercept, r_value, p_value, std_err = linregress(\n",
    "    entity_richness_df[\"LLama_score\"],\n",
    "    entity_richness_df[\"average_unique_target_entities\"],\n",
    ")\n",
    "plt.plot(\n",
    "    entity_richness_df[\"LLama_score\"],\n",
    "    intercept + slope * entity_richness_df[\"LLama_score\"],\n",
    "    \"b\",\n",
    ")\n",
    "\n",
    "# add legend with r-squared value\n",
    "r_squared = r_value**2\n",
    "plt.annotate(\n",
    "    \"R-squared = {:.2f}\".format(r_squared), xy=(0.05, 0.9), xycoords=\"axes fraction\"\n",
    ")\n",
    "\n",
    "for i, txt in enumerate(entity_richness_df[\"code\"]):\n",
    "    plt.annotate(\n",
    "        txt[:-1],\n",
    "        (\n",
    "            entity_richness_df[\"LLama_score\"][i],\n",
    "            entity_richness_df[\"average_unique_target_entities\"][i],\n",
    "        ),\n",
    "        ha=\"center\",\n",
    "    )\n",
    "\n",
    "plt.show()"
   ]
  },
  {
   "cell_type": "markdown",
   "id": "4b771fd6",
   "metadata": {},
   "source": [
    "## Other Summary Findings"
   ]
  },
  {
   "cell_type": "code",
   "execution_count": 46,
   "id": "08ba7b40",
   "metadata": {},
   "outputs": [
    {
     "name": "stdout",
     "output_type": "stream",
     "text": [
      "ca: wikipedia averages an entity every 14.58 words.\n",
      "da: wikipedia averages an entity every 11.26 words.\n",
      "de: wikipedia averages an entity every 10.22 words.\n",
      "en: wikipedia averages an entity every 6.61 words.\n",
      "es: wikipedia averages an entity every 14.24 words.\n",
      "fr: wikipedia averages an entity every 13.36 words.\n",
      "hr: wikipedia averages an entity every 10.94 words.\n",
      "it: wikipedia averages an entity every 12.6 words.\n",
      "nl: wikipedia averages an entity every 6.2 words.\n",
      "pl: wikipedia averages an entity every 6.55 words.\n",
      "pt: wikipedia averages an entity every 12.84 words.\n",
      "ro: wikipedia averages an entity every 5.41 words.\n",
      "ru: wikipedia averages an entity every 10.72 words.\n",
      "sv: wikipedia averages an entity every 10.15 words.\n",
      "uk: wikipedia averages an entity every 11.2 words.\n"
     ]
    }
   ],
   "source": [
    "entities_per_word = np.round(\n",
    "    list(\n",
    "        entity_richness_df[\"average_words\"]\n",
    "        / entity_richness_df[\"average_total_entities\"]\n",
    "    ),\n",
    "    2,\n",
    ")\n",
    "for i, code in enumerate(list(entity_richness_df[\"code\"])):\n",
    "    print(f\"{code} wikipedia averages an entity every {entities_per_word[i]} words.\")"
   ]
  },
  {
   "cell_type": "code",
   "execution_count": 47,
   "id": "d09913bc",
   "metadata": {},
   "outputs": [
    {
     "name": "stdout",
     "output_type": "stream",
     "text": [
      "ca: wikipedia averages a target entity every 101.15 words.\n",
      "da: wikipedia averages a target entity every 77.65 words.\n",
      "de: wikipedia averages a target entity every 107.23 words.\n",
      "en: wikipedia averages a target entity every 67.5 words.\n",
      "es: wikipedia averages a target entity every 110.71 words.\n",
      "fr: wikipedia averages a target entity every 109.69 words.\n",
      "hr: wikipedia averages a target entity every 314.09 words.\n",
      "it: wikipedia averages a target entity every 99.12 words.\n",
      "nl: wikipedia averages a target entity every 84.51 words.\n",
      "pl: wikipedia averages a target entity every 239.24 words.\n",
      "pt: wikipedia averages a target entity every 89.12 words.\n",
      "ro: wikipedia averages a target entity every 96.65 words.\n",
      "ru: wikipedia averages a target entity every 446.82 words.\n",
      "sv: wikipedia averages a target entity every 73.34 words.\n",
      "uk: wikipedia averages a target entity every 235.04 words.\n"
     ]
    }
   ],
   "source": [
    "target_entities_per_word = np.round(\n",
    "    list(\n",
    "        entity_richness_df[\"average_words\"]\n",
    "        / entity_richness_df[\"average_total_target_entities\"]\n",
    "    ),\n",
    "    2,\n",
    ")\n",
    "for i, code in enumerate(list(entity_richness_df[\"code\"])):\n",
    "    print(\n",
    "        f\"{code} wikipedia averages a target entity every {target_entities_per_word[i]} words.\"\n",
    "    )"
   ]
  },
  {
   "cell_type": "markdown",
   "id": "87d2eac2",
   "metadata": {},
   "source": [
    "## What is the most common target entity per language?"
   ]
  },
  {
   "cell_type": "code",
   "execution_count": 113,
   "id": "84acbff4",
   "metadata": {},
   "outputs": [],
   "source": [
    "CODE_TO_LANG_DICT = {\n",
    "    \"bg\": \"Bulgarian\",\n",
    "    \"ca\": \"Catalan\",\n",
    "    \"cs\": \"Czech\",\n",
    "    \"da\": \"Danish\",\n",
    "    \"de\": \"German\",\n",
    "    \"en\": \"English\",\n",
    "    \"es\": \"Spanish\",\n",
    "    \"fr\": \"French\",\n",
    "    \"hr\": \"Croatian\",\n",
    "    \"hu\": \"Hungarian\",\n",
    "    \"it\": \"Italian\",\n",
    "    \"nl\": \"Dutch\",\n",
    "    \"pl\": \"Polish\",\n",
    "    \"pt\": \"Portuguese\",\n",
    "    \"ro\": \"Romanian\",\n",
    "    \"ru\": \"Russian\",\n",
    "    \"sl\": \"Slovenian\",\n",
    "    \"sr\": \"Serbian\",\n",
    "    \"sv\": \"Swedish\",\n",
    "    \"uk\": \"Ukrainian\",\n",
    "}"
   ]
  },
  {
   "cell_type": "code",
   "execution_count": 114,
   "id": "6f3308ab",
   "metadata": {},
   "outputs": [
    {
     "name": "stdout",
     "output_type": "stream",
     "text": [
      "Parsing ro-10000-wiki-entity-counts-2023-05-02-01h-07m-48s.json for Romanian\n",
      "Parsing hr-10000-wiki-entity-counts-2023-05-01-23h-33m-17s.json for Croatian\n",
      "Parsing it-10000-wiki-entity-counts-2023-05-02-00h-51m-37s.json for Italian\n",
      "Parsing de-10000-wiki-entity-counts-2023-05-01-23h-32m-14s.json for German\n",
      "Parsing da-10000-wiki-entity-counts-2023-05-01-20h-21m-35s.json for Danish\n",
      "Parsing en-10000-wiki-entity-counts-2023-05-01-21h-18m-42s.json for English\n",
      "Parsing pt-10000-wiki-entity-counts-2023-05-02-01h-28m-20s.json for Portuguese\n",
      "Parsing es-10000-wiki-entity-counts-2023-05-01-21h-27m-54s.json for Spanish\n",
      "Parsing sv-10000-wiki-entity-counts-2023-05-02-02h-27m-51s.json for Swedish\n",
      "Parsing fr-10000-wiki-entity-counts-2023-05-01-22h-53m-39s.json for French\n",
      "Parsing ru-10000-wiki-entity-counts-2023-05-01-22h-32m-21s.json for Russian\n",
      "Parsing nl-10000-wiki-entity-counts-2023-05-02-00h-38m-58s.json for Dutch\n",
      "Parsing ca-10000-wiki-entity-counts-2023-05-01-22h-50m-18s.json for Catalan\n",
      "Parsing uk-10000-wiki-entity-counts-2023-05-02-02h-51m-15s.json for Ukrainian\n",
      "Parsing pl-10000-wiki-entity-counts-2023-05-02-01h-21m-37s.json for Polish\n"
     ]
    },
    {
     "data": {
      "text/plain": [
       "(150000, 5)"
      ]
     },
     "execution_count": 114,
     "metadata": {},
     "output_type": "execute_result"
    }
   ],
   "source": [
    "# read in our log files\n",
    "d = \"../../data/wikidata/wiki_entity_logs\"\n",
    "article_titles_schedule = []\n",
    "article_full_entities_schedule = []\n",
    "article_target_entities_schedule = []\n",
    "article_target_entity_unique_counts_schedule = []\n",
    "langs = []\n",
    "for filename in os.listdir(\"../../data/wikidata/wiki_entity_logs\"):\n",
    "    with open(os.path.join(d, filename), \"r\") as f:\n",
    "        lang_code = filename[:2]\n",
    "        print(f\"Parsing {filename} for {CODE_TO_LANG_DICT[lang_code]}\")\n",
    "        data = json.load(f)\n",
    "\n",
    "        for k, v in data.items():\n",
    "            if v == False:\n",
    "                print(\"No data for line_item {k}\")\n",
    "                continue\n",
    "            article_info = v\n",
    "            article_title = article_info[\"article_title\"]\n",
    "            article_id = article_info[\"article_id\"]\n",
    "            article_full_entities = article_info[\"article_full_entities\"]\n",
    "            article_target_entities = article_info[\"article_target_entities\"]\n",
    "            article_target_entities_unique_counts = article_info[\n",
    "                \"article_target_entities_uniques\"\n",
    "            ]\n",
    "\n",
    "            article_titles_schedule.append(article_title + \"_\" + lang_code)\n",
    "            article_full_entities_schedule.append(article_full_entities)\n",
    "            article_target_entities_schedule.append(article_target_entities)\n",
    "            article_target_entity_unique_counts_schedule.append(\n",
    "                article_target_entities_unique_counts\n",
    "            )\n",
    "            langs.append(lang_code)\n",
    "\n",
    "articles_df = pd.DataFrame(\n",
    "    {\n",
    "        \"article_title\": article_titles_schedule,\n",
    "        \"article_full_entities\": article_full_entities_schedule,\n",
    "        \"article_target_entities\": article_target_entities_schedule,\n",
    "        \"article_target_entity_unique_counts\": article_target_entity_unique_counts_schedule,\n",
    "        \"lang_code\": langs,\n",
    "    }\n",
    ")\n",
    "\n",
    "articles_df.shape"
   ]
  },
  {
   "cell_type": "code",
   "execution_count": 151,
   "id": "51ee97f2",
   "metadata": {},
   "outputs": [],
   "source": [
    "# most common target entity per language\n",
    "\n",
    "lang_counts = {}\n",
    "for k in CODE_TO_LANG_DICT.keys():\n",
    "    if k in [\"bg\", \"hu\", \"sl\", \"sr\", \"cs\"]:\n",
    "        continue\n",
    "    lang_counts[k] = {} "
   ]
  },
  {
   "cell_type": "code",
   "execution_count": 152,
   "id": "2a2ae701",
   "metadata": {},
   "outputs": [],
   "source": [
    "for row in articles_df.iterrows():\n",
    "    lang = row[1].article_title[-2:]\n",
    "    if bool(row[1].article_target_entities) == True:\n",
    "        for entity, count in row[1].article_target_entities.items():\n",
    "            if entity in lang_counts[lang]:\n",
    "                lang_counts[lang][entity] += count\n",
    "            else:\n",
    "                lang_counts[lang][entity] = count"
   ]
  },
  {
   "cell_type": "code",
   "execution_count": 160,
   "id": "ffbcf8e7",
   "metadata": {},
   "outputs": [
    {
     "name": "stdout",
     "output_type": "stream",
     "text": [
      "10 most frequent target entities on Catalan wiki sample\n",
      "{'Barcelona': 1705, 'United States': 1323, 'France': 994, 'Spain': 942, 'Madrid': 711, 'Europe': 664, 'Europa': 660, 'Catalonia': 646, 'Germany': 597, 'Italy': 591}\n",
      "10 most frequent target entities on Danish wiki sample\n",
      "{'Denmark': 2291, 'Copenhagen': 1420, 'USA': 1170, 'Internet Movie Database': 1050, 'Germany': 953, 'France': 770, 'Sweden': 749, 'Norway': 711, 'Europe': 582, 'Europa': 581}\n",
      "10 most frequent target entities on German wiki sample\n",
      "{'Germany': 1594, 'Berlin': 1593, 'Munich': 966, 'Paris': 797, 'Wien': 772, 'Vienna': 754, 'France': 717, 'London': 648, 'USA': 613, 'Austria': 581}\n",
      "10 most frequent target entities on English wiki sample\n",
      "{'American': 2692, 'French': 1306, 'London': 1196, 'France': 918, 'India': 888, 'Germany': 807, 'US': 799, 'New York': 789, 'England': 774, 'Russian': 719}\n",
      "10 most frequent target entities on Spanish wiki sample\n",
      "{'Spain': 1728, 'Mexico': 1075, 'France': 1017, 'Madrid': 983, 'United States': 857, 'Europe': 792, 'Europa': 790, 'Argentina': 708, 'Germany': 674, 'Paris': 652}\n",
      "10 most frequent target entities on French wiki sample\n",
      "{'Paris': 3061, 'France': 2114, 'United States': 1779, 'Germany': 709, 'Europe': 658, 'London': 637, 'England': 579, 'Italy': 574, 'New York': 560, 'Canada': 518}\n",
      "10 most frequent target entities on Croatian wiki sample\n",
      "{'Croatia': 420, 'Europe': 246, 'Belgrade': 225, 'Germany': 224, 'Sarajevo': 200, 'California': 184, 'France': 184, 'New York': 170, 'Italy': 159, 'Russia': 133}\n",
      "10 most frequent target entities on Italian wiki sample\n",
      "{'Italy': 1874, 'Rome': 1466, 'Milano': 1034, 'France': 858, 'Europa': 707, 'Europe': 702, 'Germany': 621, 'Paris': 617, 'London': 617, 'Germania': 614}\n",
      "10 most frequent target entities on Dutch wiki sample\n",
      "{'Netherlands': 838, 'Belgium': 387, 'Amsterdam': 356, 'Europe': 345, 'Europa': 343, 'Germany': 327, 'France': 324, 'United States': 315, 'World War II': 268, 'Paris': 264}\n",
      "10 most frequent target entities on Polish wiki sample\n",
      "{'Polish': 1212, 'Warsaw': 671, 'USA': 525, 'USSR': 376, 'Germany': 217, 'Poland': 177, 'France': 142, 'New York': 104, 'Chile': 100, 'New York City': 92}\n",
      "10 most frequent target entities on Portuguese wiki sample\n",
      "{'Brasil': 1870, 'Brazil': 1868, 'United States': 1063, 'Rio de Janeiro': 773, 'France': 635, 'Germany': 602, 'Portugal': 519, 'Spain': 513, 'Paris': 508, 'Europe': 468}\n",
      "10 most frequent target entities on Romanian wiki sample\n",
      "{'Romania': 1904, 'Ukraine': 919, 'Germany': 831, 'Paris': 523, 'Italy': 510, 'United States': 334, 'Europa': 329, 'Hungary': 305, 'London': 305, 'England': 300}\n",
      "10 most frequent target entities on Russian wiki sample\n",
      "{'Moscow': 704, 'Russian SFSR': 581, 'Russia': 283, 'Germany': 243, 'France': 231, 'Italy': 196, 'New York': 194, 'Paris': 191, 'China': 157, 'Japan': 141}\n",
      "10 most frequent target entities on Swedish wiki sample\n",
      "{'Sweden': 761, 'Stockholm': 706, 'Finland': 407, 'France': 345, 'USA': 344, 'Indonesia': 281, 'London': 222, 'England': 217, 'China': 208, 'Germany': 207}\n",
      "10 most frequent target entities on Ukrainian wiki sample\n",
      "{'USA': 1685, 'Kyiv': 773, 'Kiev': 772, 'USSR': 543, 'Russia': 424, 'Ukraine': 351, 'Moscow': 271, 'New York': 223, 'France': 193, 'New York City': 153}\n"
     ]
    }
   ],
   "source": [
    "for lang, d in lang_counts.items():\n",
    "    # sort d\n",
    "    sorted_d = {k: v for k, v in sorted(d.items(), key=lambda item: item[1], reverse=True)}\n",
    "                \n",
    "    # print first 5 items\n",
    "    print(f\"10 most frequent target entities on {CODE_TO_LANG_DICT[lang]} wiki sample\")\n",
    "    c = 0\n",
    "    common = {}\n",
    "    for k, v in sorted_d.items():\n",
    "        common[k] = v\n",
    "        c += 1\n",
    "        if c == 10:\n",
    "            break\n",
    "    print(common)"
   ]
  },
  {
   "cell_type": "code",
   "execution_count": 161,
   "id": "ced80e3a",
   "metadata": {},
   "outputs": [],
   "source": [
    "# most frequent overall entities\n",
    "\n",
    "lang_counts = {}\n",
    "for k in CODE_TO_LANG_DICT.keys():\n",
    "    if k in [\"bg\", \"hu\", \"sl\", \"sr\", \"cs\"]:\n",
    "        continue\n",
    "    lang_counts[k] = {} "
   ]
  },
  {
   "cell_type": "code",
   "execution_count": 162,
   "id": "99e8631b",
   "metadata": {},
   "outputs": [],
   "source": [
    "for row in articles_df.iterrows():\n",
    "    lang = row[1].article_title[-2:]\n",
    "    if bool(row[1].article_full_entities) == True:\n",
    "        for entity, count in row[1].article_full_entities.items():\n",
    "            if entity in lang_counts[lang]:\n",
    "                lang_counts[lang][entity] += count\n",
    "            else:\n",
    "                lang_counts[lang][entity] = count"
   ]
  },
  {
   "cell_type": "code",
   "execution_count": 163,
   "id": "8fa95da8",
   "metadata": {},
   "outputs": [
    {
     "name": "stdout",
     "output_type": "stream",
     "text": [
      "10 most frequent entities on Catalan wiki sample\n",
      "{'Barcelona___LOC': 1705, 'Estats Units___LOC': 1322, 'França___LOC': 1026, 'Espanya___LOC': 941, 'Madrid___LOC': 711, 'Europa___LOC': 660, 'Catalunya___LOC': 646, 'Alemanya___LOC': 597, 'Itàlia___LOC': 591, 'Roma___PER': 561}\n",
      "10 most frequent entities on Danish wiki sample\n",
      "{'Danmark___LOC': 2286, 'København___LOC': 1444, 'USA___LOC': 1170, 'Internet Movie Database___ORG': 1050, 'Tyskland___LOC': 952, 'Sverige___LOC': 749, 'Frankrig___LOC': 712, 'Norge___LOC': 710, 'Europa___LOC': 581, 'England___LOC': 570}\n",
      "10 most frequent entities on German wiki sample\n",
      "{'Deutschland___LOC': 1632, 'Berlin___LOC': 1619, 'Kirche___ORG': 1201, 'München___LOC': 993, 'Stadt___LOC': 964, 'Sohn___PER': 805, 'Paris___LOC': 798, 'Wien___LOC': 775, 'Frankreich___LOC': 708, 'London___LOC': 681}\n",
      "10 most frequent entities on English wiki sample\n",
      "{'first___ORDINAL': 8730, 'two___CARDINAL': 5703, 'one___CARDINAL': 4185, 'three___CARDINAL': 2951, 'second___ORDINAL': 2707, 'American___NORP': 2692, 'four___CARDINAL': 1790, 'German___NORP': 1521, '2___CARDINAL': 1505, 'British___NORP': 1399}\n",
      "10 most frequent entities on Spanish wiki sample\n",
      "{'España___LOC': 1756, 'México___LOC': 1079, 'Francia___LOC': 1023, 'Madrid___LOC': 983, 'Estados Unidos___LOC': 864, 'Europa___LOC': 790, 'Argentina___LOC': 708, 'París___LOC': 702, 'Alemania___LOC': 680, 'Italia___LOC': 595}\n",
      "10 most frequent entities on French wiki sample\n",
      "{'Paris___LOC': 3061, 'France___LOC': 2114, 'États-Unis___LOC': 1783, 'État___LOC': 1057, 'la France___LOC': 838, 'Allemagne___LOC': 708, 'Europe___LOC': 666, 'Londres___LOC': 620, 'Angleterre___LOC': 579, 'Italie___LOC': 573}\n",
      "10 most frequent entities on Croatian wiki sample\n",
      "{'Zagreb___LOC': 1072, 'Hrvatskoj___LOC': 1028, 'Zagrebu___LOC': 680, 'Hrvatske___LOC': 609, 'SAD-u___LOC': 544, 'BiH___LOC': 503, 'Hrvatska___LOC': 411, 'Hrvata___PER': 411, 'Europi___LOC': 402, 'Jugoslavije___LOC': 357}\n",
      "10 most frequent entities on Italian wiki sample\n",
      "{'Italia___LOC': 2581, 'Roma___LOC': 1480, 'Milano___LOC': 1064, 'Stati Uniti___LOC': 899, 'Francia___LOC': 856, 'Europa___LOC': 707, 'Germania___LOC': 685, 'Camponotus___PER': 641, 'Parigi___LOC': 615, 'Londra___LOC': 601}\n",
      "10 most frequent entities on Dutch wiki sample\n",
      "{'eerste___ORDINAL': 2377, 'twee___CARDINAL': 1633, 'Nederlandse___NORP': 909, 'drie___CARDINAL': 876, 'tweede___ORDINAL': 852, 'Nederland___GPE': 837, 'Amerikaanse___NORP': 802, 'Franse___NORP': 659, '2010___DATE': 645, '2006___DATE': 625}\n",
      "10 most frequent entities on Polish wiki sample\n",
      "{'polski___placeName': 1643, 'Polsce___placeName': 1393, 'Polski___placeName': 1212, '1998___date': 924, 'amerykański___placeName': 868, 'ul.___geogName': 778, '2009___date': 741, '2012___date': 727, '2010___date': 726, '2007___date': 722}\n",
      "10 most frequent entities on Portuguese wiki sample\n",
      "{'Brasil___LOC': 1870, 'Estados Unidos___LOC': 1069, 'Rio de Janeiro___LOC': 773, 'França___LOC': 636, 'São Paulo___LOC': 606, 'Alemanha___LOC': 601, 'Portugal___LOC': 519, 'Espanha___LOC': 513, 'Paris___LOC': 508, 'Europa___LOC': 463}\n",
      "10 most frequent entities on Romanian wiki sample\n",
      "{'locuitori___PERSON': 2491, 'București___GPE': 2045, 'două___NUMERIC_VALUE': 1999, 'România___GPE': 1925, 'ucraineană___NAT_REL_POL': 1569, 'prima___ORDINAL': 1345, 'trei___NUMERIC_VALUE': 1236, '2001___DATETIME': 1095, 'primul___ORDINAL': 1082, '2009___DATETIME': 1081}\n",
      "10 most frequent entities on Russian wiki sample\n",
      "{'России___LOC': 3444, 'США___LOC': 2736, 'СССР___LOC': 2678, 'Украины___LOC': 967, 'Российской Федерации___LOC': 913, 'М.___PER': 909, 'Франции___LOC': 852, 'Москве___LOC': 761, 'Москва___LOC': 704, 'Германии___LOC': 685}\n",
      "10 most frequent entities on Swedish wiki sample\n",
      "{'Catalogue of Life___WRK': 4595, 'kommun___LOC': 819, 'Sverige___LOC': 761, 'Stockholm___LOC': 706, 'Finland___LOC': 407, 'USA___LOC': 344, 'Frankrike___LOC': 343, 'Helsingfors___LOC': 325, 'Zelotes___PRS': 300, 'Indonesien___LOC': 281}\n",
      "10 most frequent entities on Ukrainian wiki sample\n",
      "{'Wayback Machine___ORG': 3907, 'України___LOC': 1901, 'США___LOC': 1684, 'Франції___LOC': 1107, 'Україні___LOC': 1041, 'Київ___LOC': 765, 'Польщі___LOC': 726, 'Росії___LOC': 550, 'СРСР___LOC': 543, 'Російської Федерації___LOC': 495}\n"
     ]
    }
   ],
   "source": [
    "for lang, d in lang_counts.items():\n",
    "    # sort d\n",
    "    sorted_d = {k: v for k, v in sorted(d.items(), key=lambda item: item[1], reverse=True)}\n",
    "                \n",
    "    # print first 5 items\n",
    "    print(f\"10 most frequent entities on {CODE_TO_LANG_DICT[lang]} wiki sample\")\n",
    "    c = 0\n",
    "    common = {}\n",
    "    for k, v in sorted_d.items():\n",
    "        common[k] = v\n",
    "        c += 1\n",
    "        if c == 10:\n",
    "            break\n",
    "    print(common)"
   ]
  },
  {
   "cell_type": "markdown",
   "id": "96759067",
   "metadata": {},
   "source": [
    "## ANOVA for target entities\n",
    "\n",
    "* e.g. for every language we would want, the counts of unique target entities"
   ]
  },
  {
   "cell_type": "code",
   "execution_count": 52,
   "id": "9c604c15",
   "metadata": {},
   "outputs": [],
   "source": [
    "code_to_counts = {}\n",
    "for code in set(list(articles_df[\"lang_code\"])):\n",
    "    code_to_counts[code] = list(\n",
    "        articles_df[articles_df[\"lang_code\"] == code][\n",
    "            \"article_target_entity_unique_counts\"\n",
    "        ]\n",
    "    )"
   ]
  },
  {
   "cell_type": "code",
   "execution_count": 53,
   "id": "31695c8e",
   "metadata": {},
   "outputs": [],
   "source": [
    "assert len(code_to_counts) == len(set(list(articles_df[\"lang_code\"])))"
   ]
  },
  {
   "cell_type": "code",
   "execution_count": 54,
   "id": "fdf2626f",
   "metadata": {},
   "outputs": [
    {
     "name": "stdout",
     "output_type": "stream",
     "text": [
      "For unique target entity appearances, we see an f-statistic of 639.8929741386521 and a p-value of < .001.\n",
      "We can REJECT the null hypothesis none of the target entity unique values are significantly different.\n"
     ]
    }
   ],
   "source": [
    "# perform one-way ANOVA test\n",
    "f_statistic, p_value = f_oneway(*code_to_counts.values())\n",
    "\n",
    "reject = \"REJECT\" if p_value <= 0.05 else \"ACCEPT\"\n",
    "\n",
    "if p_value < 0.001:\n",
    "    p_value = \"< .001\"\n",
    "\n",
    "\n",
    "print(\n",
    "    f\"For unique target entity appearances, we see an f-statistic of {f_statistic} and a p-value of {p_value}.\"\n",
    ")\n",
    "\n",
    "print(\n",
    "    f\"We can {reject} the null hypothesis none of the target entity unique values are significantly different.\"\n",
    ")"
   ]
  },
  {
   "cell_type": "markdown",
   "id": "a0f1d8ac",
   "metadata": {},
   "source": [
    "## Load Data from geo-entity articles"
   ]
  },
  {
   "cell_type": "code",
   "execution_count": 10,
   "id": "0adb34a9",
   "metadata": {},
   "outputs": [
    {
     "data": {
      "text/plain": [
       "(3185, 6)"
      ]
     },
     "execution_count": 10,
     "metadata": {},
     "output_type": "execute_result"
    }
   ],
   "source": [
    "filename = \"../../data/wikidata/en-0-wiki-entity-counts-geo-sampling-2023-05-04-08h-22m-12s.json\"\n",
    "\n",
    "article_titles_schedule = []\n",
    "article_locations_schedule = []\n",
    "article_word_counts_schedule = []\n",
    "article_full_entities_schedule = []\n",
    "article_target_entities_schedule = []\n",
    "article_target_entity_unique_counts_schedule = []\n",
    "\n",
    "with open(filename, \"r\") as f:\n",
    "    data = json.load(f)\n",
    "    \n",
    "    for k, v in data.items():\n",
    "        if v == False:\n",
    "            print(\"No data for line_item {k}\")\n",
    "            continue\n",
    "        article_info = v\n",
    "        article_title = article_info[\"article_title\"]\n",
    "        article_word_count = article_info[\"article_word_count\"]\n",
    "        article_location = article_info[\"article_location\"]\n",
    "        article_full_entities = article_info[\"article_full_entities\"]\n",
    "        article_target_entities = article_info[\"article_target_entities\"]\n",
    "        article_target_entities_unique_counts = article_info[\"article_target_entities_uniques\"]\n",
    "\n",
    "        article_titles_schedule.append(article_title)\n",
    "        article_locations_schedule.append(article_location)\n",
    "        article_word_counts_schedule.append(article_word_count)\n",
    "        article_full_entities_schedule.append(article_full_entities)\n",
    "        article_target_entities_schedule.append(article_target_entities)\n",
    "        article_target_entity_unique_counts_schedule.append(article_target_entities_unique_counts)\n",
    "            \n",
    "articles_df = pd.DataFrame(\n",
    "    {\n",
    "        \"article_title\": article_titles_schedule,\n",
    "        \"article_location\": article_locations_schedule,\n",
    "        \"article_word_count\": article_word_counts_schedule,\n",
    "        \"article_full_entities\": article_full_entities_schedule,\n",
    "        \"article_target_entities\": article_target_entities_schedule,\n",
    "        \"article_target_entity_unique_counts\": article_target_entity_unique_counts_schedule,\n",
    "    }\n",
    ")\n",
    "\n",
    "articles_df.shape"
   ]
  },
  {
   "cell_type": "code",
   "execution_count": 11,
   "id": "027b2604",
   "metadata": {},
   "outputs": [],
   "source": [
    "geo_articles = articles_df[articles_df['article_word_count'] != 0]"
   ]
  },
  {
   "cell_type": "code",
   "execution_count": 12,
   "id": "ae2f8a78",
   "metadata": {},
   "outputs": [
    {
     "data": {
      "text/plain": [
       "Index(['article_title', 'article_location', 'article_word_count',\n",
       "       'article_full_entities', 'article_target_entities',\n",
       "       'article_target_entity_unique_counts'],\n",
       "      dtype='object')"
      ]
     },
     "execution_count": 12,
     "metadata": {},
     "output_type": "execute_result"
    }
   ],
   "source": [
    "geo_articles.columns"
   ]
  },
  {
   "cell_type": "code",
   "execution_count": 13,
   "id": "d0a7fc32",
   "metadata": {},
   "outputs": [
    {
     "data": {
      "text/plain": [
       "EU               884\n",
       "AN               569\n",
       "AS               528\n",
       "North America    491\n",
       "AF               190\n",
       "OC               100\n",
       "SA                67\n",
       "Name: article_location, dtype: int64"
      ]
     },
     "execution_count": 13,
     "metadata": {},
     "output_type": "execute_result"
    }
   ],
   "source": [
    "geo_articles['article_location'].value_counts()"
   ]
  },
  {
   "cell_type": "code",
   "execution_count": 14,
   "id": "c57bf33c",
   "metadata": {},
   "outputs": [
    {
     "data": {
      "text/html": [
       "<div>\n",
       "<style scoped>\n",
       "    .dataframe tbody tr th:only-of-type {\n",
       "        vertical-align: middle;\n",
       "    }\n",
       "\n",
       "    .dataframe tbody tr th {\n",
       "        vertical-align: top;\n",
       "    }\n",
       "\n",
       "    .dataframe thead th {\n",
       "        text-align: right;\n",
       "    }\n",
       "</style>\n",
       "<table border=\"1\" class=\"dataframe\">\n",
       "  <thead>\n",
       "    <tr style=\"text-align: right;\">\n",
       "      <th></th>\n",
       "      <th>mean</th>\n",
       "      <th>std</th>\n",
       "    </tr>\n",
       "    <tr>\n",
       "      <th>article_location</th>\n",
       "      <th></th>\n",
       "      <th></th>\n",
       "    </tr>\n",
       "  </thead>\n",
       "  <tbody>\n",
       "    <tr>\n",
       "      <th>AF</th>\n",
       "      <td>4129.826316</td>\n",
       "      <td>4510.524972</td>\n",
       "    </tr>\n",
       "    <tr>\n",
       "      <th>AN</th>\n",
       "      <td>319.841828</td>\n",
       "      <td>668.827203</td>\n",
       "    </tr>\n",
       "    <tr>\n",
       "      <th>AS</th>\n",
       "      <td>3830.426136</td>\n",
       "      <td>4423.960827</td>\n",
       "    </tr>\n",
       "    <tr>\n",
       "      <th>EU</th>\n",
       "      <td>2974.598416</td>\n",
       "      <td>4304.946367</td>\n",
       "    </tr>\n",
       "    <tr>\n",
       "      <th>North America</th>\n",
       "      <td>3004.808554</td>\n",
       "      <td>4283.813295</td>\n",
       "    </tr>\n",
       "    <tr>\n",
       "      <th>OC</th>\n",
       "      <td>2382.300000</td>\n",
       "      <td>3468.944641</td>\n",
       "    </tr>\n",
       "    <tr>\n",
       "      <th>SA</th>\n",
       "      <td>4743.656716</td>\n",
       "      <td>5134.016062</td>\n",
       "    </tr>\n",
       "  </tbody>\n",
       "</table>\n",
       "</div>"
      ],
      "text/plain": [
       "                         mean          std\n",
       "article_location                          \n",
       "AF                4129.826316  4510.524972\n",
       "AN                 319.841828   668.827203\n",
       "AS                3830.426136  4423.960827\n",
       "EU                2974.598416  4304.946367\n",
       "North America     3004.808554  4283.813295\n",
       "OC                2382.300000  3468.944641\n",
       "SA                4743.656716  5134.016062"
      ]
     },
     "execution_count": 14,
     "metadata": {},
     "output_type": "execute_result"
    }
   ],
   "source": [
    "# extremely high variance\n",
    "geo_articles.groupby('article_location')['article_word_count'].describe()[['mean', 'std']]"
   ]
  },
  {
   "cell_type": "code",
   "execution_count": 15,
   "id": "1d67d298",
   "metadata": {},
   "outputs": [
    {
     "data": {
      "text/html": [
       "<div>\n",
       "<style scoped>\n",
       "    .dataframe tbody tr th:only-of-type {\n",
       "        vertical-align: middle;\n",
       "    }\n",
       "\n",
       "    .dataframe tbody tr th {\n",
       "        vertical-align: top;\n",
       "    }\n",
       "\n",
       "    .dataframe thead th {\n",
       "        text-align: right;\n",
       "    }\n",
       "</style>\n",
       "<table border=\"1\" class=\"dataframe\">\n",
       "  <thead>\n",
       "    <tr style=\"text-align: right;\">\n",
       "      <th></th>\n",
       "      <th>mean</th>\n",
       "      <th>std</th>\n",
       "    </tr>\n",
       "    <tr>\n",
       "      <th>article_location</th>\n",
       "      <th></th>\n",
       "      <th></th>\n",
       "    </tr>\n",
       "  </thead>\n",
       "  <tbody>\n",
       "    <tr>\n",
       "      <th>AF</th>\n",
       "      <td>19.905263</td>\n",
       "      <td>19.014655</td>\n",
       "    </tr>\n",
       "    <tr>\n",
       "      <th>AN</th>\n",
       "      <td>3.536028</td>\n",
       "      <td>3.859667</td>\n",
       "    </tr>\n",
       "    <tr>\n",
       "      <th>AS</th>\n",
       "      <td>18.585227</td>\n",
       "      <td>20.286476</td>\n",
       "    </tr>\n",
       "    <tr>\n",
       "      <th>EU</th>\n",
       "      <td>19.200226</td>\n",
       "      <td>25.401366</td>\n",
       "    </tr>\n",
       "    <tr>\n",
       "      <th>North America</th>\n",
       "      <td>16.313646</td>\n",
       "      <td>21.762245</td>\n",
       "    </tr>\n",
       "    <tr>\n",
       "      <th>OC</th>\n",
       "      <td>11.990000</td>\n",
       "      <td>14.733659</td>\n",
       "    </tr>\n",
       "    <tr>\n",
       "      <th>SA</th>\n",
       "      <td>22.089552</td>\n",
       "      <td>21.772746</td>\n",
       "    </tr>\n",
       "  </tbody>\n",
       "</table>\n",
       "</div>"
      ],
      "text/plain": [
       "                       mean        std\n",
       "article_location                      \n",
       "AF                19.905263  19.014655\n",
       "AN                 3.536028   3.859667\n",
       "AS                18.585227  20.286476\n",
       "EU                19.200226  25.401366\n",
       "North America     16.313646  21.762245\n",
       "OC                11.990000  14.733659\n",
       "SA                22.089552  21.772746"
      ]
     },
     "execution_count": 15,
     "metadata": {},
     "output_type": "execute_result"
    }
   ],
   "source": [
    "# on average, an article about asia is slightly richer than an article\n",
    "# about north america\n",
    "geo_articles.groupby('article_location')['article_target_entity_unique_counts'].describe()[['mean', 'std']]"
   ]
  },
  {
   "cell_type": "code",
   "execution_count": 16,
   "id": "97c3a3fe",
   "metadata": {},
   "outputs": [],
   "source": [
    "standard_errors = geo_articles.groupby(['article_location']).sem()['article_target_entity_unique_counts']"
   ]
  },
  {
   "cell_type": "code",
   "execution_count": 17,
   "id": "aab0b90b",
   "metadata": {},
   "outputs": [],
   "source": [
    "d = geo_articles.groupby('article_location')['article_target_entity_unique_counts'].describe()['mean'].reset_index()"
   ]
  },
  {
   "cell_type": "code",
   "execution_count": 18,
   "id": "bfd4bdbf",
   "metadata": {},
   "outputs": [],
   "source": [
    "d['standard_errors'] = standard_errors.to_dict().values()"
   ]
  },
  {
   "cell_type": "code",
   "execution_count": 19,
   "id": "61274104",
   "metadata": {},
   "outputs": [],
   "source": [
    "d = d.sort_values(by = \"mean\", ascending=True)"
   ]
  },
  {
   "cell_type": "code",
   "execution_count": 21,
   "id": "407d73b8",
   "metadata": {},
   "outputs": [
    {
     "data": {
      "image/png": "[encoded data removed]",
      "text/plain": [
       "<Figure size 432x288 with 1 Axes>"
      ]
     },
     "metadata": {
      "needs_background": "light"
     },
     "output_type": "display_data"
    }
   ],
   "source": [
    "plt.barh(\"article_location\", \"mean\", data=d)\n",
    "\n",
    "plt.suptitle(\"How much information is in Geo Entity pages?\")\n",
    "plt.xlabel(\"Average Unique Target Entities\")\n",
    "plt.ylabel(\"Continent of Article\")\n",
    "\n",
    "txt = \"counts from scraping en-Wikipedia for pages about our data's geographic entities\"\n",
    "plt.figtext(0.5, -0.05, txt, wrap=True, horizontalalignment=\"center\", fontsize=10)\n",
    "\n",
    "# display the plot\n",
    "plt.show()"
   ]
  },
  {
   "cell_type": "markdown",
   "id": "c2074d05",
   "metadata": {},
   "source": [
    "## Check for connections\n",
    "\n",
    "* is there a relationship between density of these articles and the location they are referring to?\n",
    "    * yes (anova for unique entity counts, all locations) \n",
    "    * yes (anove for word counts, all locations\n",
    "    * yes - t-test for word count, North America vs Asia\n",
    "* what are the variances in word count / entity count between the locations?\n",
    "    * graph dists"
   ]
  },
  {
   "cell_type": "code",
   "execution_count": 51,
   "id": "eca78f34",
   "metadata": {},
   "outputs": [],
   "source": [
    "na_articles = geo_articles[geo_articles['article_location'] == 'North America']\n",
    "af_articles = geo_articles[geo_articles['article_location']== 'AF']\n",
    "eu_articles = geo_articles[geo_articles['article_location']== 'EU']\n",
    "asia_articles = geo_articles[geo_articles['article_location']== 'AS']\n",
    "oc_articles = geo_articles[geo_articles['article_location']== 'OC']\n",
    "sa_articles = geo_articles[geo_articles['article_location']== 'SA']\n",
    "an_articles = geo_articles[geo_articles['article_location']== 'AN']"
   ]
  },
  {
   "cell_type": "code",
   "execution_count": 52,
   "id": "3d50ce85",
   "metadata": {},
   "outputs": [
    {
     "name": "stdout",
     "output_type": "stream",
     "text": [
      "Welch's t-test for the average number of unique target entities in NA vs. Asia reveals a t_stat of -3.0260077065214106 and a p value of 0.0025404986562361748\n",
      "We can REJECT the null hypothesis that these two averages are identical\n",
      "we conclude that these two averages are significantly different.\n"
     ]
    }
   ],
   "source": [
    "t_stat, p = ttest_ind(list(na_articles[\"article_word_count\"]),\n",
    "                      list(asia_articles[\"article_word_count\"]), equal_var = False)\n",
    "reject = \"REJECT\" if p <= 0.05 else \"ACCEPT\"\n",
    "\n",
    "if p < 0.001:\n",
    "    p = \"< .001\"\n",
    "\n",
    "print(f\"Welch's t-test for the average number of unique target entities in NA vs. Asia reveals a t_stat of {t_stat} and a p value of {p}\")\n",
    "print(f\"We can {reject} the null hypothesis that these two averages are identical\")\n",
    "if reject == \"REJECT\":\n",
    "    print(\"we conclude that these two averages are significantly different.\")"
   ]
  },
  {
   "cell_type": "code",
   "execution_count": 53,
   "id": "9a23f37a",
   "metadata": {},
   "outputs": [
    {
     "name": "stdout",
     "output_type": "stream",
     "text": [
      "For article world count, we see an f-statistic of 51.64522570228778 and a p-value of < .001.\n",
      "We can REJECT the null hypothesis none of the article word counts are significantly different.\n"
     ]
    }
   ],
   "source": [
    "# perform one-way ANOVA test\n",
    "f_statistic, p_value = f_oneway(list(na_articles[\"article_word_count\"]),\n",
    "                               list(eu_articles[\"article_word_count\"]),\n",
    "                               list(asia_articles[\"article_word_count\"]),\n",
    "                               list(an_articles[\"article_word_count\"]),\n",
    "                               list(sa_articles[\"article_word_count\"]),\n",
    "                               list(af_articles[\"article_word_count\"]),\n",
    "                               list(oc_articles[\"article_word_count\"]))\n",
    "\n",
    "reject = \"REJECT\" if p_value <= 0.05 else \"ACCEPT\"\n",
    "\n",
    "if p_value < 0.001:\n",
    "    p_value = \"< .001\"\n",
    "\n",
    "\n",
    "print(\n",
    "    f\"For article world count, we see an f-statistic of {f_statistic} and a p-value of {p_value}.\"\n",
    ")\n",
    "\n",
    "print(\n",
    "    f\"We can {reject} the null hypothesis none of the article word counts are significantly different.\"\n",
    ")"
   ]
  },
  {
   "cell_type": "code",
   "execution_count": 54,
   "id": "cf0e29a6",
   "metadata": {},
   "outputs": [
    {
     "name": "stdout",
     "output_type": "stream",
     "text": [
      "For article target entity unique count, we see an f-statistic of 43.667546452989036 and a p-value of < .001.\n",
      "We can REJECT the null hypothesis none of the article target entity counts are significantly different.\n"
     ]
    }
   ],
   "source": [
    "# perform one-way ANOVA test\n",
    "f_statistic, p_value = f_oneway(list(na_articles[\"article_target_entity_unique_counts\"]),\n",
    "                               list(eu_articles[\"article_target_entity_unique_counts\"]),\n",
    "                               list(asia_articles[\"article_target_entity_unique_counts\"]),\n",
    "                               list(an_articles[\"article_target_entity_unique_counts\"]),\n",
    "                               list(sa_articles[\"article_target_entity_unique_counts\"]),\n",
    "                               list(af_articles[\"article_target_entity_unique_counts\"]),\n",
    "                               list(oc_articles[\"article_target_entity_unique_counts\"]))\n",
    "\n",
    "reject = \"REJECT\" if p_value <= 0.05 else \"ACCEPT\"\n",
    "\n",
    "if p_value < 0.001:\n",
    "    p_value = \"< .001\"\n",
    "\n",
    "\n",
    "print(\n",
    "    f\"For article target entity unique count, we see an f-statistic of {f_statistic} and a p-value of {p_value}.\"\n",
    ")\n",
    "\n",
    "print(\n",
    "    f\"We can {reject} the null hypothesis none of the article target entity counts are significantly different.\"\n",
    ")"
   ]
  },
  {
   "cell_type": "markdown",
   "id": "e704a9c6",
   "metadata": {},
   "source": [
    "## Load Data from gender-entity articles"
   ]
  },
  {
   "cell_type": "markdown",
   "id": "d2a441e4",
   "metadata": {},
   "source": [
    "## Check for connections\n",
    "\n",
    "* is there a relationship between density of these articles and the continent they are referring to?\n",
    "    * anova\n",
    "* what are the variances in word count / entity count between the continents?\n",
    "    * graph dists"
   ]
  },
  {
   "cell_type": "code",
   "execution_count": 24,
   "id": "773c4148",
   "metadata": {},
   "outputs": [
    {
     "data": {
      "text/plain": [
       "(869, 6)"
      ]
     },
     "execution_count": 24,
     "metadata": {},
     "output_type": "execute_result"
    }
   ],
   "source": [
    "filename = \"../../data/wikidata/en-0-wiki-entity-counts-gender-sampling-2023-05-04-19h-11m-50s.json\"\n",
    "\n",
    "article_titles_schedule = []\n",
    "article_genders_schedule = []\n",
    "article_word_counts_schedule = []\n",
    "article_full_entities_schedule = []\n",
    "article_target_entities_schedule = []\n",
    "article_target_entity_unique_counts_schedule = []\n",
    "\n",
    "with open(filename, \"r\") as f:\n",
    "    data = json.load(f)\n",
    "    \n",
    "    for k, v in data.items():\n",
    "        if v == False:\n",
    "            print(\"No data for line_item {k}\")\n",
    "            continue\n",
    "        article_info = v\n",
    "        article_title = article_info[\"article_title\"]\n",
    "        article_word_count = article_info[\"article_word_count\"]\n",
    "        article_gender = article_info[\"article_gender\"]\n",
    "        article_full_entities = article_info[\"article_full_entities\"]\n",
    "        article_target_entities = article_info[\"article_target_entities\"]\n",
    "        article_target_entities_unique_counts = article_info[\"article_target_entities_uniques\"]\n",
    "\n",
    "        article_titles_schedule.append(article_title)\n",
    "        article_genders_schedule.append(article_gender)\n",
    "        article_word_counts_schedule.append(article_word_count)\n",
    "        article_full_entities_schedule.append(article_full_entities)\n",
    "        article_target_entities_schedule.append(article_target_entities)\n",
    "        article_target_entity_unique_counts_schedule.append(article_target_entities_unique_counts)\n",
    "            \n",
    "articles_df = pd.DataFrame(\n",
    "    {\n",
    "        \"article_title\": article_titles_schedule,\n",
    "        \"article_gender\": article_genders_schedule,\n",
    "        \"article_word_count\": article_word_counts_schedule,\n",
    "        \"article_full_entities\": article_full_entities_schedule,\n",
    "        \"article_target_entities\": article_target_entities_schedule,\n",
    "        \"article_target_entity_unique_counts\": article_target_entity_unique_counts_schedule,\n",
    "    }\n",
    ")\n",
    "\n",
    "articles_df.shape"
   ]
  },
  {
   "cell_type": "code",
   "execution_count": 40,
   "id": "46d99597",
   "metadata": {},
   "outputs": [],
   "source": [
    "gender_articles = articles_df"
   ]
  },
  {
   "cell_type": "code",
   "execution_count": 41,
   "id": "ca91b91d",
   "metadata": {},
   "outputs": [],
   "source": [
    "article_full_entities_unique_counts = []\n",
    "article_full_entities_total_counts = []\n",
    "for e in list(gender_articles[\"article_full_entities\"]):\n",
    "    article_full_entities_unique_counts.append(len(e))\n",
    "    article_full_entities_total_counts.append(sum(e.values()))"
   ]
  },
  {
   "cell_type": "code",
   "execution_count": 56,
   "id": "8c55c898",
   "metadata": {},
   "outputs": [],
   "source": [
    "article_target_entities_total_counts = []\n",
    "for e in list(gender_articles[\"article_target_entities\"]):\n",
    "    article_target_entities_total_counts.append(sum(e.values()))"
   ]
  },
  {
   "cell_type": "code",
   "execution_count": 57,
   "id": "1400975c",
   "metadata": {},
   "outputs": [],
   "source": [
    "gender_articles[\"article_target_entities_total_counts\"] = article_target_entities_total_counts"
   ]
  },
  {
   "cell_type": "markdown",
   "id": "c7174cfd",
   "metadata": {},
   "source": [
    "## Check for connections\n",
    "\n",
    "* is there a relationship between density of these articles and the gender they are referring to?\n",
    "    * yes, t-test for total count of target entities in men vs women articles\n",
    "* what are the variances in word count / entity count between the genders?\n",
    "    * summary stats confirm that both genders have a high variance in word/entity count\n",
    "    * when looking at the longest/most-dense articles, overwhelming majority are about men"
   ]
  },
  {
   "cell_type": "code",
   "execution_count": 60,
   "id": "f5d0aba0",
   "metadata": {},
   "outputs": [],
   "source": [
    "men_articles = gender_articles[gender_articles['article_gender'] == 'Male']\n",
    "women_articles = gender_articles[gender_articles['article_gender']== 'Female']"
   ]
  },
  {
   "cell_type": "code",
   "execution_count": 62,
   "id": "8faf18b2",
   "metadata": {},
   "outputs": [
    {
     "name": "stdout",
     "output_type": "stream",
     "text": [
      "Welch's t-test for the average number of unique target entities in male vs. female pages reveals a t_stat of 1.8329017696258276 nad a p value of 0.06815079267063434\n",
      "We can ACCEPT the null hypothesis that these two averages are identical\n"
     ]
    }
   ],
   "source": [
    "t_stat, p = ttest_ind(list(men_articles[\"article_target_entities_total_counts\"]),\n",
    "                      list(women_articles[\"article_target_entities_total_counts\"]), equal_var = False)\n",
    "reject = \"REJECT\" if p <= 0.05 else \"ACCEPT\"\n",
    "\n",
    "if p < 0.001:\n",
    "    p = \"< .001\"\n",
    "\n",
    "print(f\"Welch's t-test for the total number of target entities in male vs. female pages reveals a t_stat of {t_stat} nad a p value of {p}\")\n",
    "print(f\"We can {reject} the null hypothesis that these two averages are identical\")\n",
    "if reject == \"REJECT\":\n",
    "    print(\"we conclude that these two averages are significantly different.\")"
   ]
  },
  {
   "cell_type": "code",
   "execution_count": 58,
   "id": "3af892d4",
   "metadata": {},
   "outputs": [
    {
     "data": {
      "text/html": [
       "<div>\n",
       "<style scoped>\n",
       "    .dataframe tbody tr th:only-of-type {\n",
       "        vertical-align: middle;\n",
       "    }\n",
       "\n",
       "    .dataframe tbody tr th {\n",
       "        vertical-align: top;\n",
       "    }\n",
       "\n",
       "    .dataframe thead tr th {\n",
       "        text-align: left;\n",
       "    }\n",
       "\n",
       "    .dataframe thead tr:last-of-type th {\n",
       "        text-align: right;\n",
       "    }\n",
       "</style>\n",
       "<table border=\"1\" class=\"dataframe\">\n",
       "  <thead>\n",
       "    <tr>\n",
       "      <th></th>\n",
       "      <th colspan=\"8\" halign=\"left\">article_word_count</th>\n",
       "      <th colspan=\"8\" halign=\"left\">article_target_entities_total_counts</th>\n",
       "    </tr>\n",
       "    <tr>\n",
       "      <th></th>\n",
       "      <th>count</th>\n",
       "      <th>mean</th>\n",
       "      <th>std</th>\n",
       "      <th>min</th>\n",
       "      <th>25%</th>\n",
       "      <th>50%</th>\n",
       "      <th>75%</th>\n",
       "      <th>max</th>\n",
       "      <th>count</th>\n",
       "      <th>mean</th>\n",
       "      <th>std</th>\n",
       "      <th>min</th>\n",
       "      <th>25%</th>\n",
       "      <th>50%</th>\n",
       "      <th>75%</th>\n",
       "      <th>max</th>\n",
       "    </tr>\n",
       "    <tr>\n",
       "      <th>article_gender</th>\n",
       "      <th></th>\n",
       "      <th></th>\n",
       "      <th></th>\n",
       "      <th></th>\n",
       "      <th></th>\n",
       "      <th></th>\n",
       "      <th></th>\n",
       "      <th></th>\n",
       "      <th></th>\n",
       "      <th></th>\n",
       "      <th></th>\n",
       "      <th></th>\n",
       "      <th></th>\n",
       "      <th></th>\n",
       "      <th></th>\n",
       "      <th></th>\n",
       "    </tr>\n",
       "  </thead>\n",
       "  <tbody>\n",
       "    <tr>\n",
       "      <th>Female</th>\n",
       "      <td>138.0</td>\n",
       "      <td>1559.927536</td>\n",
       "      <td>2855.21295</td>\n",
       "      <td>24.0</td>\n",
       "      <td>276.5</td>\n",
       "      <td>601.0</td>\n",
       "      <td>1261.75</td>\n",
       "      <td>15843.0</td>\n",
       "      <td>138.0</td>\n",
       "      <td>27.688406</td>\n",
       "      <td>46.019640</td>\n",
       "      <td>1.0</td>\n",
       "      <td>5.25</td>\n",
       "      <td>12.0</td>\n",
       "      <td>25.75</td>\n",
       "      <td>353.0</td>\n",
       "    </tr>\n",
       "    <tr>\n",
       "      <th>Male</th>\n",
       "      <td>731.0</td>\n",
       "      <td>1981.347469</td>\n",
       "      <td>2782.26011</td>\n",
       "      <td>17.0</td>\n",
       "      <td>411.0</td>\n",
       "      <td>897.0</td>\n",
       "      <td>2187.00</td>\n",
       "      <td>18307.0</td>\n",
       "      <td>731.0</td>\n",
       "      <td>35.829001</td>\n",
       "      <td>56.580015</td>\n",
       "      <td>1.0</td>\n",
       "      <td>8.00</td>\n",
       "      <td>17.0</td>\n",
       "      <td>38.50</td>\n",
       "      <td>572.0</td>\n",
       "    </tr>\n",
       "  </tbody>\n",
       "</table>\n",
       "</div>"
      ],
      "text/plain": [
       "               article_word_count                                        \\\n",
       "                            count         mean         std   min    25%   \n",
       "article_gender                                                            \n",
       "Female                      138.0  1559.927536  2855.21295  24.0  276.5   \n",
       "Male                        731.0  1981.347469  2782.26011  17.0  411.0   \n",
       "\n",
       "                                        article_target_entities_total_counts  \\\n",
       "                  50%      75%      max                                count   \n",
       "article_gender                                                                 \n",
       "Female          601.0  1261.75  15843.0                                138.0   \n",
       "Male            897.0  2187.00  18307.0                                731.0   \n",
       "\n",
       "                                                                     \n",
       "                     mean        std  min   25%   50%    75%    max  \n",
       "article_gender                                                       \n",
       "Female          27.688406  46.019640  1.0  5.25  12.0  25.75  353.0  \n",
       "Male            35.829001  56.580015  1.0  8.00  17.0  38.50  572.0  "
      ]
     },
     "execution_count": 58,
     "metadata": {},
     "output_type": "execute_result"
    }
   ],
   "source": [
    "# articles about men are denser,\n",
    "# with more words and more target entities on average\n",
    "gender_articles.groupby('article_gender')[['article_word_count', 'article_target_entities_total_counts']].describe()"
   ]
  },
  {
   "cell_type": "code",
   "execution_count": 67,
   "id": "1fe9331c",
   "metadata": {},
   "outputs": [],
   "source": [
    "t = gender_articles.sort_values(by=\"article_word_count\", ascending=False)"
   ]
  },
  {
   "cell_type": "code",
   "execution_count": 70,
   "id": "1294dd3e",
   "metadata": {},
   "outputs": [
    {
     "data": {
      "text/html": [
       "<div>\n",
       "<style scoped>\n",
       "    .dataframe tbody tr th:only-of-type {\n",
       "        vertical-align: middle;\n",
       "    }\n",
       "\n",
       "    .dataframe tbody tr th {\n",
       "        vertical-align: top;\n",
       "    }\n",
       "\n",
       "    .dataframe thead th {\n",
       "        text-align: right;\n",
       "    }\n",
       "</style>\n",
       "<table border=\"1\" class=\"dataframe\">\n",
       "  <thead>\n",
       "    <tr style=\"text-align: right;\">\n",
       "      <th></th>\n",
       "      <th>article_title</th>\n",
       "      <th>article_gender</th>\n",
       "    </tr>\n",
       "  </thead>\n",
       "  <tbody>\n",
       "    <tr>\n",
       "      <th>467</th>\n",
       "      <td>Vladimir Putin</td>\n",
       "      <td>Male</td>\n",
       "    </tr>\n",
       "    <tr>\n",
       "      <th>321</th>\n",
       "      <td>Augustin-Jean Fresnel</td>\n",
       "      <td>Male</td>\n",
       "    </tr>\n",
       "    <tr>\n",
       "      <th>846</th>\n",
       "      <td>Whitney Houston</td>\n",
       "      <td>Female</td>\n",
       "    </tr>\n",
       "    <tr>\n",
       "      <th>311</th>\n",
       "      <td>Benjamin Netanyahu</td>\n",
       "      <td>Male</td>\n",
       "    </tr>\n",
       "    <tr>\n",
       "      <th>139</th>\n",
       "      <td>Mariah Carey</td>\n",
       "      <td>Female</td>\n",
       "    </tr>\n",
       "    <tr>\n",
       "      <th>664</th>\n",
       "      <td>Mitt Romney</td>\n",
       "      <td>Male</td>\n",
       "    </tr>\n",
       "    <tr>\n",
       "      <th>850</th>\n",
       "      <td>Britney Spears</td>\n",
       "      <td>Female</td>\n",
       "    </tr>\n",
       "    <tr>\n",
       "      <th>299</th>\n",
       "      <td>Benjamin Fondane</td>\n",
       "      <td>Male</td>\n",
       "    </tr>\n",
       "    <tr>\n",
       "      <th>293</th>\n",
       "      <td>Otto von Bismarck</td>\n",
       "      <td>Male</td>\n",
       "    </tr>\n",
       "    <tr>\n",
       "      <th>164</th>\n",
       "      <td>Bill Clinton</td>\n",
       "      <td>Male</td>\n",
       "    </tr>\n",
       "  </tbody>\n",
       "</table>\n",
       "</div>"
      ],
      "text/plain": [
       "             article_title article_gender\n",
       "467         Vladimir Putin           Male\n",
       "321  Augustin-Jean Fresnel           Male\n",
       "846        Whitney Houston         Female\n",
       "311     Benjamin Netanyahu           Male\n",
       "139           Mariah Carey         Female\n",
       "664            Mitt Romney           Male\n",
       "850         Britney Spears         Female\n",
       "299       Benjamin Fondane           Male\n",
       "293      Otto von Bismarck           Male\n",
       "164           Bill Clinton           Male"
      ]
     },
     "execution_count": 70,
     "metadata": {},
     "output_type": "execute_result"
    }
   ],
   "source": [
    "# 7 of the top 10 longest articles were about men\n",
    "t[['article_title', 'article_gender']].head(10)"
   ]
  },
  {
   "cell_type": "code",
   "execution_count": 75,
   "id": "1e844dcc",
   "metadata": {},
   "outputs": [],
   "source": [
    "t2 = gender_articles.sort_values(by=\"article_target_entities_total_counts\", ascending=False)"
   ]
  },
  {
   "cell_type": "code",
   "execution_count": 76,
   "id": "934d6b9a",
   "metadata": {},
   "outputs": [
    {
     "data": {
      "text/html": [
       "<div>\n",
       "<style scoped>\n",
       "    .dataframe tbody tr th:only-of-type {\n",
       "        vertical-align: middle;\n",
       "    }\n",
       "\n",
       "    .dataframe tbody tr th {\n",
       "        vertical-align: top;\n",
       "    }\n",
       "\n",
       "    .dataframe thead th {\n",
       "        text-align: right;\n",
       "    }\n",
       "</style>\n",
       "<table border=\"1\" class=\"dataframe\">\n",
       "  <thead>\n",
       "    <tr style=\"text-align: right;\">\n",
       "      <th></th>\n",
       "      <th>article_title</th>\n",
       "      <th>article_gender</th>\n",
       "    </tr>\n",
       "  </thead>\n",
       "  <tbody>\n",
       "    <tr>\n",
       "      <th>467</th>\n",
       "      <td>Vladimir Putin</td>\n",
       "      <td>Male</td>\n",
       "    </tr>\n",
       "    <tr>\n",
       "      <th>81</th>\n",
       "      <td>Saladin</td>\n",
       "      <td>Male</td>\n",
       "    </tr>\n",
       "    <tr>\n",
       "      <th>293</th>\n",
       "      <td>Otto von Bismarck</td>\n",
       "      <td>Male</td>\n",
       "    </tr>\n",
       "    <tr>\n",
       "      <th>311</th>\n",
       "      <td>Benjamin Netanyahu</td>\n",
       "      <td>Male</td>\n",
       "    </tr>\n",
       "    <tr>\n",
       "      <th>42</th>\n",
       "      <td>Ludwig van Beethoven</td>\n",
       "      <td>Male</td>\n",
       "    </tr>\n",
       "    <tr>\n",
       "      <th>632</th>\n",
       "      <td>Eleanor Roosevelt</td>\n",
       "      <td>Female</td>\n",
       "    </tr>\n",
       "    <tr>\n",
       "      <th>256</th>\n",
       "      <td>Galileo Galilei</td>\n",
       "      <td>Male</td>\n",
       "    </tr>\n",
       "    <tr>\n",
       "      <th>170</th>\n",
       "      <td>Max Weber</td>\n",
       "      <td>Male</td>\n",
       "    </tr>\n",
       "    <tr>\n",
       "      <th>164</th>\n",
       "      <td>Bill Clinton</td>\n",
       "      <td>Male</td>\n",
       "    </tr>\n",
       "    <tr>\n",
       "      <th>299</th>\n",
       "      <td>Benjamin Fondane</td>\n",
       "      <td>Male</td>\n",
       "    </tr>\n",
       "  </tbody>\n",
       "</table>\n",
       "</div>"
      ],
      "text/plain": [
       "            article_title article_gender\n",
       "467        Vladimir Putin           Male\n",
       "81                Saladin           Male\n",
       "293     Otto von Bismarck           Male\n",
       "311    Benjamin Netanyahu           Male\n",
       "42   Ludwig van Beethoven           Male\n",
       "632     Eleanor Roosevelt         Female\n",
       "256       Galileo Galilei           Male\n",
       "170             Max Weber           Male\n",
       "164          Bill Clinton           Male\n",
       "299      Benjamin Fondane           Male"
      ]
     },
     "execution_count": 76,
     "metadata": {},
     "output_type": "execute_result"
    }
   ],
   "source": [
    "# 9 out of the 10 \"densest\" (by target entities) were male subjects.\n",
    "t2[['article_title', 'article_gender']].head(10)"
   ]
  },
  {
   "cell_type": "code",
   "execution_count": 91,
   "id": "e310bdf2",
   "metadata": {},
   "outputs": [],
   "source": [
    "d = gender_articles.groupby('article_gender')['article_target_entities_total_counts'].describe()['mean'].reset_index()\n",
    "standard_errors = gender_articles.groupby(['article_gender']).sem()['article_target_entities_total_counts']\n",
    "d['standard_errors'] = standard_errors.to_dict().values()"
   ]
  },
  {
   "cell_type": "code",
   "execution_count": 94,
   "id": "5b863157",
   "metadata": {},
   "outputs": [
    {
     "data": {
      "image/png": "[encoded data removed]",
      "text/plain": [
       "<Figure size 432x288 with 1 Axes>"
      ]
     },
     "metadata": {
      "needs_background": "light"
     },
     "output_type": "display_data"
    }
   ],
   "source": [
    "plt.barh(\"article_gender\", \"mean\", data=d)\n",
    "\n",
    "plt.suptitle(\"How much information is in Gender Entity pages?\")\n",
    "plt.xlabel(\"Average Number of Target Entity Usages\")\n",
    "plt.ylabel(\"Gender of Article Subject\")\n",
    "plt.errorbar(x=d[\"mean\"], y=d[\"article_gender\"], xerr=d[\"standard_errors\"], fmt=\"none\", color=\"black\")\n",
    "\n",
    "txt = \"counts from scraping en-Wikipedia pages about our data's people entities (n=869)\"\n",
    "plt.figtext(0.5, -0.05, txt, wrap=True, horizontalalignment=\"center\", fontsize=10)\n",
    "\n",
    "# display the plot\n",
    "plt.show()"
   ]
  }
 ],
 "metadata": {
  "kernelspec": {
   "display_name": "Python [conda env:anlp] *",
   "language": "python",
   "name": "conda-env-anlp-py"
  },
  "language_info": {
   "codemirror_mode": {
    "name": "ipython",
    "version": 3
   },
   "file_extension": ".py",
   "mimetype": "text/x-python",
   "name": "python",
   "nbconvert_exporter": "python",
   "pygments_lexer": "ipython3",
   "version": "3.8.8"
  }
 },
 "nbformat": 4,
 "nbformat_minor": 5
}
