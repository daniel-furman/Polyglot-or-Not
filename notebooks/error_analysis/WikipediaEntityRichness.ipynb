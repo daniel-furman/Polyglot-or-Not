{
 "cells": [
  {
   "cell_type": "code",
   "execution_count": 3,
   "id": "deb5d201",
   "metadata": {},
   "outputs": [],
   "source": [
    "import pandas as pd\n",
    "import glob\n",
    "import numpy as np\n",
    "import matplotlib.pyplot as plt\n",
    "\n",
    "import os\n",
    "import json\n",
    "\n",
    "from scipy.stats import linregress\n",
    "from scipy.stats import f_oneway\n",
    "from scipy.stats import ttest_ind"
   ]
  },
  {
   "cell_type": "markdown",
   "id": "af69c907",
   "metadata": {},
   "source": [
    "## Load Data"
   ]
  },
  {
   "cell_type": "code",
   "execution_count": 2,
   "id": "532eaa0d",
   "metadata": {},
   "outputs": [],
   "source": [
    "entity_richness_df = pd.read_csv(\n",
    "    \"../../data/wikidata/wikipedia-entity-richness-10k-samples.csv\"\n",
    ")"
   ]
  },
  {
   "cell_type": "code",
   "execution_count": 27,
   "id": "957c138d",
   "metadata": {},
   "outputs": [
    {
     "data": {
      "text/html": [
       "<div>\n",
       "<style scoped>\n",
       "    .dataframe tbody tr th:only-of-type {\n",
       "        vertical-align: middle;\n",
       "    }\n",
       "\n",
       "    .dataframe tbody tr th {\n",
       "        vertical-align: top;\n",
       "    }\n",
       "\n",
       "    .dataframe thead th {\n",
       "        text-align: right;\n",
       "    }\n",
       "</style>\n",
       "<table border=\"1\" class=\"dataframe\">\n",
       "  <thead>\n",
       "    <tr style=\"text-align: right;\">\n",
       "      <th></th>\n",
       "      <th>code</th>\n",
       "      <th>lang</th>\n",
       "      <th>average_words</th>\n",
       "      <th>average_total_entities</th>\n",
       "      <th>average_unique_entities</th>\n",
       "      <th>average_total_target_entities</th>\n",
       "      <th>average_unique_target_entities</th>\n",
       "      <th>language_script</th>\n",
       "      <th>language_family</th>\n",
       "      <th>LLama_score</th>\n",
       "    </tr>\n",
       "  </thead>\n",
       "  <tbody>\n",
       "    <tr>\n",
       "      <th>0</th>\n",
       "      <td>ca:</td>\n",
       "      <td>Catalan</td>\n",
       "      <td>386.4352</td>\n",
       "      <td>26.5070</td>\n",
       "      <td>19.5319</td>\n",
       "      <td>3.8204</td>\n",
       "      <td>2.3064</td>\n",
       "      <td>Latin</td>\n",
       "      <td>Romance</td>\n",
       "      <td>84.01</td>\n",
       "    </tr>\n",
       "    <tr>\n",
       "      <th>1</th>\n",
       "      <td>da:</td>\n",
       "      <td>Danish</td>\n",
       "      <td>255.7695</td>\n",
       "      <td>22.7107</td>\n",
       "      <td>16.8970</td>\n",
       "      <td>3.2939</td>\n",
       "      <td>2.0761</td>\n",
       "      <td>Latin</td>\n",
       "      <td>Germanic</td>\n",
       "      <td>81.79</td>\n",
       "    </tr>\n",
       "    <tr>\n",
       "      <th>2</th>\n",
       "      <td>de:</td>\n",
       "      <td>German</td>\n",
       "      <td>418.5911</td>\n",
       "      <td>40.9469</td>\n",
       "      <td>30.4609</td>\n",
       "      <td>3.9036</td>\n",
       "      <td>2.4097</td>\n",
       "      <td>Latin</td>\n",
       "      <td>Germanic</td>\n",
       "      <td>85.74</td>\n",
       "    </tr>\n",
       "    <tr>\n",
       "      <th>3</th>\n",
       "      <td>en:</td>\n",
       "      <td>English</td>\n",
       "      <td>463.1478</td>\n",
       "      <td>70.1181</td>\n",
       "      <td>50.1902</td>\n",
       "      <td>6.8614</td>\n",
       "      <td>3.6812</td>\n",
       "      <td>latin</td>\n",
       "      <td>Germanic</td>\n",
       "      <td>89.40</td>\n",
       "    </tr>\n",
       "    <tr>\n",
       "      <th>4</th>\n",
       "      <td>es:</td>\n",
       "      <td>Spanish</td>\n",
       "      <td>470.5506</td>\n",
       "      <td>33.0414</td>\n",
       "      <td>23.8025</td>\n",
       "      <td>4.2502</td>\n",
       "      <td>2.4056</td>\n",
       "      <td>Latin</td>\n",
       "      <td>Romance</td>\n",
       "      <td>81.74</td>\n",
       "    </tr>\n",
       "    <tr>\n",
       "      <th>5</th>\n",
       "      <td>fr:</td>\n",
       "      <td>French</td>\n",
       "      <td>491.9274</td>\n",
       "      <td>36.8189</td>\n",
       "      <td>26.2652</td>\n",
       "      <td>4.4849</td>\n",
       "      <td>2.5791</td>\n",
       "      <td>Latin</td>\n",
       "      <td>Romance</td>\n",
       "      <td>84.18</td>\n",
       "    </tr>\n",
       "    <tr>\n",
       "      <th>6</th>\n",
       "      <td>hr:</td>\n",
       "      <td>Croatian</td>\n",
       "      <td>273.2872</td>\n",
       "      <td>24.9753</td>\n",
       "      <td>19.6839</td>\n",
       "      <td>0.8701</td>\n",
       "      <td>0.5975</td>\n",
       "      <td>Latin</td>\n",
       "      <td>Slavic</td>\n",
       "      <td>76.69</td>\n",
       "    </tr>\n",
       "    <tr>\n",
       "      <th>7</th>\n",
       "      <td>it:</td>\n",
       "      <td>Italian</td>\n",
       "      <td>391.6706</td>\n",
       "      <td>31.0902</td>\n",
       "      <td>21.5230</td>\n",
       "      <td>3.9515</td>\n",
       "      <td>2.2414</td>\n",
       "      <td>Latin</td>\n",
       "      <td>Romance</td>\n",
       "      <td>84.39</td>\n",
       "    </tr>\n",
       "    <tr>\n",
       "      <th>8</th>\n",
       "      <td>nl:</td>\n",
       "      <td>Dutch</td>\n",
       "      <td>156.5349</td>\n",
       "      <td>25.2445</td>\n",
       "      <td>19.7739</td>\n",
       "      <td>1.8523</td>\n",
       "      <td>1.2847</td>\n",
       "      <td>Latin</td>\n",
       "      <td>Germanic</td>\n",
       "      <td>85.35</td>\n",
       "    </tr>\n",
       "    <tr>\n",
       "      <th>9</th>\n",
       "      <td>pl:</td>\n",
       "      <td>Polish</td>\n",
       "      <td>214.2879</td>\n",
       "      <td>32.7062</td>\n",
       "      <td>25.7368</td>\n",
       "      <td>0.8957</td>\n",
       "      <td>0.5988</td>\n",
       "      <td>Latin</td>\n",
       "      <td>Slavic</td>\n",
       "      <td>77.50</td>\n",
       "    </tr>\n",
       "    <tr>\n",
       "      <th>10</th>\n",
       "      <td>pt:</td>\n",
       "      <td>Portuguese</td>\n",
       "      <td>320.4374</td>\n",
       "      <td>24.9513</td>\n",
       "      <td>17.8573</td>\n",
       "      <td>3.5956</td>\n",
       "      <td>2.1765</td>\n",
       "      <td>Latin</td>\n",
       "      <td>Romance</td>\n",
       "      <td>83.81</td>\n",
       "    </tr>\n",
       "    <tr>\n",
       "      <th>11</th>\n",
       "      <td>ro:</td>\n",
       "      <td>Romanian</td>\n",
       "      <td>231.1006</td>\n",
       "      <td>42.7232</td>\n",
       "      <td>33.6824</td>\n",
       "      <td>2.3910</td>\n",
       "      <td>1.6158</td>\n",
       "      <td>Latin</td>\n",
       "      <td>Romance</td>\n",
       "      <td>82.72</td>\n",
       "    </tr>\n",
       "    <tr>\n",
       "      <th>12</th>\n",
       "      <td>ru:</td>\n",
       "      <td>Russian</td>\n",
       "      <td>382.8360</td>\n",
       "      <td>35.7028</td>\n",
       "      <td>26.3572</td>\n",
       "      <td>0.8568</td>\n",
       "      <td>0.5799</td>\n",
       "      <td>Cyrillic</td>\n",
       "      <td>Slavic</td>\n",
       "      <td>69.72</td>\n",
       "    </tr>\n",
       "    <tr>\n",
       "      <th>13</th>\n",
       "      <td>sv:</td>\n",
       "      <td>Swedish</td>\n",
       "      <td>95.0300</td>\n",
       "      <td>9.3638</td>\n",
       "      <td>7.4199</td>\n",
       "      <td>1.2957</td>\n",
       "      <td>0.9476</td>\n",
       "      <td>Latin</td>\n",
       "      <td>Germanic</td>\n",
       "      <td>84.06</td>\n",
       "    </tr>\n",
       "    <tr>\n",
       "      <th>14</th>\n",
       "      <td>uk:</td>\n",
       "      <td>Ukrainian</td>\n",
       "      <td>283.6425</td>\n",
       "      <td>25.3170</td>\n",
       "      <td>19.8953</td>\n",
       "      <td>1.2068</td>\n",
       "      <td>0.7938</td>\n",
       "      <td>Cyrillic</td>\n",
       "      <td>Slavic</td>\n",
       "      <td>73.00</td>\n",
       "    </tr>\n",
       "  </tbody>\n",
       "</table>\n",
       "</div>"
      ],
      "text/plain": [
       "   code        lang  average_words  average_total_entities  \\\n",
       "0   ca:     Catalan       386.4352                 26.5070   \n",
       "1   da:      Danish       255.7695                 22.7107   \n",
       "2   de:      German       418.5911                 40.9469   \n",
       "3   en:     English       463.1478                 70.1181   \n",
       "4   es:     Spanish       470.5506                 33.0414   \n",
       "5   fr:      French       491.9274                 36.8189   \n",
       "6   hr:    Croatian       273.2872                 24.9753   \n",
       "7   it:     Italian       391.6706                 31.0902   \n",
       "8   nl:       Dutch       156.5349                 25.2445   \n",
       "9   pl:      Polish       214.2879                 32.7062   \n",
       "10  pt:  Portuguese       320.4374                 24.9513   \n",
       "11  ro:    Romanian       231.1006                 42.7232   \n",
       "12  ru:     Russian       382.8360                 35.7028   \n",
       "13  sv:     Swedish        95.0300                  9.3638   \n",
       "14  uk:   Ukrainian       283.6425                 25.3170   \n",
       "\n",
       "    average_unique_entities  average_total_target_entities  \\\n",
       "0                   19.5319                         3.8204   \n",
       "1                   16.8970                         3.2939   \n",
       "2                   30.4609                         3.9036   \n",
       "3                   50.1902                         6.8614   \n",
       "4                   23.8025                         4.2502   \n",
       "5                   26.2652                         4.4849   \n",
       "6                   19.6839                         0.8701   \n",
       "7                   21.5230                         3.9515   \n",
       "8                   19.7739                         1.8523   \n",
       "9                   25.7368                         0.8957   \n",
       "10                  17.8573                         3.5956   \n",
       "11                  33.6824                         2.3910   \n",
       "12                  26.3572                         0.8568   \n",
       "13                   7.4199                         1.2957   \n",
       "14                  19.8953                         1.2068   \n",
       "\n",
       "    average_unique_target_entities language_script language_family  \\\n",
       "0                           2.3064           Latin         Romance   \n",
       "1                           2.0761           Latin        Germanic   \n",
       "2                           2.4097           Latin        Germanic   \n",
       "3                           3.6812           latin        Germanic   \n",
       "4                           2.4056           Latin         Romance   \n",
       "5                           2.5791           Latin         Romance   \n",
       "6                           0.5975           Latin          Slavic   \n",
       "7                           2.2414           Latin         Romance   \n",
       "8                           1.2847           Latin        Germanic   \n",
       "9                           0.5988           Latin          Slavic   \n",
       "10                          2.1765           Latin         Romance   \n",
       "11                          1.6158           Latin         Romance   \n",
       "12                          0.5799        Cyrillic          Slavic   \n",
       "13                          0.9476           Latin        Germanic   \n",
       "14                          0.7938        Cyrillic          Slavic   \n",
       "\n",
       "    LLama_score  \n",
       "0         84.01  \n",
       "1         81.79  \n",
       "2         85.74  \n",
       "3         89.40  \n",
       "4         81.74  \n",
       "5         84.18  \n",
       "6         76.69  \n",
       "7         84.39  \n",
       "8         85.35  \n",
       "9         77.50  \n",
       "10        83.81  \n",
       "11        82.72  \n",
       "12        69.72  \n",
       "13        84.06  \n",
       "14        73.00  "
      ]
     },
     "execution_count": 27,
     "metadata": {},
     "output_type": "execute_result"
    }
   ],
   "source": [
    "entity_richness_df"
   ]
  },
  {
   "cell_type": "markdown",
   "id": "b12919af",
   "metadata": {},
   "source": [
    "## Check relationship between score and stats from wikipedia sampling"
   ]
  },
  {
   "cell_type": "code",
   "execution_count": 4,
   "id": "da6aa32b",
   "metadata": {},
   "outputs": [
    {
     "data": {
      "text/plain": [
       "0.14916100054162695"
      ]
     },
     "execution_count": 4,
     "metadata": {},
     "output_type": "execute_result"
    }
   ],
   "source": [
    "entity_richness_df[\"average_words\"].corr(entity_richness_df[\"LLama_score\"])"
   ]
  },
  {
   "cell_type": "code",
   "execution_count": 5,
   "id": "1c4d06c9",
   "metadata": {},
   "outputs": [
    {
     "data": {
      "text/plain": [
       "0.2968840398609711"
      ]
     },
     "execution_count": 5,
     "metadata": {},
     "output_type": "execute_result"
    }
   ],
   "source": [
    "entity_richness_df[\"average_total_entities\"].corr(entity_richness_df[\"LLama_score\"])"
   ]
  },
  {
   "cell_type": "code",
   "execution_count": 7,
   "id": "74b975f2",
   "metadata": {},
   "outputs": [
    {
     "data": {
      "text/plain": [
       "0.2578993602132841"
      ]
     },
     "execution_count": 7,
     "metadata": {},
     "output_type": "execute_result"
    }
   ],
   "source": [
    "entity_richness_df[\"average_unique_entities\"].corr(entity_richness_df[\"LLama_score\"])"
   ]
  },
  {
   "cell_type": "code",
   "execution_count": 6,
   "id": "4e26deab",
   "metadata": {},
   "outputs": [
    {
     "data": {
      "text/plain": [
       "0.7423438496782907"
      ]
     },
     "execution_count": 6,
     "metadata": {},
     "output_type": "execute_result"
    }
   ],
   "source": [
    "entity_richness_df[\"average_total_target_entities\"].corr(\n",
    "    entity_richness_df[\"LLama_score\"]\n",
    ")"
   ]
  },
  {
   "cell_type": "code",
   "execution_count": 8,
   "id": "a000bd63",
   "metadata": {},
   "outputs": [
    {
     "data": {
      "text/plain": [
       "0.7771119983978775"
      ]
     },
     "execution_count": 8,
     "metadata": {},
     "output_type": "execute_result"
    }
   ],
   "source": [
    "entity_richness_df[\"average_unique_target_entities\"].corr(\n",
    "    entity_richness_df[\"LLama_score\"]\n",
    ")"
   ]
  },
  {
   "cell_type": "code",
   "execution_count": 17,
   "id": "f27f46da",
   "metadata": {},
   "outputs": [
    {
     "data": {
      "image/png": "[encoded data removed]",
      "text/plain": [
       "<Figure size 432x288 with 1 Axes>"
      ]
     },
     "metadata": {
      "needs_background": "light"
     },
     "output_type": "display_data"
    }
   ],
   "source": [
    "# create the graph\n",
    "\n",
    "plt.title(\"Correlation between Accuracy and Unique Target Entities on Wikipedia\")\n",
    "plt.scatter(\n",
    "    entity_richness_df[\"LLama_score\"],\n",
    "    entity_richness_df[\"average_unique_target_entities\"],\n",
    "    facecolors=\"none\",\n",
    "    edgecolors=\"none\",\n",
    ")\n",
    "\n",
    "plt.xlabel(\"Accuracy Percentage on CKA\")\n",
    "plt.ylabel(\"Average Target Entities per Article\")\n",
    "\n",
    "# plt.yticks(range(0, max(stats[\"June_2022_article_count\"]) + 500000, 500000))\n",
    "\n",
    "# add trendline\n",
    "slope, intercept, r_value, p_value, std_err = linregress(\n",
    "    entity_richness_df[\"LLama_score\"],\n",
    "    entity_richness_df[\"average_unique_target_entities\"],\n",
    ")\n",
    "plt.plot(\n",
    "    entity_richness_df[\"LLama_score\"],\n",
    "    intercept + slope * entity_richness_df[\"LLama_score\"],\n",
    "    \"b\",\n",
    ")\n",
    "\n",
    "# add legend with r-squared value\n",
    "r_squared = r_value**2\n",
    "plt.annotate(\n",
    "    \"R-squared = {:.2f}\".format(r_squared), xy=(0.05, 0.9), xycoords=\"axes fraction\"\n",
    ")\n",
    "\n",
    "for i, txt in enumerate(entity_richness_df[\"code\"]):\n",
    "    plt.annotate(\n",
    "        txt[:-1],\n",
    "        (\n",
    "            entity_richness_df[\"LLama_score\"][i],\n",
    "            entity_richness_df[\"average_unique_target_entities\"][i],\n",
    "        ),\n",
    "        ha=\"center\",\n",
    "    )\n",
    "\n",
    "plt.show()"
   ]
  },
  {
   "cell_type": "markdown",
   "id": "4b771fd6",
   "metadata": {},
   "source": [
    "## Other Summary Findings"
   ]
  },
  {
   "cell_type": "code",
   "execution_count": 24,
   "id": "08ba7b40",
   "metadata": {},
   "outputs": [
    {
     "name": "stdout",
     "output_type": "stream",
     "text": [
      "ca: wikipedia averages an entity every 14.58 words.\n",
      "da: wikipedia averages an entity every 11.26 words.\n",
      "de: wikipedia averages an entity every 10.22 words.\n",
      "en: wikipedia averages an entity every 6.61 words.\n",
      "es: wikipedia averages an entity every 14.24 words.\n",
      "fr: wikipedia averages an entity every 13.36 words.\n",
      "hr: wikipedia averages an entity every 10.94 words.\n",
      "it: wikipedia averages an entity every 12.6 words.\n",
      "nl: wikipedia averages an entity every 6.2 words.\n",
      "pl: wikipedia averages an entity every 6.55 words.\n",
      "pt: wikipedia averages an entity every 12.84 words.\n",
      "ro: wikipedia averages an entity every 5.41 words.\n",
      "ru: wikipedia averages an entity every 10.72 words.\n",
      "sv: wikipedia averages an entity every 10.15 words.\n",
      "uk: wikipedia averages an entity every 11.2 words.\n"
     ]
    }
   ],
   "source": [
    "entities_per_word = np.round(\n",
    "    list(\n",
    "        entity_richness_df[\"average_words\"]\n",
    "        / entity_richness_df[\"average_total_entities\"]\n",
    "    ),\n",
    "    2,\n",
    ")\n",
    "for i, code in enumerate(list(entity_richness_df[\"code\"])):\n",
    "    print(f\"{code} wikipedia averages an entity every {entities_per_word[i]} words.\")"
   ]
  },
  {
   "cell_type": "code",
   "execution_count": 26,
   "id": "d09913bc",
   "metadata": {},
   "outputs": [
    {
     "name": "stdout",
     "output_type": "stream",
     "text": [
      "ca: wikipedia averages a target entity every 101.15 words.\n",
      "da: wikipedia averages a target entity every 77.65 words.\n",
      "de: wikipedia averages a target entity every 107.23 words.\n",
      "en: wikipedia averages a target entity every 67.5 words.\n",
      "es: wikipedia averages a target entity every 110.71 words.\n",
      "fr: wikipedia averages a target entity every 109.69 words.\n",
      "hr: wikipedia averages a target entity every 314.09 words.\n",
      "it: wikipedia averages a target entity every 99.12 words.\n",
      "nl: wikipedia averages a target entity every 84.51 words.\n",
      "pl: wikipedia averages a target entity every 239.24 words.\n",
      "pt: wikipedia averages a target entity every 89.12 words.\n",
      "ro: wikipedia averages a target entity every 96.65 words.\n",
      "ru: wikipedia averages a target entity every 446.82 words.\n",
      "sv: wikipedia averages a target entity every 73.34 words.\n",
      "uk: wikipedia averages a target entity every 235.04 words.\n"
     ]
    }
   ],
   "source": [
    "target_entities_per_word = np.round(\n",
    "    list(\n",
    "        entity_richness_df[\"average_words\"]\n",
    "        / entity_richness_df[\"average_total_target_entities\"]\n",
    "    ),\n",
    "    2,\n",
    ")\n",
    "for i, code in enumerate(list(entity_richness_df[\"code\"])):\n",
    "    print(\n",
    "        f\"{code} wikipedia averages a target entity every {target_entities_per_word[i]} words.\"\n",
    "    )"
   ]
  },
  {
   "cell_type": "markdown",
   "id": "87d2eac2",
   "metadata": {},
   "source": [
    "## What is the most common target entity per language?"
   ]
  },
  {
   "cell_type": "code",
   "execution_count": 37,
   "id": "84acbff4",
   "metadata": {},
   "outputs": [],
   "source": [
    "CODE_TO_LANG_DICT = {\n",
    "    \"bg\": \"Bulgarian\",\n",
    "    \"ca\": \"Catalan\",\n",
    "    \"cs\": \"Czech\",\n",
    "    \"da\": \"Danish\",\n",
    "    \"de\": \"German\",\n",
    "    \"en\": \"English\",\n",
    "    \"es\": \"Spanish\",\n",
    "    \"fr\": \"French\",\n",
    "    \"hr\": \"Croatian\",\n",
    "    \"hu\": \"Hungarian\",\n",
    "    \"it\": \"Italian\",\n",
    "    \"nl\": \"Dutch\",\n",
    "    \"pl\": \"Polish\",\n",
    "    \"pt\": \"Portuguese\",\n",
    "    \"ro\": \"Romanian\",\n",
    "    \"ru\": \"Russian\",\n",
    "    \"sl\": \"Slovenian\",\n",
    "    \"sr\": \"Serbian\",\n",
    "    \"sv\": \"Swedish\",\n",
    "    \"uk\": \"Ukrainian\",\n",
    "}"
   ]
  },
  {
   "cell_type": "code",
   "execution_count": 43,
   "id": "6f3308ab",
   "metadata": {},
   "outputs": [
    {
     "name": "stdout",
     "output_type": "stream",
     "text": [
      "Parsing ro-10000-wiki-entity-counts-2023-05-02-01h-07m-48s.json for Romanian\n",
      "Parsing hr-10000-wiki-entity-counts-2023-05-01-23h-33m-17s.json for Croatian\n",
      "Parsing it-10000-wiki-entity-counts-2023-05-02-00h-51m-37s.json for Italian\n",
      "Parsing de-10000-wiki-entity-counts-2023-05-01-23h-32m-14s.json for German\n",
      "Parsing da-10000-wiki-entity-counts-2023-05-01-20h-21m-35s.json for Danish\n",
      "Parsing en-10000-wiki-entity-counts-2023-05-01-21h-18m-42s.json for English\n",
      "Parsing pt-10000-wiki-entity-counts-2023-05-02-01h-28m-20s.json for Portuguese\n",
      "Parsing es-10000-wiki-entity-counts-2023-05-01-21h-27m-54s.json for Spanish\n",
      "Parsing sv-10000-wiki-entity-counts-2023-05-02-02h-27m-51s.json for Swedish\n",
      "Parsing fr-10000-wiki-entity-counts-2023-05-01-22h-53m-39s.json for French\n",
      "Parsing ru-10000-wiki-entity-counts-2023-05-01-22h-32m-21s.json for Russian\n",
      "Parsing nl-10000-wiki-entity-counts-2023-05-02-00h-38m-58s.json for Dutch\n",
      "Parsing ca-10000-wiki-entity-counts-2023-05-01-22h-50m-18s.json for Catalan\n",
      "Parsing uk-10000-wiki-entity-counts-2023-05-02-02h-51m-15s.json for Ukrainian\n",
      "Parsing pl-10000-wiki-entity-counts-2023-05-02-01h-21m-37s.json for Polish\n"
     ]
    },
    {
     "data": {
      "text/plain": [
       "(150000, 5)"
      ]
     },
     "execution_count": 43,
     "metadata": {},
     "output_type": "execute_result"
    }
   ],
   "source": [
    "# read in our log files\n",
    "d = \"../../data/wikidata/wiki_entity_logs\"\n",
    "article_titles_schedule = []\n",
    "article_full_entities_schedule = []\n",
    "article_target_entities_schedule = []\n",
    "article_target_entity_unique_counts_schedule = []\n",
    "langs = []\n",
    "for filename in os.listdir(\"../../data/wikidata/wiki_entity_logs\"):\n",
    "    with open(os.path.join(d, filename), \"r\") as f:\n",
    "        lang_code = filename[:2]\n",
    "        print(f\"Parsing {filename} for {CODE_TO_LANG_DICT[lang_code]}\")\n",
    "        data = json.load(f)\n",
    "\n",
    "        for k, v in data.items():\n",
    "            if v == False:\n",
    "                print(\"No data for line_item {k}\")\n",
    "                continue\n",
    "            article_info = v\n",
    "            article_title = article_info[\"article_title\"]\n",
    "            article_id = article_info[\"article_id\"]\n",
    "            article_full_entities = article_info[\"article_full_entities\"]\n",
    "            article_target_entities = article_info[\"article_target_entities\"]\n",
    "            article_target_entities_unique_counts = article_info[\n",
    "                \"article_target_entities_uniques\"\n",
    "            ]\n",
    "\n",
    "            article_titles_schedule.append(article_title + \"_\" + lang_code)\n",
    "            article_full_entities_schedule.append(article_full_entities)\n",
    "            article_target_entities_schedule.append(article_target_entities)\n",
    "            article_target_entity_unique_counts_schedule.append(\n",
    "                article_target_entities_unique_counts\n",
    "            )\n",
    "            langs.append(lang_code)\n",
    "\n",
    "articles_df = pd.DataFrame(\n",
    "    {\n",
    "        \"article_title\": article_titles_schedule,\n",
    "        \"article_full_entities\": article_full_entities_schedule,\n",
    "        \"article_target_entities\": article_target_entities_schedule,\n",
    "        \"article_target_entity_unique_counts\": article_target_entity_unique_counts_schedule,\n",
    "        \"lang_code\": langs,\n",
    "    }\n",
    ")\n",
    "\n",
    "articles_df.shape"
   ]
  },
  {
   "cell_type": "code",
   "execution_count": 44,
   "id": "79ee2923",
   "metadata": {},
   "outputs": [
    {
     "data": {
      "text/html": [
       "<div>\n",
       "<style scoped>\n",
       "    .dataframe tbody tr th:only-of-type {\n",
       "        vertical-align: middle;\n",
       "    }\n",
       "\n",
       "    .dataframe tbody tr th {\n",
       "        vertical-align: top;\n",
       "    }\n",
       "\n",
       "    .dataframe thead th {\n",
       "        text-align: right;\n",
       "    }\n",
       "</style>\n",
       "<table border=\"1\" class=\"dataframe\">\n",
       "  <thead>\n",
       "    <tr style=\"text-align: right;\">\n",
       "      <th></th>\n",
       "      <th>article_title</th>\n",
       "      <th>article_full_entities</th>\n",
       "      <th>article_target_entities</th>\n",
       "      <th>article_target_entity_unique_counts</th>\n",
       "      <th>lang_code</th>\n",
       "    </tr>\n",
       "  </thead>\n",
       "  <tbody>\n",
       "    <tr>\n",
       "      <th>0</th>\n",
       "      <td>Vespasian Erbiceanu_ro</td>\n",
       "      <td>{'Vespasian Erbiceanu___PERSON': 1, '30 noiemb...</td>\n",
       "      <td>{'Romania': 1}</td>\n",
       "      <td>1</td>\n",
       "      <td>ro</td>\n",
       "    </tr>\n",
       "    <tr>\n",
       "      <th>1</th>\n",
       "      <td>Râul Șișterea_ro</td>\n",
       "      <td>{'Râul Șișterea___LOC': 1, 'râului Valea Viței...</td>\n",
       "      <td>{}</td>\n",
       "      <td>0</td>\n",
       "      <td>ro</td>\n",
       "    </tr>\n",
       "    <tr>\n",
       "      <th>2</th>\n",
       "      <td>Biserica de lemn din Piscuri_ro</td>\n",
       "      <td>{'Biserica de lemn___FACILITY': 1, 'Piscuri___...</td>\n",
       "      <td>{}</td>\n",
       "      <td>0</td>\n",
       "      <td>ro</td>\n",
       "    </tr>\n",
       "    <tr>\n",
       "      <th>3</th>\n",
       "      <td>Gopo 2022_ro</td>\n",
       "      <td>{'XVI___NUMERIC_VALUE': 1, 'Premiilor Gopo___E...</td>\n",
       "      <td>{}</td>\n",
       "      <td>0</td>\n",
       "      <td>ro</td>\n",
       "    </tr>\n",
       "    <tr>\n",
       "      <th>4</th>\n",
       "      <td>French Open 2023_ro</td>\n",
       "      <td>{'Turneul de tenis___EVENT': 1, 'Roland Garros...</td>\n",
       "      <td>{'Paris': 1}</td>\n",
       "      <td>1</td>\n",
       "      <td>ro</td>\n",
       "    </tr>\n",
       "  </tbody>\n",
       "</table>\n",
       "</div>"
      ],
      "text/plain": [
       "                     article_title  \\\n",
       "0           Vespasian Erbiceanu_ro   \n",
       "1                 Râul Șișterea_ro   \n",
       "2  Biserica de lemn din Piscuri_ro   \n",
       "3                     Gopo 2022_ro   \n",
       "4              French Open 2023_ro   \n",
       "\n",
       "                               article_full_entities article_target_entities  \\\n",
       "0  {'Vespasian Erbiceanu___PERSON': 1, '30 noiemb...          {'Romania': 1}   \n",
       "1  {'Râul Șișterea___LOC': 1, 'râului Valea Viței...                      {}   \n",
       "2  {'Biserica de lemn___FACILITY': 1, 'Piscuri___...                      {}   \n",
       "3  {'XVI___NUMERIC_VALUE': 1, 'Premiilor Gopo___E...                      {}   \n",
       "4  {'Turneul de tenis___EVENT': 1, 'Roland Garros...            {'Paris': 1}   \n",
       "\n",
       "   article_target_entity_unique_counts lang_code  \n",
       "0                                    1        ro  \n",
       "1                                    0        ro  \n",
       "2                                    0        ro  \n",
       "3                                    0        ro  \n",
       "4                                    1        ro  "
      ]
     },
     "execution_count": 44,
     "metadata": {},
     "output_type": "execute_result"
    }
   ],
   "source": [
    "articles_df.head()"
   ]
  },
  {
   "cell_type": "code",
   "execution_count": null,
   "id": "51ee97f2",
   "metadata": {},
   "outputs": [],
   "source": [
    "# most common entity per language"
   ]
  },
  {
   "cell_type": "markdown",
   "id": "96759067",
   "metadata": {},
   "source": [
    "## ANOVA for target entities\n",
    "\n",
    "* e.g. for every language we would want, the counts of unique target entities"
   ]
  },
  {
   "cell_type": "code",
   "execution_count": 45,
   "id": "9c604c15",
   "metadata": {},
   "outputs": [],
   "source": [
    "code_to_counts = {}\n",
    "for code in set(list(articles_df[\"lang_code\"])):\n",
    "    code_to_counts[code] = list(\n",
    "        articles_df[articles_df[\"lang_code\"] == code][\n",
    "            \"article_target_entity_unique_counts\"\n",
    "        ]\n",
    "    )"
   ]
  },
  {
   "cell_type": "code",
   "execution_count": 47,
   "id": "31695c8e",
   "metadata": {},
   "outputs": [],
   "source": [
    "assert len(code_to_counts) == len(set(list(articles_df[\"lang_code\"])))"
   ]
  },
  {
   "cell_type": "code",
   "execution_count": 58,
   "id": "fdf2626f",
   "metadata": {},
   "outputs": [
    {
     "name": "stdout",
     "output_type": "stream",
     "text": [
      "For unique target entity appearances, we see an f-statistic of 639.8929741386522 and a p-value of < .001.\n",
      "We can REJECT the null hypothesis none of the average target entity unique values are significantly different.\n"
     ]
    }
   ],
   "source": [
    "# perform one-way ANOVA test\n",
    "f_statistic, p_value = f_oneway(*code_to_counts.values())\n",
    "\n",
    "reject = \"REJECT\" if p_value <= 0.05 else \"ACCEPT\"\n",
    "\n",
    "if p_value < 0.001:\n",
    "    p_value = \"< .001\"\n",
    "\n",
    "\n",
    "print(\n",
    "    f\"For unique target entity appearances, we see an f-statistic of {f_statistic} and a p-value of {p_value}.\"\n",
    ")\n",
    "\n",
    "print(\n",
    "    f\"We can {reject} the null hypothesis none of the target entity unique values are significantly different.\"\n",
    ")"
   ]
  },
  {
   "cell_type": "markdown",
   "id": "c5a5f449",
   "metadata": {},
   "source": [
    "## t-test for unique target entities\n",
    "\n",
    "* for every language we would want, the average of unique target entities"
   ]
  },
  {
   "cell_type": "code",
   "execution_count": null,
   "id": "aa5befd7",
   "metadata": {},
   "outputs": [],
   "source": [
    "# perform t-test\n",
    "\n",
    "t_statistic, p_value = t_testind(list(entity_richness_df['article_target_entity_unique_counts']))\n",
    "\n",
    "reject = \"REJECT\" if p_value <= 0.05 else \"ACCEPT\"\n",
    "\n",
    "if p_value < 0.001:\n",
    "    p_value = \"< .001\"\n",
    "\n",
    "\n",
    "print(\n",
    "    f\"For unique target entity appearances, we see a t-statistic of {t_statistic} and a p-value of {p_value}.\"\n",
    ")\n",
    "\n",
    "print(\n",
    "    f\"We can {reject} the null hypothesis none of the average target entity unique values are significantly different.\"\n",
    ")"
   ]
  }
 ],
 "metadata": {
  "kernelspec": {
   "display_name": "Python [conda env:anlp] *",
   "language": "python",
   "name": "conda-env-anlp-py"
  },
  "language_info": {
   "codemirror_mode": {
    "name": "ipython",
    "version": 3
   },
   "file_extension": ".py",
   "mimetype": "text/x-python",
   "name": "python",
   "nbconvert_exporter": "python",
   "pygments_lexer": "ipython3",
   "version": "3.8.8"
  }
 },
 "nbformat": 4,
 "nbformat_minor": 5
}
