{
 "cells": [
  {
   "cell_type": "code",
   "execution_count": 2,
   "id": "6d6cc611",
   "metadata": {},
   "outputs": [],
   "source": [
    "import pandas as pd\n",
    "import numpy as np\n",
    "import matplotlib.pyplot as plt\n",
    "\n",
    "import json\n",
    "from json import JSONDecodeError\n",
    "import urllib.parse\n",
    "import urllib.request\n",
    "\n",
    "from argparse import Namespace\n",
    "import os\n",
    "\n",
    "from datetime import datetime\n",
    "import time\n",
    "import tqdm\n",
    "\n",
    "import re\n",
    "from ftfy import fix_text\n",
    "from string import punctuation"
   ]
  },
  {
   "cell_type": "code",
   "execution_count": 8,
   "id": "1b73a95d",
   "metadata": {},
   "outputs": [
    {
     "name": "stdout",
     "output_type": "stream",
     "text": [
      "{'article_title': 'Египетско-суданские отношения', 'article_id': 5482412, 'article_word_count': 767, 'article_full_entities': {'Египтом___LOC': 5, 'Суданом___LOC': 2, 'ИсторияЕгипет___LOC': 1, 'Судан___PER': 11, 'Египта___LOC': 12, 'Великобритании___LOC': 2, 'Анвара Садата___PER': 1, 'Израилем___LOC': 1, 'Судана___LOC': 11, 'Джафар Мухаммед Нимейри___PER': 2, 'Египте___LOC': 2, 'Соединенные Штаты Америки___LOC': 1, 'Хосни Мубарак___PER': 2, 'Джафару Нимейри___PER': 1, 'Судане___LOC': 2, 'Соединенных Штатов Америки___LOC': 1, 'Каир___LOC': 3, 'Джафара Мухаммеда Нимейри___PER': 1, 'Совета командования революции национального спасения___ORG': 1, 'Омар аль-Башир___PER': 2, 'Египет___LOC': 8, 'Ахмеда Али аль-Миргани___PER': 1, 'Национальный демократический альянс___ORG': 1, 'Ахмед Али аль-Миргани___PER': 1, 'Джафар Нимейри___PER': 1, 'Каире___LOC': 2, 'Совет командования революции национального спасения___ORG': 1, 'Национального исламского фронта___ORG': 1, 'Народной армии освобождения___ORG': 1, 'Суданом___PER': 2, 'Асуанскую плотину___LOC': 1, 'Советом командования революции национального спасения___ORG': 1, 'Ирака___LOC': 1, 'Хартум___LOC': 1, 'Халаиба___LOC': 1, 'Треугольника Халаиба___PER': 2, 'Эр-Риядом___LOC': 1, 'Саудовской Аравии___LOC': 2, 'Красном море___LOC': 1, 'Тирана___LOC': 1, 'Санафира___LOC': 1, 'Треугольником Халаиба___LOC': 1, 'Организацию Объединённых Наций___ORG': 1, 'Саудовской Аравией___LOC': 1, 'Треугольник Халаиба___PER': 1, 'Каира___LOC': 1, 'Турция___LOC': 1, 'ОАЭ___LOC': 1, 'Эритрее___LOC': 2, 'Эритреей___LOC': 1, 'Хартум___PER': 1, 'США___LOC': 4, 'Судан___LOC': 1}, 'article_full_entities_counts': 112, 'article_full_entities_uniques': 53, 'article_target_entities': {'Cairo': 3, 'Turkey': 1, 'Sudan': 1}, 'article_target_entities_counts': 5, 'article_target_entities_uniques': 3}\n",
      "====\n",
      "\n",
      "{'article_title': 'Байдыев, Санджи-Ара Лиджиевич', 'article_id': 5482412, 'article_word_count': 226, 'article_full_entities': {'Санжара___LOC': 1, 'Лиджи́евич Байды́ев___PER': 1, 'Джакуевка___LOC': 1, 'Приволжский район___LOC': 1, 'Калмыцкая АО___LOC': 1, 'РСФСР___LOC': 1, 'Элиста___LOC': 1, 'Калмыкия___LOC': 1, 'Россия___LOC': 1, 'Союза писателей___ORG': 1, 'России___LOC': 1, 'БиографияСанджи-Ара Байдыев___PER': 1, 'калмыков___PER': 1, 'Сибирь___LOC': 1, 'Санджи-Ара Байдыев___LOC': 1, 'Союз журналистов___ORG': 1, 'СССР___LOC': 1, 'М. Горького___PER': 1, 'Санджи-Ара Байдыев___PER': 2, 'Хальмг үнн___ORG': 1, 'Хасыром Сян-Белгином___PER': 1, 'Ивана Крылова___PER': 1, 'В. Маяковского___PER': 1, 'Е. Евтушенко___PER': 1, 'Элисте___LOC': 1, 'Элиста___PER': 4, 'ИсточникДжимгиров М. Э.___PER': 1, 'Калмыкии___LOC': 1, 'Санжара Лиджиевич___PER': 2, 'Wayback Machine___ORG': 2, 'Байдыев___PER': 1}, 'article_full_entities_counts': 37, 'article_full_entities_uniques': 31, 'article_target_entities': {'Russia': 1, 'Russian SFSR': 1}, 'article_target_entities_counts': 2, 'article_target_entities_uniques': 2}\n",
      "====\n",
      "\n",
      "{'article_title': 'Сквежина', 'article_id': 5482412, 'article_word_count': 51, 'article_full_entities': {'Польше___LOC': 1, 'Любушское воеводство___LOC': 1, 'Мендзыжечский повят___LOC': 1, 'Иоганн Готфрид___PER': 1}, 'article_full_entities_counts': 4, 'article_full_entities_uniques': 4, 'article_target_entities': {}, 'article_target_entities_counts': 0, 'article_target_entities_uniques': 0}\n",
      "====\n",
      "\n",
      "{'article_title': 'Чемпионат мира по баскетболу 2019. Группа N', 'article_id': 5482412, 'article_word_count': 111, 'article_full_entities': {'Леспортс-центр___ORG': 1, 'Пекине___LOC': 1, 'ИранТунис___ORG': 1, 'Филиппины5-й турТунис___ORG': 1, 'АнголаИран___ORG': 1}, 'article_full_entities_counts': 5, 'article_full_entities_uniques': 5, 'article_target_entities': {}, 'article_target_entities_counts': 0, 'article_target_entities_uniques': 0}\n",
      "====\n",
      "\n",
      "{'article_title': 'Олимпийский комитет Молдавии', 'article_id': 5482412, 'article_word_count': 56, 'article_full_entities': {'Национальный олимпийский комитет___ORG': 1, 'Республики Молдова___LOC': 1, 'Молдавию___LOC': 1, 'МОК___ORG': 2, 'Кишинёве___LOC': 1, 'ЕОК___ORG': 1, 'Молдавии___LOC': 1}, 'article_full_entities_counts': 8, 'article_full_entities_uniques': 7, 'article_target_entities': {}, 'article_target_entities_counts': 0, 'article_target_entities_uniques': 0}\n",
      "====\n",
      "\n",
      "{'article_title': 'Gran Turismo (фильм, 2023)', 'article_id': 5482412, 'article_word_count': 409, 'article_full_entities': {'Нилом Бломкампом___PER': 1, 'Джейсона Холла___PER': 1, 'Зака Бейлина___PER': 1, 'PlayStation Productions___ORG': 2, 'Trigger Street Productions___ORG': 1, 'Polyphony Digital___ORG': 2, 'Арчи Мадекве___PER': 2, 'Дэвид Харбор___PER': 2, 'Дэррен Барнет___PER': 2, 'Томас Кречманн___PER': 2, 'Джимон Хонсу___PER': 2, 'Орландо Блум___PER': 2, 'Джери Халлиуэлл___PER': 1, 'Майкл Де Лука___PER': 1, 'Дана Брунетти___PER': 1, 'Алекса Тсе___PER': 1, 'Джозеф Косински___PER': 1, 'Джон___PER': 1, 'Эрих Хобер___PER': 1, 'Косински___PER': 1, 'Бломкамп___PER': 1, 'Венгрии___LOC': 2, 'Sony Pictures Releasing___ORG': 1, 'Мадекве___LOC': 1, 'Янн Марденборо___LOC': 1, 'Джек Солтер Орландо Блум___PER': 1, 'Дэнни Мур Дэррен Барнет Джимон Хонсу___PER': 1, 'Стив Марденборо Джери Халлиуэлл___PER': 1, 'Янна Дэниел Пуйг___PER': 1, 'Янна Джоша Страдовски Томас___PER': 1, 'Sony Pictures___ORG': 1, 'Нил Бломкамп___PER': 1, 'Джейсоном Холлом___PER': 1, 'Sony___ORG': 1, 'Дэвидом Харбором___PER': 1, 'GT Academy___ORG': 1, 'Джери Халлиуэлл-Хорнер___PER': 1, 'Дэниел Пуйг___PER': 1, 'Джоша Страдовски___PER': 1, 'Мейв Куртье-Лилли___PER': 1, 'Эмилия Хартфорд___PER': 1, 'Пепе Баррозу___PER': 1, 'Санг Хон Ли___PER': 1, 'Макс Мундт___PER': 1, 'Мариано Гонсалес___PER': 1, 'Харки Бхамбра___PER': 1, 'Линдси Паттисон___PER': 1, 'Тео Кристин___PER': 1, 'Нихил Пармар___PER': 1, 'Жак Жуффре___PER': 1, 'МузыкаВ___ORG': 1, 'Стивен Бартон___PER': 1}, 'article_full_entities_counts': 61, 'article_full_entities_uniques': 52, 'article_target_entities': {}, 'article_target_entities_counts': 0, 'article_target_entities_uniques': 0}\n",
      "====\n",
      "\n",
      "{'article_title': 'Языки Монако', 'article_id': 5482412, 'article_word_count': 247, 'article_full_entities': {'Монако___LOC': 8, 'Франции___LOC': 1, 'Альбер II___PER': 1, 'Италии___LOC': 1, 'Гримальди___PER': 1, 'Королевства Сардиния___LOC': 1, 'Монако Каролина___PER': 1, 'Андреа___PER': 1, 'Шарлотта___PER': 1, 'Пьер___PER': 1, 'АнглийскийВ___LOC': 1, 'Великобритании___LOC': 1, 'США___LOC': 1, 'Грейс Келли___PER': 1, 'Ренье III___PER': 1, 'Альбера II___PER': 2, 'Шарлен___PER': 1, 'Южной Родезии___LOC': 1, 'Зимбабве___LOC': 1}, 'article_full_entities_counts': 27, 'article_full_entities_uniques': 19, 'article_target_entities': {}, 'article_target_entities_counts': 0, 'article_target_entities_uniques': 0}\n",
      "====\n",
      "\n",
      "{'article_title': 'Посёлок совхоза «Маяк»', 'article_id': 5482412, 'article_word_count': 19, 'article_full_entities': {'Петропавловском районе___LOC': 1, 'Воронежской области___LOC': 1, 'Краснофлотского сельского поселения___LOC': 1, 'ГеографияУлицыул___PER': 1}, 'article_full_entities_counts': 4, 'article_full_entities_uniques': 4, 'article_target_entities': {}, 'article_target_entities_counts': 0, 'article_target_entities_uniques': 0}\n",
      "====\n",
      "\n",
      "{'article_title': 'Драгош, Йиржи', 'article_id': 5482412, 'article_word_count': 361, 'article_full_entities': {'Йиржи Драгош___PER': 1, 'Яблунков___PER': 1, 'Чехословакия___LOC': 1, 'Чески-Тешин___LOC': 1, 'Академии наук___ORG': 2, 'Чешской Республики___LOC': 1, 'Чехии___LOC': 5, 'БиографияРодился___PER': 1, 'Яблункове___LOC': 1, 'Высшую школу химической технологии___ORG': 1, 'Праге___LOC': 1, 'Драгош___LOC': 2, 'Чехословацкой академии наук___ORG': 1, 'Института основ химического процесса___ORG': 1, 'Фонда Александра фон Гумбольдта___ORG': 1, 'Ганноверском университете___ORG': 1, 'Европейскую федерацию по химической технологии___ORG': 1, 'Словацкого технического университета___ORG': 1, 'Братиславе___LOC': 1, 'Чешской пиратской партии___ORG': 1, 'TOP 09___ORG': 2, 'ODS___ORG': 1, 'KDU-ČSL___ORG': 2, 'Партии зелёных___ORG': 2, 'Павел Фишер___PER': 2, 'Михал Горачек___PER': 1, 'Марек Гилшер___PER': 2, 'Мирек Тополанек___PER': 1, 'Вратислав Кулганек___PER': 1, 'Милошу Земану___PER': 1, 'Иржи Драгош___PER': 2, 'Сенат___ORG': 1, 'Прага___LOC': 1, 'STAN___ORG': 2, 'Сената___ORG': 2}, 'article_full_entities_counts': 49, 'article_full_entities_uniques': 35, 'article_target_entities': {'Prague': 1}, 'article_target_entities_counts': 1, 'article_target_entities_uniques': 1}\n",
      "====\n",
      "\n",
      "{'article_title': 'Фрунзенская', 'article_id': 5482412, 'article_word_count': 93, 'article_full_entities': {'Фрунзенская___ORG': 3, 'Московского метрополитена___ORG': 2, 'Сокольнической___LOC': 2, 'Петербургского метрополитена___ORG': 1, 'Минского метрополитена___ORG': 1, 'Автозаводской___LOC': 1, 'МосквеФрунзенская набережная Фрунзенская улица___LOC': 1, 'Фру́нзенская улица___LOC': 1, 'Хамовники___LOC': 1, 'Москве___LOC': 2, 'ТЭЦ-12___ORG': 1, 'Фрунзенская область___LOC': 1, 'Чуйской области___LOC': 1, 'Киргизской Республики___LOC': 1}, 'article_full_entities_counts': 19, 'article_full_entities_uniques': 14, 'article_target_entities': {}, 'article_target_entities_counts': 0, 'article_target_entities_uniques': 0}\n",
      "====\n",
      "\n",
      "{'article_title': 'Псориатический артрит', 'article_id': 5482412, 'article_word_count': 501, 'article_full_entities': {'ПсА___ORG': 3, 'ФНО-α___ORG': 1, 'СASPAR___ORG': 1, 'Рейтера___PER': 1}, 'article_full_entities_counts': 6, 'article_full_entities_uniques': 4, 'article_target_entities': {}, 'article_target_entities_counts': 0, 'article_target_entities_uniques': 0}\n",
      "====\n",
      "\n",
      "{'article_title': 'Шишигино', 'article_id': 5482412, 'article_word_count': 63, 'article_full_entities': {'Шишигино___LOC': 1, 'Чердынском районе___LOC': 1, 'Пермского края___LOC': 1, 'Усть-Урольского сельского поселения___LOC': 1, 'Кама___LOC': 1, 'Курган___LOC': 1, 'Чердынь___LOC': 1, 'Центральная ул.Топографические___ORG': 1}, 'article_full_entities_counts': 8, 'article_full_entities_uniques': 8, 'article_target_entities': {}, 'article_target_entities_counts': 0, 'article_target_entities_uniques': 0}\n",
      "====\n",
      "\n",
      "{'article_title': 'Небо и земля', 'article_id': 5482412, 'article_word_count': 68, 'article_full_entities': {'Небо___PER': 1, 'Небо___LOC': 6, 'Земля___LOC': 1, 'Филиппа Киркорова___PER': 1}, 'article_full_entities_counts': 9, 'article_full_entities_uniques': 4, 'article_target_entities': {}, 'article_target_entities_counts': 0, 'article_target_entities_uniques': 0}\n",
      "====\n",
      "\n",
      "{'article_title': 'Берингер', 'article_id': 5482412, 'article_word_count': 57, 'article_full_entities': {'Берингер___PER': 4, 'Бёрингер___PER': 2, 'Behringer___ORG': 2, 'Фолькер___PER': 1, 'Оскар___PER': 1, 'Иоганн___PER': 1, 'Вюрцбургском университете___ORG': 1, 'Мелани___PER': 1, 'Ingelheim___ORG': 1}, 'article_full_entities_counts': 14, 'article_full_entities_uniques': 9, 'article_target_entities': {}, 'article_target_entities_counts': 0, 'article_target_entities_uniques': 0}\n",
      "====\n",
      "\n",
      "{'article_title': 'Дуань-цзун (династия Сун)', 'article_id': 5482412, 'article_word_count': 199, 'article_full_entities': {'Дуань-цзун___LOC': 1, '端宗___ORG': 1, 'Чжао Ши___PER': 3, 'Южная Сун___LOC': 1, 'Сун___LOC': 1, 'Минь Сяо-хуанди___PER': 1, 'Чжао___PER': 1, 'Ду-цзуна___PER': 1, 'Цзи___PER': 1, 'И.___PER': 1, 'Баяном___PER': 1, 'Линьань___LOC': 1, 'Ханчжоу___LOC': 1, 'Фучжоу___LOC': 1, 'Гун-цзуна___PER': 1, 'Дуань-цзуна___PER': 1, 'Лу Сюфу___PER': 1, 'Китая___LOC': 1, 'Фуцзянь___LOC': 1, 'Гуанчжоу___LOC': 1, 'Гуандун___LOC': 1, 'Дуань-цзуну___PER': 1, 'Ганчжоу___LOC': 1, 'Лантау___LOC': 1, 'Чжао Бин___PER': 1}, 'article_full_entities_counts': 27, 'article_full_entities_uniques': 25, 'article_target_entities': {}, 'article_target_entities_counts': 0, 'article_target_entities_uniques': 0}\n",
      "====\n",
      "\n",
      "{'article_title': 'Лывжа (блюдо)', 'article_id': 5482412, 'article_word_count': 68, 'article_full_entities': {'Лывжа___PER': 1, 'лывжа___PER': 1}, 'article_full_entities_counts': 2, 'article_full_entities_uniques': 2, 'article_target_entities': {}, 'article_target_entities_counts': 0, 'article_target_entities_uniques': 0}\n",
      "====\n",
      "\n",
      "{'article_title': 'Летизи, Лионель', 'article_id': 5482412, 'article_word_count': 355, 'article_full_entities': {'Лионе́ль Летизи́___PER': 1, 'Ницца___LOC': 1, 'Франции___LOC': 7, 'Алена Летизи___PER': 1, 'Ницце___ORG': 1, 'Меце___ORG': 1, 'Пари Сен-Жермен___ORG': 1, 'Микаеля Ландро___PER': 1, 'Летизи___PER': 6, 'Рейнджерс___ORG': 1, 'Аллану Макгрегору___PER': 1, 'Поль Ле Гуэн___PER': 1, 'Лионель___PER': 1, 'Ниццу___ORG': 1, 'Уго Льориса___PER': 1, 'Льориса___PER': 1, 'Олимпик___ORG': 1, 'Давид Оспина___PER': 1, 'Карьера___PER': 1, 'Португалии___LOC': 1, 'ЮАР___LOC': 1, 'России___LOC': 1, 'Камеруна___LOC': 1, 'Испании___LOC': 1, 'Дивизиона___PER': 1}, 'article_full_entities_counts': 36, 'article_full_entities_uniques': 25, 'article_target_entities': {}, 'article_target_entities_counts': 0, 'article_target_entities_uniques': 0}\n",
      "====\n",
      "\n",
      "{'article_title': 'Гюльбенкян, Галуст', 'article_id': 5482412, 'article_word_count': 2409, 'article_full_entities': {'Կիւլպէնկեան___LOC': 1, 'Константинополь___LOC': 2, 'Османская империя___LOC': 1, 'Лиссабон___LOC': 3, 'Португалия___LOC': 1, 'Turkish Petroleum Company___ORG': 5, 'Iraq Petroleum Company___ORG': 2, 'Ближнем Востоке___LOC': 1, 'Саудовской Аравии___LOC': 1, 'Гюльбенкян___PER': 18, 'Европе___LOC': 3, 'России___LOC': 2, 'Эрмитажа___ORG': 3, 'Гюльбенкяна___PER': 12, 'Рштуни___PER': 1, 'Ванского озера___LOC': 1, 'Кайсери___LOC': 1, 'Бадрик___PER': 1, 'Талас___LOC': 1, 'Таласе___LOC': 1, 'Константинополе___LOC': 1, 'Ускюдар___LOC': 1, 'Саркиса Гюльбенкяна___PER': 1, 'Османскую империю___LOC': 1, 'Кавказе___LOC': 1, 'Баку___LOC': 2, 'А. И. Манташев___PER': 1, 'Арамян-Унчян___LOC': 1, 'Кары___LOC': 1, 'Сен-Жозеф___LOC': 1, 'Стамбуле___LOC': 1, 'Гюльбенкяном___PER': 2, 'Галуст___PER': 4, 'Марселе___LOC': 1, 'Кингс-колледже___ORG': 1, 'Лондона___LOC': 3, 'Revue des Deux Mondes___ORG': 1, 'Апшерон___LOC': 1, \"La Transcaucasie et la péninsule d'Apchéron: souvenirs de voyage___ORG\": 1, 'Османской империи___LOC': 4, 'Акопа Казазян-пашу___PER': 1, 'Месопотамии___LOC': 3, 'Багдадской железной дороги___ORG': 1, 'Османской империи___ORG': 1, 'Галуста Гюльбенкяна___PER': 4, 'Лондон___LOC': 3, 'Нвард Есаян___PER': 1, 'Нубар Саркис___PER': 1, 'Абдул-Хамидом II___PER': 1, 'Галуста___PER': 2, 'Египет___LOC': 1, 'Каире___LOC': 1, 'А. И. Манташевым___PER': 1, 'Манташева___PER': 1, 'Каира___LOC': 1, 'Ивлин Бэринг___PER': 1, 'Турецкого национального банка___ORG': 1, 'Галуст Гюльбенкян___PER': 6, 'Париже___LOC': 5, 'Лондоне___LOC': 4, 'Гюльбенкяну___PER': 3, 'Ближнем___LOC': 1, 'Среднем Востоке___LOC': 2, 'Рита Сирвард___PER': 1, 'США___LOC': 2, 'Среднего Востока___LOC': 1, 'Royal Dutch Petroleum Company___ORG': 1, 'Shell Transport and Trading Company Ltd___ORG': 1, 'Royal Dutch Shell___ORG': 3, 'Великобритании___LOC': 1, 'учреждённого___PER': 1, 'Национального банка___ORG': 1, 'Турции___LOC': 3, 'Германии___LOC': 1, 'Востоке___LOC': 1, 'Англо-персидская нефтяная компания___ORG': 1, 'Гюльбекяну___PER': 1, 'Comite General du Petrol___ORG': 1, 'Deutsche Bank___ORG': 1, 'Сирию___LOC': 1, 'Ливан___LOC': 1, 'Ирак___LOC': 1, 'Баба-Гургур близь___LOC': 1, 'Киркук___LOC': 1, 'Anglo-Persian Company___ORG': 1, 'British Petroleum___ORG': 1, 'Royal Dutch Shell Group___ORG': 1, 'Compagnie Française des Pétroles___ORG': 1, 'Total___ORG': 1, 'Near East Development Corporation___ORG': 1, 'ExxonMobil___ORG': 1, 'Галустом Гюльбенкяном___PER': 1, 'Ближнего Востока___LOC': 1, 'Arabian-American Oil Company___ORG': 1, 'Панаме___LOC': 1, 'Франции___LOC': 2, 'Галустом Гульбенкяном___PER': 1, 'Виши___PER': 1, 'Португалии___LOC': 2, 'Йены___LOC': 1, 'Интересен___PER': 1, 'Геворк Есаян___PER': 1, 'Сталиным___PER': 1, 'Советской Россией___LOC': 1, 'Г. Л. Пятаков___PER': 1, 'Юдифь___ORG': 1, 'Джорджоне___PER': 1, 'Рембрандта___PER': 1, 'Персей и Андромеда___ORG': 1, 'Рубенса___PER': 1, 'Эрмитаже___ORG': 1, 'Анастасом Микояном___PER': 1, 'Лиссабоне___LOC': 4, 'Британскому музею___ORG': 1, 'Национальную Галерею___LOC': 1, 'Америку___LOC': 1, 'Национальному музею искусств___ORG': 1, 'Помбалa___PER': 1, 'Оэйраш___LOC': 2, 'МеценатВ___ORG': 1, 'Сурб Минас___PER': 1, 'Эчмиадзинского монастыря___ORG': 1, 'Нубарашен___LOC': 1, 'Новая Кесария___LOC': 1, 'Еревана___LOC': 1, 'ВАБС___ORG': 1, 'Библиотеку армянской патриархии___ORG': 1, 'Иерусалиме___LOC': 1, 'Патриархии___LOC': 1, 'Етигуле___LOC': 1, 'Сурб-Пркич (Спасителя___LOC': 1, 'Председателя___PER': 1, 'Всеобщего армянского благотворительного Союза___ORG': 1, 'Ливана___LOC': 1, 'Сирии___LOC': 2, 'Ирака___LOC': 1, 'Иордании___LOC': 1, 'Ираке___LOC': 1, 'Ливане___LOC': 2, 'Триполи___LOC': 1, 'Багдаде___LOC': 1, 'Киркуке___LOC': 1, 'Публичная библиотека фонда___ORG': 1, 'Академия наук___ORG': 1, 'Левана___LOC': 1, 'Гюльбенкяновский культурный центр___ORG': 1, 'Галуст Гюльбенкян___ORG': 1, 'Армянское отделение___ORG': 1, 'Диаспоры___LOC': 1, 'Армении___LOC': 2, 'Греции___LOC': 1, 'Италии___LOC': 1, 'Южной Америки___LOC': 1, 'Матенадарана___LOC': 1, 'Армянского отделения___ORG': 1, 'Гюльбенкяна Продажа___PER': 1}, 'article_full_entities_counts': 244, 'article_full_entities_uniques': 156, 'article_target_entities': {'Portugal': 1, 'Baku': 2, 'Lebanon': 1, 'Tripoli': 1, 'Iraq': 1, 'Lisbon': 3}, 'article_target_entities_counts': 9, 'article_target_entities_uniques': 6}\n",
      "====\n",
      "\n",
      "{'article_title': 'Климов, Евгений', 'article_id': 5482412, 'article_word_count': 54, 'article_full_entities': {'Климов___PER': 6, 'Евгений Александрович___PER': 3, 'Евгений Дмитриевич___PER': 1, 'Евгений Евгеньевич___PER': 1, 'Евгений Юрьевич___PER': 1}, 'article_full_entities_counts': 12, 'article_full_entities_uniques': 5, 'article_target_entities': {}, 'article_target_entities_counts': 0, 'article_target_entities_uniques': 0}\n",
      "====\n",
      "\n",
      "{'article_title': 'Партридж, Тедди', 'article_id': 5482412, 'article_word_count': 160, 'article_full_entities': {'Э́двард Ву́лдридж Па́ртридж___PER': 1, 'Edward Wooldridge Partridge___ORG': 1, 'Те́дди Па́ртридж___PER': 1, 'Лайте___LOC': 1, 'Вустершир___LOC': 1, 'Эббу Вейл___ORG': 1, 'Партридж___PER': 1, 'Манчестер Юнайтед___ORG': 3, 'Олдем Атлетик___ORG': 1, 'Олд Траффорд___ORG': 1, 'Брэдфорд Парк Авеню___ORG': 1, 'Юнайтед___ORG': 1, 'Галифакс Таун___ORG': 1, 'Манчестер Сентрал___ORG': 1, 'Олтрингем___ORG': 1}, 'article_full_entities_counts': 17, 'article_full_entities_uniques': 15, 'article_target_entities': {}, 'article_target_entities_counts': 0, 'article_target_entities_uniques': 0}\n",
      "====\n",
      "\n"
     ]
    }
   ],
   "source": [
    "f = open(\"ru-20-wiki-entity-counts-2023-05-01-18h-53m-52s.json\")\n",
    "\n",
    "data = json.load(f)\n",
    "\n",
    "for k, v in data.items():\n",
    "    print(v)\n",
    "    print(\"====\\n\")"
   ]
  },
  {
   "cell_type": "code",
   "execution_count": null,
   "id": "637c6bc0",
   "metadata": {},
   "outputs": [],
   "source": []
  }
 ],
 "metadata": {
  "kernelspec": {
   "display_name": "Python [conda env:anlp] *",
   "language": "python",
   "name": "conda-env-anlp-py"
  },
  "language_info": {
   "codemirror_mode": {
    "name": "ipython",
    "version": 3
   },
   "file_extension": ".py",
   "mimetype": "text/x-python",
   "name": "python",
   "nbconvert_exporter": "python",
   "pygments_lexer": "ipython3",
   "version": "3.8.8"
  }
 },
 "nbformat": 4,
 "nbformat_minor": 5
}
