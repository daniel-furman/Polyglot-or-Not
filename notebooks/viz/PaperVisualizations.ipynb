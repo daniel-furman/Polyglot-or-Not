{
 "cells": [
  {
   "cell_type": "code",
   "execution_count": 1,
   "id": "0d298f07",
   "metadata": {},
   "outputs": [],
   "source": [
    "import matplotlib.pyplot as plt\n",
    "import numpy as np"
   ]
  },
  {
   "cell_type": "code",
   "execution_count": 21,
   "id": "f56b6d7c",
   "metadata": {},
   "outputs": [
    {
     "data": {
      "image/png": "[encoded data removed]",
      "text/plain": [
       "<Figure size 432x288 with 1 Axes>"
      ]
     },
     "metadata": {
      "needs_background": "light"
     },
     "output_type": "display_data"
    }
   ],
   "source": [
    "langs = [\n",
    "    \"English\",\n",
    "    \"French\",\n",
    "    \"German\",\n",
    "    \"Russian\",\n",
    "]\n",
    "langs.reverse()\n",
    "\n",
    "llama_perf = [89.4, 80, 77, 68]\n",
    "llama_perf.reverse()\n",
    "bloom_perf = [76.16, 72, 70, 61]\n",
    "bloom_perf.reverse()\n",
    "mbert_perf = [71.8, 70, 68, 60]\n",
    "mbert_perf.reverse()\n",
    "\n",
    "# Define colors for each bar\n",
    "colors = [\"#3b7cec\", \"pink\", \"#2ca14c\"]\n",
    "\n",
    "# Set the width of each bar\n",
    "bar_width = 0.25\n",
    "\n",
    "# Create an array for the positions of the bars\n",
    "index = np.arange(len(langs))\n",
    "\n",
    "# Plot horizontal bars for each language with separate bars for each model\n",
    "plt.barh(\n",
    "    index + bar_width, llama_perf, height=bar_width, color=colors[0], label=\"llama\"\n",
    ")\n",
    "plt.barh(index, bloom_perf, height=bar_width, color=colors[1], label=\"bloom\")\n",
    "plt.barh(\n",
    "    index - bar_width, mbert_perf, height=bar_width, color=colors[2], label=\"m-bert\"\n",
    ")\n",
    "\n",
    "# Set labels and title\n",
    "# plt.xlabel(\"Performance\")\n",
    "# plt.ylabel(\"Language\")\n",
    "# plt.title(\"Horizontal Bar Chart with 3 Bars per Language\")\n",
    "\n",
    "plt.xlim(0)\n",
    "\n",
    "# Set y-ticks to display language labels\n",
    "plt.yticks(index, langs)\n",
    "\n",
    "# Add legend\n",
    "plt.legend(loc=\"center left\", bbox_to_anchor=(1, 0.5))\n",
    "\n",
    "# Save plot\n",
    "plt.savefig(\"h_bar_plot.png\", dpi=500)\n",
    "\n",
    "# Show plot\n",
    "plt.show()"
   ]
  },
  {
   "cell_type": "code",
   "execution_count": 77,
   "id": "e7c8932e",
   "metadata": {},
   "outputs": [
    {
     "data": {
      "image/png": "[encoded data removed]",
      "text/plain": [
       "<Figure size 432x288 with 1 Axes>"
      ]
     },
     "metadata": {
      "needs_background": "light"
     },
     "output_type": "display_data"
    }
   ],
   "source": [
    "import matplotlib.pyplot as plt\n",
    "import matplotlib.colors as mcolors\n",
    "import numpy as np\n",
    "\n",
    "langs = [\"English\", \"French\", \"German\", \"Russian\", \"Spanish\"]\n",
    "llama_perf = [89, 80, 77, 68, 75]\n",
    "bloom_perf = [76, 72, 70, 61, 70]\n",
    "mbert_perf = [59, 55, 51, 50, 44]\n",
    "\n",
    "# Create colormap with custom colors\n",
    "colors = [\"#A0C8FF\", \"#689EFF\", \"#4169E1\", \"#1034A6\", \"#000063\"]\n",
    "cmap = mcolors.ListedColormap(colors)\n",
    "bounds = [40, 50, 60, 70, 80, 90, 100]  # Update bounds to include lower bound\n",
    "norm = plt.Normalize(vmin=min(bounds), vmax=max(bounds))\n",
    "\n",
    "# Create figure and axes\n",
    "fig, ax = plt.subplots()\n",
    "\n",
    "# Create heatmap\n",
    "im = ax.imshow(np.array([llama_perf, bloom_perf, mbert_perf]).T, cmap=cmap, norm=norm)\n",
    "\n",
    "# Add solid borders between squares\n",
    "for i in range(len(langs)):\n",
    "    for j in range(3):\n",
    "        ax.add_patch(\n",
    "            plt.Rectangle(\n",
    "                (j - 0.5, i - 0.5), 1, 1, fill=False, edgecolor=\"black\", linewidth=1\n",
    "            )\n",
    "        )\n",
    "\n",
    "# Fill in numerical values in white for all values\n",
    "for i in range(len(langs)):\n",
    "    for j in range(3):\n",
    "        value = np.array([llama_perf, bloom_perf, mbert_perf]).T[i, j]\n",
    "        if value >= 40:  # Update threshold for text labels\n",
    "            ax.text(j, i, value, ha=\"center\", va=\"center\", color=\"white\")\n",
    "\n",
    "# Set ticks and labels for x and y axes\n",
    "ax.set_xticks(np.arange(3))\n",
    "ax.set_yticks(np.arange(len(langs)))\n",
    "ax.set_xticklabels([\"LLaMa\", \"Bloom\", \"xlm\"])\n",
    "ax.set_yticklabels(langs)\n",
    "ax.xaxis.tick_top()  # Move x-axis ticks to the top\n",
    "\n",
    "# Reverse the order of legend labels and handles\n",
    "legend_labels = [\"40-49\", \"50-59\", \"60-69\", \"70-79\", \"80-89\", \"90+\"][\n",
    "    ::-1\n",
    "]  # Update legend labels and reverse order\n",
    "legend_handles = [\n",
    "    plt.Rectangle((0, 0), 1, 1, color=cmap(norm(bounds[i])))\n",
    "    for i in range(len(legend_labels))\n",
    "][\n",
    "    ::-1\n",
    "]  # Update legend handles and reverse order\n",
    "\n",
    "# Add legend\n",
    "ax.legend(\n",
    "    legend_handles,\n",
    "    legend_labels,\n",
    "    loc=\"center left\",\n",
    "    bbox_to_anchor=(1.05, 0.5),\n",
    "    title=\"Performance Range\",\n",
    ")\n",
    "ax.get_legend().get_title().set_fontsize(\"10\")\n",
    "\n",
    "# Set title and labels for the plot\n",
    "plt.title(\"Language Model Comparison\")\n",
    "plt.xlabel(\"Language Model\")\n",
    "plt.ylabel(\"Language\")\n",
    "plt.show()"
   ]
  },
  {
   "cell_type": "code",
   "execution_count": null,
   "id": "51f9f33e",
   "metadata": {},
   "outputs": [],
   "source": []
  }
 ],
 "metadata": {
  "interpreter": {
   "hash": "301faebbd5cea7fd4466786a19f1bea9d8baf657aaca95ef39840c46b8697603"
  },
  "kernelspec": {
   "display_name": "Python 3.8.8 64-bit ('base': conda)",
   "name": "python3"
  },
  "language_info": {
   "codemirror_mode": {
    "name": "ipython",
    "version": 3
   },
   "file_extension": ".py",
   "mimetype": "text/x-python",
   "name": "python",
   "nbconvert_exporter": "python",
   "pygments_lexer": "ipython3",
   "version": "3.8.8"
  }
 },
 "nbformat": 4,
 "nbformat_minor": 5
}
