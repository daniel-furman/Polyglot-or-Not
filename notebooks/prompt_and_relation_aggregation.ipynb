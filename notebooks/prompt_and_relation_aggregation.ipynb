{
 "cells": [
  {
   "cell_type": "code",
   "execution_count": 1,
   "id": "bfca9a4e",
   "metadata": {},
   "outputs": [],
   "source": [
    "import json\n",
    "import numpy as np\n",
    "import pandas as pd"
   ]
  },
  {
   "cell_type": "code",
   "execution_count": 3,
   "id": "7d4587c2",
   "metadata": {},
   "outputs": [],
   "source": [
    "# get calinet\n",
    "with open('../data/ingestion_tmp_data/calinet_input_information.json', 'r') as f:\n",
    "    data_calinet = json.load(f)\n",
    "    calinet_df = pd.DataFrame(data_calinet).T"
   ]
  },
  {
   "cell_type": "code",
   "execution_count": 4,
   "id": "b843859f",
   "metadata": {},
   "outputs": [],
   "source": [
    "relations_used = []"
   ]
  },
  {
   "cell_type": "code",
   "execution_count": 5,
   "id": "66122a6e",
   "metadata": {},
   "outputs": [],
   "source": [
    "stems_used = []"
   ]
  },
  {
   "cell_type": "code",
   "execution_count": 6,
   "id": "57742b19",
   "metadata": {},
   "outputs": [],
   "source": [
    "correct = []"
   ]
  },
  {
   "cell_type": "code",
   "execution_count": 7,
   "id": "a8ef19d0",
   "metadata": {},
   "outputs": [],
   "source": [
    "relations_used = list(calinet_df['relation'].values)"
   ]
  },
  {
   "cell_type": "code",
   "execution_count": 8,
   "id": "26affc35",
   "metadata": {},
   "outputs": [],
   "source": [
    "stems_used = list(calinet_df['stem'].values)"
   ]
  },
  {
   "cell_type": "code",
   "execution_count": 9,
   "id": "e3419363",
   "metadata": {},
   "outputs": [],
   "source": [
    "correct = list(calinet_df['true'])"
   ]
  },
  {
   "cell_type": "code",
   "execution_count": 10,
   "id": "3dee69e4",
   "metadata": {},
   "outputs": [],
   "source": [
    "paper = ['calinet'] * len(stems_used)"
   ]
  },
  {
   "cell_type": "code",
   "execution_count": 11,
   "id": "ead7b2cc",
   "metadata": {},
   "outputs": [],
   "source": [
    "assert(len(relations_used) == len(stems_used) == len(paper) == len(correct))"
   ]
  },
  {
   "cell_type": "code",
   "execution_count": 12,
   "id": "b7538bed",
   "metadata": {},
   "outputs": [],
   "source": [
    "# get rome\n",
    "with open('../data/rome_counterfact_original/counterfact.json', 'r') as f:\n",
    "    data_rome = json.load(f)\n",
    "    rome_df = pd.DataFrame(data_rome)"
   ]
  },
  {
   "cell_type": "code",
   "execution_count": 13,
   "id": "91536d80",
   "metadata": {},
   "outputs": [],
   "source": [
    "# get stems + relations for rome\n",
    "for k in range(rome_df.shape[0]):\n",
    "    paper.append('memit')\n",
    "    stems_used.append(data_rome[k]['requested_rewrite']['prompt'].replace('{}', data_rome[k]['requested_rewrite']['subject']))\n",
    "    relations_used.append(rome_df['requested_rewrite'][k]['relation_id'])\n",
    "    correct.append(rome_df['requested_rewrite'][k]['target_true']['str'])    "
   ]
  },
  {
   "cell_type": "code",
   "execution_count": 14,
   "id": "5ed98bfa",
   "metadata": {},
   "outputs": [],
   "source": [
    "agg_df = pd.DataFrame({'relation': relations_used, 'stem': stems_used, 'paper': paper, 'correct': correct})"
   ]
  },
  {
   "cell_type": "code",
   "execution_count": 15,
   "id": "64362369",
   "metadata": {},
   "outputs": [],
   "source": [
    "relation_ids = list(set(agg_df['relation']))"
   ]
  },
  {
   "cell_type": "code",
   "execution_count": 16,
   "id": "af8aa1d3",
   "metadata": {},
   "outputs": [],
   "source": [
    "# lookup wikidata vals\n",
    "wikidata_df = pd.read_csv('../data/wikidata/wikidata-property-list.csv')"
   ]
  },
  {
   "cell_type": "code",
   "execution_count": 17,
   "id": "d506b726",
   "metadata": {},
   "outputs": [],
   "source": [
    "relation_titles = []\n",
    "for rel_id in relation_ids:\n",
    "    relation_titles.append(list(wikidata_df[wikidata_df['ID'] == int(rel_id[1:])]['Title'])[0])"
   ]
  },
  {
   "cell_type": "code",
   "execution_count": 18,
   "id": "ec94d76f",
   "metadata": {},
   "outputs": [],
   "source": [
    "relation_lookup = dict(zip(relation_ids, relation_titles))\n",
    "relation_titles_full = []\n",
    "\n",
    "for i in range(agg_df.shape[0]):\n",
    "    relation_titles_full.append(relation_lookup[agg_df['relation'][i]])\n",
    "\n",
    "assert(len(relation_titles_full) == agg_df.shape[0])"
   ]
  },
  {
   "cell_type": "code",
   "execution_count": 19,
   "id": "939a17a6",
   "metadata": {},
   "outputs": [],
   "source": [
    "agg_df['relation_title'] = relation_titles_full"
   ]
  },
  {
   "cell_type": "code",
   "execution_count": 20,
   "id": "dfb6273b",
   "metadata": {},
   "outputs": [
    {
     "data": {
      "text/html": [
       "<div>\n",
       "<style scoped>\n",
       "    .dataframe tbody tr th:only-of-type {\n",
       "        vertical-align: middle;\n",
       "    }\n",
       "\n",
       "    .dataframe tbody tr th {\n",
       "        vertical-align: top;\n",
       "    }\n",
       "\n",
       "    .dataframe thead th {\n",
       "        text-align: right;\n",
       "    }\n",
       "</style>\n",
       "<table border=\"1\" class=\"dataframe\">\n",
       "  <thead>\n",
       "    <tr style=\"text-align: right;\">\n",
       "      <th></th>\n",
       "      <th>relation</th>\n",
       "      <th>stem</th>\n",
       "      <th>paper</th>\n",
       "      <th>correct</th>\n",
       "      <th>relation_title</th>\n",
       "    </tr>\n",
       "  </thead>\n",
       "  <tbody>\n",
       "    <tr>\n",
       "      <th>0</th>\n",
       "      <td>P47</td>\n",
       "      <td>Norfolk borders with</td>\n",
       "      <td>calinet</td>\n",
       "      <td>Suffolk</td>\n",
       "      <td>shares border with</td>\n",
       "    </tr>\n",
       "    <tr>\n",
       "      <th>1</th>\n",
       "      <td>P47</td>\n",
       "      <td>Jordan shares a common border with</td>\n",
       "      <td>calinet</td>\n",
       "      <td>Israel</td>\n",
       "      <td>shares border with</td>\n",
       "    </tr>\n",
       "    <tr>\n",
       "      <th>2</th>\n",
       "      <td>P47</td>\n",
       "      <td>Kenya shares border with</td>\n",
       "      <td>calinet</td>\n",
       "      <td>Ethiopia</td>\n",
       "      <td>shares border with</td>\n",
       "    </tr>\n",
       "    <tr>\n",
       "      <th>3</th>\n",
       "      <td>P47</td>\n",
       "      <td>Egypt shares its border with</td>\n",
       "      <td>calinet</td>\n",
       "      <td>Israel</td>\n",
       "      <td>shares border with</td>\n",
       "    </tr>\n",
       "    <tr>\n",
       "      <th>4</th>\n",
       "      <td>P47</td>\n",
       "      <td>Tanzania borders with</td>\n",
       "      <td>calinet</td>\n",
       "      <td>Uganda</td>\n",
       "      <td>shares border with</td>\n",
       "    </tr>\n",
       "  </tbody>\n",
       "</table>\n",
       "</div>"
      ],
      "text/plain": [
       "  relation                                stem    paper   correct  \\\n",
       "0      P47                Norfolk borders with  calinet   Suffolk   \n",
       "1      P47  Jordan shares a common border with  calinet    Israel   \n",
       "2      P47            Kenya shares border with  calinet  Ethiopia   \n",
       "3      P47        Egypt shares its border with  calinet    Israel   \n",
       "4      P47               Tanzania borders with  calinet    Uganda   \n",
       "\n",
       "       relation_title  \n",
       "0  shares border with  \n",
       "1  shares border with  \n",
       "2  shares border with  \n",
       "3  shares border with  \n",
       "4  shares border with  "
      ]
     },
     "execution_count": 20,
     "metadata": {},
     "output_type": "execute_result"
    }
   ],
   "source": [
    "agg_df.head()"
   ]
  },
  {
   "cell_type": "code",
   "execution_count": 21,
   "id": "459b9ff1",
   "metadata": {},
   "outputs": [
    {
     "data": {
      "text/plain": [
       "relation  relation_title                             \n",
       "P101      field of work                                  1045\n",
       "P103      native language                                 919\n",
       "P106      occupation                                     1308\n",
       "P108      employer                                        350\n",
       "P127      owned by                                        433\n",
       "P1303     instrument                                      513\n",
       "P131      is in the administrative territorial entity     714\n",
       "P136      genre                                          1313\n",
       "P1376     capital of                                      500\n",
       "P138      named after                                     779\n",
       "P140      religion                                        430\n",
       "P1412     languages spoken                                924\n",
       "P159      headquarters location                          1252\n",
       "P17       country                                         875\n",
       "P176      manufacturer                                   1391\n",
       "P178      developer                                      1041\n",
       "P19       place of birth                                 1276\n",
       "P190      sister city                                     621\n",
       "P20       place of death                                 1315\n",
       "P264      record label                                    553\n",
       "P27       country of citizenship                         1453\n",
       "P276      located in                                      613\n",
       "P30       continent                                       959\n",
       "P36       capital                                         639\n",
       "P364      original language                              1244\n",
       "P37       official language                              1353\n",
       "P39       position held                                   962\n",
       "P407      language                                        707\n",
       "P413      position played on team                        1197\n",
       "P449      original network                               1294\n",
       "P463      member of                                       606\n",
       "P47       shares border with                              500\n",
       "P495      country of origin                              1404\n",
       "P530      diplomatic relation                             494\n",
       "P641      sport                                           318\n",
       "P740      formation location                             1274\n",
       "P937      work location                                  1310\n",
       "dtype: int64"
      ]
     },
     "execution_count": 21,
     "metadata": {},
     "output_type": "execute_result"
    }
   ],
   "source": [
    "agg_df.groupby([\"relation\", \"relation_title\"]).size()"
   ]
  },
  {
   "cell_type": "code",
   "execution_count": 28,
   "id": "cbd0bdd5",
   "metadata": {},
   "outputs": [
    {
     "data": {
      "text/plain": [
       "paper    relation_title                             \n",
       "calinet  capital                                        500\n",
       "         capital of                                     500\n",
       "         country of citizenship                         495\n",
       "         country of origin                              500\n",
       "         developer                                      462\n",
       "         diplomatic relation                            494\n",
       "         field of work                                  500\n",
       "         formation location                             500\n",
       "         genre                                          466\n",
       "         headquarters location                          496\n",
       "         language                                       491\n",
       "         manufacturer                                   480\n",
       "         member of                                      443\n",
       "         named after                                    500\n",
       "         occupation                                     487\n",
       "         official language                              462\n",
       "         original language                              493\n",
       "         original network                               500\n",
       "         place of birth                                 497\n",
       "         place of death                                 499\n",
       "         position held                                  486\n",
       "         position played on team                        245\n",
       "         record label                                   500\n",
       "         shares border with                             500\n",
       "         work location                                  464\n",
       "memit    capital                                        139\n",
       "         continent                                      959\n",
       "         country                                        875\n",
       "         country of citizenship                         958\n",
       "         country of origin                              904\n",
       "         developer                                      579\n",
       "         employer                                       350\n",
       "         field of work                                  545\n",
       "         formation location                             774\n",
       "         genre                                          847\n",
       "         headquarters location                          756\n",
       "         instrument                                     513\n",
       "         is in the administrative territorial entity    714\n",
       "         language                                       216\n",
       "         languages spoken                               924\n",
       "         located in                                     613\n",
       "         manufacturer                                   911\n",
       "         member of                                      163\n",
       "         named after                                    279\n",
       "         native language                                919\n",
       "         occupation                                     821\n",
       "         official language                              891\n",
       "         original language                              751\n",
       "         original network                               794\n",
       "         owned by                                       433\n",
       "         place of birth                                 779\n",
       "         place of death                                 816\n",
       "         position held                                  476\n",
       "         position played on team                        952\n",
       "         record label                                    53\n",
       "         religion                                       430\n",
       "         sister city                                    621\n",
       "         sport                                          318\n",
       "         work location                                  846\n",
       "dtype: int64"
      ]
     },
     "execution_count": 28,
     "metadata": {},
     "output_type": "execute_result"
    }
   ],
   "source": [
    "agg_df.groupby([\"paper\", \"relation_title\"]).size()"
   ]
  },
  {
   "cell_type": "code",
   "execution_count": 29,
   "id": "aa8fa6f7",
   "metadata": {},
   "outputs": [
    {
     "data": {
      "text/plain": [
       "relation_title\n",
       "capital                                        139\n",
       "continent                                      959\n",
       "country                                        875\n",
       "country of citizenship                         958\n",
       "country of origin                              904\n",
       "developer                                      579\n",
       "employer                                       350\n",
       "field of work                                  545\n",
       "formation location                             774\n",
       "genre                                          847\n",
       "headquarters location                          756\n",
       "instrument                                     513\n",
       "is in the administrative territorial entity    714\n",
       "language                                       216\n",
       "languages spoken                               924\n",
       "located in                                     613\n",
       "manufacturer                                   911\n",
       "member of                                      163\n",
       "named after                                    279\n",
       "native language                                919\n",
       "occupation                                     821\n",
       "official language                              891\n",
       "original language                              751\n",
       "original network                               794\n",
       "owned by                                       433\n",
       "place of birth                                 779\n",
       "place of death                                 816\n",
       "position held                                  476\n",
       "position played on team                        952\n",
       "record label                                    53\n",
       "religion                                       430\n",
       "sister city                                    621\n",
       "sport                                          318\n",
       "work location                                  846\n",
       "dtype: int64"
      ]
     },
     "execution_count": 29,
     "metadata": {},
     "output_type": "execute_result"
    }
   ],
   "source": [
    "agg_df[agg_df['paper'] == 'memit'].groupby([\"relation_title\"]).size()"
   ]
  },
  {
   "cell_type": "code",
   "execution_count": 30,
   "id": "2de45eef",
   "metadata": {},
   "outputs": [
    {
     "data": {
      "text/plain": [
       "relation_title\n",
       "capital                    500\n",
       "capital of                 500\n",
       "country of citizenship     495\n",
       "country of origin          500\n",
       "developer                  462\n",
       "diplomatic relation        494\n",
       "field of work              500\n",
       "formation location         500\n",
       "genre                      466\n",
       "headquarters location      496\n",
       "language                   491\n",
       "manufacturer               480\n",
       "member of                  443\n",
       "named after                500\n",
       "occupation                 487\n",
       "official language          462\n",
       "original language          493\n",
       "original network           500\n",
       "place of birth             497\n",
       "place of death             499\n",
       "position held              486\n",
       "position played on team    245\n",
       "record label               500\n",
       "shares border with         500\n",
       "work location              464\n",
       "dtype: int64"
      ]
     },
     "execution_count": 30,
     "metadata": {},
     "output_type": "execute_result"
    }
   ],
   "source": [
    "agg_df[agg_df['paper'] == 'calinet'].groupby([\"relation_title\"]).size()"
   ]
  },
  {
   "cell_type": "code",
   "execution_count": 35,
   "id": "51ac4c11",
   "metadata": {},
   "outputs": [
    {
     "data": {
      "text/plain": [
       "paper\n",
       "calinet    500\n",
       "memit      904\n",
       "dtype: int64"
      ]
     },
     "execution_count": 35,
     "metadata": {},
     "output_type": "execute_result"
    }
   ],
   "source": [
    "agg_df[agg_df['relation_title'] == 'country of origin'].groupby([\"paper\"]).size()"
   ]
  },
  {
   "cell_type": "code",
   "execution_count": 37,
   "id": "61a8cb93",
   "metadata": {},
   "outputs": [],
   "source": [
    "religion = agg_df[agg_df['relation_title'] == 'religion']\n",
    "religion.to_csv('../data/ingestion_tmp_data/religion_prompts.csv', index=False)"
   ]
  },
  {
   "cell_type": "code",
   "execution_count": null,
   "id": "484044ab",
   "metadata": {},
   "outputs": [],
   "source": []
  }
 ],
 "metadata": {
  "kernelspec": {
   "display_name": "Python 3.9.13 ('base')",
   "language": "python",
   "name": "python3"
  },
  "language_info": {
   "codemirror_mode": {
    "name": "ipython",
    "version": 3
   },
   "file_extension": ".py",
   "mimetype": "text/x-python",
   "name": "python",
   "nbconvert_exporter": "python",
   "pygments_lexer": "ipython3",
   "version": "3.9.13"
  },
  "vscode": {
   "interpreter": {
    "hash": "1b2a681c3ac7acf31a3a9837076c007e07d5a53dd35b965db35d26d340fc3a15"
   }
  }
 },
 "nbformat": 4,
 "nbformat_minor": 5
}
