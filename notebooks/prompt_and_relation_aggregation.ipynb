{
 "cells": [
  {
   "cell_type": "code",
   "execution_count": null,
   "id": "bfca9a4e",
   "metadata": {},
   "outputs": [],
   "source": [
    "import json\n",
    "import numpy as np\n",
    "import pandas as pd"
   ]
  },
  {
   "cell_type": "code",
   "execution_count": null,
   "id": "7d4587c2",
   "metadata": {},
   "outputs": [],
   "source": [
    "# get calinet\n",
    "with open('../data/calinet_input_information.json', 'r') as f:\n",
    "    data_calinet = json.load(f)\n",
    "    calinet_df = pd.DataFrame(data_calinet).T"
   ]
  },
  {
   "cell_type": "code",
   "execution_count": null,
   "id": "b843859f",
   "metadata": {},
   "outputs": [],
   "source": [
    "relations_used = []"
   ]
  },
  {
   "cell_type": "code",
   "execution_count": null,
   "id": "66122a6e",
   "metadata": {},
   "outputs": [],
   "source": [
    "stems_used = []"
   ]
  },
  {
   "cell_type": "code",
   "execution_count": null,
   "id": "57742b19",
   "metadata": {},
   "outputs": [],
   "source": [
    "correct = []"
   ]
  },
  {
   "cell_type": "code",
   "execution_count": null,
   "id": "a8ef19d0",
   "metadata": {},
   "outputs": [],
   "source": [
    "relations_used = list(calinet_df['relation'].values)"
   ]
  },
  {
   "cell_type": "code",
   "execution_count": null,
   "id": "26affc35",
   "metadata": {},
   "outputs": [],
   "source": [
    "stems_used = list(calinet_df['stem'].values)"
   ]
  },
  {
   "cell_type": "code",
   "execution_count": null,
   "id": "e3419363",
   "metadata": {},
   "outputs": [],
   "source": [
    "correct = list(calinet_df['true'])"
   ]
  },
  {
   "cell_type": "code",
   "execution_count": null,
   "id": "3dee69e4",
   "metadata": {},
   "outputs": [],
   "source": [
    "paper = ['calinet'] * len(stems_used)"
   ]
  },
  {
   "cell_type": "code",
   "execution_count": null,
   "id": "ead7b2cc",
   "metadata": {},
   "outputs": [],
   "source": [
    "assert(len(relations_used) == len(stems_used) == len(paper) == len(correct))"
   ]
  },
  {
   "cell_type": "code",
   "execution_count": null,
   "id": "b7538bed",
   "metadata": {},
   "outputs": [],
   "source": [
    "# get rome\n",
    "with open('../data/rome_counterfact_original/counterfact.json', 'r') as f:\n",
    "    data_rome = json.load(f)\n",
    "    rome_df = pd.DataFrame(data_rome)"
   ]
  },
  {
   "cell_type": "code",
   "execution_count": null,
   "id": "91536d80",
   "metadata": {},
   "outputs": [],
   "source": [
    "# get stems + relations for rome\n",
    "for k in range(rome_df.shape[0]):\n",
    "    paper.append('memit')\n",
    "    stems_used.append(data_rome[k]['requested_rewrite']['prompt'].replace('{}', data_rome[k]['requested_rewrite']['subject']))\n",
    "    relations_used.append(rome_df['requested_rewrite'][k]['relation_id'])\n",
    "    correct.append(rome_df['requested_rewrite'][k]['target_true']['str'])    "
   ]
  },
  {
   "cell_type": "code",
   "execution_count": null,
   "id": "5ed98bfa",
   "metadata": {},
   "outputs": [],
   "source": [
    "agg_df = pd.DataFrame({'relation': relations_used, 'stem': stems_used, 'paper': paper, 'correct': correct})"
   ]
  },
  {
   "cell_type": "code",
   "execution_count": null,
   "id": "64362369",
   "metadata": {},
   "outputs": [],
   "source": [
    "relation_ids = list(set(agg_df['relation']))"
   ]
  },
  {
   "cell_type": "code",
   "execution_count": null,
   "id": "af8aa1d3",
   "metadata": {},
   "outputs": [],
   "source": [
    "# lookup wikidata vals\n",
    "wikidata_df = pd.read_csv('../data/wikidata/wikidata-property-list.csv')"
   ]
  },
  {
   "cell_type": "code",
   "execution_count": null,
   "id": "d506b726",
   "metadata": {},
   "outputs": [],
   "source": [
    "relation_titles = []\n",
    "for rel_id in relation_ids:\n",
    "    relation_titles.append(list(wikidata_df[wikidata_df['ID'] == int(rel_id[1:])]['Title'])[0])"
   ]
  },
  {
   "cell_type": "code",
   "execution_count": null,
   "id": "ec94d76f",
   "metadata": {},
   "outputs": [],
   "source": [
    "relation_lookup = dict(zip(relation_ids, relation_titles))\n",
    "relation_titles_full = []\n",
    "\n",
    "for i in range(agg_df.shape[0]):\n",
    "    relation_titles_full.append(relation_lookup[agg_df['relation'][i]])\n",
    "\n",
    "assert(len(relation_titles_full) == agg_df.shape[0])"
   ]
  },
  {
   "cell_type": "code",
   "execution_count": null,
   "id": "939a17a6",
   "metadata": {},
   "outputs": [],
   "source": [
    "agg_df['relation_title'] = relation_titles_full"
   ]
  },
  {
   "cell_type": "code",
   "execution_count": null,
   "id": "dfb6273b",
   "metadata": {},
   "outputs": [],
   "source": [
    "agg_df.head()"
   ]
  },
  {
   "cell_type": "code",
   "execution_count": null,
   "id": "459b9ff1",
   "metadata": {},
   "outputs": [],
   "source": [
    "agg_df.groupby([\"relation\", \"relation_title\"]).size()"
   ]
  },
  {
   "cell_type": "code",
   "execution_count": null,
   "id": "aa8fa6f7",
   "metadata": {},
   "outputs": [],
   "source": [
    "agg_df[agg_df['paper'] == 'memit'][150:200]"
   ]
  },
  {
   "cell_type": "code",
   "execution_count": null,
   "id": "2de45eef",
   "metadata": {},
   "outputs": [],
   "source": [
    "agg_df[agg_df['paper'] == 'calinet'][2000:2050]"
   ]
  },
  {
   "cell_type": "code",
   "execution_count": null,
   "id": "51ac4c11",
   "metadata": {},
   "outputs": [],
   "source": []
  }
 ],
 "metadata": {
  "kernelspec": {
   "display_name": "Python 3 (ipykernel)",
   "language": "python",
   "name": "python3"
  },
  "language_info": {
   "codemirror_mode": {
    "name": "ipython",
    "version": 3
   },
   "file_extension": ".py",
   "mimetype": "text/x-python",
   "name": "python",
   "nbconvert_exporter": "python",
   "pygments_lexer": "ipython3",
   "version": "3.8.8"
  }
 },
 "nbformat": 4,
 "nbformat_minor": 5
}
