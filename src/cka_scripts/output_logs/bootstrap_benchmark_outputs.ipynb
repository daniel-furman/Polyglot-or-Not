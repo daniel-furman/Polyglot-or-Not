{
 "cells": [
  {
   "cell_type": "code",
   "execution_count": null,
   "metadata": {},
   "outputs": [],
   "source": [
    "from typing import List\n",
    "from random import choices\n",
    "import numpy as np\n",
    "import json\n",
    "import pandas as pd"
   ]
  },
  {
   "cell_type": "code",
   "execution_count": null,
   "metadata": {},
   "outputs": [],
   "source": [
    "\n",
    "def bootstrap(results: List[int], B: int = 10000, confidence_level: int = 0.95) -> int:\n",
    "\n",
    "    \"\"\"\n",
    "    helper function for providing confidence intervals for sentiment tool\n",
    "    \"\"\"\n",
    "\n",
    "    # compute lower and upper significance index\n",
    "    critical_value = (1-confidence_level)/2\n",
    "    lower_sig = 100*critical_value\n",
    "    upper_sig = 100*(1-critical_value)\n",
    "    data = []\n",
    "    for p in results:\n",
    "        data.append(p)\n",
    "\n",
    "    sums = []\n",
    "    # bootstrap resampling loop\n",
    "    for b in range(B):\n",
    "        choice = choices(data, k=len(data))\n",
    "        choice = np.array(choice)\n",
    "        inner_sum = np.sum(choice)/len(choice)\n",
    "        sums.append(inner_sum)\n",
    "\n",
    "    percentiles = np.percentile(sums, [lower_sig, 50, upper_sig])\n",
    "\n",
    "    lower = percentiles[0]\n",
    "    median = percentiles[1]\n",
    "    upper = percentiles[2]\n",
    "\n",
    "    e_bar = ((median- lower) + (upper - median))/2\n",
    "    return e_bar, median, percentiles"
   ]
  },
  {
   "cell_type": "code",
   "execution_count": null,
   "metadata": {},
   "outputs": [],
   "source": [
    "with open('robertas-log-calibragpt-full-mar-14.json', 'r') as f:\n",
    "    data = json.load(f)\n",
    "\n",
    "model_name = data['model_name']\n",
    "\n",
    "model_name"
   ]
  },
  {
   "cell_type": "code",
   "execution_count": null,
   "metadata": {},
   "outputs": [],
   "source": [
    "false_facts_itrs = []\n",
    "false_facts = []\n",
    "true_facts_itrs = []\n",
    "\n",
    "ratios = {}\n",
    "ratios['differences'] = []\n",
    "ratios['facts'] = []\n",
    "\n",
    "for itr, fact in enumerate(data[\"score_dict_full\"][model_name.lower()]):\n",
    "    for x, y in fact.items():\n",
    "        if y['p_true > p_false'] != \"True\":\n",
    "            false_facts_itrs.append(itr)\n",
    "            false_facts.append([x, y])\n",
    "            ratios['differences'].append(y['p_true - p_false'])\n",
    "            ratios['facts'].append(x)\n",
    "        elif y['p_true > p_false'] == \"True\":\n",
    "            true_facts_itrs.append(itr)"
   ]
  },
  {
   "cell_type": "code",
   "execution_count": null,
   "metadata": {},
   "outputs": [],
   "source": [
    "# make a results list compatible with the bootstrap:\n",
    "\n",
    "results_false = [0] * len(false_facts_itrs)\n",
    "results_true = [1] * len(true_facts_itrs)"
   ]
  },
  {
   "cell_type": "code",
   "execution_count": null,
   "metadata": {},
   "outputs": [],
   "source": [
    "results = results_false + results_true"
   ]
  },
  {
   "cell_type": "code",
   "execution_count": null,
   "metadata": {},
   "outputs": [],
   "source": [
    "len(results)  # should be 72370"
   ]
  },
  {
   "cell_type": "code",
   "execution_count": null,
   "metadata": {},
   "outputs": [],
   "source": [
    "# create bootstrap estimates from logs\n",
    "\n",
    "# calculate percentage with this to check\n",
    "np.sum(results)/len(results)"
   ]
  },
  {
   "cell_type": "code",
   "execution_count": null,
   "metadata": {},
   "outputs": [],
   "source": [
    "bootstrap(results)\n"
   ]
  },
  {
   "cell_type": "code",
   "execution_count": null,
   "metadata": {},
   "outputs": [],
   "source": [
    "# order results by p_true - p_false\n",
    "\n",
    "pd.DataFrame.from_dict(ratios).sort_values(by='differences').head(20)\n",
    "#pd.DataFrame.from_dict(ratios).sort_values(by='differences').head(20).to_csv('test.csv')"
   ]
  },
  {
   "cell_type": "code",
   "execution_count": null,
   "metadata": {},
   "outputs": [],
   "source": [
    "# @TimSchott - see second to last entry above"
   ]
  }
 ],
 "metadata": {
  "interpreter": {
   "hash": "301faebbd5cea7fd4466786a19f1bea9d8baf657aaca95ef39840c46b8697603"
  },
  "kernelspec": {
   "display_name": "Python 3.8.8 64-bit ('base': conda)",
   "name": "python3"
  },
  "language_info": {
   "codemirror_mode": {
    "name": "ipython",
    "version": 3
   },
   "file_extension": ".py",
   "mimetype": "text/x-python",
   "name": "python",
   "nbconvert_exporter": "python",
   "pygments_lexer": "ipython3",
   "version": "3.8.8"
  },
  "orig_nbformat": 4
 },
 "nbformat": 4,
 "nbformat_minor": 2
}
