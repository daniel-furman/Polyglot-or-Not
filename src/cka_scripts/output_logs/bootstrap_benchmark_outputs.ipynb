{
 "cells": [
  {
   "cell_type": "code",
   "execution_count": 1,
   "metadata": {},
   "outputs": [],
   "source": [
    "from typing import List\n",
    "from random import choices\n",
    "import numpy as np\n",
    "import json\n",
    "import pandas as pd"
   ]
  },
  {
   "cell_type": "code",
   "execution_count": 2,
   "metadata": {},
   "outputs": [],
   "source": [
    "\n",
    "def bootstrap(results: List[int], B: int = 10000, confidence_level: int = 0.95) -> int:\n",
    "\n",
    "    \"\"\"\n",
    "    helper function for providing confidence intervals for sentiment tool\n",
    "    \"\"\"\n",
    "\n",
    "    # compute lower and upper significance index\n",
    "    critical_value = (1-confidence_level)/2\n",
    "    lower_sig = 100*critical_value\n",
    "    upper_sig = 100*(1-critical_value)\n",
    "    data = []\n",
    "    for p in results:\n",
    "        data.append(p)\n",
    "\n",
    "    sums = []\n",
    "    # bootstrap resampling loop\n",
    "    for b in range(B):\n",
    "        choice = choices(data, k=len(data))\n",
    "        choice = np.array(choice)\n",
    "        inner_sum = np.sum(choice)/len(choice)\n",
    "        sums.append(inner_sum)\n",
    "\n",
    "    percentiles = np.percentile(sums, [lower_sig, 50, upper_sig])\n",
    "\n",
    "    lower = percentiles[0]\n",
    "    median = percentiles[1]\n",
    "    upper = percentiles[2]\n",
    "\n",
    "    e_bar = ((median- lower) + (upper - median))/2\n",
    "    return e_bar, median, percentiles"
   ]
  },
  {
   "cell_type": "code",
   "execution_count": 3,
   "metadata": {},
   "outputs": [
    {
     "data": {
      "text/plain": [
       "'distilbert-base-uncased'"
      ]
     },
     "execution_count": 3,
     "metadata": {},
     "output_type": "execute_result"
    }
   ],
   "source": [
    "with open('bert_logged_cka_outputs_15_03_2023_05_59_55.json', 'r') as f:\n",
    "    data = json.load(f)\n",
    "\n",
    "model_name = data['model_name'][0]\n",
    "\n",
    "model_name"
   ]
  },
  {
   "cell_type": "code",
   "execution_count": 13,
   "metadata": {},
   "outputs": [],
   "source": [
    "false_facts_itrs = []\n",
    "false_facts_list = []\n",
    "true_facts_itrs = []\n",
    "\n",
    "false_facts = {}\n",
    "false_facts['differences'] = []\n",
    "false_facts['facts'] = []\n",
    "\n",
    "for itr, fact in enumerate(data[\"score_dict_full\"][model_name.lower()]):\n",
    "    # print(fact)\n",
    "\n",
    "    if fact['p_true > p_false'] != \"True\":\n",
    "        false_facts_itrs.append(itr)\n",
    "        false_facts_list.append([fact['stem'], fact['fact'], fact['counterfact']])\n",
    "\n",
    "        false_facts['differences'].append(fact['p_true - p_false'])\n",
    "        false_facts['facts'].append([fact['stem'], fact['fact'], fact['counterfact']])\n",
    "\n",
    "    elif fact['p_true > p_false'] == \"True\":\n",
    "        true_facts_itrs.append(itr)"
   ]
  },
  {
   "cell_type": "code",
   "execution_count": 14,
   "metadata": {},
   "outputs": [],
   "source": [
    "# make a results list compatible with the bootstrap:\n",
    "\n",
    "results_false = [0] * len(false_facts_itrs)\n",
    "results_true = [1] * len(true_facts_itrs)"
   ]
  },
  {
   "cell_type": "code",
   "execution_count": 15,
   "metadata": {},
   "outputs": [],
   "source": [
    "results = results_false + results_true"
   ]
  },
  {
   "cell_type": "code",
   "execution_count": 16,
   "metadata": {},
   "outputs": [
    {
     "data": {
      "text/plain": [
       "21919"
      ]
     },
     "execution_count": 16,
     "metadata": {},
     "output_type": "execute_result"
    }
   ],
   "source": [
    "len(results)  # should be 72370"
   ]
  },
  {
   "cell_type": "code",
   "execution_count": 17,
   "metadata": {},
   "outputs": [
    {
     "data": {
      "text/plain": [
       "0.789087093389297"
      ]
     },
     "execution_count": 17,
     "metadata": {},
     "output_type": "execute_result"
    }
   ],
   "source": [
    "# create bootstrap estimates from logs\n",
    "\n",
    "# calculate percentage with this to check\n",
    "np.sum(results)/len(results)"
   ]
  },
  {
   "cell_type": "code",
   "execution_count": 18,
   "metadata": {},
   "outputs": [
    {
     "data": {
      "text/plain": [
       "(0.005383457274510672,\n",
       " 0.789178338427848,\n",
       " array([0.78379488, 0.78917834, 0.7945618 ]))"
      ]
     },
     "execution_count": 18,
     "metadata": {},
     "output_type": "execute_result"
    }
   ],
   "source": [
    "bootstrap(results)\n"
   ]
  },
  {
   "cell_type": "code",
   "execution_count": 20,
   "metadata": {},
   "outputs": [
    {
     "data": {
      "text/html": [
       "<div>\n",
       "<style scoped>\n",
       "    .dataframe tbody tr th:only-of-type {\n",
       "        vertical-align: middle;\n",
       "    }\n",
       "\n",
       "    .dataframe tbody tr th {\n",
       "        vertical-align: top;\n",
       "    }\n",
       "\n",
       "    .dataframe thead th {\n",
       "        text-align: right;\n",
       "    }\n",
       "</style>\n",
       "<table border=\"1\" class=\"dataframe\">\n",
       "  <thead>\n",
       "    <tr style=\"text-align: right;\">\n",
       "      <th></th>\n",
       "      <th>differences</th>\n",
       "      <th>facts</th>\n",
       "    </tr>\n",
       "  </thead>\n",
       "  <tbody>\n",
       "    <tr>\n",
       "      <th>3678</th>\n",
       "      <td>-0.846880</td>\n",
       "      <td>[The official religion of Al-Masudi is [MASK]....</td>\n",
       "    </tr>\n",
       "    <tr>\n",
       "      <th>1192</th>\n",
       "      <td>-0.842735</td>\n",
       "      <td>[Kabul Shahi follows the religion of [MASK]., ...</td>\n",
       "    </tr>\n",
       "    <tr>\n",
       "      <th>1820</th>\n",
       "      <td>-0.761229</td>\n",
       "      <td>[The twin city of Ankara is [MASK]., Miami, An...</td>\n",
       "    </tr>\n",
       "    <tr>\n",
       "      <th>3565</th>\n",
       "      <td>-0.718189</td>\n",
       "      <td>[The official religion of Rashi is [MASK]., Ju...</td>\n",
       "    </tr>\n",
       "    <tr>\n",
       "      <th>109</th>\n",
       "      <td>-0.656442</td>\n",
       "      <td>[Florence is a twin city of [MASK]., Athens, F...</td>\n",
       "    </tr>\n",
       "    <tr>\n",
       "      <th>2399</th>\n",
       "      <td>-0.652641</td>\n",
       "      <td>[The language of Radio France Internationale w...</td>\n",
       "    </tr>\n",
       "    <tr>\n",
       "      <th>4352</th>\n",
       "      <td>-0.618134</td>\n",
       "      <td>[Susquehanna River is located in [MASK]., Mary...</td>\n",
       "    </tr>\n",
       "    <tr>\n",
       "      <th>670</th>\n",
       "      <td>-0.593739</td>\n",
       "      <td>[Prague is a twin city of [MASK]., Kyoto, Prague]</td>\n",
       "    </tr>\n",
       "    <tr>\n",
       "      <th>917</th>\n",
       "      <td>-0.573486</td>\n",
       "      <td>[Skanderbeg follows the religion of [MASK]., C...</td>\n",
       "    </tr>\n",
       "    <tr>\n",
       "      <th>2200</th>\n",
       "      <td>-0.540588</td>\n",
       "      <td>[Arab is follower of [MASK]., Christianity, Is...</td>\n",
       "    </tr>\n",
       "    <tr>\n",
       "      <th>293</th>\n",
       "      <td>-0.502004</td>\n",
       "      <td>[The official religion of Albanians is [MASK]....</td>\n",
       "    </tr>\n",
       "    <tr>\n",
       "      <th>1414</th>\n",
       "      <td>-0.498962</td>\n",
       "      <td>[Time Machine (macOS) was a product of [MASK]....</td>\n",
       "    </tr>\n",
       "    <tr>\n",
       "      <th>1203</th>\n",
       "      <td>-0.485077</td>\n",
       "      <td>[The official religion of Jacob is [MASK]., Ju...</td>\n",
       "    </tr>\n",
       "    <tr>\n",
       "      <th>2524</th>\n",
       "      <td>-0.481873</td>\n",
       "      <td>[The official religion of Hank Johnson is [MAS...</td>\n",
       "    </tr>\n",
       "    <tr>\n",
       "      <th>2837</th>\n",
       "      <td>-0.462843</td>\n",
       "      <td>[The twin city of Athens is [MASK]., Seoul, At...</td>\n",
       "    </tr>\n",
       "    <tr>\n",
       "      <th>1482</th>\n",
       "      <td>-0.462727</td>\n",
       "      <td>[The twin city of Athens is [MASK]., Chicago, ...</td>\n",
       "    </tr>\n",
       "    <tr>\n",
       "      <th>854</th>\n",
       "      <td>-0.440002</td>\n",
       "      <td>[Alfa Romeo Montreal is created by [MASK]., Fi...</td>\n",
       "    </tr>\n",
       "    <tr>\n",
       "      <th>176</th>\n",
       "      <td>-0.429531</td>\n",
       "      <td>[Istanbul is a twin city of [MASK]., Athens, I...</td>\n",
       "    </tr>\n",
       "    <tr>\n",
       "      <th>371</th>\n",
       "      <td>-0.428787</td>\n",
       "      <td>[The language of Waltzing Regitze is [MASK]., ...</td>\n",
       "    </tr>\n",
       "    <tr>\n",
       "      <th>2056</th>\n",
       "      <td>-0.418396</td>\n",
       "      <td>[In Turku, an official language is [MASK]., Sw...</td>\n",
       "    </tr>\n",
       "  </tbody>\n",
       "</table>\n",
       "</div>"
      ],
      "text/plain": [
       "      differences                                              facts\n",
       "3678    -0.846880  [The official religion of Al-Masudi is [MASK]....\n",
       "1192    -0.842735  [Kabul Shahi follows the religion of [MASK]., ...\n",
       "1820    -0.761229  [The twin city of Ankara is [MASK]., Miami, An...\n",
       "3565    -0.718189  [The official religion of Rashi is [MASK]., Ju...\n",
       "109     -0.656442  [Florence is a twin city of [MASK]., Athens, F...\n",
       "2399    -0.652641  [The language of Radio France Internationale w...\n",
       "4352    -0.618134  [Susquehanna River is located in [MASK]., Mary...\n",
       "670     -0.593739  [Prague is a twin city of [MASK]., Kyoto, Prague]\n",
       "917     -0.573486  [Skanderbeg follows the religion of [MASK]., C...\n",
       "2200    -0.540588  [Arab is follower of [MASK]., Christianity, Is...\n",
       "293     -0.502004  [The official religion of Albanians is [MASK]....\n",
       "1414    -0.498962  [Time Machine (macOS) was a product of [MASK]....\n",
       "1203    -0.485077  [The official religion of Jacob is [MASK]., Ju...\n",
       "2524    -0.481873  [The official religion of Hank Johnson is [MAS...\n",
       "2837    -0.462843  [The twin city of Athens is [MASK]., Seoul, At...\n",
       "1482    -0.462727  [The twin city of Athens is [MASK]., Chicago, ...\n",
       "854     -0.440002  [Alfa Romeo Montreal is created by [MASK]., Fi...\n",
       "176     -0.429531  [Istanbul is a twin city of [MASK]., Athens, I...\n",
       "371     -0.428787  [The language of Waltzing Regitze is [MASK]., ...\n",
       "2056    -0.418396  [In Turku, an official language is [MASK]., Sw..."
      ]
     },
     "execution_count": 20,
     "metadata": {},
     "output_type": "execute_result"
    }
   ],
   "source": [
    "# order results by p_true - p_false\n",
    "\n",
    "pd.DataFrame.from_dict(false_facts).sort_values(by='differences').head(20)\n",
    "#pd.DataFrame.from_dict(false_facts).sort_values(by='differences').head(20).to_csv('test.csv')"
   ]
  },
  {
   "cell_type": "code",
   "execution_count": null,
   "metadata": {},
   "outputs": [],
   "source": []
  }
 ],
 "metadata": {
  "interpreter": {
   "hash": "301faebbd5cea7fd4466786a19f1bea9d8baf657aaca95ef39840c46b8697603"
  },
  "kernelspec": {
   "display_name": "Python 3.8.8 64-bit ('base': conda)",
   "name": "python3"
  },
  "language_info": {
   "codemirror_mode": {
    "name": "ipython",
    "version": 3
   },
   "file_extension": ".py",
   "mimetype": "text/x-python",
   "name": "python",
   "nbconvert_exporter": "python",
   "pygments_lexer": "ipython3",
   "version": "3.8.8"
  },
  "orig_nbformat": 4
 },
 "nbformat": 4,
 "nbformat_minor": 2
}
