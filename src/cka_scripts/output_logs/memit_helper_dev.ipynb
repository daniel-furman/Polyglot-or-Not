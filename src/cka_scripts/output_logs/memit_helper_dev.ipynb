{
 "cells": [
  {
   "cell_type": "code",
   "execution_count": 10,
   "metadata": {},
   "outputs": [],
   "source": [
    "import json\n",
    "import pandas as pd\n",
    "import numpy as np"
   ]
  },
  {
   "cell_type": "code",
   "execution_count": 13,
   "metadata": {},
   "outputs": [],
   "source": [
    "def memit_data_converter(input_log_fpath, verbosity=True):\n",
    "\n",
    "    with open(input_log_fpath, 'r') as f:\n",
    "        data = json.load(f)\n",
    "\n",
    "    model_name = data['model_name'][0]\n",
    "\n",
    "    if verbosity:\n",
    "        print(model_name)\n",
    "\n",
    "    false_facts_itrs = []\n",
    "    false_facts_list = []\n",
    "    true_facts_itrs = []\n",
    "    \n",
    "    false_facts = {}\n",
    "    false_facts['differences'] = []\n",
    "    false_facts['facts'] = []\n",
    "    \n",
    "    for itr, fact in enumerate(data[\"score_dict_full\"][model_name.lower()]):\n",
    "    \n",
    "        if fact['p_true > p_false'] != \"True\":\n",
    "            false_facts_itrs.append(itr)\n",
    "            false_facts_list.append([fact['stem'], fact['fact'], fact['counterfact']])\n",
    "    \n",
    "            false_facts['differences'].append(fact['p_true - p_false'])\n",
    "            false_facts['facts'].append([fact['stem'], fact['fact'], fact['counterfact']])\n",
    "    \n",
    "        elif fact['p_true > p_false'] == \"True\":\n",
    "            true_facts_itrs.append(itr)\n",
    "\n",
    "    # make a results list compatible with the bootstrap:\n",
    "\n",
    "    results_false = [0] * len(false_facts_itrs)\n",
    "    results_true = [1] * len(true_facts_itrs)\n",
    "    results = results_false + results_true\n",
    "    len(results)  # should be 72370\n",
    "    # create bootstrap estimates from logs\n",
    "    \n",
    "    # calculate percentage with this to check\n",
    "    if verbosity:\n",
    "        print(np.sum(results)/len(results))\n",
    "    \n",
    "    "
   ]
  },
  {
   "cell_type": "code",
   "execution_count": 14,
   "metadata": {},
   "outputs": [
    {
     "name": "stdout",
     "output_type": "stream",
     "text": [
      "distilbert-base-uncased\n",
      "0.789087093389297\n"
     ]
    }
   ],
   "source": [
    "memit_data_converter('bert_logged_cka_outputs_15_03_2023_05_59_55.json')"
   ]
  },
  {
   "cell_type": "code",
   "execution_count": null,
   "metadata": {},
   "outputs": [],
   "source": []
  }
 ],
 "metadata": {
  "interpreter": {
   "hash": "301faebbd5cea7fd4466786a19f1bea9d8baf657aaca95ef39840c46b8697603"
  },
  "kernelspec": {
   "display_name": "Python 3.8.8 64-bit ('base': conda)",
   "name": "python3"
  },
  "language_info": {
   "codemirror_mode": {
    "name": "ipython",
    "version": 3
   },
   "file_extension": ".py",
   "mimetype": "text/x-python",
   "name": "python",
   "nbconvert_exporter": "python",
   "pygments_lexer": "ipython3",
   "version": "3.8.8"
  },
  "orig_nbformat": 4
 },
 "nbformat": 4,
 "nbformat_minor": 2
}
